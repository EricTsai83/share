{
 "cells": [
  {
   "cell_type": "code",
   "execution_count": 1,
   "id": "47ac30e5-4d5f-4db1-8e74-ff2b0954973e",
   "metadata": {
    "execution": {
     "iopub.execute_input": "2022-09-11T18:51:43.355909Z",
     "iopub.status.busy": "2022-09-11T18:51:43.354906Z",
     "iopub.status.idle": "2022-09-11T18:51:45.804361Z",
     "shell.execute_reply": "2022-09-11T18:51:45.803458Z",
     "shell.execute_reply.started": "2022-09-11T18:51:43.355909Z"
    },
    "tags": []
   },
   "outputs": [],
   "source": [
    "import pandas as pd\n",
    "import numpy as np\n",
    "import pickle\n",
    "import model_config\n",
    "\n",
    "from catboost import CatBoostRegressor\n",
    "from bayes_opt import BayesianOptimization\n",
    "\n",
    "\n",
    "from sklearn.model_selection import train_test_split\n",
    "from catboost import cv, Pool"
   ]
  },
  {
   "cell_type": "markdown",
   "id": "2cfa9178-c3c1-471a-bd0b-689af941ae4e",
   "metadata": {},
   "source": [
    "## Config"
   ]
  },
  {
   "cell_type": "code",
   "execution_count": 2,
   "id": "fddbcdbc-0f26-4908-a256-3391aafd84a0",
   "metadata": {
    "execution": {
     "iopub.execute_input": "2022-09-11T18:51:45.807365Z",
     "iopub.status.busy": "2022-09-11T18:51:45.805365Z",
     "iopub.status.idle": "2022-09-11T18:51:45.819756Z",
     "shell.execute_reply": "2022-09-11T18:51:45.818756Z",
     "shell.execute_reply.started": "2022-09-11T18:51:45.806365Z"
    }
   },
   "outputs": [],
   "source": [
    "random_state = model_config.random_state"
   ]
  },
  {
   "cell_type": "markdown",
   "id": "9b34ffd9-8dec-4cf3-84c6-caf925c2b273",
   "metadata": {},
   "source": [
    "## Load Data"
   ]
  },
  {
   "cell_type": "code",
   "execution_count": 3,
   "id": "4f29b4af-d445-4bc5-b255-515032823e98",
   "metadata": {
    "execution": {
     "iopub.execute_input": "2022-09-11T18:51:45.825753Z",
     "iopub.status.busy": "2022-09-11T18:51:45.824757Z",
     "iopub.status.idle": "2022-09-11T18:51:45.896744Z",
     "shell.execute_reply": "2022-09-11T18:51:45.895763Z",
     "shell.execute_reply.started": "2022-09-11T18:51:45.825753Z"
    },
    "tags": []
   },
   "outputs": [],
   "source": [
    "with open(f'../Data/meta/train_x_after_feature_engineering.pickle', 'rb') as f:\n",
    "    x_df = pickle.load(f)"
   ]
  },
  {
   "cell_type": "code",
   "execution_count": 4,
   "id": "f09449b3-4165-448e-872e-70f976d4826d",
   "metadata": {
    "execution": {
     "iopub.execute_input": "2022-09-11T18:51:45.898741Z",
     "iopub.status.busy": "2022-09-11T18:51:45.897742Z",
     "iopub.status.idle": "2022-09-11T18:51:45.928739Z",
     "shell.execute_reply": "2022-09-11T18:51:45.927736Z",
     "shell.execute_reply.started": "2022-09-11T18:51:45.898741Z"
    }
   },
   "outputs": [],
   "source": [
    "with open(f'../Data/meta/train_y_after_feature_engineering.pickle', 'rb') as f:\n",
    "    y_df = pickle.load(f)"
   ]
  },
  {
   "cell_type": "code",
   "execution_count": 5,
   "id": "95b3544b-ba32-4063-a4e4-fc4af86b7eb8",
   "metadata": {
    "execution": {
     "iopub.execute_input": "2022-09-11T18:51:45.931737Z",
     "iopub.status.busy": "2022-09-11T18:51:45.930737Z",
     "iopub.status.idle": "2022-09-11T18:51:45.960733Z",
     "shell.execute_reply": "2022-09-11T18:51:45.959732Z",
     "shell.execute_reply.started": "2022-09-11T18:51:45.930737Z"
    }
   },
   "outputs": [],
   "source": [
    "train_x, val_x, train_y, val_y = train_test_split(x_df, y_df, test_size=0.33, random_state=random_state)"
   ]
  },
  {
   "cell_type": "code",
   "execution_count": 6,
   "id": "8192d3d4-c933-4e3a-93a2-8e9a7fec83c6",
   "metadata": {
    "execution": {
     "iopub.execute_input": "2022-09-11T18:51:45.963733Z",
     "iopub.status.busy": "2022-09-11T18:51:45.962733Z",
     "iopub.status.idle": "2022-09-11T18:51:46.024723Z",
     "shell.execute_reply": "2022-09-11T18:51:46.023724Z",
     "shell.execute_reply.started": "2022-09-11T18:51:45.962733Z"
    },
    "tags": []
   },
   "outputs": [
    {
     "data": {
      "text/html": [
       "<div>\n",
       "<style scoped>\n",
       "    .dataframe tbody tr th:only-of-type {\n",
       "        vertical-align: middle;\n",
       "    }\n",
       "\n",
       "    .dataframe tbody tr th {\n",
       "        vertical-align: top;\n",
       "    }\n",
       "\n",
       "    .dataframe thead th {\n",
       "        text-align: right;\n",
       "    }\n",
       "</style>\n",
       "<table border=\"1\" class=\"dataframe\">\n",
       "  <thead>\n",
       "    <tr style=\"text-align: right;\">\n",
       "      <th></th>\n",
       "      <th>sensor_point5_i_value</th>\n",
       "      <th>sensor_point6_i_value</th>\n",
       "      <th>sensor_point7_i_value</th>\n",
       "      <th>sensor_point8_i_value</th>\n",
       "      <th>sensor_point9_i_value</th>\n",
       "      <th>sensor_point10_i_value</th>\n",
       "    </tr>\n",
       "  </thead>\n",
       "  <tbody>\n",
       "    <tr>\n",
       "      <th>172</th>\n",
       "      <td>58</td>\n",
       "      <td>90</td>\n",
       "      <td>96</td>\n",
       "      <td>92</td>\n",
       "      <td>82</td>\n",
       "      <td>142</td>\n",
       "    </tr>\n",
       "    <tr>\n",
       "      <th>564</th>\n",
       "      <td>83</td>\n",
       "      <td>96</td>\n",
       "      <td>112</td>\n",
       "      <td>82</td>\n",
       "      <td>121</td>\n",
       "      <td>94</td>\n",
       "    </tr>\n",
       "    <tr>\n",
       "      <th>113</th>\n",
       "      <td>70</td>\n",
       "      <td>88</td>\n",
       "      <td>76</td>\n",
       "      <td>80</td>\n",
       "      <td>79</td>\n",
       "      <td>93</td>\n",
       "    </tr>\n",
       "    <tr>\n",
       "      <th>18</th>\n",
       "      <td>67</td>\n",
       "      <td>76</td>\n",
       "      <td>80</td>\n",
       "      <td>48</td>\n",
       "      <td>72</td>\n",
       "      <td>74</td>\n",
       "    </tr>\n",
       "    <tr>\n",
       "      <th>76</th>\n",
       "      <td>86</td>\n",
       "      <td>82</td>\n",
       "      <td>112</td>\n",
       "      <td>66</td>\n",
       "      <td>58</td>\n",
       "      <td>82</td>\n",
       "    </tr>\n",
       "  </tbody>\n",
       "</table>\n",
       "</div>"
      ],
      "text/plain": [
       "     sensor_point5_i_value  sensor_point6_i_value  sensor_point7_i_value  \\\n",
       "172                     58                     90                     96   \n",
       "564                     83                     96                    112   \n",
       "113                     70                     88                     76   \n",
       "18                      67                     76                     80   \n",
       "76                      86                     82                    112   \n",
       "\n",
       "     sensor_point8_i_value  sensor_point9_i_value  sensor_point10_i_value  \n",
       "172                     92                     82                     142  \n",
       "564                     82                    121                      94  \n",
       "113                     80                     79                      93  \n",
       "18                      48                     72                      74  \n",
       "76                      66                     58                      82  "
      ]
     },
     "execution_count": 6,
     "metadata": {},
     "output_type": "execute_result"
    }
   ],
   "source": [
    "train_y.head()"
   ]
  },
  {
   "cell_type": "code",
   "execution_count": 7,
   "id": "6c63f042-75d4-489b-b2ac-3c4b52c167d6",
   "metadata": {
    "execution": {
     "iopub.execute_input": "2022-09-11T18:51:46.026723Z",
     "iopub.status.busy": "2022-09-11T18:51:46.025724Z",
     "iopub.status.idle": "2022-09-11T18:51:46.088713Z",
     "shell.execute_reply": "2022-09-11T18:51:46.087712Z",
     "shell.execute_reply.started": "2022-09-11T18:51:46.026723Z"
    },
    "tags": []
   },
   "outputs": [
    {
     "data": {
      "text/html": [
       "<div>\n",
       "<style scoped>\n",
       "    .dataframe tbody tr th:only-of-type {\n",
       "        vertical-align: middle;\n",
       "    }\n",
       "\n",
       "    .dataframe tbody tr th {\n",
       "        vertical-align: top;\n",
       "    }\n",
       "\n",
       "    .dataframe thead th {\n",
       "        text-align: right;\n",
       "    }\n",
       "</style>\n",
       "<table border=\"1\" class=\"dataframe\">\n",
       "  <thead>\n",
       "    <tr style=\"text-align: right;\">\n",
       "      <th></th>\n",
       "      <th>clean_pressure11</th>\n",
       "      <th>clean_pressure23</th>\n",
       "      <th>clean_pressure31</th>\n",
       "      <th>clean_pressure41</th>\n",
       "      <th>clean_pressure51</th>\n",
       "      <th>clean_pressure52</th>\n",
       "      <th>clean_pressure61</th>\n",
       "      <th>clean_pressure62</th>\n",
       "      <th>clean_pressure72</th>\n",
       "      <th>clean_pressure81</th>\n",
       "      <th>...</th>\n",
       "      <th>painting_g4_act_hvv_group</th>\n",
       "      <th>painting_g7_act_hvv_group</th>\n",
       "      <th>painting_g8_act_a_air_group</th>\n",
       "      <th>painting_g8_act_t_air_group</th>\n",
       "      <th>painting_g9_act_t_air_group</th>\n",
       "      <th>painting_g10_act_hvc_group</th>\n",
       "      <th>painting_g11_act_hvc_group</th>\n",
       "      <th>env_rpi05_temp_group</th>\n",
       "      <th>env_rpi07_hum_group</th>\n",
       "      <th>env_rpi15_pm1_group</th>\n",
       "    </tr>\n",
       "  </thead>\n",
       "  <tbody>\n",
       "    <tr>\n",
       "      <th>172</th>\n",
       "      <td>0.932984</td>\n",
       "      <td>0.012026</td>\n",
       "      <td>-0.394486</td>\n",
       "      <td>-0.152276</td>\n",
       "      <td>0.535788</td>\n",
       "      <td>-0.108904</td>\n",
       "      <td>0.695881</td>\n",
       "      <td>-0.759566</td>\n",
       "      <td>0.697026</td>\n",
       "      <td>-0.461315</td>\n",
       "      <td>...</td>\n",
       "      <td>1</td>\n",
       "      <td>1</td>\n",
       "      <td>2</td>\n",
       "      <td>4</td>\n",
       "      <td>0</td>\n",
       "      <td>1</td>\n",
       "      <td>1</td>\n",
       "      <td>1</td>\n",
       "      <td>1</td>\n",
       "      <td>3</td>\n",
       "    </tr>\n",
       "    <tr>\n",
       "      <th>564</th>\n",
       "      <td>-1.131781</td>\n",
       "      <td>1.496023</td>\n",
       "      <td>1.572485</td>\n",
       "      <td>-0.152276</td>\n",
       "      <td>1.211348</td>\n",
       "      <td>0.635416</td>\n",
       "      <td>-0.661092</td>\n",
       "      <td>0.586983</td>\n",
       "      <td>0.049092</td>\n",
       "      <td>0.615458</td>\n",
       "      <td>...</td>\n",
       "      <td>0</td>\n",
       "      <td>3</td>\n",
       "      <td>1</td>\n",
       "      <td>2</td>\n",
       "      <td>0</td>\n",
       "      <td>0</td>\n",
       "      <td>0</td>\n",
       "      <td>0</td>\n",
       "      <td>0</td>\n",
       "      <td>3</td>\n",
       "    </tr>\n",
       "    <tr>\n",
       "      <th>113</th>\n",
       "      <td>1.379899</td>\n",
       "      <td>-0.275836</td>\n",
       "      <td>-0.467823</td>\n",
       "      <td>-0.152276</td>\n",
       "      <td>0.678960</td>\n",
       "      <td>0.995332</td>\n",
       "      <td>1.068148</td>\n",
       "      <td>-0.799203</td>\n",
       "      <td>0.867246</td>\n",
       "      <td>-0.647959</td>\n",
       "      <td>...</td>\n",
       "      <td>3</td>\n",
       "      <td>1</td>\n",
       "      <td>2</td>\n",
       "      <td>4</td>\n",
       "      <td>0</td>\n",
       "      <td>5</td>\n",
       "      <td>0</td>\n",
       "      <td>1</td>\n",
       "      <td>3</td>\n",
       "      <td>1</td>\n",
       "    </tr>\n",
       "    <tr>\n",
       "      <th>18</th>\n",
       "      <td>0.822923</td>\n",
       "      <td>-2.344591</td>\n",
       "      <td>-3.213920</td>\n",
       "      <td>2.154155</td>\n",
       "      <td>1.079582</td>\n",
       "      <td>-2.891692</td>\n",
       "      <td>0.707889</td>\n",
       "      <td>-0.792437</td>\n",
       "      <td>2.657301</td>\n",
       "      <td>1.459564</td>\n",
       "      <td>...</td>\n",
       "      <td>1</td>\n",
       "      <td>1</td>\n",
       "      <td>2</td>\n",
       "      <td>4</td>\n",
       "      <td>0</td>\n",
       "      <td>0</td>\n",
       "      <td>1</td>\n",
       "      <td>4</td>\n",
       "      <td>1</td>\n",
       "      <td>1</td>\n",
       "    </tr>\n",
       "    <tr>\n",
       "      <th>76</th>\n",
       "      <td>1.675822</td>\n",
       "      <td>0.110349</td>\n",
       "      <td>-0.605748</td>\n",
       "      <td>2.154155</td>\n",
       "      <td>0.661383</td>\n",
       "      <td>0.036348</td>\n",
       "      <td>1.464432</td>\n",
       "      <td>-0.957793</td>\n",
       "      <td>-0.439605</td>\n",
       "      <td>1.868534</td>\n",
       "      <td>...</td>\n",
       "      <td>0</td>\n",
       "      <td>0</td>\n",
       "      <td>2</td>\n",
       "      <td>0</td>\n",
       "      <td>4</td>\n",
       "      <td>5</td>\n",
       "      <td>3</td>\n",
       "      <td>4</td>\n",
       "      <td>0</td>\n",
       "      <td>3</td>\n",
       "    </tr>\n",
       "  </tbody>\n",
       "</table>\n",
       "<p>5 rows × 71 columns</p>\n",
       "</div>"
      ],
      "text/plain": [
       "     clean_pressure11  clean_pressure23  clean_pressure31  clean_pressure41  \\\n",
       "172          0.932984          0.012026         -0.394486         -0.152276   \n",
       "564         -1.131781          1.496023          1.572485         -0.152276   \n",
       "113          1.379899         -0.275836         -0.467823         -0.152276   \n",
       "18           0.822923         -2.344591         -3.213920          2.154155   \n",
       "76           1.675822          0.110349         -0.605748          2.154155   \n",
       "\n",
       "     clean_pressure51  clean_pressure52  clean_pressure61  clean_pressure62  \\\n",
       "172          0.535788         -0.108904          0.695881         -0.759566   \n",
       "564          1.211348          0.635416         -0.661092          0.586983   \n",
       "113          0.678960          0.995332          1.068148         -0.799203   \n",
       "18           1.079582         -2.891692          0.707889         -0.792437   \n",
       "76           0.661383          0.036348          1.464432         -0.957793   \n",
       "\n",
       "     clean_pressure72  clean_pressure81  ...  painting_g4_act_hvv_group  \\\n",
       "172          0.697026         -0.461315  ...                          1   \n",
       "564          0.049092          0.615458  ...                          0   \n",
       "113          0.867246         -0.647959  ...                          3   \n",
       "18           2.657301          1.459564  ...                          1   \n",
       "76          -0.439605          1.868534  ...                          0   \n",
       "\n",
       "     painting_g7_act_hvv_group  painting_g8_act_a_air_group  \\\n",
       "172                          1                            2   \n",
       "564                          3                            1   \n",
       "113                          1                            2   \n",
       "18                           1                            2   \n",
       "76                           0                            2   \n",
       "\n",
       "     painting_g8_act_t_air_group  painting_g9_act_t_air_group  \\\n",
       "172                            4                            0   \n",
       "564                            2                            0   \n",
       "113                            4                            0   \n",
       "18                             4                            0   \n",
       "76                             0                            4   \n",
       "\n",
       "     painting_g10_act_hvc_group  painting_g11_act_hvc_group  \\\n",
       "172                           1                           1   \n",
       "564                           0                           0   \n",
       "113                           5                           0   \n",
       "18                            0                           1   \n",
       "76                            5                           3   \n",
       "\n",
       "     env_rpi05_temp_group  env_rpi07_hum_group  env_rpi15_pm1_group  \n",
       "172                     1                    1                    3  \n",
       "564                     0                    0                    3  \n",
       "113                     1                    3                    1  \n",
       "18                      4                    1                    1  \n",
       "76                      4                    0                    3  \n",
       "\n",
       "[5 rows x 71 columns]"
      ]
     },
     "execution_count": 7,
     "metadata": {},
     "output_type": "execute_result"
    }
   ],
   "source": [
    "train_x.head()"
   ]
  },
  {
   "cell_type": "code",
   "execution_count": 8,
   "id": "4e44cea4-46d9-48e5-a542-ff7f970d63b3",
   "metadata": {
    "execution": {
     "iopub.execute_input": "2022-09-11T18:51:46.091712Z",
     "iopub.status.busy": "2022-09-11T18:51:46.090713Z",
     "iopub.status.idle": "2022-09-11T18:51:46.105713Z",
     "shell.execute_reply": "2022-09-11T18:51:46.103709Z",
     "shell.execute_reply.started": "2022-09-11T18:51:46.091712Z"
    },
    "tags": []
   },
   "outputs": [],
   "source": [
    "categorical_features_indices = np.where(train_x.dtypes != float)[0]"
   ]
  },
  {
   "cell_type": "code",
   "execution_count": null,
   "id": "d3ad815a-48cc-4861-aad9-89f036fd56d3",
   "metadata": {},
   "outputs": [],
   "source": []
  },
  {
   "cell_type": "code",
   "execution_count": null,
   "id": "572dfd61-5111-4e32-b232-ef44f21a56c1",
   "metadata": {},
   "outputs": [],
   "source": []
  },
  {
   "cell_type": "code",
   "execution_count": null,
   "id": "13a40ece-90a0-4e42-b34e-bd115e33bc6d",
   "metadata": {},
   "outputs": [],
   "source": []
  },
  {
   "cell_type": "code",
   "execution_count": null,
   "id": "1679b6de-d396-4fb3-ac14-244b53ad21ad",
   "metadata": {
    "tags": []
   },
   "outputs": [],
   "source": []
  },
  {
   "cell_type": "code",
   "execution_count": 17,
   "id": "50b5e108-6f00-49ed-91e6-cb389e8db647",
   "metadata": {
    "execution": {
     "iopub.execute_input": "2022-09-11T18:51:46.254687Z",
     "iopub.status.busy": "2022-09-11T18:51:46.253689Z",
     "iopub.status.idle": "2022-09-11T18:51:46.279685Z",
     "shell.execute_reply": "2022-09-11T18:51:46.277684Z",
     "shell.execute_reply.started": "2022-09-11T18:51:46.254687Z"
    },
    "tags": []
   },
   "outputs": [],
   "source": [
    "col_y = 'sensor_point5_i_value'"
   ]
  },
  {
   "cell_type": "code",
   "execution_count": 18,
   "id": "b164cb03-f7f7-4c49-9cfc-97a115195561",
   "metadata": {
    "execution": {
     "iopub.execute_input": "2022-09-11T18:51:46.281684Z",
     "iopub.status.busy": "2022-09-11T18:51:46.281684Z",
     "iopub.status.idle": "2022-09-11T18:52:00.767465Z",
     "shell.execute_reply": "2022-09-11T18:52:00.766487Z",
     "shell.execute_reply.started": "2022-09-11T18:51:46.281684Z"
    },
    "tags": []
   },
   "outputs": [
    {
     "data": {
      "application/vnd.jupyter.widget-view+json": {
       "model_id": "07bdd36f45cd4410b769a4d0ea7ac7f3",
       "version_major": 2,
       "version_minor": 0
      },
      "text/plain": [
       "MetricVisualizer(layout=Layout(align_self='stretch', height='500px'))"
      ]
     },
     "metadata": {},
     "output_type": "display_data"
    },
    {
     "name": "stdout",
     "output_type": "stream",
     "text": [
      "Training on fold [0/5]\n",
      "\n",
      "bestTest = 10.59142865\n",
      "bestIteration = 26\n",
      "\n",
      "Training on fold [1/5]\n",
      "\n",
      "bestTest = 9.81059736\n",
      "bestIteration = 17\n",
      "\n",
      "Training on fold [2/5]\n",
      "\n",
      "bestTest = 9.6041228\n",
      "bestIteration = 19\n",
      "\n",
      "Training on fold [3/5]\n",
      "\n",
      "bestTest = 10.86144611\n",
      "bestIteration = 18\n",
      "\n",
      "Training on fold [4/5]\n",
      "\n",
      "bestTest = 9.824769321\n",
      "bestIteration = 32\n",
      "\n"
     ]
    }
   ],
   "source": [
    "params = {\n",
    "    'loss_function': 'RMSE',\n",
    "    'iterations': 80,\n",
    "    'random_seed': random_state,\n",
    "    'learning_rate': 0.5,\n",
    "    # 'use_best_model': True\n",
    "}\n",
    "\n",
    "cv_data = cv(\n",
    "    params = params,\n",
    "    pool = Pool(train_x, label=train_y[col_y], cat_features=categorical_features_indices),\n",
    "    fold_count=5,\n",
    "    type = 'Classical',  # The method to split the dataset into folds.\n",
    "    shuffle=True,\n",
    "    partition_random_seed=random_state,\n",
    "    plot=True,\n",
    "    stratified=False,\n",
    "    verbose=False\n",
    ")"
   ]
  },
  {
   "cell_type": "code",
   "execution_count": 19,
   "id": "c7576c6f-3a93-4247-aff2-4a8ce3e76142",
   "metadata": {
    "execution": {
     "iopub.execute_input": "2022-09-11T18:52:00.771465Z",
     "iopub.status.busy": "2022-09-11T18:52:00.770466Z",
     "iopub.status.idle": "2022-09-11T18:52:00.783463Z",
     "shell.execute_reply": "2022-09-11T18:52:00.782464Z",
     "shell.execute_reply.started": "2022-09-11T18:52:00.771465Z"
    },
    "tags": []
   },
   "outputs": [
    {
     "name": "stdout",
     "output_type": "stream",
     "text": [
      "Best validation RMSE score: 19.0000±0.5469 on step 19\n"
     ]
    }
   ],
   "source": [
    "best_value = np.argmin(cv_data['test-RMSE-mean'])\n",
    "best_iter = np.argmin(cv_data['test-RMSE-mean'])\n",
    "\n",
    "print('Best validation RMSE score: {:.4f}±{:.4f} on step {}'.format(\n",
    "    best_value,\n",
    "    cv_data['test-RMSE-std'][best_iter],\n",
    "    best_iter)\n",
    ")"
   ]
  },
  {
   "cell_type": "code",
   "execution_count": 20,
   "id": "3f497015-524f-471f-8722-f9e004e189f3",
   "metadata": {
    "execution": {
     "iopub.execute_input": "2022-09-11T18:52:00.787463Z",
     "iopub.status.busy": "2022-09-11T18:52:00.786463Z",
     "iopub.status.idle": "2022-09-11T18:52:00.799460Z",
     "shell.execute_reply": "2022-09-11T18:52:00.798459Z",
     "shell.execute_reply.started": "2022-09-11T18:52:00.787463Z"
    },
    "tags": []
   },
   "outputs": [],
   "source": [
    "params['iterations'] = best_iter"
   ]
  },
  {
   "cell_type": "code",
   "execution_count": 21,
   "id": "707c19c8-f152-4fe9-8b89-719fcda5e974",
   "metadata": {
    "execution": {
     "iopub.execute_input": "2022-09-11T18:52:00.801462Z",
     "iopub.status.busy": "2022-09-11T18:52:00.801462Z",
     "iopub.status.idle": "2022-09-11T18:52:01.746535Z",
     "shell.execute_reply": "2022-09-11T18:52:01.745536Z",
     "shell.execute_reply.started": "2022-09-11T18:52:00.801462Z"
    },
    "tags": []
   },
   "outputs": [
    {
     "data": {
      "text/plain": [
       "<catboost.core.CatBoostRegressor at 0x260aca17220>"
      ]
     },
     "execution_count": 21,
     "metadata": {},
     "output_type": "execute_result"
    }
   ],
   "source": [
    "model = CatBoostRegressor(\n",
    "    **params,\n",
    "    eval_metric='RMSE',\n",
    "    verbose=False\n",
    ")\n",
    "\n",
    "model.fit(\n",
    "    train_x, train_y[col_y],\n",
    "    cat_features=categorical_features_indices,\n",
    "    eval_set=(val_x, val_y[col_y]),\n",
    "    # logging_level='Verbose',\n",
    "    plot=False\n",
    ")"
   ]
  },
  {
   "cell_type": "code",
   "execution_count": 22,
   "id": "6d09b131-4557-43cc-b3af-4bb9382f808e",
   "metadata": {
    "execution": {
     "iopub.execute_input": "2022-09-11T18:52:01.749536Z",
     "iopub.status.busy": "2022-09-11T18:52:01.748535Z",
     "iopub.status.idle": "2022-09-11T18:52:01.762555Z",
     "shell.execute_reply": "2022-09-11T18:52:01.761554Z",
     "shell.execute_reply.started": "2022-09-11T18:52:01.749536Z"
    },
    "tags": []
   },
   "outputs": [],
   "source": [
    "# model.get_evals_result()"
   ]
  },
  {
   "cell_type": "code",
   "execution_count": 23,
   "id": "c98d74a7-23c9-4b6f-9752-e311085d5359",
   "metadata": {
    "execution": {
     "iopub.execute_input": "2022-09-11T18:52:01.765535Z",
     "iopub.status.busy": "2022-09-11T18:52:01.764535Z",
     "iopub.status.idle": "2022-09-11T18:52:01.778532Z",
     "shell.execute_reply": "2022-09-11T18:52:01.777532Z",
     "shell.execute_reply.started": "2022-09-11T18:52:01.765535Z"
    },
    "tags": []
   },
   "outputs": [],
   "source": [
    "predict_y = model.predict(val_x)"
   ]
  },
  {
   "cell_type": "code",
   "execution_count": 24,
   "id": "315a2db5-5c51-4c56-947e-e3f5c98a01c9",
   "metadata": {
    "execution": {
     "iopub.execute_input": "2022-09-11T18:52:01.780533Z",
     "iopub.status.busy": "2022-09-11T18:52:01.779531Z",
     "iopub.status.idle": "2022-09-11T18:52:01.794527Z",
     "shell.execute_reply": "2022-09-11T18:52:01.793549Z",
     "shell.execute_reply.started": "2022-09-11T18:52:01.780533Z"
    }
   },
   "outputs": [],
   "source": [
    "def rmse_score(predictions, targets):\n",
    "    return np.sqrt(np.mean((predictions-targets)**2))"
   ]
  },
  {
   "cell_type": "code",
   "execution_count": 27,
   "id": "13353ed9-5a9c-445e-a792-bac2023965b9",
   "metadata": {
    "execution": {
     "iopub.execute_input": "2022-09-11T19:00:55.587448Z",
     "iopub.status.busy": "2022-09-11T19:00:55.587448Z",
     "iopub.status.idle": "2022-09-11T19:00:55.607446Z",
     "shell.execute_reply": "2022-09-11T19:00:55.606447Z",
     "shell.execute_reply.started": "2022-09-11T19:00:55.587448Z"
    },
    "tags": []
   },
   "outputs": [
    {
     "data": {
      "text/plain": [
       "7.552117927213621"
      ]
     },
     "execution_count": 27,
     "metadata": {},
     "output_type": "execute_result"
    }
   ],
   "source": [
    "rmse_score(predict_y, val_y[col_y])"
   ]
  },
  {
   "cell_type": "code",
   "execution_count": null,
   "id": "841c8056-a45b-46ad-99e9-c92889e4ad14",
   "metadata": {},
   "outputs": [],
   "source": []
  },
  {
   "cell_type": "code",
   "execution_count": null,
   "id": "c3f3630e-8f5b-42ca-aee2-c22dd6400dc7",
   "metadata": {},
   "outputs": [],
   "source": []
  },
  {
   "cell_type": "code",
   "execution_count": null,
   "id": "7ad1e8cb-7a81-451c-92b1-a81af6156519",
   "metadata": {},
   "outputs": [],
   "source": []
  },
  {
   "cell_type": "code",
   "execution_count": null,
   "id": "60b45aa7-91c8-4d69-a84a-e4ca7f3fd75f",
   "metadata": {},
   "outputs": [],
   "source": []
  },
  {
   "cell_type": "code",
   "execution_count": null,
   "id": "b350530f-633f-4650-955a-3184dadb9626",
   "metadata": {
    "execution": {
     "iopub.status.busy": "2022-09-11T18:52:05.487710Z",
     "iopub.status.idle": "2022-09-11T18:52:05.488713Z",
     "shell.execute_reply": "2022-09-11T18:52:05.487710Z",
     "shell.execute_reply.started": "2022-09-11T18:52:05.487710Z"
    },
    "tags": []
   },
   "outputs": [],
   "source": [
    "# from sklearn.multioutput import MultiOutputRegressor\n",
    "# from sklearn.model_selection import RepeatedKFold\n",
    "# from sklearn.model_selection import cross_val_score"
   ]
  },
  {
   "cell_type": "code",
   "execution_count": 29,
   "id": "9723994f-f607-40dd-a418-be33eebef7cb",
   "metadata": {
    "execution": {
     "iopub.execute_input": "2022-09-11T19:03:34.216619Z",
     "iopub.status.busy": "2022-09-11T19:03:34.215619Z",
     "iopub.status.idle": "2022-09-11T19:15:48.766817Z",
     "shell.execute_reply": "2022-09-11T19:15:48.765815Z",
     "shell.execute_reply.started": "2022-09-11T19:03:34.215619Z"
    },
    "tags": []
   },
   "outputs": [
    {
     "data": {
      "application/vnd.jupyter.widget-view+json": {
       "model_id": "d49a9cd7240a4022adc2b9d1602d5d7d",
       "version_major": 2,
       "version_minor": 0
      },
      "text/plain": [
       "MetricVisualizer(layout=Layout(align_self='stretch', height='500px'))"
      ]
     },
     "metadata": {},
     "output_type": "display_data"
    },
    {
     "name": "stdout",
     "output_type": "stream",
     "text": [
      "Training on fold [0/5]\n",
      "\n",
      "bestTest = 35.30689052\n",
      "bestIteration = 19\n",
      "\n",
      "Training on fold [1/5]\n",
      "\n",
      "bestTest = 41.00472506\n",
      "bestIteration = 71\n",
      "\n",
      "Training on fold [2/5]\n",
      "\n",
      "bestTest = 40.13883252\n",
      "bestIteration = 13\n",
      "\n",
      "Training on fold [3/5]\n",
      "\n",
      "bestTest = 35.21158011\n",
      "bestIteration = 57\n",
      "\n",
      "Training on fold [4/5]\n",
      "\n",
      "bestTest = 35.85192104\n",
      "bestIteration = 53\n",
      "\n"
     ]
    }
   ],
   "source": [
    "params = {\n",
    "    'loss_function': 'MultiRMSE',\n",
    "    'iterations': 150,\n",
    "    'random_seed': random_state,\n",
    "    'learning_rate': 0.5,\n",
    "    # 'use_best_model': True\n",
    "}\n",
    "\n",
    "cv_data = cv(\n",
    "    params = params,\n",
    "    pool = Pool(train_x, label=train_y, cat_features=categorical_features_indices),\n",
    "    fold_count=5,\n",
    "    type = 'Classical',  # The method to split the dataset into folds.\n",
    "    shuffle=True,\n",
    "    partition_random_seed=random_state,\n",
    "    plot=True,\n",
    "    stratified=False,\n",
    "    verbose=False\n",
    ")"
   ]
  },
  {
   "cell_type": "code",
   "execution_count": 32,
   "id": "7e7e09d1-74b9-449a-9a49-f8cbd2d7899a",
   "metadata": {
    "execution": {
     "iopub.execute_input": "2022-09-11T19:16:02.203491Z",
     "iopub.status.busy": "2022-09-11T19:16:02.203491Z",
     "iopub.status.idle": "2022-09-11T19:16:02.213487Z",
     "shell.execute_reply": "2022-09-11T19:16:02.212485Z",
     "shell.execute_reply.started": "2022-09-11T19:16:02.203491Z"
    },
    "tags": []
   },
   "outputs": [
    {
     "name": "stdout",
     "output_type": "stream",
     "text": [
      "Best validation MultiRMSE score: 32.0000±2.8392 on step 32\n"
     ]
    }
   ],
   "source": [
    "best_value = np.argmin(cv_data['test-MultiRMSE-mean'])\n",
    "best_iter = np.argmin(cv_data['test-MultiRMSE-mean'])\n",
    "\n",
    "print('Best validation MultiRMSE score: {:.4f}±{:.4f} on step {}'.format(\n",
    "    best_value,\n",
    "    cv_data['test-MultiRMSE-std'][best_iter],\n",
    "    best_iter)\n",
    ")"
   ]
  },
  {
   "cell_type": "code",
   "execution_count": 33,
   "id": "43ff7c87-9730-4a3a-9e08-76aef5ad4ca9",
   "metadata": {
    "execution": {
     "iopub.execute_input": "2022-09-11T19:16:09.003582Z",
     "iopub.status.busy": "2022-09-11T19:16:09.003582Z",
     "iopub.status.idle": "2022-09-11T19:16:09.011580Z",
     "shell.execute_reply": "2022-09-11T19:16:09.010581Z",
     "shell.execute_reply.started": "2022-09-11T19:16:09.003582Z"
    },
    "tags": []
   },
   "outputs": [],
   "source": [
    "params['iterations'] = best_iter"
   ]
  },
  {
   "cell_type": "code",
   "execution_count": 34,
   "id": "4428029a-1d1e-4e27-b5d9-b4fc2d792b10",
   "metadata": {
    "execution": {
     "iopub.execute_input": "2022-09-11T19:16:14.355798Z",
     "iopub.status.busy": "2022-09-11T19:16:14.354796Z",
     "iopub.status.idle": "2022-09-11T19:16:19.474514Z",
     "shell.execute_reply": "2022-09-11T19:16:19.473512Z",
     "shell.execute_reply.started": "2022-09-11T19:16:14.355798Z"
    }
   },
   "outputs": [
    {
     "data": {
      "text/plain": [
       "<catboost.core.CatBoostRegressor at 0x260b181e4c0>"
      ]
     },
     "execution_count": 34,
     "metadata": {},
     "output_type": "execute_result"
    }
   ],
   "source": [
    "model = CatBoostRegressor(\n",
    "    **params,\n",
    "    eval_metric='MultiRMSE',\n",
    "    verbose=False\n",
    ")\n",
    "\n",
    "model.fit(\n",
    "    train_x, train_y,\n",
    "    cat_features=categorical_features_indices,\n",
    "    eval_set=(val_x, val_y),\n",
    "    # logging_level='Verbose',\n",
    "    plot=False\n",
    ")"
   ]
  },
  {
   "cell_type": "code",
   "execution_count": 22,
   "id": "b8ac401d-3af8-456d-b867-37855b7a4d26",
   "metadata": {
    "execution": {
     "iopub.execute_input": "2022-09-11T18:52:01.749536Z",
     "iopub.status.busy": "2022-09-11T18:52:01.748535Z",
     "iopub.status.idle": "2022-09-11T18:52:01.762555Z",
     "shell.execute_reply": "2022-09-11T18:52:01.761554Z",
     "shell.execute_reply.started": "2022-09-11T18:52:01.749536Z"
    },
    "tags": []
   },
   "outputs": [],
   "source": [
    "# model.get_evals_result()"
   ]
  },
  {
   "cell_type": "code",
   "execution_count": 35,
   "id": "85b5550a-58f7-45c0-aea9-d642cd898af0",
   "metadata": {
    "execution": {
     "iopub.execute_input": "2022-09-11T19:16:21.558592Z",
     "iopub.status.busy": "2022-09-11T19:16:21.557590Z",
     "iopub.status.idle": "2022-09-11T19:16:21.611581Z",
     "shell.execute_reply": "2022-09-11T19:16:21.610603Z",
     "shell.execute_reply.started": "2022-09-11T19:16:21.558592Z"
    },
    "tags": []
   },
   "outputs": [],
   "source": [
    "predict_y = model.predict(val_x)"
   ]
  },
  {
   "cell_type": "code",
   "execution_count": 39,
   "id": "59484d14-def7-4622-826f-aea441a10ae6",
   "metadata": {
    "execution": {
     "iopub.execute_input": "2022-09-11T19:17:22.223643Z",
     "iopub.status.busy": "2022-09-11T19:17:22.223643Z",
     "iopub.status.idle": "2022-09-11T19:17:22.234637Z",
     "shell.execute_reply": "2022-09-11T19:17:22.233637Z",
     "shell.execute_reply.started": "2022-09-11T19:17:22.223643Z"
    },
    "tags": []
   },
   "outputs": [],
   "source": [
    "def rmse_score(predictions, targets):\n",
    "    return np.sqrt(np.mean((predictions-targets)**2, axis=0))"
   ]
  },
  {
   "cell_type": "code",
   "execution_count": 40,
   "id": "b267d720-d898-40d0-9974-7e3bad949b09",
   "metadata": {
    "execution": {
     "iopub.execute_input": "2022-09-11T19:17:22.745642Z",
     "iopub.status.busy": "2022-09-11T19:17:22.745642Z",
     "iopub.status.idle": "2022-09-11T19:17:22.767640Z",
     "shell.execute_reply": "2022-09-11T19:17:22.766639Z",
     "shell.execute_reply.started": "2022-09-11T19:17:22.745642Z"
    },
    "tags": []
   },
   "outputs": [
    {
     "data": {
      "text/plain": [
       "sensor_point5_i_value      8.514762\n",
       "sensor_point6_i_value     13.133348\n",
       "sensor_point7_i_value     16.337178\n",
       "sensor_point8_i_value     13.039559\n",
       "sensor_point9_i_value     13.622460\n",
       "sensor_point10_i_value    12.808895\n",
       "dtype: float64"
      ]
     },
     "execution_count": 40,
     "metadata": {},
     "output_type": "execute_result"
    }
   ],
   "source": [
    "rmse_score(predict_y, val_y)"
   ]
  }
 ],
 "metadata": {
  "kernelspec": {
   "display_name": "Python 3 (ipykernel)",
   "language": "python",
   "name": "python3"
  },
  "language_info": {
   "codemirror_mode": {
    "name": "ipython",
    "version": 3
   },
   "file_extension": ".py",
   "mimetype": "text/x-python",
   "name": "python",
   "nbconvert_exporter": "python",
   "pygments_lexer": "ipython3",
   "version": "3.9.12"
  }
 },
 "nbformat": 4,
 "nbformat_minor": 5
}
