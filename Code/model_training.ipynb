{
 "cells": [
  {
   "cell_type": "markdown",
   "id": "2c91ec7c",
   "metadata": {},
   "source": [
    "# Model training\n",
    "---\n",
    "Describe:\n",
    "\n",
    "---"
   ]
  },
  {
   "cell_type": "markdown",
   "id": "a835b31e",
   "metadata": {},
   "source": [
    "## 1. Import Libraries"
   ]
  },
  {
   "cell_type": "code",
   "execution_count": 1,
   "id": "3c2e1766",
   "metadata": {
    "execution": {
     "iopub.execute_input": "2022-09-12T15:40:24.789822Z",
     "iopub.status.busy": "2022-09-12T15:40:24.789822Z",
     "iopub.status.idle": "2022-09-12T15:40:28.471712Z",
     "shell.execute_reply": "2022-09-12T15:40:28.470719Z",
     "shell.execute_reply.started": "2022-09-12T15:40:24.789822Z"
    },
    "tags": []
   },
   "outputs": [],
   "source": [
    "import pandas as pd\n",
    "import numpy as np\n",
    "import pickle\n",
    "import model_config\n",
    "from utils.time_utils import current_time\n",
    "\n",
    "from catboost import CatBoostRegressor\n",
    "# from bayes_opt import BayesianOptimization\n",
    "\n",
    "\n",
    "from sklearn.model_selection import train_test_split\n",
    "from catboost import cv, Pool\n",
    "\n",
    "import feature_engineering_config as fe_config  \n",
    "from feature_engineering import Standardization"
   ]
  },
  {
   "cell_type": "markdown",
   "id": "988c975f",
   "metadata": {},
   "source": [
    "## 2. Config"
   ]
  },
  {
   "cell_type": "code",
   "execution_count": 2,
   "id": "fea895dd",
   "metadata": {
    "execution": {
     "iopub.execute_input": "2022-09-12T15:40:28.473711Z",
     "iopub.status.busy": "2022-09-12T15:40:28.472711Z",
     "iopub.status.idle": "2022-09-12T15:40:28.487710Z",
     "shell.execute_reply": "2022-09-12T15:40:28.486715Z",
     "shell.execute_reply.started": "2022-09-12T15:40:28.473711Z"
    }
   },
   "outputs": [],
   "source": [
    "random_state = model_config.random_state"
   ]
  },
  {
   "cell_type": "markdown",
   "id": "b4e18208",
   "metadata": {},
   "source": [
    "## 3. Load Data"
   ]
  },
  {
   "cell_type": "code",
   "execution_count": 3,
   "id": "e8b38178",
   "metadata": {
    "execution": {
     "iopub.execute_input": "2022-09-12T15:40:28.492707Z",
     "iopub.status.busy": "2022-09-12T15:40:28.491712Z",
     "iopub.status.idle": "2022-09-12T15:40:28.517709Z",
     "shell.execute_reply": "2022-09-12T15:40:28.516708Z",
     "shell.execute_reply.started": "2022-09-12T15:40:28.492707Z"
    },
    "tags": []
   },
   "outputs": [],
   "source": [
    "with open(f'../Data/meta/train_x_after_feature_engineering.pickle', 'rb') as f:\n",
    "    train_x_after_fe = pickle.load(f)"
   ]
  },
  {
   "cell_type": "code",
   "execution_count": 4,
   "id": "4932ade9",
   "metadata": {
    "execution": {
     "iopub.execute_input": "2022-09-12T15:40:28.520704Z",
     "iopub.status.busy": "2022-09-12T15:40:28.519704Z",
     "iopub.status.idle": "2022-09-12T15:40:28.533701Z",
     "shell.execute_reply": "2022-09-12T15:40:28.532703Z",
     "shell.execute_reply.started": "2022-09-12T15:40:28.520704Z"
    }
   },
   "outputs": [],
   "source": [
    "with open(f'../Data/meta/train_y_after_feature_engineering.pickle', 'rb') as f:\n",
    "    train_y_after_fe = pickle.load(f)"
   ]
  },
  {
   "cell_type": "code",
   "execution_count": 5,
   "id": "567298f2-cc4f-4432-99bd-023520e957aa",
   "metadata": {
    "execution": {
     "iopub.execute_input": "2022-09-12T15:40:28.535701Z",
     "iopub.status.busy": "2022-09-12T15:40:28.535701Z",
     "iopub.status.idle": "2022-09-12T15:40:28.610700Z",
     "shell.execute_reply": "2022-09-12T15:40:28.609700Z",
     "shell.execute_reply.started": "2022-09-12T15:40:28.535701Z"
    }
   },
   "outputs": [
    {
     "data": {
      "text/html": [
       "<div>\n",
       "<style scoped>\n",
       "    .dataframe tbody tr th:only-of-type {\n",
       "        vertical-align: middle;\n",
       "    }\n",
       "\n",
       "    .dataframe tbody tr th {\n",
       "        vertical-align: top;\n",
       "    }\n",
       "\n",
       "    .dataframe thead th {\n",
       "        text-align: right;\n",
       "    }\n",
       "</style>\n",
       "<table border=\"1\" class=\"dataframe\">\n",
       "  <thead>\n",
       "    <tr style=\"text-align: right;\">\n",
       "      <th></th>\n",
       "      <th>sensor_point5_i_value</th>\n",
       "      <th>sensor_point6_i_value</th>\n",
       "      <th>sensor_point7_i_value</th>\n",
       "      <th>sensor_point8_i_value</th>\n",
       "      <th>sensor_point9_i_value</th>\n",
       "      <th>sensor_point10_i_value</th>\n",
       "    </tr>\n",
       "  </thead>\n",
       "  <tbody>\n",
       "    <tr>\n",
       "      <th>0</th>\n",
       "      <td>-2.850704</td>\n",
       "      <td>-1.349299</td>\n",
       "      <td>-1.108874</td>\n",
       "      <td>-1.644919</td>\n",
       "      <td>-0.749104</td>\n",
       "      <td>-2.754174</td>\n",
       "    </tr>\n",
       "    <tr>\n",
       "      <th>1</th>\n",
       "      <td>-3.234429</td>\n",
       "      <td>-1.201861</td>\n",
       "      <td>-2.066065</td>\n",
       "      <td>-1.687718</td>\n",
       "      <td>-1.199583</td>\n",
       "      <td>-2.930475</td>\n",
       "    </tr>\n",
       "    <tr>\n",
       "      <th>2</th>\n",
       "      <td>-3.387919</td>\n",
       "      <td>-0.980703</td>\n",
       "      <td>-1.906533</td>\n",
       "      <td>-1.730517</td>\n",
       "      <td>-0.098411</td>\n",
       "      <td>-2.754174</td>\n",
       "    </tr>\n",
       "    <tr>\n",
       "      <th>4</th>\n",
       "      <td>-1.699529</td>\n",
       "      <td>-0.538388</td>\n",
       "      <td>-1.906533</td>\n",
       "      <td>-1.216932</td>\n",
       "      <td>-1.199583</td>\n",
       "      <td>-1.578837</td>\n",
       "    </tr>\n",
       "    <tr>\n",
       "      <th>5</th>\n",
       "      <td>-2.850704</td>\n",
       "      <td>-0.759546</td>\n",
       "      <td>-1.029109</td>\n",
       "      <td>-1.088536</td>\n",
       "      <td>-1.600010</td>\n",
       "      <td>-1.637604</td>\n",
       "    </tr>\n",
       "  </tbody>\n",
       "</table>\n",
       "</div>"
      ],
      "text/plain": [
       "   sensor_point5_i_value  sensor_point6_i_value  sensor_point7_i_value  \\\n",
       "0              -2.850704              -1.349299              -1.108874   \n",
       "1              -3.234429              -1.201861              -2.066065   \n",
       "2              -3.387919              -0.980703              -1.906533   \n",
       "4              -1.699529              -0.538388              -1.906533   \n",
       "5              -2.850704              -0.759546              -1.029109   \n",
       "\n",
       "   sensor_point8_i_value  sensor_point9_i_value  sensor_point10_i_value  \n",
       "0              -1.644919              -0.749104               -2.754174  \n",
       "1              -1.687718              -1.199583               -2.930475  \n",
       "2              -1.730517              -0.098411               -2.754174  \n",
       "4              -1.216932              -1.199583               -1.578837  \n",
       "5              -1.088536              -1.600010               -1.637604  "
      ]
     },
     "execution_count": 5,
     "metadata": {},
     "output_type": "execute_result"
    }
   ],
   "source": [
    "train_y_after_fe.head()"
   ]
  },
  {
   "cell_type": "code",
   "execution_count": 6,
   "id": "05ddf2f5",
   "metadata": {
    "execution": {
     "iopub.execute_input": "2022-09-12T15:40:28.613701Z",
     "iopub.status.busy": "2022-09-12T15:40:28.612700Z",
     "iopub.status.idle": "2022-09-12T15:40:28.671690Z",
     "shell.execute_reply": "2022-09-12T15:40:28.670690Z",
     "shell.execute_reply.started": "2022-09-12T15:40:28.613701Z"
    },
    "tags": []
   },
   "outputs": [
    {
     "data": {
      "text/html": [
       "<div>\n",
       "<style scoped>\n",
       "    .dataframe tbody tr th:only-of-type {\n",
       "        vertical-align: middle;\n",
       "    }\n",
       "\n",
       "    .dataframe tbody tr th {\n",
       "        vertical-align: top;\n",
       "    }\n",
       "\n",
       "    .dataframe thead th {\n",
       "        text-align: right;\n",
       "    }\n",
       "</style>\n",
       "<table border=\"1\" class=\"dataframe\">\n",
       "  <thead>\n",
       "    <tr style=\"text-align: right;\">\n",
       "      <th></th>\n",
       "      <th>clean_pressure31</th>\n",
       "      <th>clean_pressure41</th>\n",
       "      <th>clean_pressure61</th>\n",
       "      <th>clean_pressure72</th>\n",
       "      <th>clean_pressure81</th>\n",
       "      <th>clean_pressure91</th>\n",
       "      <th>clean_pressure102</th>\n",
       "      <th>oven_pa1</th>\n",
       "      <th>oven_pa2</th>\n",
       "      <th>oven_pb1</th>\n",
       "      <th>...</th>\n",
       "      <th>oven_a1_group</th>\n",
       "      <th>oven_a2_group</th>\n",
       "      <th>oven_b1_group</th>\n",
       "      <th>painting_g4_act_hvc_group</th>\n",
       "      <th>painting_g9_act_a_air_group</th>\n",
       "      <th>painting_g9_act_hvc_group</th>\n",
       "      <th>painting_g10_act_hvc_group</th>\n",
       "      <th>env_rpi05_temp_group</th>\n",
       "      <th>env_rpi15_pm1_group</th>\n",
       "      <th>env_rpi15_pm25_group</th>\n",
       "    </tr>\n",
       "  </thead>\n",
       "  <tbody>\n",
       "    <tr>\n",
       "      <th>0</th>\n",
       "      <td>-0.841315</td>\n",
       "      <td>1.883944</td>\n",
       "      <td>1.896626</td>\n",
       "      <td>2.853088</td>\n",
       "      <td>1.927227</td>\n",
       "      <td>-0.409044</td>\n",
       "      <td>0.829250</td>\n",
       "      <td>1.849228</td>\n",
       "      <td>1.356757</td>\n",
       "      <td>3.752397</td>\n",
       "      <td>...</td>\n",
       "      <td>3</td>\n",
       "      <td>2</td>\n",
       "      <td>1</td>\n",
       "      <td>4</td>\n",
       "      <td>2</td>\n",
       "      <td>3</td>\n",
       "      <td>4</td>\n",
       "      <td>1</td>\n",
       "      <td>1</td>\n",
       "      <td>2</td>\n",
       "    </tr>\n",
       "    <tr>\n",
       "      <th>1</th>\n",
       "      <td>-0.841937</td>\n",
       "      <td>1.883944</td>\n",
       "      <td>1.896626</td>\n",
       "      <td>2.866816</td>\n",
       "      <td>1.941897</td>\n",
       "      <td>-0.452476</td>\n",
       "      <td>0.829058</td>\n",
       "      <td>1.883055</td>\n",
       "      <td>1.346359</td>\n",
       "      <td>3.731890</td>\n",
       "      <td>...</td>\n",
       "      <td>3</td>\n",
       "      <td>2</td>\n",
       "      <td>1</td>\n",
       "      <td>4</td>\n",
       "      <td>0</td>\n",
       "      <td>3</td>\n",
       "      <td>4</td>\n",
       "      <td>1</td>\n",
       "      <td>1</td>\n",
       "      <td>2</td>\n",
       "    </tr>\n",
       "    <tr>\n",
       "      <th>2</th>\n",
       "      <td>-0.841937</td>\n",
       "      <td>1.883944</td>\n",
       "      <td>1.896626</td>\n",
       "      <td>2.866816</td>\n",
       "      <td>1.941897</td>\n",
       "      <td>-0.452476</td>\n",
       "      <td>0.829058</td>\n",
       "      <td>1.883055</td>\n",
       "      <td>1.346359</td>\n",
       "      <td>3.731890</td>\n",
       "      <td>...</td>\n",
       "      <td>3</td>\n",
       "      <td>2</td>\n",
       "      <td>1</td>\n",
       "      <td>4</td>\n",
       "      <td>0</td>\n",
       "      <td>3</td>\n",
       "      <td>4</td>\n",
       "      <td>1</td>\n",
       "      <td>1</td>\n",
       "      <td>2</td>\n",
       "    </tr>\n",
       "    <tr>\n",
       "      <th>4</th>\n",
       "      <td>-0.851756</td>\n",
       "      <td>1.883944</td>\n",
       "      <td>1.896626</td>\n",
       "      <td>2.853088</td>\n",
       "      <td>1.800151</td>\n",
       "      <td>-0.542397</td>\n",
       "      <td>0.827615</td>\n",
       "      <td>1.928491</td>\n",
       "      <td>1.305015</td>\n",
       "      <td>3.166220</td>\n",
       "      <td>...</td>\n",
       "      <td>3</td>\n",
       "      <td>2</td>\n",
       "      <td>1</td>\n",
       "      <td>4</td>\n",
       "      <td>2</td>\n",
       "      <td>1</td>\n",
       "      <td>4</td>\n",
       "      <td>1</td>\n",
       "      <td>1</td>\n",
       "      <td>2</td>\n",
       "    </tr>\n",
       "    <tr>\n",
       "      <th>5</th>\n",
       "      <td>-0.851756</td>\n",
       "      <td>1.883944</td>\n",
       "      <td>1.896626</td>\n",
       "      <td>2.853088</td>\n",
       "      <td>1.800151</td>\n",
       "      <td>-0.542397</td>\n",
       "      <td>0.827615</td>\n",
       "      <td>1.928491</td>\n",
       "      <td>1.305015</td>\n",
       "      <td>3.166220</td>\n",
       "      <td>...</td>\n",
       "      <td>3</td>\n",
       "      <td>2</td>\n",
       "      <td>1</td>\n",
       "      <td>4</td>\n",
       "      <td>2</td>\n",
       "      <td>1</td>\n",
       "      <td>4</td>\n",
       "      <td>1</td>\n",
       "      <td>1</td>\n",
       "      <td>2</td>\n",
       "    </tr>\n",
       "  </tbody>\n",
       "</table>\n",
       "<p>5 rows × 55 columns</p>\n",
       "</div>"
      ],
      "text/plain": [
       "   clean_pressure31  clean_pressure41  clean_pressure61  clean_pressure72  \\\n",
       "0         -0.841315          1.883944          1.896626          2.853088   \n",
       "1         -0.841937          1.883944          1.896626          2.866816   \n",
       "2         -0.841937          1.883944          1.896626          2.866816   \n",
       "4         -0.851756          1.883944          1.896626          2.853088   \n",
       "5         -0.851756          1.883944          1.896626          2.853088   \n",
       "\n",
       "   clean_pressure81  clean_pressure91  clean_pressure102  oven_pa1  oven_pa2  \\\n",
       "0          1.927227         -0.409044           0.829250  1.849228  1.356757   \n",
       "1          1.941897         -0.452476           0.829058  1.883055  1.346359   \n",
       "2          1.941897         -0.452476           0.829058  1.883055  1.346359   \n",
       "4          1.800151         -0.542397           0.827615  1.928491  1.305015   \n",
       "5          1.800151         -0.542397           0.827615  1.928491  1.305015   \n",
       "\n",
       "   oven_pb1  ...  oven_a1_group  oven_a2_group  oven_b1_group  \\\n",
       "0  3.752397  ...              3              2              1   \n",
       "1  3.731890  ...              3              2              1   \n",
       "2  3.731890  ...              3              2              1   \n",
       "4  3.166220  ...              3              2              1   \n",
       "5  3.166220  ...              3              2              1   \n",
       "\n",
       "   painting_g4_act_hvc_group  painting_g9_act_a_air_group  \\\n",
       "0                          4                            2   \n",
       "1                          4                            0   \n",
       "2                          4                            0   \n",
       "4                          4                            2   \n",
       "5                          4                            2   \n",
       "\n",
       "   painting_g9_act_hvc_group  painting_g10_act_hvc_group  \\\n",
       "0                          3                           4   \n",
       "1                          3                           4   \n",
       "2                          3                           4   \n",
       "4                          1                           4   \n",
       "5                          1                           4   \n",
       "\n",
       "   env_rpi05_temp_group  env_rpi15_pm1_group  env_rpi15_pm25_group  \n",
       "0                     1                    1                     2  \n",
       "1                     1                    1                     2  \n",
       "2                     1                    1                     2  \n",
       "4                     1                    1                     2  \n",
       "5                     1                    1                     2  \n",
       "\n",
       "[5 rows x 55 columns]"
      ]
     },
     "execution_count": 6,
     "metadata": {},
     "output_type": "execute_result"
    }
   ],
   "source": [
    "train_x_after_fe.head()"
   ]
  },
  {
   "cell_type": "code",
   "execution_count": 7,
   "id": "8d15e32b",
   "metadata": {
    "execution": {
     "iopub.execute_input": "2022-09-12T15:40:28.675691Z",
     "iopub.status.busy": "2022-09-12T15:40:28.674691Z",
     "iopub.status.idle": "2022-09-12T15:40:28.687688Z",
     "shell.execute_reply": "2022-09-12T15:40:28.686689Z",
     "shell.execute_reply.started": "2022-09-12T15:40:28.675691Z"
    },
    "tags": []
   },
   "outputs": [],
   "source": [
    "categorical_features_indices = np.where(train_x_after_fe.dtypes != float)[0]"
   ]
  },
  {
   "cell_type": "markdown",
   "id": "29b356c6",
   "metadata": {},
   "source": [
    "## 4. Training model on each target variable"
   ]
  },
  {
   "cell_type": "code",
   "execution_count": 8,
   "id": "ddffc58f",
   "metadata": {
    "collapsed": true,
    "execution": {
     "iopub.execute_input": "2022-09-12T15:40:28.690688Z",
     "iopub.status.busy": "2022-09-12T15:40:28.689689Z",
     "iopub.status.idle": "2022-09-12T15:41:47.830420Z",
     "shell.execute_reply": "2022-09-12T15:41:47.829413Z",
     "shell.execute_reply.started": "2022-09-12T15:40:28.690688Z"
    },
    "jupyter": {
     "outputs_hidden": true
    },
    "tags": []
   },
   "outputs": [
    {
     "name": "stdout",
     "output_type": "stream",
     "text": [
      "\n",
      "bestTest = 0.7432550606\n",
      "bestIteration = 52\n",
      "\n",
      "0:\tloss: 0.7432551\tbest: 0.7432551 (0)\ttotal: 363ms\tremaining: 3.27s\n",
      "\n",
      "bestTest = 0.7456749243\n",
      "bestIteration = 78\n",
      "\n",
      "1:\tloss: 0.7456749\tbest: 0.7432551 (0)\ttotal: 556ms\tremaining: 2.22s\n",
      "\n",
      "bestTest = 0.7485511858\n",
      "bestIteration = 89\n",
      "\n",
      "2:\tloss: 0.7485512\tbest: 0.7432551 (0)\ttotal: 1.76s\tremaining: 4.12s\n",
      "\n",
      "bestTest = 0.7385212813\n",
      "bestIteration = 72\n",
      "\n",
      "3:\tloss: 0.7385213\tbest: 0.7385213 (3)\ttotal: 2.31s\tremaining: 3.46s\n",
      "\n",
      "bestTest = 0.7475849396\n",
      "bestIteration = 80\n",
      "\n",
      "4:\tloss: 0.7475849\tbest: 0.7385213 (3)\ttotal: 3.22s\tremaining: 3.22s\n",
      "\n",
      "bestTest = 0.7409289743\n",
      "bestIteration = 115\n",
      "\n",
      "5:\tloss: 0.7409290\tbest: 0.7385213 (3)\ttotal: 4.37s\tremaining: 2.91s\n",
      "\n",
      "bestTest = 0.7393812839\n",
      "bestIteration = 55\n",
      "\n",
      "6:\tloss: 0.7393813\tbest: 0.7385213 (3)\ttotal: 5.28s\tremaining: 2.26s\n",
      "\n",
      "bestTest = 0.7381470347\n",
      "bestIteration = 77\n",
      "\n",
      "7:\tloss: 0.7381470\tbest: 0.7381470 (7)\ttotal: 6.34s\tremaining: 1.58s\n",
      "\n",
      "bestTest = 0.7396507095\n",
      "bestIteration = 17\n",
      "\n",
      "8:\tloss: 0.7396507\tbest: 0.7381470 (7)\ttotal: 7.56s\tremaining: 840ms\n",
      "\n",
      "bestTest = 0.7443175751\n",
      "bestIteration = 69\n",
      "\n",
      "9:\tloss: 0.7443176\tbest: 0.7381470 (7)\ttotal: 8.64s\tremaining: 0us\n",
      "Estimating final quality...\n",
      "Training on fold [0/3]\n",
      "\n",
      "bestTest = 0.6137038389\n",
      "bestIteration = 79\n",
      "\n",
      "Training on fold [1/3]\n",
      "\n",
      "bestTest = 0.6353597345\n",
      "bestIteration = 79\n",
      "\n",
      "Training on fold [2/3]\n",
      "\n",
      "bestTest = 0.731844894\n",
      "bestIteration = 79\n",
      "\n",
      "\n",
      "bestTest = 0.4141407298\n",
      "bestIteration = 31\n",
      "\n",
      "0:\tloss: 0.4141407\tbest: 0.4141407 (0)\ttotal: 149ms\tremaining: 1.34s\n",
      "\n",
      "bestTest = 0.4406757423\n",
      "bestIteration = 77\n",
      "\n",
      "1:\tloss: 0.4406757\tbest: 0.4141407 (0)\ttotal: 301ms\tremaining: 1.2s\n",
      "\n",
      "bestTest = 0.4226912131\n",
      "bestIteration = 89\n",
      "\n",
      "2:\tloss: 0.4226912\tbest: 0.4141407 (0)\ttotal: 1.41s\tremaining: 3.29s\n",
      "\n",
      "bestTest = 0.4194531433\n",
      "bestIteration = 72\n",
      "\n",
      "3:\tloss: 0.4194531\tbest: 0.4141407 (0)\ttotal: 1.94s\tremaining: 2.91s\n",
      "\n",
      "bestTest = 0.4215709448\n",
      "bestIteration = 98\n",
      "\n",
      "4:\tloss: 0.4215709\tbest: 0.4141407 (0)\ttotal: 2.94s\tremaining: 2.94s\n",
      "\n",
      "bestTest = 0.4257689067\n",
      "bestIteration = 119\n",
      "\n",
      "5:\tloss: 0.4257689\tbest: 0.4141407 (0)\ttotal: 4.16s\tremaining: 2.77s\n",
      "\n",
      "bestTest = 0.4178122142\n",
      "bestIteration = 69\n",
      "\n",
      "6:\tloss: 0.4178122\tbest: 0.4141407 (0)\ttotal: 5.16s\tremaining: 2.21s\n",
      "\n",
      "bestTest = 0.422317468\n",
      "bestIteration = 79\n",
      "\n",
      "7:\tloss: 0.4223175\tbest: 0.4141407 (0)\ttotal: 6.32s\tremaining: 1.58s\n",
      "\n",
      "bestTest = 0.4207936036\n",
      "bestIteration = 35\n",
      "\n",
      "8:\tloss: 0.4207936\tbest: 0.4141407 (0)\ttotal: 7.85s\tremaining: 872ms\n",
      "\n",
      "bestTest = 0.4251169127\n",
      "bestIteration = 69\n",
      "\n",
      "9:\tloss: 0.4251169\tbest: 0.4141407 (0)\ttotal: 9.03s\tremaining: 0us\n",
      "Estimating final quality...\n",
      "Training on fold [0/3]\n",
      "\n",
      "bestTest = 0.4961936886\n",
      "bestIteration = 57\n",
      "\n",
      "Training on fold [1/3]\n",
      "\n",
      "bestTest = 0.5783137715\n",
      "bestIteration = 23\n",
      "\n",
      "Training on fold [2/3]\n",
      "\n",
      "bestTest = 0.4669788802\n",
      "bestIteration = 59\n",
      "\n",
      "\n",
      "bestTest = 0.6455340848\n",
      "bestIteration = 58\n",
      "\n",
      "0:\tloss: 0.6455341\tbest: 0.6455341 (0)\ttotal: 161ms\tremaining: 1.45s\n",
      "\n",
      "bestTest = 0.6640546774\n",
      "bestIteration = 79\n",
      "\n",
      "1:\tloss: 0.6640547\tbest: 0.6455341 (0)\ttotal: 302ms\tremaining: 1.21s\n",
      "\n",
      "bestTest = 0.6283014664\n",
      "bestIteration = 82\n",
      "\n",
      "2:\tloss: 0.6283015\tbest: 0.6283015 (2)\ttotal: 1.43s\tremaining: 3.33s\n",
      "\n",
      "bestTest = 0.6320300065\n",
      "bestIteration = 72\n",
      "\n",
      "3:\tloss: 0.6320300\tbest: 0.6283015 (2)\ttotal: 1.93s\tremaining: 2.89s\n",
      "\n",
      "bestTest = 0.6334565066\n",
      "bestIteration = 89\n",
      "\n",
      "4:\tloss: 0.6334565\tbest: 0.6283015 (2)\ttotal: 2.9s\tremaining: 2.9s\n",
      "\n",
      "bestTest = 0.6199395557\n",
      "bestIteration = 107\n",
      "\n",
      "5:\tloss: 0.6199396\tbest: 0.6199396 (5)\ttotal: 4.1s\tremaining: 2.74s\n",
      "\n",
      "bestTest = 0.6383102703\n",
      "bestIteration = 66\n",
      "\n",
      "6:\tloss: 0.6383103\tbest: 0.6199396 (5)\ttotal: 5.09s\tremaining: 2.18s\n",
      "\n",
      "bestTest = 0.6386874182\n",
      "bestIteration = 74\n",
      "\n",
      "7:\tloss: 0.6386874\tbest: 0.6199396 (5)\ttotal: 6.19s\tremaining: 1.55s\n",
      "\n",
      "bestTest = 0.6171506462\n",
      "bestIteration = 20\n",
      "\n",
      "8:\tloss: 0.6171506\tbest: 0.6171506 (8)\ttotal: 7.57s\tremaining: 841ms\n",
      "\n",
      "bestTest = 0.6375809318\n",
      "bestIteration = 68\n",
      "\n",
      "9:\tloss: 0.6375809\tbest: 0.6171506 (8)\ttotal: 8.7s\tremaining: 0us\n",
      "Estimating final quality...\n",
      "Training on fold [0/3]\n",
      "\n",
      "bestTest = 0.6638300258\n",
      "bestIteration = 11\n",
      "\n",
      "Training on fold [1/3]\n",
      "\n",
      "bestTest = 0.6060707416\n",
      "bestIteration = 18\n",
      "\n",
      "Training on fold [2/3]\n",
      "\n",
      "bestTest = 0.6081683819\n",
      "bestIteration = 16\n",
      "\n",
      "\n",
      "bestTest = 0.5371546202\n",
      "bestIteration = 54\n",
      "\n",
      "0:\tloss: 0.5371546\tbest: 0.5371546 (0)\ttotal: 161ms\tremaining: 1.45s\n",
      "\n",
      "bestTest = 0.5461259954\n",
      "bestIteration = 77\n",
      "\n",
      "1:\tloss: 0.5461260\tbest: 0.5371546 (0)\ttotal: 312ms\tremaining: 1.25s\n",
      "\n",
      "bestTest = 0.5372890793\n",
      "bestIteration = 89\n",
      "\n",
      "2:\tloss: 0.5372891\tbest: 0.5371546 (0)\ttotal: 1.41s\tremaining: 3.29s\n",
      "\n",
      "bestTest = 0.5304615431\n",
      "bestIteration = 61\n",
      "\n",
      "3:\tloss: 0.5304615\tbest: 0.5304615 (3)\ttotal: 1.93s\tremaining: 2.9s\n",
      "\n",
      "bestTest = 0.5272960835\n",
      "bestIteration = 86\n",
      "\n",
      "4:\tloss: 0.5272961\tbest: 0.5272961 (4)\ttotal: 3.2s\tremaining: 3.2s\n",
      "\n",
      "bestTest = 0.5266482803\n",
      "bestIteration = 119\n",
      "\n",
      "5:\tloss: 0.5266483\tbest: 0.5266483 (5)\ttotal: 4.52s\tremaining: 3.01s\n",
      "\n",
      "bestTest = 0.5274829426\n",
      "bestIteration = 69\n",
      "\n",
      "6:\tloss: 0.5274829\tbest: 0.5266483 (5)\ttotal: 5.53s\tremaining: 2.37s\n",
      "\n",
      "bestTest = 0.5255156846\n",
      "bestIteration = 79\n",
      "\n",
      "7:\tloss: 0.5255157\tbest: 0.5255157 (7)\ttotal: 6.81s\tremaining: 1.7s\n",
      "\n",
      "bestTest = 0.5250726625\n",
      "bestIteration = 22\n",
      "\n",
      "8:\tloss: 0.5250727\tbest: 0.5250727 (8)\ttotal: 8.57s\tremaining: 953ms\n",
      "\n",
      "bestTest = 0.5229960012\n",
      "bestIteration = 64\n",
      "\n",
      "9:\tloss: 0.5229960\tbest: 0.5229960 (9)\ttotal: 9.94s\tremaining: 0us\n",
      "Estimating final quality...\n",
      "Training on fold [0/3]\n",
      "\n",
      "bestTest = 0.6128434161\n",
      "bestIteration = 49\n",
      "\n",
      "Training on fold [1/3]\n",
      "\n",
      "bestTest = 0.6551727827\n",
      "bestIteration = 56\n",
      "\n",
      "Training on fold [2/3]\n",
      "\n",
      "bestTest = 0.5841661439\n",
      "bestIteration = 69\n",
      "\n",
      "\n",
      "bestTest = 0.6577423173\n",
      "bestIteration = 53\n",
      "\n",
      "0:\tloss: 0.6577423\tbest: 0.6577423 (0)\ttotal: 235ms\tremaining: 2.12s\n",
      "\n",
      "bestTest = 0.6495706642\n",
      "bestIteration = 70\n",
      "\n",
      "1:\tloss: 0.6495707\tbest: 0.6495707 (1)\ttotal: 424ms\tremaining: 1.69s\n",
      "\n",
      "bestTest = 0.6534364825\n",
      "bestIteration = 86\n",
      "\n",
      "2:\tloss: 0.6534365\tbest: 0.6495707 (1)\ttotal: 1.53s\tremaining: 3.56s\n",
      "\n",
      "bestTest = 0.6530159767\n",
      "bestIteration = 64\n",
      "\n",
      "3:\tloss: 0.6530160\tbest: 0.6495707 (1)\ttotal: 2.03s\tremaining: 3.04s\n",
      "\n",
      "bestTest = 0.6560047961\n",
      "bestIteration = 67\n",
      "\n",
      "4:\tloss: 0.6560048\tbest: 0.6495707 (1)\ttotal: 3.06s\tremaining: 3.06s\n",
      "\n",
      "bestTest = 0.6485509373\n",
      "bestIteration = 111\n",
      "\n",
      "5:\tloss: 0.6485509\tbest: 0.6485509 (5)\ttotal: 4.26s\tremaining: 2.84s\n",
      "\n",
      "bestTest = 0.6502346495\n",
      "bestIteration = 66\n",
      "\n",
      "6:\tloss: 0.6502346\tbest: 0.6485509 (5)\ttotal: 5.28s\tremaining: 2.26s\n",
      "\n",
      "bestTest = 0.6494799593\n",
      "bestIteration = 74\n",
      "\n",
      "7:\tloss: 0.6494800\tbest: 0.6485509 (5)\ttotal: 6.44s\tremaining: 1.61s\n",
      "\n",
      "bestTest = 0.6534963451\n",
      "bestIteration = 14\n",
      "\n",
      "8:\tloss: 0.6534963\tbest: 0.6485509 (5)\ttotal: 8.01s\tremaining: 890ms\n",
      "\n",
      "bestTest = 0.6468808104\n",
      "bestIteration = 69\n",
      "\n",
      "9:\tloss: 0.6468808\tbest: 0.6468808 (9)\ttotal: 9.31s\tremaining: 0us\n",
      "Estimating final quality...\n",
      "Training on fold [0/3]\n",
      "\n",
      "bestTest = 0.7297875737\n",
      "bestIteration = 69\n",
      "\n",
      "Training on fold [1/3]\n",
      "\n",
      "bestTest = 0.7110332871\n",
      "bestIteration = 53\n",
      "\n",
      "Training on fold [2/3]\n",
      "\n",
      "bestTest = 0.6340858145\n",
      "bestIteration = 69\n",
      "\n",
      "\n",
      "bestTest = 0.7323784025\n",
      "bestIteration = 59\n",
      "\n",
      "0:\tloss: 0.7323784\tbest: 0.7323784 (0)\ttotal: 157ms\tremaining: 1.41s\n",
      "\n",
      "bestTest = 0.749544811\n",
      "bestIteration = 79\n",
      "\n",
      "1:\tloss: 0.7495448\tbest: 0.7323784 (0)\ttotal: 306ms\tremaining: 1.22s\n",
      "\n",
      "bestTest = 0.734214615\n",
      "bestIteration = 88\n",
      "\n",
      "2:\tloss: 0.7342146\tbest: 0.7323784 (0)\ttotal: 1.42s\tremaining: 3.31s\n",
      "\n",
      "bestTest = 0.7240834765\n",
      "bestIteration = 72\n",
      "\n",
      "3:\tloss: 0.7240835\tbest: 0.7240835 (3)\ttotal: 1.91s\tremaining: 2.87s\n",
      "\n",
      "bestTest = 0.7383187836\n",
      "bestIteration = 77\n",
      "\n",
      "4:\tloss: 0.7383188\tbest: 0.7240835 (3)\ttotal: 2.87s\tremaining: 2.87s\n",
      "\n",
      "bestTest = 0.7345988101\n",
      "bestIteration = 119\n",
      "\n",
      "5:\tloss: 0.7345988\tbest: 0.7240835 (3)\ttotal: 4.06s\tremaining: 2.71s\n",
      "\n",
      "bestTest = 0.7278692721\n",
      "bestIteration = 69\n",
      "\n",
      "6:\tloss: 0.7278693\tbest: 0.7240835 (3)\ttotal: 5.08s\tremaining: 2.18s\n",
      "\n",
      "bestTest = 0.7352817449\n",
      "bestIteration = 74\n",
      "\n",
      "7:\tloss: 0.7352817\tbest: 0.7240835 (3)\ttotal: 6.21s\tremaining: 1.55s\n",
      "\n",
      "bestTest = 0.7385826566\n",
      "bestIteration = 27\n",
      "\n",
      "8:\tloss: 0.7385827\tbest: 0.7240835 (3)\ttotal: 7.54s\tremaining: 838ms\n",
      "\n",
      "bestTest = 0.7464911254\n",
      "bestIteration = 69\n",
      "\n",
      "9:\tloss: 0.7464911\tbest: 0.7240835 (3)\ttotal: 8.66s\tremaining: 0us\n",
      "Estimating final quality...\n",
      "Training on fold [0/3]\n",
      "\n",
      "bestTest = 0.6743096464\n",
      "bestIteration = 23\n",
      "\n",
      "Training on fold [1/3]\n",
      "\n",
      "bestTest = 0.7867031874\n",
      "bestIteration = 63\n",
      "\n",
      "Training on fold [2/3]\n",
      "\n",
      "bestTest = 0.7401949563\n",
      "bestIteration = 89\n",
      "\n"
     ]
    }
   ],
   "source": [
    "model_dic = {}\n",
    "for col_y in train_y_after_fe.columns:\n",
    "\n",
    "    params = {\n",
    "        'loss_function': 'RMSE',\n",
    "        'random_seed': random_state,\n",
    "        'early_stopping_rounds':100,\n",
    "        'task_type': 'CPU',\n",
    "        'verbose':False,\n",
    "        'has_time':True,\n",
    "    }\n",
    "    model = CatBoostRegressor(**params)\n",
    "\n",
    "    grid = {\n",
    "        'learning_rate': [0.05, 0.07, 0.09, 0.3],\n",
    "        'iterations': [50, 60, 70, 80, 90, 100, 120, ],\n",
    "        'depth': [3, 4, 5, 6, 7],\n",
    "        'l2_leaf_reg': [1, 3, 5, 7, 9],\n",
    "        'grow_policy': ['SymmetricTree', 'Depthwise', 'Lossguide']\n",
    "    }\n",
    "    randomized_search_result = model.randomized_search(\n",
    "        grid,\n",
    "        X=train_x_after_fe,\n",
    "        y=train_y_after_fe[col_y],\n",
    "        cv=3,\n",
    "        plot=False\n",
    "    )\n",
    "    \n",
    "    model_dic[col_y] = {'model': model, 'randomized_search_result': randomized_search_result}"
   ]
  },
  {
   "cell_type": "code",
   "execution_count": 9,
   "id": "b4ae16c4",
   "metadata": {
    "execution": {
     "iopub.execute_input": "2022-09-12T15:41:47.833417Z",
     "iopub.status.busy": "2022-09-12T15:41:47.832417Z",
     "iopub.status.idle": "2022-09-12T15:41:47.847415Z",
     "shell.execute_reply": "2022-09-12T15:41:47.845415Z",
     "shell.execute_reply.started": "2022-09-12T15:41:47.833417Z"
    }
   },
   "outputs": [],
   "source": [
    "# model_dic[col_y]['model'].predict(train_x_after_fe)"
   ]
  },
  {
   "cell_type": "code",
   "execution_count": 10,
   "id": "e081edd8",
   "metadata": {
    "execution": {
     "iopub.execute_input": "2022-09-12T15:41:47.851415Z",
     "iopub.status.busy": "2022-09-12T15:41:47.850414Z",
     "iopub.status.idle": "2022-09-12T15:41:47.861414Z",
     "shell.execute_reply": "2022-09-12T15:41:47.860414Z",
     "shell.execute_reply.started": "2022-09-12T15:41:47.851415Z"
    }
   },
   "outputs": [],
   "source": [
    "# model_dic[col_y]['randomized_search_result']['params']"
   ]
  },
  {
   "cell_type": "code",
   "execution_count": 11,
   "id": "1bc246de",
   "metadata": {
    "execution": {
     "iopub.execute_input": "2022-09-12T15:41:47.863415Z",
     "iopub.status.busy": "2022-09-12T15:41:47.863415Z",
     "iopub.status.idle": "2022-09-12T15:41:47.878412Z",
     "shell.execute_reply": "2022-09-12T15:41:47.876411Z",
     "shell.execute_reply.started": "2022-09-12T15:41:47.863415Z"
    }
   },
   "outputs": [],
   "source": [
    "# model_dic[col_y]['randomized_search_result']['cv_results']['test-RMSE-mean']"
   ]
  },
  {
   "cell_type": "code",
   "execution_count": 12,
   "id": "d012efe5",
   "metadata": {
    "execution": {
     "iopub.execute_input": "2022-09-12T15:41:47.888417Z",
     "iopub.status.busy": "2022-09-12T15:41:47.886410Z",
     "iopub.status.idle": "2022-09-12T15:41:47.909404Z",
     "shell.execute_reply": "2022-09-12T15:41:47.908426Z",
     "shell.execute_reply.started": "2022-09-12T15:41:47.888417Z"
    }
   },
   "outputs": [],
   "source": [
    "def rmse_score(predictions, targets):\n",
    "    return np.sqrt(np.mean((predictions-targets)**2,  axis=0))"
   ]
  },
  {
   "cell_type": "code",
   "execution_count": 13,
   "id": "6a7f8e87",
   "metadata": {
    "execution": {
     "iopub.execute_input": "2022-09-12T15:41:47.912404Z",
     "iopub.status.busy": "2022-09-12T15:41:47.911405Z",
     "iopub.status.idle": "2022-09-12T15:41:48.001245Z",
     "shell.execute_reply": "2022-09-12T15:41:48.000247Z",
     "shell.execute_reply.started": "2022-09-12T15:41:47.912404Z"
    }
   },
   "outputs": [],
   "source": [
    "array_li= [model_dic[col_y]['model'].predict(train_x_after_fe).reshape(-1,1) for col_y in train_y_after_fe.columns]\n",
    "all_res = np.concatenate(array_li, axis=1)"
   ]
  },
  {
   "cell_type": "code",
   "execution_count": 14,
   "id": "20d674d2",
   "metadata": {
    "execution": {
     "iopub.execute_input": "2022-09-12T15:41:48.006246Z",
     "iopub.status.busy": "2022-09-12T15:41:48.004245Z",
     "iopub.status.idle": "2022-09-12T15:41:48.033241Z",
     "shell.execute_reply": "2022-09-12T15:41:48.032239Z",
     "shell.execute_reply.started": "2022-09-12T15:41:48.006246Z"
    }
   },
   "outputs": [],
   "source": [
    "with open(f'../Model/standard_scaler_y.pickle', 'rb') as f:\n",
    "    scaler_y = pickle.load(f)"
   ]
  },
  {
   "cell_type": "markdown",
   "id": "67bd6625-6774-401c-961b-fde8018a2394",
   "metadata": {},
   "source": [
    "### Use ground true to evaluate RMSE"
   ]
  },
  {
   "cell_type": "code",
   "execution_count": 15,
   "id": "4b652a2c-51f2-4f48-978f-c3a1df9e1ab8",
   "metadata": {
    "execution": {
     "iopub.execute_input": "2022-09-12T15:41:48.035241Z",
     "iopub.status.busy": "2022-09-12T15:41:48.035241Z",
     "iopub.status.idle": "2022-09-12T15:41:50.145575Z",
     "shell.execute_reply": "2022-09-12T15:41:50.144575Z",
     "shell.execute_reply.started": "2022-09-12T15:41:48.035241Z"
    },
    "tags": []
   },
   "outputs": [],
   "source": [
    "with open(f'../Data/meta/ground_true_train_y_after_feature_engineering.pickle', 'rb') as f:\n",
    "    ground_true_train_y = pickle.load(f)"
   ]
  },
  {
   "cell_type": "code",
   "execution_count": null,
   "id": "fafa08d0",
   "metadata": {
    "tags": []
   },
   "outputs": [],
   "source": [
    "predictions = scaler_y.inverse_transform(all_res)\n",
    "targets = ground_true_train_y\n",
    "print(rmse_score(predictions, targets))"
   ]
  },
  {
   "cell_type": "code",
   "execution_count": null,
   "id": "d9059fc3",
   "metadata": {
    "execution": {
     "iopub.status.busy": "2022-09-12T15:41:54.069273Z",
     "iopub.status.idle": "2022-09-12T15:41:54.070278Z",
     "shell.execute_reply": "2022-09-12T15:41:54.070278Z",
     "shell.execute_reply.started": "2022-09-12T15:41:54.070278Z"
    }
   },
   "outputs": [],
   "source": [
    "time = current_time()\n",
    "for col_y in train_y_after_fe.columns:\n",
    "    with open(f'../Model/catboost_{col_y}_{time}.pickle', 'wb' ) as f:\n",
    "        pickle.dump(model_dic[col_y]['model'], f)"
   ]
  },
  {
   "cell_type": "markdown",
   "id": "1cf5fcfc",
   "metadata": {},
   "source": [
    "## 5. Catboost for Muti-Output "
   ]
  },
  {
   "cell_type": "code",
   "execution_count": null,
   "id": "7422e684",
   "metadata": {
    "execution": {
     "iopub.status.busy": "2022-09-12T15:41:54.073273Z",
     "iopub.status.idle": "2022-09-12T15:41:54.074272Z",
     "shell.execute_reply": "2022-09-12T15:41:54.073273Z",
     "shell.execute_reply.started": "2022-09-12T15:41:54.073273Z"
    }
   },
   "outputs": [],
   "source": [
    "params = {\n",
    "    'loss_function': 'MultiRMSE',\n",
    "    'random_seed': random_state,\n",
    "    'early_stopping_rounds':100,\n",
    "    'task_type': 'CPU',\n",
    "    'verbose':False,\n",
    "    'has_time':True,\n",
    "}\n",
    "model = CatBoostRegressor(**params)\n",
    "\n",
    "grid = {\n",
    "    'learning_rate': [0.05, 0.07, 0.09, 0.3],\n",
    "    'iterations': [50, 60, 70, 80, 90, 100],\n",
    "    'depth': [3, 4, 5, 6, 7],\n",
    "    'l2_leaf_reg': [1, 3, 5, 7, 9],\n",
    "    'grow_policy': ['SymmetricTree', 'Depthwise', 'Lossguide']\n",
    "}\n",
    "\n",
    "randomized_search_result = model.randomized_search(\n",
    "    grid,\n",
    "    X=train_x_after_fe,\n",
    "    y=train_y_after_fe,\n",
    "    cv=3,\n",
    "    plot=False\n",
    ")\n",
    "model_muti_output_dic = {'model': model, 'randomized_search_result': randomized_search_result}"
   ]
  },
  {
   "cell_type": "code",
   "execution_count": null,
   "id": "7b8cfa91",
   "metadata": {
    "execution": {
     "iopub.status.busy": "2022-09-12T15:41:54.076271Z",
     "iopub.status.idle": "2022-09-12T15:41:54.076271Z",
     "shell.execute_reply": "2022-09-12T15:41:54.076271Z",
     "shell.execute_reply.started": "2022-09-12T15:41:54.076271Z"
    }
   },
   "outputs": [],
   "source": [
    "predictions = scaler_y.inverse_transform( model_muti_output_dic['model'].predict(train_x_after_fe) )\n",
    "targets = ground_true_train_y\n",
    "print(rmse_score(predictions, targets))"
   ]
  },
  {
   "cell_type": "code",
   "execution_count": null,
   "id": "bbaf95fa",
   "metadata": {},
   "outputs": [],
   "source": []
  },
  {
   "cell_type": "code",
   "execution_count": null,
   "id": "268e43a6",
   "metadata": {},
   "outputs": [],
   "source": []
  },
  {
   "cell_type": "code",
   "execution_count": null,
   "id": "ffef0627",
   "metadata": {},
   "outputs": [],
   "source": []
  },
  {
   "cell_type": "code",
   "execution_count": null,
   "id": "741bb1a0",
   "metadata": {},
   "outputs": [],
   "source": []
  },
  {
   "cell_type": "code",
   "execution_count": null,
   "id": "3dfb1a32",
   "metadata": {},
   "outputs": [],
   "source": []
  },
  {
   "cell_type": "code",
   "execution_count": null,
   "id": "33cac26b",
   "metadata": {},
   "outputs": [],
   "source": []
  },
  {
   "cell_type": "code",
   "execution_count": null,
   "id": "8e7813db",
   "metadata": {},
   "outputs": [],
   "source": []
  },
  {
   "cell_type": "code",
   "execution_count": null,
   "id": "da883f35",
   "metadata": {},
   "outputs": [],
   "source": []
  },
  {
   "cell_type": "code",
   "execution_count": null,
   "id": "04b813be",
   "metadata": {
    "execution": {
     "iopub.status.busy": "2022-09-12T15:41:54.079271Z",
     "iopub.status.idle": "2022-09-12T15:41:54.080274Z",
     "shell.execute_reply": "2022-09-12T15:41:54.080274Z",
     "shell.execute_reply.started": "2022-09-12T15:41:54.080274Z"
    },
    "tags": []
   },
   "outputs": [],
   "source": [
    "# from sklearn.multioutput import MultiOutputRegressor\n",
    "# from sklearn.model_selection import RepeatedKFold\n",
    "# from sklearn.model_selection import cross_val_score"
   ]
  },
  {
   "cell_type": "code",
   "execution_count": null,
   "id": "b5e3b13f",
   "metadata": {
    "execution": {
     "iopub.status.busy": "2022-09-12T15:41:54.082270Z",
     "iopub.status.idle": "2022-09-12T15:41:54.083273Z",
     "shell.execute_reply": "2022-09-12T15:41:54.083273Z",
     "shell.execute_reply.started": "2022-09-12T15:41:54.083273Z"
    },
    "tags": []
   },
   "outputs": [],
   "source": [
    "# params = {\n",
    "#     'loss_function': 'MultiRMSE',\n",
    "#     'iterations': 150,\n",
    "#     'random_seed': random_state,\n",
    "#     'learning_rate': 0.5,\n",
    "#     # 'use_best_model': True\n",
    "# }\n",
    "\n",
    "# cv_data = cv(\n",
    "#     params = params,\n",
    "#     pool = Pool(train_x, label=train_y, cat_features=categorical_features_indices),\n",
    "#     fold_count=5,\n",
    "#     type = 'Classical',  # The method to split the dataset into folds.\n",
    "#     shuffle=True,\n",
    "#     partition_random_seed=random_state,\n",
    "#     plot=True,\n",
    "#     stratified=False,\n",
    "#     verbose=False\n",
    "# )"
   ]
  },
  {
   "cell_type": "code",
   "execution_count": null,
   "id": "d0bf538f",
   "metadata": {
    "execution": {
     "iopub.status.busy": "2022-09-12T15:41:54.086270Z",
     "iopub.status.idle": "2022-09-12T15:41:54.087270Z",
     "shell.execute_reply": "2022-09-12T15:41:54.087270Z",
     "shell.execute_reply.started": "2022-09-12T15:41:54.087270Z"
    },
    "tags": []
   },
   "outputs": [],
   "source": [
    "# best_value = np.argmin(cv_data['test-MultiRMSE-mean'])\n",
    "# best_iter = np.argmin(cv_data['test-MultiRMSE-mean'])\n",
    "\n",
    "# print('Best validation MultiRMSE score: {:.4f}±{:.4f} on step {}'.format(\n",
    "#     best_value,\n",
    "#     cv_data['test-MultiRMSE-std'][best_iter],\n",
    "#     best_iter)\n",
    "# )"
   ]
  },
  {
   "cell_type": "code",
   "execution_count": null,
   "id": "f45541c0",
   "metadata": {
    "execution": {
     "iopub.status.busy": "2022-09-12T15:41:54.089272Z",
     "iopub.status.idle": "2022-09-12T15:41:54.090271Z",
     "shell.execute_reply": "2022-09-12T15:41:54.089272Z",
     "shell.execute_reply.started": "2022-09-12T15:41:54.089272Z"
    },
    "tags": []
   },
   "outputs": [],
   "source": [
    "# params['iterations'] = best_iter"
   ]
  },
  {
   "cell_type": "code",
   "execution_count": null,
   "id": "285a4763",
   "metadata": {
    "execution": {
     "iopub.status.busy": "2022-09-12T15:41:54.092269Z",
     "iopub.status.idle": "2022-09-12T15:41:54.093272Z",
     "shell.execute_reply": "2022-09-12T15:41:54.092269Z",
     "shell.execute_reply.started": "2022-09-12T15:41:54.092269Z"
    }
   },
   "outputs": [],
   "source": [
    "# model = CatBoostRegressor(\n",
    "#     **params,\n",
    "#     eval_metric='MultiRMSE',\n",
    "#     verbose=False\n",
    "# )\n",
    "\n",
    "# model.fit(\n",
    "#     train_x, train_y,\n",
    "#     cat_features=categorical_features_indices,\n",
    "#     eval_set=(val_x, val_y),\n",
    "#     # logging_level='Verbose',\n",
    "#     plot=False\n",
    "# )"
   ]
  },
  {
   "cell_type": "code",
   "execution_count": null,
   "id": "feae0717",
   "metadata": {
    "execution": {
     "iopub.status.busy": "2022-09-12T15:41:54.096269Z",
     "iopub.status.idle": "2022-09-12T15:41:54.097268Z",
     "shell.execute_reply": "2022-09-12T15:41:54.096269Z",
     "shell.execute_reply.started": "2022-09-12T15:41:54.096269Z"
    },
    "tags": []
   },
   "outputs": [],
   "source": [
    "# model.get_evals_result()"
   ]
  },
  {
   "cell_type": "code",
   "execution_count": null,
   "id": "f018b599",
   "metadata": {
    "execution": {
     "iopub.status.busy": "2022-09-12T15:41:54.099267Z",
     "iopub.status.idle": "2022-09-12T15:41:54.100269Z",
     "shell.execute_reply": "2022-09-12T15:41:54.100269Z",
     "shell.execute_reply.started": "2022-09-12T15:41:54.100269Z"
    },
    "tags": []
   },
   "outputs": [],
   "source": [
    "# predict_y = model.predict(val_x)"
   ]
  },
  {
   "cell_type": "code",
   "execution_count": null,
   "id": "916b2fc9",
   "metadata": {
    "execution": {
     "iopub.status.busy": "2022-09-12T15:41:54.103270Z",
     "iopub.status.idle": "2022-09-12T15:41:54.104270Z",
     "shell.execute_reply": "2022-09-12T15:41:54.104270Z",
     "shell.execute_reply.started": "2022-09-12T15:41:54.104270Z"
    },
    "tags": []
   },
   "outputs": [],
   "source": [
    "# def rmse_score(predictions, targets):\n",
    "#     return np.sqrt(np.mean((predictions-targets)**2, axis=0))"
   ]
  },
  {
   "cell_type": "code",
   "execution_count": null,
   "id": "23efbaa9",
   "metadata": {
    "execution": {
     "iopub.status.busy": "2022-09-12T15:41:54.106267Z",
     "iopub.status.idle": "2022-09-12T15:41:54.107268Z",
     "shell.execute_reply": "2022-09-12T15:41:54.107268Z",
     "shell.execute_reply.started": "2022-09-12T15:41:54.107268Z"
    },
    "tags": []
   },
   "outputs": [],
   "source": [
    "# rmse_score(predict_y, val_y)"
   ]
  }
 ],
 "metadata": {
  "kernelspec": {
   "display_name": "Python 3 (ipykernel)",
   "language": "python",
   "name": "python3"
  },
  "language_info": {
   "codemirror_mode": {
    "name": "ipython",
    "version": 3
   },
   "file_extension": ".py",
   "mimetype": "text/x-python",
   "name": "python",
   "nbconvert_exporter": "python",
   "pygments_lexer": "ipython3",
   "version": "3.9.12"
  }
 },
 "nbformat": 4,
 "nbformat_minor": 5
}
