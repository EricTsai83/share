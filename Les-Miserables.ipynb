{
 "cells": [
  {
   "cell_type": "code",
   "execution_count": 1,
   "id": "1f0c1e59-86c6-4d16-8d1b-28a784c4a674",
   "metadata": {
    "execution": {
     "iopub.execute_input": "2022-03-06T15:14:24.636016Z",
     "iopub.status.busy": "2022-03-06T15:14:24.636016Z",
     "iopub.status.idle": "2022-03-06T15:14:25.039460Z",
     "shell.execute_reply": "2022-03-06T15:14:25.038457Z",
     "shell.execute_reply.started": "2022-03-06T15:14:24.636016Z"
    },
    "tags": []
   },
   "outputs": [],
   "source": [
    "import igraph as ig\n",
    "import urllib.request, json\n",
    "# from chart_studio import plotly as py\n",
    "import plotly\n",
    "import plotly.graph_objs as go\n",
    "# from plotly.offline import iplot\n"
   ]
  },
  {
   "cell_type": "code",
   "execution_count": 2,
   "id": "b5f6bd6f-a25e-4156-949b-285506679e27",
   "metadata": {
    "execution": {
     "iopub.execute_input": "2022-03-06T15:14:25.041465Z",
     "iopub.status.busy": "2022-03-06T15:14:25.040461Z",
     "iopub.status.idle": "2022-03-06T15:14:25.689883Z",
     "shell.execute_reply": "2022-03-06T15:14:25.688901Z",
     "shell.execute_reply.started": "2022-03-06T15:14:25.041465Z"
    },
    "tags": []
   },
   "outputs": [
    {
     "name": "stdout",
     "output_type": "stream",
     "text": [
      "dict_keys(['nodes', 'links'])\n"
     ]
    }
   ],
   "source": [
    "with urllib.request.urlopen(\"https://raw.githubusercontent.com/plotly/datasets/master/miserables.json\") as url:\n",
    "    data = json.loads(url.read().decode())\n",
    "\n",
    "print(data.keys())"
   ]
  },
  {
   "cell_type": "code",
   "execution_count": 3,
   "id": "d96ad76b-0fcf-4d4d-a7bf-0699b511e436",
   "metadata": {
    "execution": {
     "iopub.execute_input": "2022-03-06T15:14:25.693879Z",
     "iopub.status.busy": "2022-03-06T15:14:25.692880Z",
     "iopub.status.idle": "2022-03-06T15:14:25.771867Z",
     "shell.execute_reply": "2022-03-06T15:14:25.768892Z",
     "shell.execute_reply.started": "2022-03-06T15:14:25.693879Z"
    },
    "tags": []
   },
   "outputs": [
    {
     "data": {
      "text/plain": [
       "{'nodes': [{'name': 'Myriel', 'group': 1},\n",
       "  {'name': 'Napoleon', 'group': 1},\n",
       "  {'name': 'Mlle.Baptistine', 'group': 1},\n",
       "  {'name': 'Mme.Magloire', 'group': 1},\n",
       "  {'name': 'CountessdeLo', 'group': 1},\n",
       "  {'name': 'Geborand', 'group': 1},\n",
       "  {'name': 'Champtercier', 'group': 1},\n",
       "  {'name': 'Cravatte', 'group': 1},\n",
       "  {'name': 'Count', 'group': 1},\n",
       "  {'name': 'OldMan', 'group': 1},\n",
       "  {'name': 'Labarre', 'group': 2},\n",
       "  {'name': 'Valjean', 'group': 2},\n",
       "  {'name': 'Marguerite', 'group': 3},\n",
       "  {'name': 'Mme.deR', 'group': 2},\n",
       "  {'name': 'Isabeau', 'group': 2},\n",
       "  {'name': 'Gervais', 'group': 2},\n",
       "  {'name': 'Tholomyes', 'group': 3},\n",
       "  {'name': 'Listolier', 'group': 3},\n",
       "  {'name': 'Fameuil', 'group': 3},\n",
       "  {'name': 'Blacheville', 'group': 3},\n",
       "  {'name': 'Favourite', 'group': 3},\n",
       "  {'name': 'Dahlia', 'group': 3},\n",
       "  {'name': 'Zephine', 'group': 3},\n",
       "  {'name': 'Fantine', 'group': 3},\n",
       "  {'name': 'Mme.Thenardier', 'group': 4},\n",
       "  {'name': 'Thenardier', 'group': 4},\n",
       "  {'name': 'Cosette', 'group': 5},\n",
       "  {'name': 'Javert', 'group': 4},\n",
       "  {'name': 'Fauchelevent', 'group': 0},\n",
       "  {'name': 'Bamatabois', 'group': 2},\n",
       "  {'name': 'Perpetue', 'group': 3},\n",
       "  {'name': 'Simplice', 'group': 2},\n",
       "  {'name': 'Scaufflaire', 'group': 2},\n",
       "  {'name': 'Woman1', 'group': 2},\n",
       "  {'name': 'Judge', 'group': 2},\n",
       "  {'name': 'Champmathieu', 'group': 2},\n",
       "  {'name': 'Brevet', 'group': 2},\n",
       "  {'name': 'Chenildieu', 'group': 2},\n",
       "  {'name': 'Cochepaille', 'group': 2},\n",
       "  {'name': 'Pontmercy', 'group': 4},\n",
       "  {'name': 'Boulatruelle', 'group': 6},\n",
       "  {'name': 'Eponine', 'group': 4},\n",
       "  {'name': 'Anzelma', 'group': 4},\n",
       "  {'name': 'Woman2', 'group': 5},\n",
       "  {'name': 'MotherInnocent', 'group': 0},\n",
       "  {'name': 'Gribier', 'group': 0},\n",
       "  {'name': 'Jondrette', 'group': 7},\n",
       "  {'name': 'Mme.Burgon', 'group': 7},\n",
       "  {'name': 'Gavroche', 'group': 8},\n",
       "  {'name': 'Gillenormand', 'group': 5},\n",
       "  {'name': 'Magnon', 'group': 5},\n",
       "  {'name': 'Mlle.Gillenormand', 'group': 5},\n",
       "  {'name': 'Mme.Pontmercy', 'group': 5},\n",
       "  {'name': 'Mlle.Vaubois', 'group': 5},\n",
       "  {'name': 'Lt.Gillenormand', 'group': 5},\n",
       "  {'name': 'Marius', 'group': 8},\n",
       "  {'name': 'BaronessT', 'group': 5},\n",
       "  {'name': 'Mabeuf', 'group': 8},\n",
       "  {'name': 'Enjolras', 'group': 8},\n",
       "  {'name': 'Combeferre', 'group': 8},\n",
       "  {'name': 'Prouvaire', 'group': 8},\n",
       "  {'name': 'Feuilly', 'group': 8},\n",
       "  {'name': 'Courfeyrac', 'group': 8},\n",
       "  {'name': 'Bahorel', 'group': 8},\n",
       "  {'name': 'Bossuet', 'group': 8},\n",
       "  {'name': 'Joly', 'group': 8},\n",
       "  {'name': 'Grantaire', 'group': 8},\n",
       "  {'name': 'MotherPlutarch', 'group': 9},\n",
       "  {'name': 'Gueulemer', 'group': 4},\n",
       "  {'name': 'Babet', 'group': 4},\n",
       "  {'name': 'Claquesous', 'group': 4},\n",
       "  {'name': 'Montparnasse', 'group': 4},\n",
       "  {'name': 'Toussaint', 'group': 5},\n",
       "  {'name': 'Child1', 'group': 10},\n",
       "  {'name': 'Child2', 'group': 10},\n",
       "  {'name': 'Brujon', 'group': 4},\n",
       "  {'name': 'Mme.Hucheloup', 'group': 8}],\n",
       " 'links': [{'source': 1, 'target': 0, 'value': 1},\n",
       "  {'source': 2, 'target': 0, 'value': 8},\n",
       "  {'source': 3, 'target': 0, 'value': 10},\n",
       "  {'source': 3, 'target': 2, 'value': 6},\n",
       "  {'source': 4, 'target': 0, 'value': 1},\n",
       "  {'source': 5, 'target': 0, 'value': 1},\n",
       "  {'source': 6, 'target': 0, 'value': 1},\n",
       "  {'source': 7, 'target': 0, 'value': 1},\n",
       "  {'source': 8, 'target': 0, 'value': 2},\n",
       "  {'source': 9, 'target': 0, 'value': 1},\n",
       "  {'source': 11, 'target': 10, 'value': 1},\n",
       "  {'source': 11, 'target': 3, 'value': 3},\n",
       "  {'source': 11, 'target': 2, 'value': 3},\n",
       "  {'source': 11, 'target': 0, 'value': 5},\n",
       "  {'source': 12, 'target': 11, 'value': 1},\n",
       "  {'source': 13, 'target': 11, 'value': 1},\n",
       "  {'source': 14, 'target': 11, 'value': 1},\n",
       "  {'source': 15, 'target': 11, 'value': 1},\n",
       "  {'source': 17, 'target': 16, 'value': 4},\n",
       "  {'source': 18, 'target': 16, 'value': 4},\n",
       "  {'source': 18, 'target': 17, 'value': 4},\n",
       "  {'source': 19, 'target': 16, 'value': 4},\n",
       "  {'source': 19, 'target': 17, 'value': 4},\n",
       "  {'source': 19, 'target': 18, 'value': 4},\n",
       "  {'source': 20, 'target': 16, 'value': 3},\n",
       "  {'source': 20, 'target': 17, 'value': 3},\n",
       "  {'source': 20, 'target': 18, 'value': 3},\n",
       "  {'source': 20, 'target': 19, 'value': 4},\n",
       "  {'source': 21, 'target': 16, 'value': 3},\n",
       "  {'source': 21, 'target': 17, 'value': 3},\n",
       "  {'source': 21, 'target': 18, 'value': 3},\n",
       "  {'source': 21, 'target': 19, 'value': 3},\n",
       "  {'source': 21, 'target': 20, 'value': 5},\n",
       "  {'source': 22, 'target': 16, 'value': 3},\n",
       "  {'source': 22, 'target': 17, 'value': 3},\n",
       "  {'source': 22, 'target': 18, 'value': 3},\n",
       "  {'source': 22, 'target': 19, 'value': 3},\n",
       "  {'source': 22, 'target': 20, 'value': 4},\n",
       "  {'source': 22, 'target': 21, 'value': 4},\n",
       "  {'source': 23, 'target': 16, 'value': 3},\n",
       "  {'source': 23, 'target': 17, 'value': 3},\n",
       "  {'source': 23, 'target': 18, 'value': 3},\n",
       "  {'source': 23, 'target': 19, 'value': 3},\n",
       "  {'source': 23, 'target': 20, 'value': 4},\n",
       "  {'source': 23, 'target': 21, 'value': 4},\n",
       "  {'source': 23, 'target': 22, 'value': 4},\n",
       "  {'source': 23, 'target': 12, 'value': 2},\n",
       "  {'source': 23, 'target': 11, 'value': 9},\n",
       "  {'source': 24, 'target': 23, 'value': 2},\n",
       "  {'source': 24, 'target': 11, 'value': 7},\n",
       "  {'source': 25, 'target': 24, 'value': 13},\n",
       "  {'source': 25, 'target': 23, 'value': 1},\n",
       "  {'source': 25, 'target': 11, 'value': 12},\n",
       "  {'source': 26, 'target': 24, 'value': 4},\n",
       "  {'source': 26, 'target': 11, 'value': 31},\n",
       "  {'source': 26, 'target': 16, 'value': 1},\n",
       "  {'source': 26, 'target': 25, 'value': 1},\n",
       "  {'source': 27, 'target': 11, 'value': 17},\n",
       "  {'source': 27, 'target': 23, 'value': 5},\n",
       "  {'source': 27, 'target': 25, 'value': 5},\n",
       "  {'source': 27, 'target': 24, 'value': 1},\n",
       "  {'source': 27, 'target': 26, 'value': 1},\n",
       "  {'source': 28, 'target': 11, 'value': 8},\n",
       "  {'source': 28, 'target': 27, 'value': 1},\n",
       "  {'source': 29, 'target': 23, 'value': 1},\n",
       "  {'source': 29, 'target': 27, 'value': 1},\n",
       "  {'source': 29, 'target': 11, 'value': 2},\n",
       "  {'source': 30, 'target': 23, 'value': 1},\n",
       "  {'source': 31, 'target': 30, 'value': 2},\n",
       "  {'source': 31, 'target': 11, 'value': 3},\n",
       "  {'source': 31, 'target': 23, 'value': 2},\n",
       "  {'source': 31, 'target': 27, 'value': 1},\n",
       "  {'source': 32, 'target': 11, 'value': 1},\n",
       "  {'source': 33, 'target': 11, 'value': 2},\n",
       "  {'source': 33, 'target': 27, 'value': 1},\n",
       "  {'source': 34, 'target': 11, 'value': 3},\n",
       "  {'source': 34, 'target': 29, 'value': 2},\n",
       "  {'source': 35, 'target': 11, 'value': 3},\n",
       "  {'source': 35, 'target': 34, 'value': 3},\n",
       "  {'source': 35, 'target': 29, 'value': 2},\n",
       "  {'source': 36, 'target': 34, 'value': 2},\n",
       "  {'source': 36, 'target': 35, 'value': 2},\n",
       "  {'source': 36, 'target': 11, 'value': 2},\n",
       "  {'source': 36, 'target': 29, 'value': 1},\n",
       "  {'source': 37, 'target': 34, 'value': 2},\n",
       "  {'source': 37, 'target': 35, 'value': 2},\n",
       "  {'source': 37, 'target': 36, 'value': 2},\n",
       "  {'source': 37, 'target': 11, 'value': 2},\n",
       "  {'source': 37, 'target': 29, 'value': 1},\n",
       "  {'source': 38, 'target': 34, 'value': 2},\n",
       "  {'source': 38, 'target': 35, 'value': 2},\n",
       "  {'source': 38, 'target': 36, 'value': 2},\n",
       "  {'source': 38, 'target': 37, 'value': 2},\n",
       "  {'source': 38, 'target': 11, 'value': 2},\n",
       "  {'source': 38, 'target': 29, 'value': 1},\n",
       "  {'source': 39, 'target': 25, 'value': 1},\n",
       "  {'source': 40, 'target': 25, 'value': 1},\n",
       "  {'source': 41, 'target': 24, 'value': 2},\n",
       "  {'source': 41, 'target': 25, 'value': 3},\n",
       "  {'source': 42, 'target': 41, 'value': 2},\n",
       "  {'source': 42, 'target': 25, 'value': 2},\n",
       "  {'source': 42, 'target': 24, 'value': 1},\n",
       "  {'source': 43, 'target': 11, 'value': 3},\n",
       "  {'source': 43, 'target': 26, 'value': 1},\n",
       "  {'source': 43, 'target': 27, 'value': 1},\n",
       "  {'source': 44, 'target': 28, 'value': 3},\n",
       "  {'source': 44, 'target': 11, 'value': 1},\n",
       "  {'source': 45, 'target': 28, 'value': 2},\n",
       "  {'source': 47, 'target': 46, 'value': 1},\n",
       "  {'source': 48, 'target': 47, 'value': 2},\n",
       "  {'source': 48, 'target': 25, 'value': 1},\n",
       "  {'source': 48, 'target': 27, 'value': 1},\n",
       "  {'source': 48, 'target': 11, 'value': 1},\n",
       "  {'source': 49, 'target': 26, 'value': 3},\n",
       "  {'source': 49, 'target': 11, 'value': 2},\n",
       "  {'source': 50, 'target': 49, 'value': 1},\n",
       "  {'source': 50, 'target': 24, 'value': 1},\n",
       "  {'source': 51, 'target': 49, 'value': 9},\n",
       "  {'source': 51, 'target': 26, 'value': 2},\n",
       "  {'source': 51, 'target': 11, 'value': 2},\n",
       "  {'source': 52, 'target': 51, 'value': 1},\n",
       "  {'source': 52, 'target': 39, 'value': 1},\n",
       "  {'source': 53, 'target': 51, 'value': 1},\n",
       "  {'source': 54, 'target': 51, 'value': 2},\n",
       "  {'source': 54, 'target': 49, 'value': 1},\n",
       "  {'source': 54, 'target': 26, 'value': 1},\n",
       "  {'source': 55, 'target': 51, 'value': 6},\n",
       "  {'source': 55, 'target': 49, 'value': 12},\n",
       "  {'source': 55, 'target': 39, 'value': 1},\n",
       "  {'source': 55, 'target': 54, 'value': 1},\n",
       "  {'source': 55, 'target': 26, 'value': 21},\n",
       "  {'source': 55, 'target': 11, 'value': 19},\n",
       "  {'source': 55, 'target': 16, 'value': 1},\n",
       "  {'source': 55, 'target': 25, 'value': 2},\n",
       "  {'source': 55, 'target': 41, 'value': 5},\n",
       "  {'source': 55, 'target': 48, 'value': 4},\n",
       "  {'source': 56, 'target': 49, 'value': 1},\n",
       "  {'source': 56, 'target': 55, 'value': 1},\n",
       "  {'source': 57, 'target': 55, 'value': 1},\n",
       "  {'source': 57, 'target': 41, 'value': 1},\n",
       "  {'source': 57, 'target': 48, 'value': 1},\n",
       "  {'source': 58, 'target': 55, 'value': 7},\n",
       "  {'source': 58, 'target': 48, 'value': 7},\n",
       "  {'source': 58, 'target': 27, 'value': 6},\n",
       "  {'source': 58, 'target': 57, 'value': 1},\n",
       "  {'source': 58, 'target': 11, 'value': 4},\n",
       "  {'source': 59, 'target': 58, 'value': 15},\n",
       "  {'source': 59, 'target': 55, 'value': 5},\n",
       "  {'source': 59, 'target': 48, 'value': 6},\n",
       "  {'source': 59, 'target': 57, 'value': 2},\n",
       "  {'source': 60, 'target': 48, 'value': 1},\n",
       "  {'source': 60, 'target': 58, 'value': 4},\n",
       "  {'source': 60, 'target': 59, 'value': 2},\n",
       "  {'source': 61, 'target': 48, 'value': 2},\n",
       "  {'source': 61, 'target': 58, 'value': 6},\n",
       "  {'source': 61, 'target': 60, 'value': 2},\n",
       "  {'source': 61, 'target': 59, 'value': 5},\n",
       "  {'source': 61, 'target': 57, 'value': 1},\n",
       "  {'source': 61, 'target': 55, 'value': 1},\n",
       "  {'source': 62, 'target': 55, 'value': 9},\n",
       "  {'source': 62, 'target': 58, 'value': 17},\n",
       "  {'source': 62, 'target': 59, 'value': 13},\n",
       "  {'source': 62, 'target': 48, 'value': 7},\n",
       "  {'source': 62, 'target': 57, 'value': 2},\n",
       "  {'source': 62, 'target': 41, 'value': 1},\n",
       "  {'source': 62, 'target': 61, 'value': 6},\n",
       "  {'source': 62, 'target': 60, 'value': 3},\n",
       "  {'source': 63, 'target': 59, 'value': 5},\n",
       "  {'source': 63, 'target': 48, 'value': 5},\n",
       "  {'source': 63, 'target': 62, 'value': 6},\n",
       "  {'source': 63, 'target': 57, 'value': 2},\n",
       "  {'source': 63, 'target': 58, 'value': 4},\n",
       "  {'source': 63, 'target': 61, 'value': 3},\n",
       "  {'source': 63, 'target': 60, 'value': 2},\n",
       "  {'source': 63, 'target': 55, 'value': 1},\n",
       "  {'source': 64, 'target': 55, 'value': 5},\n",
       "  {'source': 64, 'target': 62, 'value': 12},\n",
       "  {'source': 64, 'target': 48, 'value': 5},\n",
       "  {'source': 64, 'target': 63, 'value': 4},\n",
       "  {'source': 64, 'target': 58, 'value': 10},\n",
       "  {'source': 64, 'target': 61, 'value': 6},\n",
       "  {'source': 64, 'target': 60, 'value': 2},\n",
       "  {'source': 64, 'target': 59, 'value': 9},\n",
       "  {'source': 64, 'target': 57, 'value': 1},\n",
       "  {'source': 64, 'target': 11, 'value': 1},\n",
       "  {'source': 65, 'target': 63, 'value': 5},\n",
       "  {'source': 65, 'target': 64, 'value': 7},\n",
       "  {'source': 65, 'target': 48, 'value': 3},\n",
       "  {'source': 65, 'target': 62, 'value': 5},\n",
       "  {'source': 65, 'target': 58, 'value': 5},\n",
       "  {'source': 65, 'target': 61, 'value': 5},\n",
       "  {'source': 65, 'target': 60, 'value': 2},\n",
       "  {'source': 65, 'target': 59, 'value': 5},\n",
       "  {'source': 65, 'target': 57, 'value': 1},\n",
       "  {'source': 65, 'target': 55, 'value': 2},\n",
       "  {'source': 66, 'target': 64, 'value': 3},\n",
       "  {'source': 66, 'target': 58, 'value': 3},\n",
       "  {'source': 66, 'target': 59, 'value': 1},\n",
       "  {'source': 66, 'target': 62, 'value': 2},\n",
       "  {'source': 66, 'target': 65, 'value': 2},\n",
       "  {'source': 66, 'target': 48, 'value': 1},\n",
       "  {'source': 66, 'target': 63, 'value': 1},\n",
       "  {'source': 66, 'target': 61, 'value': 1},\n",
       "  {'source': 66, 'target': 60, 'value': 1},\n",
       "  {'source': 67, 'target': 57, 'value': 3},\n",
       "  {'source': 68, 'target': 25, 'value': 5},\n",
       "  {'source': 68, 'target': 11, 'value': 1},\n",
       "  {'source': 68, 'target': 24, 'value': 1},\n",
       "  {'source': 68, 'target': 27, 'value': 1},\n",
       "  {'source': 68, 'target': 48, 'value': 1},\n",
       "  {'source': 68, 'target': 41, 'value': 1},\n",
       "  {'source': 69, 'target': 25, 'value': 6},\n",
       "  {'source': 69, 'target': 68, 'value': 6},\n",
       "  {'source': 69, 'target': 11, 'value': 1},\n",
       "  {'source': 69, 'target': 24, 'value': 1},\n",
       "  {'source': 69, 'target': 27, 'value': 2},\n",
       "  {'source': 69, 'target': 48, 'value': 1},\n",
       "  {'source': 69, 'target': 41, 'value': 1},\n",
       "  {'source': 70, 'target': 25, 'value': 4},\n",
       "  {'source': 70, 'target': 69, 'value': 4},\n",
       "  {'source': 70, 'target': 68, 'value': 4},\n",
       "  {'source': 70, 'target': 11, 'value': 1},\n",
       "  {'source': 70, 'target': 24, 'value': 1},\n",
       "  {'source': 70, 'target': 27, 'value': 1},\n",
       "  {'source': 70, 'target': 41, 'value': 1},\n",
       "  {'source': 70, 'target': 58, 'value': 1},\n",
       "  {'source': 71, 'target': 27, 'value': 1},\n",
       "  {'source': 71, 'target': 69, 'value': 2},\n",
       "  {'source': 71, 'target': 68, 'value': 2},\n",
       "  {'source': 71, 'target': 70, 'value': 2},\n",
       "  {'source': 71, 'target': 11, 'value': 1},\n",
       "  {'source': 71, 'target': 48, 'value': 1},\n",
       "  {'source': 71, 'target': 41, 'value': 1},\n",
       "  {'source': 71, 'target': 25, 'value': 1},\n",
       "  {'source': 72, 'target': 26, 'value': 2},\n",
       "  {'source': 72, 'target': 27, 'value': 1},\n",
       "  {'source': 72, 'target': 11, 'value': 1},\n",
       "  {'source': 73, 'target': 48, 'value': 2},\n",
       "  {'source': 74, 'target': 48, 'value': 2},\n",
       "  {'source': 74, 'target': 73, 'value': 3},\n",
       "  {'source': 75, 'target': 69, 'value': 3},\n",
       "  {'source': 75, 'target': 68, 'value': 3},\n",
       "  {'source': 75, 'target': 25, 'value': 3},\n",
       "  {'source': 75, 'target': 48, 'value': 1},\n",
       "  {'source': 75, 'target': 41, 'value': 1},\n",
       "  {'source': 75, 'target': 70, 'value': 1},\n",
       "  {'source': 75, 'target': 71, 'value': 1},\n",
       "  {'source': 76, 'target': 64, 'value': 1},\n",
       "  {'source': 76, 'target': 65, 'value': 1},\n",
       "  {'source': 76, 'target': 66, 'value': 1},\n",
       "  {'source': 76, 'target': 63, 'value': 1},\n",
       "  {'source': 76, 'target': 62, 'value': 1},\n",
       "  {'source': 76, 'target': 48, 'value': 1},\n",
       "  {'source': 76, 'target': 58, 'value': 1}]}"
      ]
     },
     "execution_count": 3,
     "metadata": {},
     "output_type": "execute_result"
    }
   ],
   "source": [
    "data"
   ]
  },
  {
   "cell_type": "markdown",
   "id": "f45275de-da77-4f60-a7ef-13431bfa5edf",
   "metadata": {
    "tags": []
   },
   "source": [
    "### Get the number of nodes:"
   ]
  },
  {
   "cell_type": "code",
   "execution_count": 4,
   "id": "7c1c59a7-80bf-4b96-9390-1c98ac34f3ed",
   "metadata": {
    "execution": {
     "iopub.execute_input": "2022-03-06T15:14:25.774866Z",
     "iopub.status.busy": "2022-03-06T15:14:25.773867Z",
     "iopub.status.idle": "2022-03-06T15:14:25.785865Z",
     "shell.execute_reply": "2022-03-06T15:14:25.784865Z",
     "shell.execute_reply.started": "2022-03-06T15:14:25.774866Z"
    },
    "tags": []
   },
   "outputs": [
    {
     "data": {
      "text/plain": [
       "77"
      ]
     },
     "execution_count": 4,
     "metadata": {},
     "output_type": "execute_result"
    }
   ],
   "source": [
    "N=len(data['nodes'])\n",
    "N"
   ]
  },
  {
   "cell_type": "markdown",
   "id": "df88b814-8b5e-4f29-a678-eb26f27cadad",
   "metadata": {},
   "source": [
    "### Define the list of edges and the Graph object from Edges:"
   ]
  },
  {
   "cell_type": "code",
   "execution_count": 5,
   "id": "de2fb957-a044-4cf7-968c-494a03509c7c",
   "metadata": {
    "execution": {
     "iopub.execute_input": "2022-03-06T15:14:25.788865Z",
     "iopub.status.busy": "2022-03-06T15:14:25.787866Z",
     "iopub.status.idle": "2022-03-06T15:14:26.021832Z",
     "shell.execute_reply": "2022-03-06T15:14:26.020888Z",
     "shell.execute_reply.started": "2022-03-06T15:14:25.788865Z"
    },
    "tags": []
   },
   "outputs": [],
   "source": [
    "L=len(data['links'])\n",
    "Edges=[(data['links'][k]['source'], data['links'][k]['target']) for k in range(L)]\n",
    "\n",
    "G=ig.Graph(Edges, directed=False)"
   ]
  },
  {
   "cell_type": "code",
   "execution_count": 6,
   "id": "e49e218c-75e5-4734-a4e7-a2c7082b3701",
   "metadata": {
    "execution": {
     "iopub.execute_input": "2022-03-06T15:14:26.023834Z",
     "iopub.status.busy": "2022-03-06T15:14:26.022835Z",
     "iopub.status.idle": "2022-03-06T15:14:26.037831Z",
     "shell.execute_reply": "2022-03-06T15:14:26.036830Z",
     "shell.execute_reply.started": "2022-03-06T15:14:26.022835Z"
    }
   },
   "outputs": [
    {
     "data": {
      "text/plain": [
       "<igraph.Graph at 0x17ab913fb80>"
      ]
     },
     "execution_count": 6,
     "metadata": {},
     "output_type": "execute_result"
    }
   ],
   "source": [
    "G"
   ]
  },
  {
   "cell_type": "markdown",
   "id": "269c667c-3a8f-4a0f-9c95-9a583c9fdbc1",
   "metadata": {},
   "source": [
    "### Extract the node attributes, 'group', and 'name':"
   ]
  },
  {
   "cell_type": "code",
   "execution_count": 7,
   "id": "e0cd6bfb-c525-4a2b-bab6-9451bf173673",
   "metadata": {
    "execution": {
     "iopub.execute_input": "2022-03-06T15:14:26.044830Z",
     "iopub.status.busy": "2022-03-06T15:14:26.042847Z",
     "iopub.status.idle": "2022-03-06T15:14:26.053828Z",
     "shell.execute_reply": "2022-03-06T15:14:26.051831Z",
     "shell.execute_reply.started": "2022-03-06T15:14:26.043831Z"
    },
    "tags": []
   },
   "outputs": [
    {
     "data": {
      "text/plain": [
       "{'name': 'Myriel', 'group': 1}"
      ]
     },
     "execution_count": 7,
     "metadata": {},
     "output_type": "execute_result"
    }
   ],
   "source": [
    "data['nodes'][0]"
   ]
  },
  {
   "cell_type": "code",
   "execution_count": 8,
   "id": "6329a01e-231c-42a3-abd0-c6cdd5bada45",
   "metadata": {
    "execution": {
     "iopub.execute_input": "2022-03-06T15:14:26.055831Z",
     "iopub.status.busy": "2022-03-06T15:14:26.055831Z",
     "iopub.status.idle": "2022-03-06T15:14:26.083823Z",
     "shell.execute_reply": "2022-03-06T15:14:26.082824Z",
     "shell.execute_reply.started": "2022-03-06T15:14:26.055831Z"
    },
    "tags": []
   },
   "outputs": [],
   "source": [
    "labels=[]\n",
    "group=[]\n",
    "for node in data['nodes']:\n",
    "    labels.append(node['name'])\n",
    "    group.append(node['group'])"
   ]
  },
  {
   "cell_type": "markdown",
   "id": "54414ca8-3271-45bb-be79-c41b77a24409",
   "metadata": {},
   "source": [
    "### Get the node positions, set by the [Kamada-Kawai](https://zh.wikipedia.org/wiki/%E5%8A%9B%E5%AF%BC%E5%90%91%E5%9B%BE) layout for 3D graphs:"
   ]
  },
  {
   "cell_type": "code",
   "execution_count": 9,
   "id": "4bb5f051-0732-4843-9773-4fc78996e407",
   "metadata": {
    "execution": {
     "iopub.execute_input": "2022-03-06T15:14:26.086825Z",
     "iopub.status.busy": "2022-03-06T15:14:26.086825Z",
     "iopub.status.idle": "2022-03-06T15:14:26.117819Z",
     "shell.execute_reply": "2022-03-06T15:14:26.115829Z",
     "shell.execute_reply.started": "2022-03-06T15:14:26.086825Z"
    },
    "tags": []
   },
   "outputs": [],
   "source": [
    "layt=G.layout('kk', dim=3)"
   ]
  },
  {
   "cell_type": "code",
   "execution_count": 10,
   "id": "f3b641d2-0d58-4983-94fb-285447e9626f",
   "metadata": {
    "execution": {
     "iopub.execute_input": "2022-03-06T15:14:26.121819Z",
     "iopub.status.busy": "2022-03-06T15:14:26.120820Z",
     "iopub.status.idle": "2022-03-06T15:14:26.149814Z",
     "shell.execute_reply": "2022-03-06T15:14:26.145815Z",
     "shell.execute_reply.started": "2022-03-06T15:14:26.121819Z"
    },
    "tags": []
   },
   "outputs": [
    {
     "data": {
      "text/plain": [
       "<Layout with 77 vertices and 3 dimensions>"
      ]
     },
     "execution_count": 10,
     "metadata": {},
     "output_type": "execute_result"
    }
   ],
   "source": [
    "layt"
   ]
  },
  {
   "cell_type": "markdown",
   "id": "d0c2dfd7-6ea7-446d-a603-bc742dc8b579",
   "metadata": {},
   "source": [
    "### layt is a list of three elements lists (the coordinates of nodes):"
   ]
  },
  {
   "cell_type": "code",
   "execution_count": 11,
   "id": "6cb84248-8ec0-424b-975f-021ffb9b298a",
   "metadata": {
    "execution": {
     "iopub.execute_input": "2022-03-06T15:14:26.152813Z",
     "iopub.status.busy": "2022-03-06T15:14:26.151813Z",
     "iopub.status.idle": "2022-03-06T15:14:26.177811Z",
     "shell.execute_reply": "2022-03-06T15:14:26.176810Z",
     "shell.execute_reply.started": "2022-03-06T15:14:26.152813Z"
    },
    "tags": []
   },
   "outputs": [
    {
     "data": {
      "text/plain": [
       "[-1.641118299503799, 5.331656713648947, 3.4857844205191957]"
      ]
     },
     "execution_count": 11,
     "metadata": {},
     "output_type": "execute_result"
    }
   ],
   "source": [
    "layt[5]"
   ]
  },
  {
   "cell_type": "markdown",
   "id": "90b415e4-67e5-4272-a8f0-97e697e0960d",
   "metadata": {},
   "source": [
    "### Set data for the Plotly plot of the graph:"
   ]
  },
  {
   "cell_type": "code",
   "execution_count": 12,
   "id": "36c4bb8b-e441-493b-8197-3daba5ce4c34",
   "metadata": {
    "execution": {
     "iopub.execute_input": "2022-03-06T15:14:26.182809Z",
     "iopub.status.busy": "2022-03-06T15:14:26.181808Z",
     "iopub.status.idle": "2022-03-06T15:14:26.211805Z",
     "shell.execute_reply": "2022-03-06T15:14:26.208804Z",
     "shell.execute_reply.started": "2022-03-06T15:14:26.182809Z"
    },
    "tags": []
   },
   "outputs": [],
   "source": [
    "Xn=[layt[k][0] for k in range(N)]# x-coordinates of nodes\n",
    "Yn=[layt[k][1] for k in range(N)]# y-coordinates\n",
    "Zn=[layt[k][2] for k in range(N)]# z-coordinates\n",
    "Xe=[]\n",
    "Ye=[]\n",
    "Ze=[]\n",
    "for e in Edges:\n",
    "    Xe+=[layt[e[0]][0],layt[e[1]][0], None]# x-coordinates of edge ends\n",
    "    Ye+=[layt[e[0]][1],layt[e[1]][1], None]\n",
    "    Ze+=[layt[e[0]][2],layt[e[1]][2], None]"
   ]
  },
  {
   "cell_type": "code",
   "execution_count": 13,
   "id": "77b80d4a-5604-4d71-a185-638abe242518",
   "metadata": {
    "execution": {
     "iopub.execute_input": "2022-03-06T15:14:26.213804Z",
     "iopub.status.busy": "2022-03-06T15:14:26.213804Z",
     "iopub.status.idle": "2022-03-06T15:14:27.671715Z",
     "shell.execute_reply": "2022-03-06T15:14:27.670736Z",
     "shell.execute_reply.started": "2022-03-06T15:14:26.213804Z"
    },
    "tags": []
   },
   "outputs": [],
   "source": [
    "trace1=go.Scatter3d(x=Xe,\n",
    "               y=Ye,\n",
    "               z=Ze,\n",
    "               mode='lines',\n",
    "               line=dict(color='rgb(125,125,125)', width=1),\n",
    "               hoverinfo='none'\n",
    "               )\n",
    "\n",
    "trace2=go.Scatter3d(x=Xn,\n",
    "               y=Yn,\n",
    "               z=Zn,\n",
    "               mode='markers',\n",
    "               name='actors',\n",
    "               marker=dict(symbol='circle',\n",
    "                             size=6,\n",
    "                             color=group,\n",
    "                             colorscale='Viridis',\n",
    "                             line=dict(color='rgb(50,50,50)', width=0.5)\n",
    "                             ),\n",
    "               text=labels,\n",
    "               hoverinfo='text'\n",
    "               )\n",
    "\n",
    "axis=dict(showbackground=False,\n",
    "          showline=False,\n",
    "          zeroline=False,\n",
    "          showgrid=False,\n",
    "          showticklabels=False,\n",
    "          title=''\n",
    "          )\n",
    "\n",
    "layout = go.Layout(\n",
    "         title=\"Network of coappearances of characters in Victor Hugo's novel<br> Les Miserables (3D visualization)\",\n",
    "         width=1000,\n",
    "         height=1000,\n",
    "         showlegend=False,\n",
    "         scene=dict(\n",
    "             xaxis=dict(axis),\n",
    "             yaxis=dict(axis),\n",
    "             zaxis=dict(axis),\n",
    "        ),\n",
    "     margin=dict(\n",
    "        t=100\n",
    "    ),\n",
    "    hovermode='closest',\n",
    "    annotations=[\n",
    "           dict(\n",
    "           showarrow=False,\n",
    "            text=\"Data source: <a href='http://bost.ocks.org/mike/miserables/miserables.json'>[1] miserables.json</a>\",\n",
    "            xref='paper',\n",
    "            yref='paper',\n",
    "            x=0,\n",
    "            y=0.1,\n",
    "            xanchor='left',\n",
    "            yanchor='bottom',\n",
    "            font=dict(\n",
    "            size=14\n",
    "            )\n",
    "            )\n",
    "        ],    )"
   ]
  },
  {
   "cell_type": "code",
   "execution_count": 14,
   "id": "bdc7bf87-1d48-41af-b1e7-84aca14882ee",
   "metadata": {
    "execution": {
     "iopub.execute_input": "2022-03-06T15:14:27.674716Z",
     "iopub.status.busy": "2022-03-06T15:14:27.673715Z",
     "iopub.status.idle": "2022-03-06T15:14:28.124885Z",
     "shell.execute_reply": "2022-03-06T15:14:28.123906Z",
     "shell.execute_reply.started": "2022-03-06T15:14:27.674716Z"
    },
    "tags": []
   },
   "outputs": [
    {
     "data": {
      "text/plain": [
       "'Les-Miserables.html'"
      ]
     },
     "execution_count": 14,
     "metadata": {},
     "output_type": "execute_result"
    }
   ],
   "source": [
    "data=[trace1, trace2]\n",
    "fig=go.Figure(data=data, layout=layout)\n",
    "\n",
    "plotly.offline.plot(fig, auto_open=False, validate=False, filename='Les-Miserables.html', config = {'displayModeBar': False})"
   ]
  },
  {
   "cell_type": "code",
   "execution_count": null,
   "id": "d9ac096b-226d-45b2-9071-b3d8dca60f1e",
   "metadata": {},
   "outputs": [],
   "source": []
  }
 ],
 "metadata": {
  "kernelspec": {
   "display_name": "Python 3 (ipykernel)",
   "language": "python",
   "name": "python3"
  },
  "language_info": {
   "codemirror_mode": {
    "name": "ipython",
    "version": 3
   },
   "file_extension": ".py",
   "mimetype": "text/x-python",
   "name": "python",
   "nbconvert_exporter": "python",
   "pygments_lexer": "ipython3",
   "version": "3.8.5"
  }
 },
 "nbformat": 4,
 "nbformat_minor": 5
}
