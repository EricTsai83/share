{
 "cells": [
  {
   "cell_type": "code",
   "execution_count": 1,
   "id": "1262cf12-2b10-4dd3-b52e-407934f61632",
   "metadata": {
    "execution": {
     "iopub.execute_input": "2022-03-07T11:52:45.996161Z",
     "iopub.status.busy": "2022-03-07T11:52:45.995160Z",
     "iopub.status.idle": "2022-03-07T11:53:02.511775Z",
     "shell.execute_reply": "2022-03-07T11:53:02.506776Z",
     "shell.execute_reply.started": "2022-03-07T11:52:45.996161Z"
    },
    "tags": []
   },
   "outputs": [],
   "source": [
    "import pickle\n",
    "from sklearn.metrics.pairwise import cosine_similarity\n",
    "from sklearn.cluster import KMeans\n",
    "from sklearn.metrics import silhouette_score\n",
    "import numpy as np\n",
    "import pandas as pd\n",
    "%matplotlib inline\n",
    "import matplotlib as mpl\n",
    "import matplotlib.pyplot as plt"
   ]
  },
  {
   "cell_type": "code",
   "execution_count": 2,
   "id": "a465d6e3-3c14-4be8-9dca-ae5f48bf202c",
   "metadata": {
    "execution": {
     "iopub.execute_input": "2022-03-07T11:53:02.515799Z",
     "iopub.status.busy": "2022-03-07T11:53:02.515799Z",
     "iopub.status.idle": "2022-03-07T11:53:03.462699Z",
     "shell.execute_reply": "2022-03-07T11:53:03.461704Z",
     "shell.execute_reply.started": "2022-03-07T11:53:02.515799Z"
    },
    "tags": []
   },
   "outputs": [],
   "source": [
    "# Load\n",
    "with open('./Data/df_brand_result_alpha.pickle', 'rb') as f:\n",
    "    df = pickle.load(f)"
   ]
  },
  {
   "cell_type": "code",
   "execution_count": 3,
   "id": "631ed948-6cb0-4260-bd86-49384b74abd9",
   "metadata": {
    "execution": {
     "iopub.execute_input": "2022-03-07T11:53:03.465700Z",
     "iopub.status.busy": "2022-03-07T11:53:03.464701Z",
     "iopub.status.idle": "2022-03-07T11:53:03.510713Z",
     "shell.execute_reply": "2022-03-07T11:53:03.509708Z",
     "shell.execute_reply.started": "2022-03-07T11:53:03.465700Z"
    },
    "tags": []
   },
   "outputs": [],
   "source": [
    "# remove brand attr is empty\n",
    "df = df[~(df['Attribute_Freq15_w2v_name'].apply(len)==0)].reset_index(drop=True)"
   ]
  },
  {
   "cell_type": "code",
   "execution_count": 4,
   "id": "692ec1c9-06d4-4fca-9f5f-c27ce82c382d",
   "metadata": {
    "execution": {
     "iopub.execute_input": "2022-03-07T11:53:03.512708Z",
     "iopub.status.busy": "2022-03-07T11:53:03.512708Z",
     "iopub.status.idle": "2022-03-07T11:53:03.746803Z",
     "shell.execute_reply": "2022-03-07T11:53:03.745857Z",
     "shell.execute_reply.started": "2022-03-07T11:53:03.512708Z"
    },
    "tags": []
   },
   "outputs": [],
   "source": [
    "## compute average word vector\n",
    "df['average_word2vec'] = [np.mean(row, axis=0) for row in df['Attribute_Freq15_w2v_vec']]"
   ]
  },
  {
   "cell_type": "code",
   "execution_count": 5,
   "id": "b3884ea1-9f70-474f-979f-598d625ebf72",
   "metadata": {
    "execution": {
     "iopub.execute_input": "2022-03-07T11:53:03.748803Z",
     "iopub.status.busy": "2022-03-07T11:53:03.747800Z",
     "iopub.status.idle": "2022-03-07T11:53:04.094044Z",
     "shell.execute_reply": "2022-03-07T11:53:04.093049Z",
     "shell.execute_reply.started": "2022-03-07T11:53:03.748803Z"
    },
    "tags": []
   },
   "outputs": [
    {
     "data": {
      "text/html": [
       "<div>\n",
       "<style scoped>\n",
       "    .dataframe tbody tr th:only-of-type {\n",
       "        vertical-align: middle;\n",
       "    }\n",
       "\n",
       "    .dataframe tbody tr th {\n",
       "        vertical-align: top;\n",
       "    }\n",
       "\n",
       "    .dataframe thead th {\n",
       "        text-align: right;\n",
       "    }\n",
       "</style>\n",
       "<table border=\"1\" class=\"dataframe\">\n",
       "  <thead>\n",
       "    <tr style=\"text-align: right;\">\n",
       "      <th></th>\n",
       "      <th>Brand_Name</th>\n",
       "      <th>Attribute_Freq15</th>\n",
       "      <th>Attribute_Freq15_w2v_filter</th>\n",
       "      <th>Attribute_diff</th>\n",
       "      <th>Attribute_Freq15_w2v_name</th>\n",
       "      <th>Attribute_Freq15_w2v_vec</th>\n",
       "      <th>average_word2vec</th>\n",
       "    </tr>\n",
       "  </thead>\n",
       "  <tbody>\n",
       "    <tr>\n",
       "      <th>0</th>\n",
       "      <td>TiMISA</td>\n",
       "      <td>[鈦鍺, 專櫃, 百貨, 金屬, 手鍊, 推薦, 時尚, 戒指, 純鈦, 羽鈦, 美學, 飾...</td>\n",
       "      <td>[包裝, 美學, 金屬, 配飾, 導入, 代理, 紙袋, 造型, 珠寶, 手鍊, 戒指, 飾...</td>\n",
       "      <td>{羽鈦, 設計, 商品, 鈦鍺, 推薦, 純鈦, 產品, 臺灣}</td>\n",
       "      <td>[包裝, 美學, 金屬, 配飾, 導入, 代理, 紙袋, 造型, 珠寶, 手鍊, 戒指, 飾...</td>\n",
       "      <td>[[0.641304, 0.234804, 0.285868, -0.322467, 0.0...</td>\n",
       "      <td>[0.22877827, 0.42080894, 0.18626395, -0.176455...</td>\n",
       "    </tr>\n",
       "    <tr>\n",
       "      <th>1</th>\n",
       "      <td>東立</td>\n",
       "      <td>[出版社, 汽車, 發展, 產品, 服務, 東立, 中國, 國際, 設計, 全球, 成立, ...</td>\n",
       "      <td>[國際, 有限公司, 核心, 讀者, 策略, 小說, 東立, 發展, 打造, 文化, 出版,...</td>\n",
       "      <td>{企業, 設計, 商品, 服務, 全球, 公司, 汽車, 成立, 產品, 心目中}</td>\n",
       "      <td>[國際, 有限公司, 核心, 讀者, 策略, 小說, 東立, 發展, 打造, 文化, 出版,...</td>\n",
       "      <td>[[0.040057, 0.262818, 0.48597, -0.35235, -0.17...</td>\n",
       "      <td>[0.06360267, 0.45064825, 0.20490311, -0.287164...</td>\n",
       "    </tr>\n",
       "    <tr>\n",
       "      <th>2</th>\n",
       "      <td>ONEY 歐妮</td>\n",
       "      <td>[版型, 外套, 風衣, 歐妮, 名稱, 現貨, 推薦, 上衣, 背心, 對象, 族群, 洋...</td>\n",
       "      <td>[外套, 女裝, 尺寸, 版型, 上衣, 對象, 時尚, 名稱, 風衣, 背心, 專櫃, 洋...</td>\n",
       "      <td>{設計, 商品, 歐妮 , 歐妮, 推薦, 現貨}</td>\n",
       "      <td>[外套, 女裝, 尺寸, 版型, 上衣, 對象, 時尚, 名稱, 風衣, 背心, 專櫃, 洋...</td>\n",
       "      <td>[[0.382115, 0.746203, 0.322536, -0.102699, -0....</td>\n",
       "      <td>[0.29367846, 0.43425146, 0.25098908, -0.215390...</td>\n",
       "    </tr>\n",
       "    <tr>\n",
       "      <th>3</th>\n",
       "      <td>KissXXX</td>\n",
       "      <td>[時尚, 設計, 材質, 名稱, 經典, 推薦, 女鞋, 拼接, 真皮, 顏色, 女性, 款...</td>\n",
       "      <td>[短靴, 尖頭, 顏色, 質感, 氣質, 鞋面, 高跟鞋, 皮革, 款式, 方頭, 休閒鞋,...</td>\n",
       "      <td>{帆布, 設計, 商品, 推薦, 姿態, 材質, 效果, 女性, 名稱, 系列, 穿搭}</td>\n",
       "      <td>[短靴, 尖頭, 顏色, 質感, 氣質, 鞋面, 高跟鞋, 皮革, 款式, 方頭, 休閒鞋,...</td>\n",
       "      <td>[[0.236162, 0.846489, 0.28639, -0.423461, -0.0...</td>\n",
       "      <td>[0.078890786, 0.49683163, 0.19660878, -0.27269...</td>\n",
       "    </tr>\n",
       "    <tr>\n",
       "      <th>4</th>\n",
       "      <td>必翔銀髮樂活館</td>\n",
       "      <td>[全方位, 產品, 輔具, 通路商, 必翔, 照護, 臺灣, 名稱, 市場, 銀髮, 樂活館...</td>\n",
       "      <td>[照護, 類別, 藥品, 產地, 生活館, 輔助, 事業, 生活, 門市, 醫材, 調整, ...</td>\n",
       "      <td>{設計, 市場, 商品, 服務, 推薦, 全球, 材質, 公司, 旗下, 樂活館, 產品, ...</td>\n",
       "      <td>[照護, 類別, 藥品, 產地, 生活館, 輔助, 事業, 生活, 門市, 醫材, 調整, ...</td>\n",
       "      <td>[[0.120132, 0.366806, 0.134058, 0.092247, -0.2...</td>\n",
       "      <td>[0.19221896, 0.33827958, 0.17991517, -0.040666...</td>\n",
       "    </tr>\n",
       "  </tbody>\n",
       "</table>\n",
       "</div>"
      ],
      "text/plain": [
       "  Brand_Name                                   Attribute_Freq15  \\\n",
       "0     TiMISA  [鈦鍺, 專櫃, 百貨, 金屬, 手鍊, 推薦, 時尚, 戒指, 純鈦, 羽鈦, 美學, 飾...   \n",
       "1         東立  [出版社, 汽車, 發展, 產品, 服務, 東立, 中國, 國際, 設計, 全球, 成立, ...   \n",
       "2    ONEY 歐妮  [版型, 外套, 風衣, 歐妮, 名稱, 現貨, 推薦, 上衣, 背心, 對象, 族群, 洋...   \n",
       "3    KissXXX  [時尚, 設計, 材質, 名稱, 經典, 推薦, 女鞋, 拼接, 真皮, 顏色, 女性, 款...   \n",
       "4    必翔銀髮樂活館  [全方位, 產品, 輔具, 通路商, 必翔, 照護, 臺灣, 名稱, 市場, 銀髮, 樂活館...   \n",
       "\n",
       "                         Attribute_Freq15_w2v_filter  \\\n",
       "0  [包裝, 美學, 金屬, 配飾, 導入, 代理, 紙袋, 造型, 珠寶, 手鍊, 戒指, 飾...   \n",
       "1  [國際, 有限公司, 核心, 讀者, 策略, 小說, 東立, 發展, 打造, 文化, 出版,...   \n",
       "2  [外套, 女裝, 尺寸, 版型, 上衣, 對象, 時尚, 名稱, 風衣, 背心, 專櫃, 洋...   \n",
       "3  [短靴, 尖頭, 顏色, 質感, 氣質, 鞋面, 高跟鞋, 皮革, 款式, 方頭, 休閒鞋,...   \n",
       "4  [照護, 類別, 藥品, 產地, 生活館, 輔助, 事業, 生活, 門市, 醫材, 調整, ...   \n",
       "\n",
       "                                      Attribute_diff  \\\n",
       "0                   {羽鈦, 設計, 商品, 鈦鍺, 推薦, 純鈦, 產品, 臺灣}   \n",
       "1          {企業, 設計, 商品, 服務, 全球, 公司, 汽車, 成立, 產品, 心目中}   \n",
       "2                          {設計, 商品, 歐妮 , 歐妮, 推薦, 現貨}   \n",
       "3       {帆布, 設計, 商品, 推薦, 姿態, 材質, 效果, 女性, 名稱, 系列, 穿搭}   \n",
       "4  {設計, 市場, 商品, 服務, 推薦, 全球, 材質, 公司, 旗下, 樂活館, 產品, ...   \n",
       "\n",
       "                           Attribute_Freq15_w2v_name  \\\n",
       "0  [包裝, 美學, 金屬, 配飾, 導入, 代理, 紙袋, 造型, 珠寶, 手鍊, 戒指, 飾...   \n",
       "1  [國際, 有限公司, 核心, 讀者, 策略, 小說, 東立, 發展, 打造, 文化, 出版,...   \n",
       "2  [外套, 女裝, 尺寸, 版型, 上衣, 對象, 時尚, 名稱, 風衣, 背心, 專櫃, 洋...   \n",
       "3  [短靴, 尖頭, 顏色, 質感, 氣質, 鞋面, 高跟鞋, 皮革, 款式, 方頭, 休閒鞋,...   \n",
       "4  [照護, 類別, 藥品, 產地, 生活館, 輔助, 事業, 生活, 門市, 醫材, 調整, ...   \n",
       "\n",
       "                            Attribute_Freq15_w2v_vec  \\\n",
       "0  [[0.641304, 0.234804, 0.285868, -0.322467, 0.0...   \n",
       "1  [[0.040057, 0.262818, 0.48597, -0.35235, -0.17...   \n",
       "2  [[0.382115, 0.746203, 0.322536, -0.102699, -0....   \n",
       "3  [[0.236162, 0.846489, 0.28639, -0.423461, -0.0...   \n",
       "4  [[0.120132, 0.366806, 0.134058, 0.092247, -0.2...   \n",
       "\n",
       "                                    average_word2vec  \n",
       "0  [0.22877827, 0.42080894, 0.18626395, -0.176455...  \n",
       "1  [0.06360267, 0.45064825, 0.20490311, -0.287164...  \n",
       "2  [0.29367846, 0.43425146, 0.25098908, -0.215390...  \n",
       "3  [0.078890786, 0.49683163, 0.19660878, -0.27269...  \n",
       "4  [0.19221896, 0.33827958, 0.17991517, -0.040666...  "
      ]
     },
     "execution_count": 5,
     "metadata": {},
     "output_type": "execute_result"
    }
   ],
   "source": [
    "df.head()"
   ]
  },
  {
   "cell_type": "markdown",
   "id": "0dc9f945-a53a-45e2-acc5-56b73b8f14a1",
   "metadata": {},
   "source": [
    "因為餘弦值的範圍是[-1,+1]，把相似度計算時一般需要值歸一化到[0,1]，一般通過右方公式： sim = 0.5 + 0.5 * cosθ"
   ]
  },
  {
   "cell_type": "code",
   "execution_count": 6,
   "id": "40b8900d-f417-4bd0-a2e9-1c25f17ccda5",
   "metadata": {
    "execution": {
     "iopub.execute_input": "2022-03-07T11:53:04.096043Z",
     "iopub.status.busy": "2022-03-07T11:53:04.096043Z",
     "iopub.status.idle": "2022-03-07T11:53:04.112046Z",
     "shell.execute_reply": "2022-03-07T11:53:04.109042Z",
     "shell.execute_reply.started": "2022-03-07T11:53:04.096043Z"
    }
   },
   "outputs": [],
   "source": [
    "def _cosine_similarity(x, y):\n",
    "    return 0.5 + 0.5 * cosine_similarity(x, y)"
   ]
  },
  {
   "cell_type": "code",
   "execution_count": 7,
   "id": "0f59285c-d9b1-4cc4-9787-dc5be46089e4",
   "metadata": {
    "execution": {
     "iopub.execute_input": "2022-03-07T11:53:04.114043Z",
     "iopub.status.busy": "2022-03-07T11:53:04.113040Z",
     "iopub.status.idle": "2022-03-07T11:53:05.146793Z",
     "shell.execute_reply": "2022-03-07T11:53:05.141793Z",
     "shell.execute_reply.started": "2022-03-07T11:53:04.114043Z"
    },
    "tags": []
   },
   "outputs": [],
   "source": [
    "X = Y = df['average_word2vec'].tolist()\n",
    "cos_sim_matrix = _cosine_similarity(X, Y)"
   ]
  },
  {
   "cell_type": "code",
   "execution_count": 8,
   "id": "137ea23e-0441-470e-994c-206fe5d4691c",
   "metadata": {
    "execution": {
     "iopub.execute_input": "2022-03-07T11:53:05.151790Z",
     "iopub.status.busy": "2022-03-07T11:53:05.148790Z",
     "iopub.status.idle": "2022-03-07T11:53:05.172790Z",
     "shell.execute_reply": "2022-03-07T11:53:05.171787Z",
     "shell.execute_reply.started": "2022-03-07T11:53:05.151790Z"
    },
    "tags": []
   },
   "outputs": [
    {
     "data": {
      "text/plain": [
       "0.758572"
      ]
     },
     "execution_count": 8,
     "metadata": {},
     "output_type": "execute_result"
    }
   ],
   "source": [
    "cos_sim_matrix[1][0]"
   ]
  },
  {
   "cell_type": "code",
   "execution_count": 9,
   "id": "a86f9ca5-b20c-4315-80b1-d064dfe9ab92",
   "metadata": {
    "execution": {
     "iopub.execute_input": "2022-03-07T11:53:05.179787Z",
     "iopub.status.busy": "2022-03-07T11:53:05.178785Z",
     "iopub.status.idle": "2022-03-07T11:53:05.204781Z",
     "shell.execute_reply": "2022-03-07T11:53:05.203781Z",
     "shell.execute_reply.started": "2022-03-07T11:53:05.179787Z"
    },
    "tags": []
   },
   "outputs": [
    {
     "data": {
      "text/plain": [
       "array([[1.        , 0.758572  , 0.90703   , ..., 0.85344595, 0.8725451 ,\n",
       "        0.84826905],\n",
       "       [0.758572  , 1.        , 0.7439238 , ..., 0.7942368 , 0.73881257,\n",
       "        0.7509302 ],\n",
       "       [0.90703   , 0.7439238 , 0.99999994, ..., 0.8726629 , 0.93146497,\n",
       "        0.90034205],\n",
       "       ...,\n",
       "       [0.85344595, 0.7942368 , 0.87266284, ..., 1.0000001 , 0.8837795 ,\n",
       "        0.8852408 ],\n",
       "       [0.8725451 , 0.73881257, 0.9314649 , ..., 0.8837795 , 0.9999999 ,\n",
       "        0.9063518 ],\n",
       "       [0.8482691 , 0.7509302 , 0.900342  , ..., 0.88524085, 0.90635175,\n",
       "        1.        ]], dtype=float32)"
      ]
     },
     "execution_count": 9,
     "metadata": {},
     "output_type": "execute_result"
    }
   ],
   "source": [
    "cos_sim_matrix"
   ]
  },
  {
   "cell_type": "code",
   "execution_count": 10,
   "id": "3295441e-9f99-4a7d-be87-6c4ea9ebb1da",
   "metadata": {
    "execution": {
     "iopub.execute_input": "2022-03-07T11:53:05.210792Z",
     "iopub.status.busy": "2022-03-07T11:53:05.208795Z",
     "iopub.status.idle": "2022-03-07T11:53:05.425121Z",
     "shell.execute_reply": "2022-03-07T11:53:05.422114Z",
     "shell.execute_reply.started": "2022-03-07T11:53:05.210792Z"
    },
    "tags": []
   },
   "outputs": [],
   "source": [
    "col_id_li = df['Brand_Name'].tolist()\n",
    "cos_sim_matrix = pd.DataFrame(cos_sim_matrix, columns=col_id_li).set_index(pd.Index(col_id_li))"
   ]
  },
  {
   "cell_type": "code",
   "execution_count": 11,
   "id": "bc80a327-c1f7-454f-939b-9a802e8422d4",
   "metadata": {
    "execution": {
     "iopub.execute_input": "2022-03-07T11:53:05.431116Z",
     "iopub.status.busy": "2022-03-07T11:53:05.430113Z",
     "iopub.status.idle": "2022-03-07T11:53:05.519101Z",
     "shell.execute_reply": "2022-03-07T11:53:05.518099Z",
     "shell.execute_reply.started": "2022-03-07T11:53:05.431116Z"
    }
   },
   "outputs": [
    {
     "data": {
      "text/html": [
       "<div>\n",
       "<style scoped>\n",
       "    .dataframe tbody tr th:only-of-type {\n",
       "        vertical-align: middle;\n",
       "    }\n",
       "\n",
       "    .dataframe tbody tr th {\n",
       "        vertical-align: top;\n",
       "    }\n",
       "\n",
       "    .dataframe thead th {\n",
       "        text-align: right;\n",
       "    }\n",
       "</style>\n",
       "<table border=\"1\" class=\"dataframe\">\n",
       "  <thead>\n",
       "    <tr style=\"text-align: right;\">\n",
       "      <th></th>\n",
       "      <th>TiMISA</th>\n",
       "      <th>東立</th>\n",
       "      <th>ONEY 歐妮</th>\n",
       "      <th>KissXXX</th>\n",
       "      <th>必翔銀髮樂活館</th>\n",
       "      <th>Mirabelle</th>\n",
       "      <th>ECOVER 宜珂</th>\n",
       "      <th>THREE</th>\n",
       "      <th>Song Baby</th>\n",
       "      <th>H&amp;D</th>\n",
       "      <th>...</th>\n",
       "      <th>ROYALLIN 蘿林嚴選</th>\n",
       "      <th>E.dot</th>\n",
       "      <th>十田</th>\n",
       "      <th>Just Gold 鎮金店</th>\n",
       "      <th>SOL</th>\n",
       "      <th>Discovery Adventures</th>\n",
       "      <th>MILDS 曼思</th>\n",
       "      <th>Batiste</th>\n",
       "      <th>SARLEE 沙麗</th>\n",
       "      <th>凱芮絲</th>\n",
       "    </tr>\n",
       "  </thead>\n",
       "  <tbody>\n",
       "    <tr>\n",
       "      <th>TiMISA</th>\n",
       "      <td>1.000000</td>\n",
       "      <td>0.758572</td>\n",
       "      <td>0.907030</td>\n",
       "      <td>0.907102</td>\n",
       "      <td>0.824704</td>\n",
       "      <td>0.916699</td>\n",
       "      <td>0.846956</td>\n",
       "      <td>0.885779</td>\n",
       "      <td>0.762697</td>\n",
       "      <td>0.856181</td>\n",
       "      <td>...</td>\n",
       "      <td>0.912060</td>\n",
       "      <td>0.708097</td>\n",
       "      <td>0.832849</td>\n",
       "      <td>0.960245</td>\n",
       "      <td>0.796940</td>\n",
       "      <td>0.854392</td>\n",
       "      <td>0.888121</td>\n",
       "      <td>0.853446</td>\n",
       "      <td>0.872545</td>\n",
       "      <td>0.848269</td>\n",
       "    </tr>\n",
       "    <tr>\n",
       "      <th>東立</th>\n",
       "      <td>0.758572</td>\n",
       "      <td>1.000000</td>\n",
       "      <td>0.743924</td>\n",
       "      <td>0.738191</td>\n",
       "      <td>0.836014</td>\n",
       "      <td>0.782799</td>\n",
       "      <td>0.742616</td>\n",
       "      <td>0.807854</td>\n",
       "      <td>0.781171</td>\n",
       "      <td>0.819594</td>\n",
       "      <td>...</td>\n",
       "      <td>0.779368</td>\n",
       "      <td>0.748772</td>\n",
       "      <td>0.852376</td>\n",
       "      <td>0.784011</td>\n",
       "      <td>0.729621</td>\n",
       "      <td>0.860925</td>\n",
       "      <td>0.809067</td>\n",
       "      <td>0.794237</td>\n",
       "      <td>0.738813</td>\n",
       "      <td>0.750930</td>\n",
       "    </tr>\n",
       "    <tr>\n",
       "      <th>ONEY 歐妮</th>\n",
       "      <td>0.907030</td>\n",
       "      <td>0.743924</td>\n",
       "      <td>1.000000</td>\n",
       "      <td>0.933436</td>\n",
       "      <td>0.788747</td>\n",
       "      <td>0.887345</td>\n",
       "      <td>0.825329</td>\n",
       "      <td>0.859221</td>\n",
       "      <td>0.760539</td>\n",
       "      <td>0.864124</td>\n",
       "      <td>...</td>\n",
       "      <td>0.917719</td>\n",
       "      <td>0.684956</td>\n",
       "      <td>0.789521</td>\n",
       "      <td>0.886385</td>\n",
       "      <td>0.793589</td>\n",
       "      <td>0.839175</td>\n",
       "      <td>0.881329</td>\n",
       "      <td>0.872663</td>\n",
       "      <td>0.931465</td>\n",
       "      <td>0.900342</td>\n",
       "    </tr>\n",
       "    <tr>\n",
       "      <th>KissXXX</th>\n",
       "      <td>0.907102</td>\n",
       "      <td>0.738191</td>\n",
       "      <td>0.933436</td>\n",
       "      <td>1.000000</td>\n",
       "      <td>0.770844</td>\n",
       "      <td>0.911137</td>\n",
       "      <td>0.837978</td>\n",
       "      <td>0.890841</td>\n",
       "      <td>0.756170</td>\n",
       "      <td>0.849472</td>\n",
       "      <td>...</td>\n",
       "      <td>0.912980</td>\n",
       "      <td>0.684998</td>\n",
       "      <td>0.812345</td>\n",
       "      <td>0.893360</td>\n",
       "      <td>0.760739</td>\n",
       "      <td>0.843000</td>\n",
       "      <td>0.906805</td>\n",
       "      <td>0.873521</td>\n",
       "      <td>0.922754</td>\n",
       "      <td>0.887772</td>\n",
       "    </tr>\n",
       "    <tr>\n",
       "      <th>必翔銀髮樂活館</th>\n",
       "      <td>0.824704</td>\n",
       "      <td>0.836014</td>\n",
       "      <td>0.788747</td>\n",
       "      <td>0.770844</td>\n",
       "      <td>1.000000</td>\n",
       "      <td>0.792592</td>\n",
       "      <td>0.837702</td>\n",
       "      <td>0.861360</td>\n",
       "      <td>0.807453</td>\n",
       "      <td>0.829592</td>\n",
       "      <td>...</td>\n",
       "      <td>0.841690</td>\n",
       "      <td>0.738969</td>\n",
       "      <td>0.879205</td>\n",
       "      <td>0.804053</td>\n",
       "      <td>0.785263</td>\n",
       "      <td>0.851460</td>\n",
       "      <td>0.843982</td>\n",
       "      <td>0.827633</td>\n",
       "      <td>0.793946</td>\n",
       "      <td>0.814955</td>\n",
       "    </tr>\n",
       "    <tr>\n",
       "      <th>...</th>\n",
       "      <td>...</td>\n",
       "      <td>...</td>\n",
       "      <td>...</td>\n",
       "      <td>...</td>\n",
       "      <td>...</td>\n",
       "      <td>...</td>\n",
       "      <td>...</td>\n",
       "      <td>...</td>\n",
       "      <td>...</td>\n",
       "      <td>...</td>\n",
       "      <td>...</td>\n",
       "      <td>...</td>\n",
       "      <td>...</td>\n",
       "      <td>...</td>\n",
       "      <td>...</td>\n",
       "      <td>...</td>\n",
       "      <td>...</td>\n",
       "      <td>...</td>\n",
       "      <td>...</td>\n",
       "      <td>...</td>\n",
       "      <td>...</td>\n",
       "    </tr>\n",
       "    <tr>\n",
       "      <th>Discovery Adventures</th>\n",
       "      <td>0.854392</td>\n",
       "      <td>0.860925</td>\n",
       "      <td>0.839175</td>\n",
       "      <td>0.843000</td>\n",
       "      <td>0.851460</td>\n",
       "      <td>0.870804</td>\n",
       "      <td>0.830340</td>\n",
       "      <td>0.867486</td>\n",
       "      <td>0.774360</td>\n",
       "      <td>0.870790</td>\n",
       "      <td>...</td>\n",
       "      <td>0.882534</td>\n",
       "      <td>0.762748</td>\n",
       "      <td>0.868280</td>\n",
       "      <td>0.866683</td>\n",
       "      <td>0.811207</td>\n",
       "      <td>1.000000</td>\n",
       "      <td>0.885181</td>\n",
       "      <td>0.843441</td>\n",
       "      <td>0.846388</td>\n",
       "      <td>0.836464</td>\n",
       "    </tr>\n",
       "    <tr>\n",
       "      <th>MILDS 曼思</th>\n",
       "      <td>0.888121</td>\n",
       "      <td>0.809068</td>\n",
       "      <td>0.881329</td>\n",
       "      <td>0.906805</td>\n",
       "      <td>0.843982</td>\n",
       "      <td>0.877335</td>\n",
       "      <td>0.882332</td>\n",
       "      <td>0.936227</td>\n",
       "      <td>0.783614</td>\n",
       "      <td>0.877801</td>\n",
       "      <td>...</td>\n",
       "      <td>0.907052</td>\n",
       "      <td>0.732642</td>\n",
       "      <td>0.875585</td>\n",
       "      <td>0.879562</td>\n",
       "      <td>0.767939</td>\n",
       "      <td>0.885181</td>\n",
       "      <td>1.000000</td>\n",
       "      <td>0.912794</td>\n",
       "      <td>0.889594</td>\n",
       "      <td>0.887356</td>\n",
       "    </tr>\n",
       "    <tr>\n",
       "      <th>Batiste</th>\n",
       "      <td>0.853446</td>\n",
       "      <td>0.794237</td>\n",
       "      <td>0.872663</td>\n",
       "      <td>0.873521</td>\n",
       "      <td>0.827633</td>\n",
       "      <td>0.851744</td>\n",
       "      <td>0.880226</td>\n",
       "      <td>0.903247</td>\n",
       "      <td>0.776726</td>\n",
       "      <td>0.838925</td>\n",
       "      <td>...</td>\n",
       "      <td>0.879040</td>\n",
       "      <td>0.716879</td>\n",
       "      <td>0.839144</td>\n",
       "      <td>0.858884</td>\n",
       "      <td>0.759123</td>\n",
       "      <td>0.843441</td>\n",
       "      <td>0.912794</td>\n",
       "      <td>1.000000</td>\n",
       "      <td>0.883780</td>\n",
       "      <td>0.885241</td>\n",
       "    </tr>\n",
       "    <tr>\n",
       "      <th>SARLEE 沙麗</th>\n",
       "      <td>0.872545</td>\n",
       "      <td>0.738813</td>\n",
       "      <td>0.931465</td>\n",
       "      <td>0.922754</td>\n",
       "      <td>0.793946</td>\n",
       "      <td>0.859691</td>\n",
       "      <td>0.838541</td>\n",
       "      <td>0.868047</td>\n",
       "      <td>0.777534</td>\n",
       "      <td>0.840260</td>\n",
       "      <td>...</td>\n",
       "      <td>0.917149</td>\n",
       "      <td>0.716550</td>\n",
       "      <td>0.804487</td>\n",
       "      <td>0.859126</td>\n",
       "      <td>0.767238</td>\n",
       "      <td>0.846388</td>\n",
       "      <td>0.889594</td>\n",
       "      <td>0.883780</td>\n",
       "      <td>1.000000</td>\n",
       "      <td>0.906352</td>\n",
       "    </tr>\n",
       "    <tr>\n",
       "      <th>凱芮絲</th>\n",
       "      <td>0.848269</td>\n",
       "      <td>0.750930</td>\n",
       "      <td>0.900342</td>\n",
       "      <td>0.887772</td>\n",
       "      <td>0.814955</td>\n",
       "      <td>0.843387</td>\n",
       "      <td>0.834532</td>\n",
       "      <td>0.882788</td>\n",
       "      <td>0.794470</td>\n",
       "      <td>0.817998</td>\n",
       "      <td>...</td>\n",
       "      <td>0.889577</td>\n",
       "      <td>0.693895</td>\n",
       "      <td>0.819047</td>\n",
       "      <td>0.852895</td>\n",
       "      <td>0.749642</td>\n",
       "      <td>0.836464</td>\n",
       "      <td>0.887356</td>\n",
       "      <td>0.885241</td>\n",
       "      <td>0.906352</td>\n",
       "      <td>1.000000</td>\n",
       "    </tr>\n",
       "  </tbody>\n",
       "</table>\n",
       "<p>3355 rows × 3355 columns</p>\n",
       "</div>"
      ],
      "text/plain": [
       "                        TiMISA        東立   ONEY 歐妮   KissXXX   必翔銀髮樂活館  \\\n",
       "TiMISA                1.000000  0.758572  0.907030  0.907102  0.824704   \n",
       "東立                    0.758572  1.000000  0.743924  0.738191  0.836014   \n",
       "ONEY 歐妮               0.907030  0.743924  1.000000  0.933436  0.788747   \n",
       "KissXXX               0.907102  0.738191  0.933436  1.000000  0.770844   \n",
       "必翔銀髮樂活館               0.824704  0.836014  0.788747  0.770844  1.000000   \n",
       "...                        ...       ...       ...       ...       ...   \n",
       "Discovery Adventures  0.854392  0.860925  0.839175  0.843000  0.851460   \n",
       "MILDS 曼思              0.888121  0.809068  0.881329  0.906805  0.843982   \n",
       "Batiste               0.853446  0.794237  0.872663  0.873521  0.827633   \n",
       "SARLEE 沙麗             0.872545  0.738813  0.931465  0.922754  0.793946   \n",
       "凱芮絲                   0.848269  0.750930  0.900342  0.887772  0.814955   \n",
       "\n",
       "                      Mirabelle  ECOVER 宜珂     THREE  Song Baby       H&D  \\\n",
       "TiMISA                 0.916699   0.846956  0.885779   0.762697  0.856181   \n",
       "東立                     0.782799   0.742616  0.807854   0.781171  0.819594   \n",
       "ONEY 歐妮                0.887345   0.825329  0.859221   0.760539  0.864124   \n",
       "KissXXX                0.911137   0.837978  0.890841   0.756170  0.849472   \n",
       "必翔銀髮樂活館                0.792592   0.837702  0.861360   0.807453  0.829592   \n",
       "...                         ...        ...       ...        ...       ...   \n",
       "Discovery Adventures   0.870804   0.830340  0.867486   0.774360  0.870790   \n",
       "MILDS 曼思               0.877335   0.882332  0.936227   0.783614  0.877801   \n",
       "Batiste                0.851744   0.880226  0.903247   0.776726  0.838925   \n",
       "SARLEE 沙麗              0.859691   0.838541  0.868047   0.777534  0.840260   \n",
       "凱芮絲                    0.843387   0.834532  0.882788   0.794470  0.817998   \n",
       "\n",
       "                      ...  ROYALLIN 蘿林嚴選     E.dot        十田  Just Gold 鎮金店  \\\n",
       "TiMISA                ...       0.912060  0.708097  0.832849       0.960245   \n",
       "東立                    ...       0.779368  0.748772  0.852376       0.784011   \n",
       "ONEY 歐妮               ...       0.917719  0.684956  0.789521       0.886385   \n",
       "KissXXX               ...       0.912980  0.684998  0.812345       0.893360   \n",
       "必翔銀髮樂活館               ...       0.841690  0.738969  0.879205       0.804053   \n",
       "...                   ...            ...       ...       ...            ...   \n",
       "Discovery Adventures  ...       0.882534  0.762748  0.868280       0.866683   \n",
       "MILDS 曼思              ...       0.907052  0.732642  0.875585       0.879562   \n",
       "Batiste               ...       0.879040  0.716879  0.839144       0.858884   \n",
       "SARLEE 沙麗             ...       0.917149  0.716550  0.804487       0.859126   \n",
       "凱芮絲                   ...       0.889577  0.693895  0.819047       0.852895   \n",
       "\n",
       "                           SOL  Discovery Adventures  MILDS 曼思   Batiste  \\\n",
       "TiMISA                0.796940              0.854392  0.888121  0.853446   \n",
       "東立                    0.729621              0.860925  0.809067  0.794237   \n",
       "ONEY 歐妮               0.793589              0.839175  0.881329  0.872663   \n",
       "KissXXX               0.760739              0.843000  0.906805  0.873521   \n",
       "必翔銀髮樂活館               0.785263              0.851460  0.843982  0.827633   \n",
       "...                        ...                   ...       ...       ...   \n",
       "Discovery Adventures  0.811207              1.000000  0.885181  0.843441   \n",
       "MILDS 曼思              0.767939              0.885181  1.000000  0.912794   \n",
       "Batiste               0.759123              0.843441  0.912794  1.000000   \n",
       "SARLEE 沙麗             0.767238              0.846388  0.889594  0.883780   \n",
       "凱芮絲                   0.749642              0.836464  0.887356  0.885241   \n",
       "\n",
       "                      SARLEE 沙麗       凱芮絲  \n",
       "TiMISA                 0.872545  0.848269  \n",
       "東立                     0.738813  0.750930  \n",
       "ONEY 歐妮                0.931465  0.900342  \n",
       "KissXXX                0.922754  0.887772  \n",
       "必翔銀髮樂活館                0.793946  0.814955  \n",
       "...                         ...       ...  \n",
       "Discovery Adventures   0.846388  0.836464  \n",
       "MILDS 曼思               0.889594  0.887356  \n",
       "Batiste                0.883780  0.885241  \n",
       "SARLEE 沙麗              1.000000  0.906352  \n",
       "凱芮絲                    0.906352  1.000000  \n",
       "\n",
       "[3355 rows x 3355 columns]"
      ]
     },
     "execution_count": 11,
     "metadata": {},
     "output_type": "execute_result"
    }
   ],
   "source": [
    "cos_sim_matrix"
   ]
  },
  {
   "cell_type": "code",
   "execution_count": 12,
   "id": "5751166d-9391-43ae-8669-7dfb931d3e44",
   "metadata": {
    "execution": {
     "iopub.execute_input": "2022-03-07T11:53:05.528099Z",
     "iopub.status.busy": "2022-03-07T11:53:05.526099Z",
     "iopub.status.idle": "2022-03-07T11:53:17.549370Z",
     "shell.execute_reply": "2022-03-07T11:53:17.548353Z",
     "shell.execute_reply.started": "2022-03-07T11:53:05.528099Z"
    },
    "tags": []
   },
   "outputs": [],
   "source": [
    "with open('./Data/cos_sim_matrix.json', 'w', encoding='utf-8') as file:\n",
    "    cos_sim_matrix.to_json(file, force_ascii=False, orient = 'index')"
   ]
  },
  {
   "cell_type": "code",
   "execution_count": 13,
   "id": "64492105-ad2e-45f9-a350-92ae277b1667",
   "metadata": {
    "execution": {
     "iopub.execute_input": "2022-03-07T11:53:17.551360Z",
     "iopub.status.busy": "2022-03-07T11:53:17.550355Z",
     "iopub.status.idle": "2022-03-07T11:54:20.718614Z",
     "shell.execute_reply": "2022-03-07T11:54:20.717613Z",
     "shell.execute_reply.started": "2022-03-07T11:53:17.551360Z"
    },
    "tags": []
   },
   "outputs": [],
   "source": [
    "klist = [15, 20, 25, 30, 35, 40, 45, 50, 55, 60, 65, 70]\n",
    "x = np.stack(df['average_word2vec'], axis=0)\n",
    "kmeans_per_k = [KMeans(n_clusters=k, random_state=42).fit(x)\n",
    "                for k in klist]\n",
    "inertias = [model.inertia_ for model in kmeans_per_k]"
   ]
  },
  {
   "cell_type": "code",
   "execution_count": 14,
   "id": "2f24ecc7-d676-4af9-b94e-937ed257aa03",
   "metadata": {
    "execution": {
     "iopub.execute_input": "2022-03-07T11:54:20.720614Z",
     "iopub.status.busy": "2022-03-07T11:54:20.720614Z",
     "iopub.status.idle": "2022-03-07T11:54:20.734612Z",
     "shell.execute_reply": "2022-03-07T11:54:20.733612Z",
     "shell.execute_reply.started": "2022-03-07T11:54:20.720614Z"
    }
   },
   "outputs": [
    {
     "data": {
      "text/plain": [
       "[4545.9736328125,\n",
       " 4399.4990234375,\n",
       " 4253.6806640625,\n",
       " 4140.55078125,\n",
       " 4056.12646484375,\n",
       " 3971.3779296875,\n",
       " 3896.86376953125,\n",
       " 3825.01416015625,\n",
       " 3771.092041015625,\n",
       " 3738.291015625,\n",
       " 3675.10107421875,\n",
       " 3636.546875]"
      ]
     },
     "execution_count": 14,
     "metadata": {},
     "output_type": "execute_result"
    }
   ],
   "source": [
    "inertias"
   ]
  },
  {
   "cell_type": "code",
   "execution_count": 15,
   "id": "b4a2ff35-f49c-42ea-8b0c-f94eed46e4cc",
   "metadata": {
    "execution": {
     "iopub.execute_input": "2022-03-07T11:54:20.738612Z",
     "iopub.status.busy": "2022-03-07T11:54:20.737612Z",
     "iopub.status.idle": "2022-03-07T11:54:21.444358Z",
     "shell.execute_reply": "2022-03-07T11:54:21.443357Z",
     "shell.execute_reply.started": "2022-03-07T11:54:20.738612Z"
    },
    "tags": []
   },
   "outputs": [
    {
     "data": {
      "image/png": "[encoded data removed]",
      "text/plain": [
       "<Figure size 720x252 with 1 Axes>"
      ]
     },
     "metadata": {
      "needs_background": "light"
     },
     "output_type": "display_data"
    }
   ],
   "source": [
    "plt.figure(figsize=(10, 3.5))\n",
    "plt.plot(klist,inertias, \"bo-\")\n",
    "plt.xlabel(\"$klist$\", fontsize=14,color='red')\n",
    "plt.ylabel(\"Inertia\", fontsize=14,color='red')\n",
    "plt.axis([klist[0]-10, klist[-1]+10, 3000, 5000])\n",
    "\n",
    "plt.show()"
   ]
  },
  {
   "cell_type": "code",
   "execution_count": 16,
   "id": "448d6048-8ab7-4fdf-9fe2-54eb1d277438",
   "metadata": {
    "execution": {
     "iopub.execute_input": "2022-03-07T11:54:21.446357Z",
     "iopub.status.busy": "2022-03-07T11:54:21.445356Z",
     "iopub.status.idle": "2022-03-07T11:54:28.854217Z",
     "shell.execute_reply": "2022-03-07T11:54:28.850217Z",
     "shell.execute_reply.started": "2022-03-07T11:54:21.446357Z"
    }
   },
   "outputs": [],
   "source": [
    "k = 70\n",
    "kmeans = KMeans(n_clusters=k, random_state=42)\n",
    "clusters_pred = kmeans.fit_predict(x)"
   ]
  },
  {
   "cell_type": "code",
   "execution_count": 17,
   "id": "703726b2-5477-40f6-8a15-4a026259a43b",
   "metadata": {
    "execution": {
     "iopub.execute_input": "2022-03-07T11:54:28.860216Z",
     "iopub.status.busy": "2022-03-07T11:54:28.859216Z",
     "iopub.status.idle": "2022-03-07T11:54:28.883212Z",
     "shell.execute_reply": "2022-03-07T11:54:28.881212Z",
     "shell.execute_reply.started": "2022-03-07T11:54:28.860216Z"
    }
   },
   "outputs": [
    {
     "data": {
      "text/plain": [
       "3636.546875"
      ]
     },
     "execution_count": 17,
     "metadata": {},
     "output_type": "execute_result"
    }
   ],
   "source": [
    "kmeans.inertia_"
   ]
  },
  {
   "cell_type": "code",
   "execution_count": 18,
   "id": "cb814290-bbae-43b6-8132-e16566b7cccc",
   "metadata": {
    "execution": {
     "iopub.execute_input": "2022-03-07T11:54:28.888212Z",
     "iopub.status.busy": "2022-03-07T11:54:28.885212Z",
     "iopub.status.idle": "2022-03-07T11:54:28.916213Z",
     "shell.execute_reply": "2022-03-07T11:54:28.912208Z",
     "shell.execute_reply.started": "2022-03-07T11:54:28.888212Z"
    }
   },
   "outputs": [
    {
     "data": {
      "text/plain": [
       "array([[ 0.07254556,  0.45882893,  0.24858114, ...,  0.17325972,\n",
       "        -0.0585449 ,  0.12083411],\n",
       "       [ 0.14560023,  0.45855978,  0.11084093, ...,  0.28385565,\n",
       "         0.01130423,  0.3069648 ],\n",
       "       [ 0.23185696,  0.41985777,  0.17958279, ...,  0.02731491,\n",
       "         0.04282061,  0.12154806],\n",
       "       ...,\n",
       "       [ 0.0603705 ,  0.33570123,  0.07927875, ...,  0.32677764,\n",
       "         0.12110963,  0.24568062],\n",
       "       [ 0.10523529,  0.44066823,  0.28005296, ...,  0.17343244,\n",
       "        -0.12484547,  0.1432346 ],\n",
       "       [ 0.08086786,  0.40802526,  0.25661775, ...,  0.11419491,\n",
       "        -0.06642363,  0.19978899]], dtype=float32)"
      ]
     },
     "execution_count": 18,
     "metadata": {},
     "output_type": "execute_result"
    }
   ],
   "source": [
    "kmeans.cluster_centers_"
   ]
  },
  {
   "cell_type": "code",
   "execution_count": 19,
   "id": "bb445748-c2f4-4692-bd5c-8c7bbf62e4f1",
   "metadata": {
    "execution": {
     "iopub.execute_input": "2022-03-07T11:54:28.923206Z",
     "iopub.status.busy": "2022-03-07T11:54:28.920206Z",
     "iopub.status.idle": "2022-03-07T11:54:28.959200Z",
     "shell.execute_reply": "2022-03-07T11:54:28.958200Z",
     "shell.execute_reply.started": "2022-03-07T11:54:28.922205Z"
    }
   },
   "outputs": [
    {
     "data": {
      "text/plain": [
       "array([35, 13, 10, ...,  9, 55, 26])"
      ]
     },
     "execution_count": 19,
     "metadata": {},
     "output_type": "execute_result"
    }
   ],
   "source": [
    "kmeans.labels_"
   ]
  },
  {
   "cell_type": "code",
   "execution_count": 20,
   "id": "3792cd64-4be7-4987-8851-d6d44f0a7091",
   "metadata": {
    "execution": {
     "iopub.execute_input": "2022-03-07T11:54:28.962202Z",
     "iopub.status.busy": "2022-03-07T11:54:28.961201Z",
     "iopub.status.idle": "2022-03-07T11:54:28.975198Z",
     "shell.execute_reply": "2022-03-07T11:54:28.974200Z",
     "shell.execute_reply.started": "2022-03-07T11:54:28.962202Z"
    },
    "tags": []
   },
   "outputs": [],
   "source": [
    "df['group'] = kmeans.labels_"
   ]
  },
  {
   "cell_type": "code",
   "execution_count": 21,
   "id": "391cc8a8-0a94-4acc-8d30-65171f452f86",
   "metadata": {
    "execution": {
     "iopub.execute_input": "2022-03-07T11:54:28.977198Z",
     "iopub.status.busy": "2022-03-07T11:54:28.977198Z",
     "iopub.status.idle": "2022-03-07T11:54:29.038190Z",
     "shell.execute_reply": "2022-03-07T11:54:29.036187Z",
     "shell.execute_reply.started": "2022-03-07T11:54:28.977198Z"
    },
    "tags": []
   },
   "outputs": [],
   "source": [
    "by_group = df.groupby('group').size().reset_index(name='count').sort_values(by='count', ascending=False)"
   ]
  },
  {
   "cell_type": "code",
   "execution_count": 22,
   "id": "7b1a0503-5093-4271-bf27-36a9cd8434db",
   "metadata": {
    "execution": {
     "iopub.execute_input": "2022-03-07T11:54:29.041189Z",
     "iopub.status.busy": "2022-03-07T11:54:29.040188Z",
     "iopub.status.idle": "2022-03-07T11:54:29.070184Z",
     "shell.execute_reply": "2022-03-07T11:54:29.068184Z",
     "shell.execute_reply.started": "2022-03-07T11:54:29.041189Z"
    },
    "tags": []
   },
   "outputs": [
    {
     "data": {
      "text/html": [
       "<div>\n",
       "<style scoped>\n",
       "    .dataframe tbody tr th:only-of-type {\n",
       "        vertical-align: middle;\n",
       "    }\n",
       "\n",
       "    .dataframe tbody tr th {\n",
       "        vertical-align: top;\n",
       "    }\n",
       "\n",
       "    .dataframe thead th {\n",
       "        text-align: right;\n",
       "    }\n",
       "</style>\n",
       "<table border=\"1\" class=\"dataframe\">\n",
       "  <thead>\n",
       "    <tr style=\"text-align: right;\">\n",
       "      <th></th>\n",
       "      <th>group</th>\n",
       "      <th>count</th>\n",
       "    </tr>\n",
       "  </thead>\n",
       "  <tbody>\n",
       "    <tr>\n",
       "      <th>0</th>\n",
       "      <td>0</td>\n",
       "      <td>100</td>\n",
       "    </tr>\n",
       "    <tr>\n",
       "      <th>56</th>\n",
       "      <td>56</td>\n",
       "      <td>94</td>\n",
       "    </tr>\n",
       "    <tr>\n",
       "      <th>11</th>\n",
       "      <td>11</td>\n",
       "      <td>88</td>\n",
       "    </tr>\n",
       "    <tr>\n",
       "      <th>49</th>\n",
       "      <td>49</td>\n",
       "      <td>86</td>\n",
       "    </tr>\n",
       "    <tr>\n",
       "      <th>14</th>\n",
       "      <td>14</td>\n",
       "      <td>86</td>\n",
       "    </tr>\n",
       "    <tr>\n",
       "      <th>6</th>\n",
       "      <td>6</td>\n",
       "      <td>86</td>\n",
       "    </tr>\n",
       "    <tr>\n",
       "      <th>46</th>\n",
       "      <td>46</td>\n",
       "      <td>81</td>\n",
       "    </tr>\n",
       "    <tr>\n",
       "      <th>35</th>\n",
       "      <td>35</td>\n",
       "      <td>81</td>\n",
       "    </tr>\n",
       "    <tr>\n",
       "      <th>38</th>\n",
       "      <td>38</td>\n",
       "      <td>80</td>\n",
       "    </tr>\n",
       "    <tr>\n",
       "      <th>48</th>\n",
       "      <td>48</td>\n",
       "      <td>80</td>\n",
       "    </tr>\n",
       "    <tr>\n",
       "      <th>3</th>\n",
       "      <td>3</td>\n",
       "      <td>77</td>\n",
       "    </tr>\n",
       "    <tr>\n",
       "      <th>60</th>\n",
       "      <td>60</td>\n",
       "      <td>77</td>\n",
       "    </tr>\n",
       "    <tr>\n",
       "      <th>12</th>\n",
       "      <td>12</td>\n",
       "      <td>71</td>\n",
       "    </tr>\n",
       "    <tr>\n",
       "      <th>59</th>\n",
       "      <td>59</td>\n",
       "      <td>71</td>\n",
       "    </tr>\n",
       "    <tr>\n",
       "      <th>61</th>\n",
       "      <td>61</td>\n",
       "      <td>70</td>\n",
       "    </tr>\n",
       "    <tr>\n",
       "      <th>37</th>\n",
       "      <td>37</td>\n",
       "      <td>68</td>\n",
       "    </tr>\n",
       "    <tr>\n",
       "      <th>24</th>\n",
       "      <td>24</td>\n",
       "      <td>68</td>\n",
       "    </tr>\n",
       "    <tr>\n",
       "      <th>20</th>\n",
       "      <td>20</td>\n",
       "      <td>68</td>\n",
       "    </tr>\n",
       "    <tr>\n",
       "      <th>19</th>\n",
       "      <td>19</td>\n",
       "      <td>64</td>\n",
       "    </tr>\n",
       "    <tr>\n",
       "      <th>5</th>\n",
       "      <td>5</td>\n",
       "      <td>64</td>\n",
       "    </tr>\n",
       "    <tr>\n",
       "      <th>55</th>\n",
       "      <td>55</td>\n",
       "      <td>64</td>\n",
       "    </tr>\n",
       "    <tr>\n",
       "      <th>8</th>\n",
       "      <td>8</td>\n",
       "      <td>64</td>\n",
       "    </tr>\n",
       "    <tr>\n",
       "      <th>21</th>\n",
       "      <td>21</td>\n",
       "      <td>63</td>\n",
       "    </tr>\n",
       "    <tr>\n",
       "      <th>13</th>\n",
       "      <td>13</td>\n",
       "      <td>63</td>\n",
       "    </tr>\n",
       "    <tr>\n",
       "      <th>57</th>\n",
       "      <td>57</td>\n",
       "      <td>62</td>\n",
       "    </tr>\n",
       "  </tbody>\n",
       "</table>\n",
       "</div>"
      ],
      "text/plain": [
       "    group  count\n",
       "0       0    100\n",
       "56     56     94\n",
       "11     11     88\n",
       "49     49     86\n",
       "14     14     86\n",
       "6       6     86\n",
       "46     46     81\n",
       "35     35     81\n",
       "38     38     80\n",
       "48     48     80\n",
       "3       3     77\n",
       "60     60     77\n",
       "12     12     71\n",
       "59     59     71\n",
       "61     61     70\n",
       "37     37     68\n",
       "24     24     68\n",
       "20     20     68\n",
       "19     19     64\n",
       "5       5     64\n",
       "55     55     64\n",
       "8       8     64\n",
       "21     21     63\n",
       "13     13     63\n",
       "57     57     62"
      ]
     },
     "execution_count": 22,
     "metadata": {},
     "output_type": "execute_result"
    }
   ],
   "source": [
    "by_group.head(25)"
   ]
  },
  {
   "cell_type": "code",
   "execution_count": 23,
   "id": "91927465-1c49-49d3-a5b6-762e661f72a9",
   "metadata": {
    "execution": {
     "iopub.execute_input": "2022-03-07T11:54:29.074183Z",
     "iopub.status.busy": "2022-03-07T11:54:29.072183Z",
     "iopub.status.idle": "2022-03-07T11:54:29.118177Z",
     "shell.execute_reply": "2022-03-07T11:54:29.116175Z",
     "shell.execute_reply.started": "2022-03-07T11:54:29.074183Z"
    },
    "tags": []
   },
   "outputs": [],
   "source": [
    "final_df = df.query(\"group in [59, 61, 57]\")\\\n",
    "             .drop(['Attribute_Freq15', 'Attribute_Freq15_w2v_filter', 'Attribute_diff', 'Attribute_Freq15_w2v_vec'], axis=1)\\\n",
    "             .reset_index(drop=True)"
   ]
  },
  {
   "cell_type": "code",
   "execution_count": 24,
   "id": "17b875ee-7108-462b-92ab-cf97abd42eda",
   "metadata": {
    "execution": {
     "iopub.execute_input": "2022-03-07T11:54:29.122176Z",
     "iopub.status.busy": "2022-03-07T11:54:29.121176Z",
     "iopub.status.idle": "2022-03-07T11:54:29.164168Z",
     "shell.execute_reply": "2022-03-07T11:54:29.163168Z",
     "shell.execute_reply.started": "2022-03-07T11:54:29.121176Z"
    },
    "tags": []
   },
   "outputs": [],
   "source": [
    "with open('./Data/knoledge_graph_data.json', 'w', encoding='utf-8') as file:\n",
    "    final_df.to_json(file, force_ascii=False, orient = 'records')"
   ]
  },
  {
   "cell_type": "code",
   "execution_count": 25,
   "id": "eddb312b-0257-4beb-b7ac-95b5ce500914",
   "metadata": {
    "execution": {
     "iopub.execute_input": "2022-03-07T11:54:29.167170Z",
     "iopub.status.busy": "2022-03-07T11:54:29.166169Z",
     "iopub.status.idle": "2022-03-07T11:54:29.241159Z",
     "shell.execute_reply": "2022-03-07T11:54:29.240158Z",
     "shell.execute_reply.started": "2022-03-07T11:54:29.167170Z"
    }
   },
   "outputs": [
    {
     "data": {
      "text/html": [
       "<div>\n",
       "<style scoped>\n",
       "    .dataframe tbody tr th:only-of-type {\n",
       "        vertical-align: middle;\n",
       "    }\n",
       "\n",
       "    .dataframe tbody tr th {\n",
       "        vertical-align: top;\n",
       "    }\n",
       "\n",
       "    .dataframe thead th {\n",
       "        text-align: right;\n",
       "    }\n",
       "</style>\n",
       "<table border=\"1\" class=\"dataframe\">\n",
       "  <thead>\n",
       "    <tr style=\"text-align: right;\">\n",
       "      <th></th>\n",
       "      <th>Brand_Name</th>\n",
       "      <th>Attribute_Freq15_w2v_name</th>\n",
       "      <th>average_word2vec</th>\n",
       "      <th>group</th>\n",
       "    </tr>\n",
       "  </thead>\n",
       "  <tbody>\n",
       "    <tr>\n",
       "      <th>0</th>\n",
       "      <td>KissXXX</td>\n",
       "      <td>[短靴, 尖頭, 顏色, 質感, 氣質, 鞋面, 高跟鞋, 皮革, 款式, 方頭, 休閒鞋,...</td>\n",
       "      <td>[0.078890786, 0.49683163, 0.19660878, -0.27269...</td>\n",
       "      <td>61</td>\n",
       "    </tr>\n",
       "    <tr>\n",
       "      <th>1</th>\n",
       "      <td>NIKE 耐吉</td>\n",
       "      <td>[耐吉, 慢跑鞋, 耐克, 運動, 籃球鞋, 運動鞋, 男鞋, 體育, 行銷, 鞋款, 服飾...</td>\n",
       "      <td>[0.25121313, 0.49815726, 0.18997276, -0.183825...</td>\n",
       "      <td>61</td>\n",
       "    </tr>\n",
       "    <tr>\n",
       "      <th>2</th>\n",
       "      <td>eyah 宜雅</td>\n",
       "      <td>[純色, 雙人, 製造, 枕套, 被套, 單人, 商城, 枕頭, 纖維, 雙人床, 評價, ...</td>\n",
       "      <td>[0.029829273, 0.4029305, 0.17698006, -0.107716...</td>\n",
       "      <td>57</td>\n",
       "    </tr>\n",
       "    <tr>\n",
       "      <th>3</th>\n",
       "      <td>ISHUR 伊舒爾</td>\n",
       "      <td>[高度, 枕套, 包覆, 網路, 規格, 床墊, 雙人, 單人, 枕頭, 涼蓆, 評價, 加...</td>\n",
       "      <td>[0.047591295, 0.39190605, 0.17163347, -0.10447...</td>\n",
       "      <td>57</td>\n",
       "    </tr>\n",
       "    <tr>\n",
       "      <th>4</th>\n",
       "      <td>BELLE VIE</td>\n",
       "      <td>[雙人, 棉被, 被套, 製造, 單人, 加大, 名稱, 寢具, 任選, 黃色, 臺灣, 床...</td>\n",
       "      <td>[0.015816009, 0.38298696, 0.1087512, -0.093291...</td>\n",
       "      <td>57</td>\n",
       "    </tr>\n",
       "    <tr>\n",
       "      <th>...</th>\n",
       "      <td>...</td>\n",
       "      <td>...</td>\n",
       "      <td>...</td>\n",
       "      <td>...</td>\n",
       "    </tr>\n",
       "    <tr>\n",
       "      <th>198</th>\n",
       "      <td>HO KANG</td>\n",
       "      <td>[傢俱, 卡通, 寢飾, 物業, 雙人, 單人, 枕頭, 嬰兒, 購買, 管理, 類型, 尺...</td>\n",
       "      <td>[0.087314785, 0.43361774, 0.202245, -0.1018633...</td>\n",
       "      <td>57</td>\n",
       "    </tr>\n",
       "    <tr>\n",
       "      <th>199</th>\n",
       "      <td>DIN.Y</td>\n",
       "      <td>[商店, 韓國, 鞋面, 高跟鞋, 皮革, 方式, 休閒鞋, 拖鞋, 真皮, 臺灣, 涼鞋,...</td>\n",
       "      <td>[0.16110209, 0.38938355, 0.13758671, -0.164862...</td>\n",
       "      <td>61</td>\n",
       "    </tr>\n",
       "    <tr>\n",
       "      <th>200</th>\n",
       "      <td>nono house</td>\n",
       "      <td>[種類, 網友, 總覽, 規格, 仕女, 鞋面, 版型, 選購, 尺寸, 休閒鞋, 鞋子, ...</td>\n",
       "      <td>[0.23954068, 0.39861804, 0.13571177, -0.209547...</td>\n",
       "      <td>61</td>\n",
       "    </tr>\n",
       "    <tr>\n",
       "      <th>201</th>\n",
       "      <td>貝兒居家寢飾生活館</td>\n",
       "      <td>[傢俱, 生活館, 床墊, 寢飾, 貝兒, 雙人, 單人, 加大, 纖維, 臺灣, 床罩, ...</td>\n",
       "      <td>[0.07059682, 0.36850137, 0.1589149, -0.0822963...</td>\n",
       "      <td>57</td>\n",
       "    </tr>\n",
       "    <tr>\n",
       "      <th>202</th>\n",
       "      <td>長谷園伊賀燒</td>\n",
       "      <td>[餐廚, 傳承, 亞洲, 鍋具, 歷史, 琵琶湖, 評價, 藝術, 地方, 調理, 遠紅外線...</td>\n",
       "      <td>[0.116223365, 0.41260532, 0.27980235, -0.22184...</td>\n",
       "      <td>59</td>\n",
       "    </tr>\n",
       "  </tbody>\n",
       "</table>\n",
       "<p>203 rows × 4 columns</p>\n",
       "</div>"
      ],
      "text/plain": [
       "     Brand_Name                          Attribute_Freq15_w2v_name  \\\n",
       "0       KissXXX  [短靴, 尖頭, 顏色, 質感, 氣質, 鞋面, 高跟鞋, 皮革, 款式, 方頭, 休閒鞋,...   \n",
       "1       NIKE 耐吉  [耐吉, 慢跑鞋, 耐克, 運動, 籃球鞋, 運動鞋, 男鞋, 體育, 行銷, 鞋款, 服飾...   \n",
       "2       eyah 宜雅  [純色, 雙人, 製造, 枕套, 被套, 單人, 商城, 枕頭, 纖維, 雙人床, 評價, ...   \n",
       "3     ISHUR 伊舒爾  [高度, 枕套, 包覆, 網路, 規格, 床墊, 雙人, 單人, 枕頭, 涼蓆, 評價, 加...   \n",
       "4     BELLE VIE  [雙人, 棉被, 被套, 製造, 單人, 加大, 名稱, 寢具, 任選, 黃色, 臺灣, 床...   \n",
       "..          ...                                                ...   \n",
       "198     HO KANG  [傢俱, 卡通, 寢飾, 物業, 雙人, 單人, 枕頭, 嬰兒, 購買, 管理, 類型, 尺...   \n",
       "199       DIN.Y  [商店, 韓國, 鞋面, 高跟鞋, 皮革, 方式, 休閒鞋, 拖鞋, 真皮, 臺灣, 涼鞋,...   \n",
       "200  nono house  [種類, 網友, 總覽, 規格, 仕女, 鞋面, 版型, 選購, 尺寸, 休閒鞋, 鞋子, ...   \n",
       "201   貝兒居家寢飾生活館  [傢俱, 生活館, 床墊, 寢飾, 貝兒, 雙人, 單人, 加大, 纖維, 臺灣, 床罩, ...   \n",
       "202      長谷園伊賀燒  [餐廚, 傳承, 亞洲, 鍋具, 歷史, 琵琶湖, 評價, 藝術, 地方, 調理, 遠紅外線...   \n",
       "\n",
       "                                      average_word2vec  group  \n",
       "0    [0.078890786, 0.49683163, 0.19660878, -0.27269...     61  \n",
       "1    [0.25121313, 0.49815726, 0.18997276, -0.183825...     61  \n",
       "2    [0.029829273, 0.4029305, 0.17698006, -0.107716...     57  \n",
       "3    [0.047591295, 0.39190605, 0.17163347, -0.10447...     57  \n",
       "4    [0.015816009, 0.38298696, 0.1087512, -0.093291...     57  \n",
       "..                                                 ...    ...  \n",
       "198  [0.087314785, 0.43361774, 0.202245, -0.1018633...     57  \n",
       "199  [0.16110209, 0.38938355, 0.13758671, -0.164862...     61  \n",
       "200  [0.23954068, 0.39861804, 0.13571177, -0.209547...     61  \n",
       "201  [0.07059682, 0.36850137, 0.1589149, -0.0822963...     57  \n",
       "202  [0.116223365, 0.41260532, 0.27980235, -0.22184...     59  \n",
       "\n",
       "[203 rows x 4 columns]"
      ]
     },
     "execution_count": 25,
     "metadata": {},
     "output_type": "execute_result"
    }
   ],
   "source": [
    "final_df"
   ]
  },
  {
   "cell_type": "code",
   "execution_count": null,
   "id": "f4553824-780d-4ec8-b97f-99893bc835cb",
   "metadata": {},
   "outputs": [],
   "source": []
  }
 ],
 "metadata": {
  "kernelspec": {
   "display_name": "Python 3 (ipykernel)",
   "language": "python",
   "name": "python3"
  },
  "language_info": {
   "codemirror_mode": {
    "name": "ipython",
    "version": 3
   },
   "file_extension": ".py",
   "mimetype": "text/x-python",
   "name": "python",
   "nbconvert_exporter": "python",
   "pygments_lexer": "ipython3",
   "version": "3.8.5"
  }
 },
 "nbformat": 4,
 "nbformat_minor": 5
}
