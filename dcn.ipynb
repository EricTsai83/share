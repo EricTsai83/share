{
 "cells": [
  {
   "cell_type": "code",
   "execution_count": null,
   "id": "ed837306-be56-4e6d-9e55-0e62f1e689c2",
   "metadata": {},
   "outputs": [],
   "source": [
    "import pprint\n",
    "import pandas as pd\n",
    "import numpy as np\n",
    "\n",
    "%matplotlib inline\n",
    "import matplotlib.pyplot as plt\n",
    "from mpl_toolkits.axes_grid1 import make_locatable\n",
    "import matplotlib.ticker as mticker\n",
    "\n",
    "import tensorflow as tf\n",
    "import tensorflow_recommenders as tfrs\n",
    "pd.set_option(display.max_columns, 200)\n",
    "\n",
    "import datetime\n",
    "from utils import time_utils\n",
    "from tqdm.notebook import tqdm"
   ]
  },
  {
   "cell_type": "code",
   "execution_count": null,
   "id": "99c9f035-6fe4-4163-88d5-5f1a23217ac8",
   "metadata": {},
   "outputs": [],
   "source": [
    "fund_info_df = pd.read_pickle('../Data/Train_data/pickle')\n",
    "fund_info_df.head(3)"
   ]
  },
  {
   "cell_type": "code",
   "execution_count": null,
   "id": "9c979620-8402-4f8a-aaeb-af361dfe225c",
   "metadata": {},
   "outputs": [],
   "source": [
    "fund_info_df[['lipper_code', 'group_morningstar', 'management_company', 'risk_rating']]"
   ]
  },
  {
   "cell_type": "code",
   "execution_count": null,
   "id": "bb278e66-8648-4292-b515-59572ab0aaf2",
   "metadata": {},
   "outputs": [],
   "source": [
    "fund_apply_df = pd.read_csv('../Data/fund_apply.csv',\n",
    "                            dtype={'cust_id': str, 'lipper_code': str, 'tx_date': str,\n",
    "                                   'tx_amount': int, 'tx_currency': str, 'tx_channel': str,\n",
    "                                   'foreign_fund': str, 'month': str})"
   ]
  },
  {
   "cell_type": "code",
   "execution_count": null,
   "id": "4bd7f7d6-66bb-4ac1-a49e-bf9c07c1cbf3",
   "metadata": {},
   "outputs": [],
   "source": [
    "fund_apply_df = ps.read_csv('../Data/fund_apply.csv',\n",
    "                            dtype={'cust_id':str, 'lipper_code':str, 'tx_date':str,\n",
    "                                   'tx_amount':int, 'tx_currency':str, 'tx_channel':str,\n",
    "                                   'foreign_fund':str, 'month':str})"
   ]
  },
  {
   "cell_type": "code",
   "execution_count": null,
   "id": "0d66e1f1-021b-461f-a983-00bd6d0a124b",
   "metadata": {},
   "outputs": [],
   "source": [
    "fund_apply_df = fund_apply_df.sort_values(by='tx_date').reset_index(drop=True)\n",
    "\n",
    "fund_apply_df['tx_date'] = pd.to_datetime(fund_apply_df['tx_date'])\n",
    "boolean = fund_apply_df['tx_date'] < pd.to_datetime('20210901')\n",
    "boolean = boolean.replace({True: 'train', False:'test'})\n",
    "fund_apply_df['data_split'] = boolean"
   ]
  },
  {
   "cell_type": "code",
   "execution_count": null,
   "id": "5f85dcb2-8637-4e8e-9ded-9306da209615",
   "metadata": {},
   "outputs": [],
   "source": [
    "fund_apply_df = fund_apply_df[['cust_id', 'lipper_code', 'tx_amount', 'tx_currency', 'foreign_fund', 'month', 'data_split']]"
   ]
  },
  {
   "cell_type": "code",
   "execution_count": null,
   "id": "14dd4340-8670-4d48-a841-390186324919",
   "metadata": {},
   "outputs": [],
   "source": [
    "max_invest = fund_apply_df.groupby('cust_id')['tx_amount'].max().reset_index(name='max_tx_amount')"
   ]
  },
  {
   "cell_type": "code",
   "execution_count": null,
   "id": "729f4201-1caf-41ed-8be4-457c6073b68c",
   "metadata": {},
   "outputs": [],
   "source": [
    "fund_apply_df = fund_apply_df.merge(max_invest, on='cust_id', how='left')"
   ]
  },
  {
   "cell_type": "code",
   "execution_count": null,
   "id": "ced83788-3ee3-42fe-8006-5507250f23bc",
   "metadata": {},
   "outputs": [],
   "source": [
    "fund_apply_df"
   ]
  },
  {
   "cell_type": "code",
   "execution_count": null,
   "id": "a40bf3df-b6f0-4833-a6c7-403a7a8bdc7d",
   "metadata": {},
   "outputs": [],
   "source": [
    "fund_apply_df['txn_willing_weight'] = ( (fund_apply_df['tx_amount']/fund_apply_df['max_tx_amount']) * 100 ).apply(int)"
   ]
  },
  {
   "cell_type": "code",
   "execution_count": null,
   "id": "16f213d1-c485-4ad0-9782-3ecd757cd5ec",
   "metadata": {},
   "outputs": [],
   "source": [
    "fund_apply_df = fund_apply_df.drop(['tx_amount', 'max_tx_amount'], axis=1)"
   ]
  },
  {
   "cell_type": "code",
   "execution_count": null,
   "id": "69ebf7a0-431d-4c81-b57f-bcd60c6804ef",
   "metadata": {},
   "outputs": [],
   "source": [
    "fund_apply_df.head()"
   ]
  },
  {
   "cell_type": "code",
   "execution_count": null,
   "id": "98904ad6-763a-4d4d-a797-59a725117d38",
   "metadata": {},
   "outputs": [],
   "source": [
    "fund_apply_df = fund_apply_df.astype({'cuist_id': str})\n",
    "\n",
    "fund_apply_df = fund_apply_df.astype({'lipper_code': str})\n",
    "fund_apply_df = fund_apply_df.astype({'tx_currency': str})\n",
    "fund_apply_df = fund_apply_df.astype({'group_morningstar': str})\n",
    "fund_apply_df = fund_apply_df.astype({'management_company': str})\n",
    "\n",
    "fund_apply_df = fund_apply_df.astype({'foreign_fund': int})\n",
    "fund_apply_df = fund_apply_df.astype({'txn_willing_weight': int})"
   ]
  },
  {
   "cell_type": "code",
   "execution_count": null,
   "id": "897dcea2-d19d-4a8b-99e9-3a380e3d320e",
   "metadata": {},
   "outputs": [],
   "source": [
    "fund_apply_df = fund_apply_df[['cuist_id', 'lipper_code', 'tx_currency',\n",
    "                               'group_morningstar', 'management_company', 'foreign_fund',\n",
    "                               'foreign_fund', 'data_split']]"
   ]
  },
  {
   "cell_type": "code",
   "execution_count": null,
   "id": "fa637776-cd18-47dd-9efd-b5461a1bd081",
   "metadata": {},
   "outputs": [],
   "source": [
    "fund_apply_df.head(2)"
   ]
  },
  {
   "cell_type": "code",
   "execution_count": null,
   "id": "74c32342-c520-464f-9e6d-78442f89bf96",
   "metadata": {},
   "outputs": [],
   "source": [
    "train = fund_apply_df.query(\"data_split==''\")"
   ]
  }
 ],
 "metadata": {
  "kernelspec": {
   "display_name": "Python 3 (ipykernel)",
   "language": "python",
   "name": "python3"
  },
  "language_info": {
   "codemirror_mode": {
    "name": "ipython",
    "version": 3
   },
   "file_extension": ".py",
   "mimetype": "text/x-python",
   "name": "python",
   "nbconvert_exporter": "python",
   "pygments_lexer": "ipython3",
   "version": "3.9.7"
  }
 },
 "nbformat": 4,
 "nbformat_minor": 5
}
