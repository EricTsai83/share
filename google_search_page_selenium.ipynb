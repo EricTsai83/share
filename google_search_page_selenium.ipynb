{
 "cells": [
  {
   "cell_type": "code",
   "execution_count": 1,
   "id": "0c1cd451",
   "metadata": {
    "execution": {
     "iopub.execute_input": "2022-01-09T17:43:37.184881Z",
     "iopub.status.busy": "2022-01-09T17:43:37.184881Z",
     "iopub.status.idle": "2022-01-09T17:43:37.415777Z",
     "shell.execute_reply": "2022-01-09T17:43:37.414755Z",
     "shell.execute_reply.started": "2022-01-09T17:43:37.184881Z"
    }
   },
   "outputs": [],
   "source": [
    "from selenium import webdriver\n",
    "from selenium.webdriver.common.by import By\n",
    "import time\n",
    "import random\n",
    "from selenium.webdriver.common.keys import Keys\n",
    "from opencc import OpenCC\n",
    "cc = OpenCC('s2tw')"
   ]
  },
  {
   "cell_type": "code",
   "execution_count": 2,
   "id": "c2a63f6f",
   "metadata": {
    "execution": {
     "iopub.execute_input": "2022-01-09T17:43:37.418763Z",
     "iopub.status.busy": "2022-01-09T17:43:37.417759Z",
     "iopub.status.idle": "2022-01-09T17:43:37.437756Z",
     "shell.execute_reply": "2022-01-09T17:43:37.431757Z",
     "shell.execute_reply.started": "2022-01-09T17:43:37.418763Z"
    }
   },
   "outputs": [],
   "source": [
    "def spinning_cursor():\n",
    "    while True:\n",
    "        for cursor in '|/-\\\\':\n",
    "            yield cursor"
   ]
  },
  {
   "cell_type": "code",
   "execution_count": 3,
   "id": "95420c51",
   "metadata": {
    "execution": {
     "iopub.execute_input": "2022-01-09T17:43:37.458754Z",
     "iopub.status.busy": "2022-01-09T17:43:37.454774Z",
     "iopub.status.idle": "2022-01-09T17:43:37.478750Z",
     "shell.execute_reply": "2022-01-09T17:43:37.476750Z",
     "shell.execute_reply.started": "2022-01-09T17:43:37.458754Z"
    }
   },
   "outputs": [],
   "source": [
    "emo_lis = ['誠品書店','金石堂','The Wall LiveHouse','星巴克','路易莎咖啡','大創百貨','光華商場']\n",
    "# emo_lis = ['誠品書店','金石堂']"
   ]
  },
  {
   "cell_type": "code",
   "execution_count": null,
   "id": "bf2362bb",
   "metadata": {},
   "outputs": [],
   "source": [
    "spinner = spinning_cursor()\n",
    "data_dic = {}\n",
    "page_num_dic = {}\n",
    "for emo in emo_lis:\n",
    "    time.sleep(120)\n",
    "    try:\n",
    "        options = webdriver.ChromeOptions()\n",
    "        #options.add_argument(\"headless\")\n",
    "        options.add_experimental_option('excludeSwitches', ['enable-logging'])\n",
    "        driver = webdriver.Chrome(options=options)\n",
    "        \n",
    "        \n",
    "        driver.implicitly_wait(10)\n",
    "        driver.get('https://www.google.com') #navigating to google\n",
    "        search_gog=driver.find_element_by_name('q')\n",
    "        search_gog.send_keys(f'{emo}')\n",
    "        search_gog.send_keys(Keys.RETURN)\n",
    "        li = []\n",
    "        for i in range(10):  # page number\n",
    "            for des in driver.find_elements(By.CLASS_NAME, \"VwiC3b.yXK7lf.MUxGbd.yDYNvb.lyLwlc.lEBKkf\"):\n",
    "                text = des.text\n",
    "                li.append(cc.convert(text))\n",
    "\n",
    "            next_links = driver.find_elements_by_link_text(\"下一頁\") # note it is find_elements with an s\n",
    "            if len(next_links):\n",
    "#                 print('Found \"Next\" link')\n",
    "                time.sleep(random.uniform(3,6))\n",
    "                next_links[0].click()\n",
    "            else:\n",
    "#                 print('There is no \"Next\" link')\n",
    "                break\n",
    "\n",
    "        dic[f'{emo}'] = li\n",
    "        page_num_dic[f'{emo}'] = i\n",
    "        \n",
    "\n",
    "    finally:\n",
    "#         input('pausing (hit enter to terminate) ...')\n",
    "        driver.quit()"
   ]
  },
  {
   "cell_type": "code",
   "execution_count": null,
   "id": "3e27681f",
   "metadata": {
    "execution": {
     "iopub.status.busy": "2022-01-09T17:46:04.301652Z",
     "iopub.status.idle": "2022-01-09T17:46:04.306651Z"
    }
   },
   "outputs": [],
   "source": [
    "dic.keys()"
   ]
  },
  {
   "cell_type": "code",
   "execution_count": null,
   "id": "d4626b02",
   "metadata": {
    "execution": {
     "iopub.status.busy": "2022-01-09T17:46:04.316651Z",
     "iopub.status.idle": "2022-01-09T17:46:04.319651Z"
    }
   },
   "outputs": [],
   "source": [
    "len(dic['光華商場'])"
   ]
  }
 ],
 "metadata": {
  "kernelspec": {
   "display_name": "Python 3",
   "language": "python",
   "name": "python3"
  },
  "language_info": {
   "codemirror_mode": {
    "name": "ipython",
    "version": 3
   },
   "file_extension": ".py",
   "mimetype": "text/x-python",
   "name": "python",
   "nbconvert_exporter": "python",
   "pygments_lexer": "ipython3",
   "version": "3.8.8"
  }
 },
 "nbformat": 4,
 "nbformat_minor": 5
}
