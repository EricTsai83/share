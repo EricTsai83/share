{
 "cells": [
  {
   "cell_type": "markdown",
   "metadata": {},
   "source": [
    "# Import library"
   ]
  },
  {
   "cell_type": "code",
   "execution_count": 1,
   "metadata": {
    "execution": {
     "iopub.execute_input": "2021-12-24T13:48:51.542146Z",
     "iopub.status.busy": "2021-12-24T13:48:51.541145Z",
     "iopub.status.idle": "2021-12-24T13:48:52.621909Z",
     "shell.execute_reply": "2021-12-24T13:48:52.620439Z",
     "shell.execute_reply.started": "2021-12-24T13:48:51.542146Z"
    }
   },
   "outputs": [],
   "source": [
    "import requests\n",
    "import re\n",
    "import time\n",
    "from random import randint\n",
    "\n",
    "from bs4 import BeautifulSoup"
   ]
  },
  {
   "cell_type": "markdown",
   "metadata": {},
   "source": [
    "# English"
   ]
  },
  {
   "cell_type": "code",
   "execution_count": 2,
   "metadata": {
    "execution": {
     "iopub.execute_input": "2021-12-24T13:48:52.625914Z",
     "iopub.status.busy": "2021-12-24T13:48:52.623913Z",
     "iopub.status.idle": "2021-12-24T13:48:52.655908Z",
     "shell.execute_reply": "2021-12-24T13:48:52.651909Z",
     "shell.execute_reply.started": "2021-12-24T13:48:52.624914Z"
    }
   },
   "outputs": [],
   "source": [
    "START_SPELL_CHECK=\"search?ie=UTF-8&amp;q=\"\n",
    "END_SPELL_CHECK=\"&amp;spell=1\"\n",
    "\n",
    "# proxies = {\n",
    "#   \"http\": \"http://srvwlproxy.evertrust.com.tw:6588\",\n",
    "#   \"https\": \"https://srvwlproxy.evertrust.com.tw:6588\",\n",
    "# }\n",
    "\n",
    "# HTML_Codes = (\n",
    "#       (\"'\", '&#39;'),\n",
    "#       ('\"', '&quot;'),\n",
    "#       ('>', '&gt;'),\n",
    "#       ('<', '&lt;'),\n",
    "#       ('&', '&amp;'),\n",
    "# )\n",
    "\n",
    "def spell_check(s):\n",
    "    q = '+'.join(s.split())\n",
    "    time.sleep(  randint(0,2) ) #relax and don't let google be angry\n",
    "    r = requests.get(\"https://www.google.com/search?q=\"+q) # r = requests.get(\"https://www.google.com/search?q=\"+q, proxies=proxies)\n",
    "    content = r.text\n",
    "    start=content.find(START_SPELL_CHECK) \n",
    "    if ( start > -1 ):\n",
    "        start = start + len(START_SPELL_CHECK)-1\n",
    "        end=content.find(END_SPELL_CHECK)\n",
    "        search= content[start:end]\n",
    "        search = re.sub(r'<[^>]+>', '', search)\n",
    "#       for code in HTML_Codes:\n",
    "#           search = search.replace(code[1], code[0])\n",
    "        search = search[1:]\n",
    "    else:\n",
    "        search = s\n",
    "    return search"
   ]
  },
  {
   "cell_type": "code",
   "execution_count": 3,
   "metadata": {
    "execution": {
     "iopub.execute_input": "2021-12-24T13:48:52.662908Z",
     "iopub.status.busy": "2021-12-24T13:48:52.662908Z",
     "iopub.status.idle": "2021-12-24T13:48:52.683904Z",
     "shell.execute_reply": "2021-12-24T13:48:52.682915Z",
     "shell.execute_reply.started": "2021-12-24T13:48:52.662908Z"
    }
   },
   "outputs": [],
   "source": [
    "searches = ['steele stake', 'gas mowe', 'metal plate cover gcfi', 'lawn sprkinler', 'ourdoor patio tile', '6 teir shelving',\n",
    "     'storage shelve', 'American Standard Bone round toliet', '6 stell', 'fece posts metal', 'cushions outdoorlounge',\n",
    "     'pricepfister kitchen faucet g135']"
   ]
  },
  {
   "cell_type": "code",
   "execution_count": 4,
   "metadata": {
    "execution": {
     "iopub.execute_input": "2021-12-24T13:48:52.688903Z",
     "iopub.status.busy": "2021-12-24T13:48:52.686907Z",
     "iopub.status.idle": "2021-12-24T13:49:13.685079Z",
     "shell.execute_reply": "2021-12-24T13:49:13.684073Z",
     "shell.execute_reply.started": "2021-12-24T13:48:52.687904Z"
    }
   },
   "outputs": [
    {
     "name": "stdout",
     "output_type": "stream",
     "text": [
      "steele stake->steel stake\n",
      "gas mowe->gas mower\n",
      "metal plate cover gcfi->metal plate cover gfci\n",
      "lawn sprkinler->lawn sprinkler\n",
      "ourdoor patio tile->outdoor patio tile\n",
      "6 teir shelving->6 tier shelving\n",
      "storage shelve->storage shelf\n",
      "American Standard Bone round toliet->American Standard Bone round toilet\n",
      "6 stell->6 steel\n",
      "fece posts metal->fence posts metal\n",
      "cushions outdoorlounge->cushions outdoor lounge\n",
      "pricepfister kitchen faucet g135->price pfister kitchen faucet g135\n"
     ]
    }
   ],
   "source": [
    "for search in searches:\n",
    "    speel_check_search= spell_check(search)\n",
    "    print (search+\"->\" + speel_check_search.replace('+', ' '))"
   ]
  },
  {
   "cell_type": "markdown",
   "metadata": {},
   "source": [
    "# Chinese"
   ]
  },
  {
   "cell_type": "code",
   "execution_count": 5,
   "metadata": {
    "execution": {
     "iopub.execute_input": "2021-12-24T13:49:13.687078Z",
     "iopub.status.busy": "2021-12-24T13:49:13.687078Z",
     "iopub.status.idle": "2021-12-24T13:49:13.702076Z",
     "shell.execute_reply": "2021-12-24T13:49:13.700082Z",
     "shell.execute_reply.started": "2021-12-24T13:49:13.687078Z"
    }
   },
   "outputs": [],
   "source": [
    "from bs4 import BeautifulSoup\n",
    "\n",
    "try:\n",
    "    from urllib import unquote\n",
    "except ImportError:\n",
    "    from urllib.parse import unquote"
   ]
  },
  {
   "cell_type": "code",
   "execution_count": 6,
   "metadata": {
    "execution": {
     "iopub.execute_input": "2021-12-24T13:49:13.705076Z",
     "iopub.status.busy": "2021-12-24T13:49:13.704075Z",
     "iopub.status.idle": "2021-12-24T13:49:13.733074Z",
     "shell.execute_reply": "2021-12-24T13:49:13.732080Z",
     "shell.execute_reply.started": "2021-12-24T13:49:13.705076Z"
    }
   },
   "outputs": [],
   "source": [
    "START_SPELL_CHECK=\"search?ie=UTF-8&amp;q=\"\n",
    "END_SPELL_CHECK=\"&amp;spell=1\"\n",
    "\n",
    "## set proxy\n",
    "# proxies = {\n",
    "#   \"http\": \"http://srvwlproxy.evertrust.com.tw:6588\",\n",
    "#   \"https\": \"https://srvwlproxy.evertrust.com.tw:6588\",\n",
    "# }\n",
    "\n",
    "# HTML_Codes = (\n",
    "#       (\"'\", '&#39;'),\n",
    "#       ('\"', '&quot;'),\n",
    "#       ('>', '&gt;'),\n",
    "#       ('<', '&lt;'),\n",
    "#       ('&', '&amp;'),\n",
    "# )\n",
    "\n",
    "def spell_check(s):\n",
    "    q = '+'.join(s.split())\n",
    "    time.sleep(  randint(0,2) ) #relax and don't let google be angry\n",
    "    r = requests.get(\"https://www.google.com/search?q=\"+q) # add proxy: proxies=proxies\n",
    "    content = r.text\n",
    "    start=content.find(START_SPELL_CHECK) \n",
    "    if ( start > -1 ):\n",
    "        start = start + len(START_SPELL_CHECK)-1\n",
    "        end=content.find(END_SPELL_CHECK)\n",
    "        search= content[start:end]\n",
    "        search = re.sub(r'<[^>]+>', '', search)\n",
    "#       for code in HTML_Codes:\n",
    "#           search = search.replace(code[1], code[0])\n",
    "        search = search[1:]\n",
    "    else:\n",
    "        search = s\n",
    "    return search"
   ]
  },
  {
   "cell_type": "code",
   "execution_count": 7,
   "metadata": {
    "execution": {
     "iopub.execute_input": "2021-12-24T13:49:13.741078Z",
     "iopub.status.busy": "2021-12-24T13:49:13.738070Z",
     "iopub.status.idle": "2021-12-24T13:49:13.764496Z",
     "shell.execute_reply": "2021-12-24T13:49:13.763137Z",
     "shell.execute_reply.started": "2021-12-24T13:49:13.741078Z"
    }
   },
   "outputs": [],
   "source": [
    "searches = ['吃犯', '勇沁', '姓義房屋', '有朝氏']"
   ]
  },
  {
   "cell_type": "code",
   "execution_count": 8,
   "metadata": {
    "execution": {
     "iopub.execute_input": "2021-12-24T13:49:13.766501Z",
     "iopub.status.busy": "2021-12-24T13:49:13.765500Z",
     "iopub.status.idle": "2021-12-24T13:49:22.313562Z",
     "shell.execute_reply": "2021-12-24T13:49:22.312569Z",
     "shell.execute_reply.started": "2021-12-24T13:49:13.766501Z"
    }
   },
   "outputs": [
    {
     "name": "stdout",
     "output_type": "stream",
     "text": [
      "吃犯->吃飯\n",
      "勇沁->永慶\n",
      "姓義房屋->信義房屋\n",
      "有朝氏->有巢氏\n"
     ]
    }
   ],
   "source": [
    "for search in searches:\n",
    "    spell_check_search = spell_check(search)\n",
    "    #     clean_speel_check = speel_check_search.replace('+', ' ')\n",
    "    soup = BeautifulSoup(unquote(spell_check_search), 'html.parser')  # consider installing lxml instead\n",
    "    text = soup.get_text('\\n', strip=True)  # put newlines between sections   \n",
    "    print (search+\"->\" + text)"
   ]
  },
  {
   "cell_type": "code",
   "execution_count": null,
   "metadata": {},
   "outputs": [],
   "source": []
  }
 ],
 "metadata": {
  "kernelspec": {
   "display_name": "Python 3",
   "language": "python",
   "name": "python3"
  },
  "language_info": {
   "codemirror_mode": {
    "name": "ipython",
    "version": 3
   },
   "file_extension": ".py",
   "mimetype": "text/x-python",
   "name": "python",
   "nbconvert_exporter": "python",
   "pygments_lexer": "ipython3",
   "version": "3.7.10"
  }
 },
 "nbformat": 4,
 "nbformat_minor": 4
}
