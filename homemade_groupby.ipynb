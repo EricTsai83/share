{
 "cells": [
  {
   "cell_type": "code",
   "execution_count": 1,
   "id": "b84b8b75-3bd7-40b1-be34-d32ce553b7a4",
   "metadata": {},
   "outputs": [],
   "source": [
    "import numpy as np\n",
    "import pandas as pd\n",
    "import timeit\n",
    "# from numba import njit\n",
    "from joblib import Parallel, delayed"
   ]
  },
  {
   "cell_type": "markdown",
   "id": "8599a044-e38f-4af6-860f-cb5e573d3538",
   "metadata": {},
   "source": [
    "### Create `DataFrame`"
   ]
  },
  {
   "cell_type": "code",
   "execution_count": 2,
   "id": "e0337cd7-60a1-4ce9-9811-a0ec3e50d86c",
   "metadata": {},
   "outputs": [],
   "source": [
    "n_obs = 10**7\n",
    "# n_categories = 10**4"
   ]
  },
  {
   "cell_type": "code",
   "execution_count": 3,
   "id": "f43e6d22-a8cf-44b6-be9f-dcbbea9ab143",
   "metadata": {},
   "outputs": [],
   "source": [
    "np.random.seed(0)\n",
    "df = pd.DataFrame(np.random.randint(0, 100000, size=(n_obs, 4)), columns=list('ABCD'))"
   ]
  },
  {
   "cell_type": "code",
   "execution_count": 4,
   "id": "2e22dfda-97a9-4ce4-9fa0-5923f2a0733d",
   "metadata": {},
   "outputs": [],
   "source": [
    "np.random.seed(0)\n",
    "n_categories = ['A', 'B', 'C', 'D', 'E', 'F', 'G', 'H', 'I', 'J']\n",
    "df['category'] = np.random.choice(n_categories, n_obs, p=[0.25, 0.05, 0.1, 0.15, 0.05, 0.01, 0.03, 0.01, 0.15, 0.2])"
   ]
  },
  {
   "cell_type": "code",
   "execution_count": 5,
   "id": "fdf5710d-3f9d-4fc6-a423-e4d30d2b16de",
   "metadata": {},
   "outputs": [],
   "source": [
    "df['category'] = df['category'] + '11111111111'"
   ]
  },
  {
   "cell_type": "code",
   "execution_count": 6,
   "id": "366fe450-9603-4cf0-9e5e-4c3eaaaf453a",
   "metadata": {},
   "outputs": [
    {
     "data": {
      "text/html": [
       "<div>\n",
       "<style scoped>\n",
       "    .dataframe tbody tr th:only-of-type {\n",
       "        vertical-align: middle;\n",
       "    }\n",
       "\n",
       "    .dataframe tbody tr th {\n",
       "        vertical-align: top;\n",
       "    }\n",
       "\n",
       "    .dataframe thead th {\n",
       "        text-align: right;\n",
       "    }\n",
       "</style>\n",
       "<table border=\"1\" class=\"dataframe\">\n",
       "  <thead>\n",
       "    <tr style=\"text-align: right;\">\n",
       "      <th></th>\n",
       "      <th>A</th>\n",
       "      <th>B</th>\n",
       "      <th>C</th>\n",
       "      <th>D</th>\n",
       "      <th>category</th>\n",
       "    </tr>\n",
       "  </thead>\n",
       "  <tbody>\n",
       "    <tr>\n",
       "      <th>0</th>\n",
       "      <td>68268</td>\n",
       "      <td>43567</td>\n",
       "      <td>42613</td>\n",
       "      <td>45891</td>\n",
       "      <td>D11111111111</td>\n",
       "    </tr>\n",
       "    <tr>\n",
       "      <th>1</th>\n",
       "      <td>21243</td>\n",
       "      <td>95939</td>\n",
       "      <td>97639</td>\n",
       "      <td>41993</td>\n",
       "      <td>I11111111111</td>\n",
       "    </tr>\n",
       "    <tr>\n",
       "      <th>2</th>\n",
       "      <td>86293</td>\n",
       "      <td>55026</td>\n",
       "      <td>80471</td>\n",
       "      <td>80966</td>\n",
       "      <td>F11111111111</td>\n",
       "    </tr>\n",
       "    <tr>\n",
       "      <th>3</th>\n",
       "      <td>48600</td>\n",
       "      <td>39512</td>\n",
       "      <td>52620</td>\n",
       "      <td>80186</td>\n",
       "      <td>D11111111111</td>\n",
       "    </tr>\n",
       "    <tr>\n",
       "      <th>4</th>\n",
       "      <td>17089</td>\n",
       "      <td>32230</td>\n",
       "      <td>18983</td>\n",
       "      <td>89688</td>\n",
       "      <td>D11111111111</td>\n",
       "    </tr>\n",
       "    <tr>\n",
       "      <th>...</th>\n",
       "      <td>...</td>\n",
       "      <td>...</td>\n",
       "      <td>...</td>\n",
       "      <td>...</td>\n",
       "      <td>...</td>\n",
       "    </tr>\n",
       "    <tr>\n",
       "      <th>9999995</th>\n",
       "      <td>49020</td>\n",
       "      <td>65141</td>\n",
       "      <td>60451</td>\n",
       "      <td>63899</td>\n",
       "      <td>J11111111111</td>\n",
       "    </tr>\n",
       "    <tr>\n",
       "      <th>9999996</th>\n",
       "      <td>94605</td>\n",
       "      <td>7258</td>\n",
       "      <td>1077</td>\n",
       "      <td>19023</td>\n",
       "      <td>I11111111111</td>\n",
       "    </tr>\n",
       "    <tr>\n",
       "      <th>9999997</th>\n",
       "      <td>21936</td>\n",
       "      <td>66721</td>\n",
       "      <td>50069</td>\n",
       "      <td>82394</td>\n",
       "      <td>I11111111111</td>\n",
       "    </tr>\n",
       "    <tr>\n",
       "      <th>9999998</th>\n",
       "      <td>51091</td>\n",
       "      <td>51063</td>\n",
       "      <td>80563</td>\n",
       "      <td>35622</td>\n",
       "      <td>D11111111111</td>\n",
       "    </tr>\n",
       "    <tr>\n",
       "      <th>9999999</th>\n",
       "      <td>41773</td>\n",
       "      <td>44396</td>\n",
       "      <td>99672</td>\n",
       "      <td>44438</td>\n",
       "      <td>A11111111111</td>\n",
       "    </tr>\n",
       "  </tbody>\n",
       "</table>\n",
       "<p>10000000 rows × 5 columns</p>\n",
       "</div>"
      ],
      "text/plain": [
       "             A      B      C      D      category\n",
       "0        68268  43567  42613  45891  D11111111111\n",
       "1        21243  95939  97639  41993  I11111111111\n",
       "2        86293  55026  80471  80966  F11111111111\n",
       "3        48600  39512  52620  80186  D11111111111\n",
       "4        17089  32230  18983  89688  D11111111111\n",
       "...        ...    ...    ...    ...           ...\n",
       "9999995  49020  65141  60451  63899  J11111111111\n",
       "9999996  94605   7258   1077  19023  I11111111111\n",
       "9999997  21936  66721  50069  82394  I11111111111\n",
       "9999998  51091  51063  80563  35622  D11111111111\n",
       "9999999  41773  44396  99672  44438  A11111111111\n",
       "\n",
       "[10000000 rows x 5 columns]"
      ]
     },
     "execution_count": 6,
     "metadata": {},
     "output_type": "execute_result"
    }
   ],
   "source": [
    "df"
   ]
  },
  {
   "cell_type": "markdown",
   "id": "3c52161b-01aa-4913-9e63-aad4161bda81",
   "metadata": {
    "tags": []
   },
   "source": [
    "## Faster operations without Pandas: The Groupby Class"
   ]
  },
  {
   "cell_type": "code",
   "execution_count": 7,
   "id": "a0e020c5-52a2-404b-9667-15f62ca18a6a",
   "metadata": {},
   "outputs": [],
   "source": [
    "class Groupby:\n",
    "    def __init__(self, dataframe, key_name):\n",
    "        self.dataframe = dataframe\n",
    "        self.key_name = key_name\n",
    "        self.key, self.index_of_key = np.unique(self.dataframe[self.key_name], return_inverse = True)\n",
    "        self.set_indices()\n",
    "        \n",
    "    def set_indices(self):\n",
    "        self.indices = [ [] for i in range( len(self.key) ) ]  # 不可以 [[]]*n 因為這樣 list 裡面的 list 會指向同一個物件\n",
    "        for idx, val in enumerate(self.index_of_key):\n",
    "            self.indices[val].append(idx)\n",
    "            \n",
    "        self.indices = [np.array(elt) for elt in self.indices]  # 有了這步會讓運算速度差很多\n",
    "         \n",
    "        \n",
    "    def apply(self, function, vector, broadcast):\n",
    "        if broadcast:\n",
    "            result = np.full(len(vector), np.nan)\n",
    "            for idx in self.indices:\n",
    "                result[idx] = function(vector[idx])\n",
    "            \n",
    "        else:\n",
    "            result = {}\n",
    "            for k, idx in enumerate(self.indices):\n",
    "                result[self.key[k]] = function(vector[idx])\n",
    "\n",
    "        return result"
   ]
  },
  {
   "cell_type": "markdown",
   "id": "08be5853-8e70-4ddb-a224-13a407dd07b1",
   "metadata": {},
   "source": [
    "## Homemade Class"
   ]
  },
  {
   "cell_type": "code",
   "execution_count": 8,
   "id": "a09094ea-fba9-4f8a-92ea-ecf69baae9e3",
   "metadata": {},
   "outputs": [
    {
     "name": "stdout",
     "output_type": "stream",
     "text": [
      "CPU times: user 10.9 s, sys: 128 ms, total: 11.1 s\n",
      "Wall time: 11.1 s\n"
     ]
    }
   ],
   "source": [
    "%%time\n",
    "grouped = Groupby(df, 'category')"
   ]
  },
  {
   "cell_type": "code",
   "execution_count": 9,
   "id": "0a26a37b-f6ea-4d10-ab5a-f1136f250ed7",
   "metadata": {},
   "outputs": [
    {
     "name": "stdout",
     "output_type": "stream",
     "text": [
      "CPU times: user 201 ms, sys: 51.8 ms, total: 253 ms\n",
      "Wall time: 252 ms\n"
     ]
    }
   ],
   "source": [
    "%%time\n",
    "temp = grouped.apply(np.mean, df['A'], broadcast=False)"
   ]
  },
  {
   "cell_type": "code",
   "execution_count": 10,
   "id": "63c185a8-b7b8-4237-ac16-f4fed04eb62c",
   "metadata": {
    "tags": []
   },
   "outputs": [
    {
     "data": {
      "text/plain": [
       "{'A11111111111': 50019.983059673286,\n",
       " 'B11111111111': 50074.96950511512,\n",
       " 'C11111111111': 50017.36289841316,\n",
       " 'D11111111111': 49970.515621664745,\n",
       " 'E11111111111': 50051.83476501165,\n",
       " 'F11111111111': 50015.94665474744,\n",
       " 'G11111111111': 50076.83655810439,\n",
       " 'H11111111111': 49821.369441471004,\n",
       " 'I11111111111': 50007.956103722565,\n",
       " 'J11111111111': 50024.362795893525}"
      ]
     },
     "execution_count": 10,
     "metadata": {},
     "output_type": "execute_result"
    }
   ],
   "source": [
    "temp"
   ]
  },
  {
   "cell_type": "code",
   "execution_count": 11,
   "id": "8a0d9788-ad73-4adb-bb15-ad75c4e6e7e1",
   "metadata": {},
   "outputs": [
    {
     "name": "stdout",
     "output_type": "stream",
     "text": [
      "CPU times: user 602 ms, sys: 70.1 ms, total: 672 ms\n",
      "Wall time: 671 ms\n"
     ]
    }
   ],
   "source": [
    "%%time\n",
    "temp = grouped.apply(list, df['A'], broadcast=False)"
   ]
  },
  {
   "cell_type": "code",
   "execution_count": 12,
   "id": "4df9eb7a-1f42-4fca-bda0-cd2764fe65af",
   "metadata": {
    "tags": []
   },
   "outputs": [
    {
     "data": {
      "text/plain": [
       "[20006, 96591, 20737, 50624, 84355, 98611, 99438, 469, 38040, 84523]"
      ]
     },
     "execution_count": 12,
     "metadata": {},
     "output_type": "execute_result"
    }
   ],
   "source": [
    "temp['A11111111111'][0:10]"
   ]
  },
  {
   "cell_type": "markdown",
   "id": "baa777bb-421f-4851-bb53-3948d4fab9ed",
   "metadata": {},
   "source": [
    "## Pandas"
   ]
  },
  {
   "cell_type": "code",
   "execution_count": 13,
   "id": "acee6362-7564-4046-ad1d-3edd7e77ff7e",
   "metadata": {},
   "outputs": [
    {
     "name": "stdout",
     "output_type": "stream",
     "text": [
      "CPU times: user 96 µs, sys: 3.21 ms, total: 3.31 ms\n",
      "Wall time: 3.32 ms\n"
     ]
    }
   ],
   "source": [
    "%%time\n",
    "grouped = df.groupby('category')"
   ]
  },
  {
   "cell_type": "code",
   "execution_count": 14,
   "id": "72c8795b-70bd-44e9-b07a-17f9a0301160",
   "metadata": {},
   "outputs": [
    {
     "name": "stdout",
     "output_type": "stream",
     "text": [
      "CPU times: user 405 ms, sys: 47.1 ms, total: 452 ms\n",
      "Wall time: 451 ms\n"
     ]
    }
   ],
   "source": [
    "%%time\n",
    "temp = grouped['A'].apply(np.mean)"
   ]
  },
  {
   "cell_type": "code",
   "execution_count": 15,
   "id": "7e82d9a6-8931-4f06-8106-ce8880188b57",
   "metadata": {},
   "outputs": [
    {
     "data": {
      "text/plain": [
       "category\n",
       "A11111111111    50019.983060\n",
       "B11111111111    50074.969505\n",
       "C11111111111    50017.362898\n",
       "D11111111111    49970.515622\n",
       "E11111111111    50051.834765\n",
       "F11111111111    50015.946655\n",
       "G11111111111    50076.836558\n",
       "H11111111111    49821.369441\n",
       "I11111111111    50007.956104\n",
       "J11111111111    50024.362796\n",
       "Name: A, dtype: float64"
      ]
     },
     "execution_count": 15,
     "metadata": {},
     "output_type": "execute_result"
    }
   ],
   "source": [
    "temp"
   ]
  },
  {
   "cell_type": "code",
   "execution_count": 16,
   "id": "3cf0cb99-7b78-4140-b2d7-dbb30012a486",
   "metadata": {},
   "outputs": [
    {
     "name": "stdout",
     "output_type": "stream",
     "text": [
      "CPU times: user 533 ms, sys: 50 ms, total: 583 ms\n",
      "Wall time: 583 ms\n"
     ]
    }
   ],
   "source": [
    "%%time\n",
    "temp = grouped['A'].apply(list)"
   ]
  },
  {
   "cell_type": "code",
   "execution_count": 17,
   "id": "c30663f7-a450-4d11-ab49-154b3edd64ad",
   "metadata": {},
   "outputs": [
    {
     "data": {
      "text/plain": [
       "category\n",
       "A11111111111    [20006, 96591, 20737, 50624, 84355, 98611, 994...\n",
       "B11111111111    [56894, 34009, 44889, 55913, 99036, 48798, 664...\n",
       "C11111111111    [797, 40800, 82127, 94201, 63413, 90718, 39335...\n",
       "D11111111111    [68268, 48600, 17089, 67699, 41504, 44259, 138...\n",
       "E11111111111    [11723, 23306, 57368, 10100, 49747, 27479, 846...\n",
       "F11111111111    [86293, 11605, 79285, 88009, 96622, 1918, 4209...\n",
       "G11111111111    [55153, 33920, 90749, 18728, 60565, 2173, 4247...\n",
       "H11111111111    [82457, 13729, 19991, 3703, 79391, 51284, 9814...\n",
       "I11111111111    [21243, 90535, 86107, 7012, 79701, 51939, 5971...\n",
       "J11111111111    [83966, 47954, 92288, 80163, 19340, 4420, 8638...\n",
       "Name: A, dtype: object"
      ]
     },
     "execution_count": 17,
     "metadata": {},
     "output_type": "execute_result"
    }
   ],
   "source": [
    "temp"
   ]
  }
 ],
 "metadata": {
  "kernelspec": {
   "display_name": "Python 3 (ipykernel)",
   "language": "python",
   "name": "python3"
  },
  "language_info": {
   "codemirror_mode": {
    "name": "ipython",
    "version": 3
   },
   "file_extension": ".py",
   "mimetype": "text/x-python",
   "name": "python",
   "nbconvert_exporter": "python",
   "pygments_lexer": "ipython3",
   "version": "3.8.10"
  }
 },
 "nbformat": 4,
 "nbformat_minor": 5
}
