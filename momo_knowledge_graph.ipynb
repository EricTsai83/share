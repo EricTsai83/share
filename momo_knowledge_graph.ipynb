{
 "cells": [
  {
   "cell_type": "code",
   "execution_count": 1,
   "id": "4adf55a8-663e-42ab-955a-67bc86d90b89",
   "metadata": {
    "execution": {
     "iopub.execute_input": "2022-03-07T13:48:11.059124Z",
     "iopub.status.busy": "2022-03-07T13:48:11.058124Z",
     "iopub.status.idle": "2022-03-07T13:48:11.912021Z",
     "shell.execute_reply": "2022-03-07T13:48:11.910703Z",
     "shell.execute_reply.started": "2022-03-07T13:48:11.059124Z"
    },
    "tags": []
   },
   "outputs": [],
   "source": [
    "import igraph as ig\n",
    "import urllib.request, json\n",
    "import plotly\n",
    "import plotly.graph_objs as go\n",
    "import json\n",
    "import pandas as pd\n",
    "import numpy as np\n",
    "from tqdm import tqdm"
   ]
  },
  {
   "cell_type": "code",
   "execution_count": 2,
   "id": "d0ac157d-f64b-4b0c-aebc-f6f6f22bde66",
   "metadata": {
    "execution": {
     "iopub.execute_input": "2022-03-07T13:48:11.914023Z",
     "iopub.status.busy": "2022-03-07T13:48:11.913022Z",
     "iopub.status.idle": "2022-03-07T13:48:11.958521Z",
     "shell.execute_reply": "2022-03-07T13:48:11.957518Z",
     "shell.execute_reply.started": "2022-03-07T13:48:11.914023Z"
    },
    "tags": []
   },
   "outputs": [],
   "source": [
    "df = pd.read_json ('./Data/knoledge_graph_data.json')"
   ]
  },
  {
   "cell_type": "code",
   "execution_count": 3,
   "id": "ced4506d-b8f5-4b0f-8f25-0990db0f082f",
   "metadata": {
    "execution": {
     "iopub.execute_input": "2022-03-07T13:48:11.964522Z",
     "iopub.status.busy": "2022-03-07T13:48:11.964522Z",
     "iopub.status.idle": "2022-03-07T13:48:12.022513Z",
     "shell.execute_reply": "2022-03-07T13:48:12.021512Z",
     "shell.execute_reply.started": "2022-03-07T13:48:11.964522Z"
    },
    "tags": []
   },
   "outputs": [
    {
     "data": {
      "text/html": [
       "<div>\n",
       "<style scoped>\n",
       "    .dataframe tbody tr th:only-of-type {\n",
       "        vertical-align: middle;\n",
       "    }\n",
       "\n",
       "    .dataframe tbody tr th {\n",
       "        vertical-align: top;\n",
       "    }\n",
       "\n",
       "    .dataframe thead th {\n",
       "        text-align: right;\n",
       "    }\n",
       "</style>\n",
       "<table border=\"1\" class=\"dataframe\">\n",
       "  <thead>\n",
       "    <tr style=\"text-align: right;\">\n",
       "      <th></th>\n",
       "      <th>Brand_Name</th>\n",
       "      <th>Attribute_Freq15_w2v_name</th>\n",
       "      <th>average_word2vec</th>\n",
       "      <th>group</th>\n",
       "    </tr>\n",
       "  </thead>\n",
       "  <tbody>\n",
       "    <tr>\n",
       "      <th>0</th>\n",
       "      <td>KissXXX</td>\n",
       "      <td>[短靴, 尖頭, 顏色, 質感, 氣質, 鞋面, 高跟鞋, 皮革, 款式, 方頭, 休閒鞋,...</td>\n",
       "      <td>[0.0788907856, 0.4968316257, 0.196608781800000...</td>\n",
       "      <td>61</td>\n",
       "    </tr>\n",
       "    <tr>\n",
       "      <th>1</th>\n",
       "      <td>NIKE 耐吉</td>\n",
       "      <td>[耐吉, 慢跑鞋, 耐克, 運動, 籃球鞋, 運動鞋, 男鞋, 體育, 行銷, 鞋款, 服飾...</td>\n",
       "      <td>[0.2512131333, 0.4981572628, 0.189972758300000...</td>\n",
       "      <td>61</td>\n",
       "    </tr>\n",
       "    <tr>\n",
       "      <th>2</th>\n",
       "      <td>eyah 宜雅</td>\n",
       "      <td>[純色, 雙人, 製造, 枕套, 被套, 單人, 商城, 枕頭, 纖維, 雙人床, 評價, ...</td>\n",
       "      <td>[0.029829273000000003, 0.40293049810000003, 0....</td>\n",
       "      <td>57</td>\n",
       "    </tr>\n",
       "    <tr>\n",
       "      <th>3</th>\n",
       "      <td>ISHUR 伊舒爾</td>\n",
       "      <td>[高度, 枕套, 包覆, 網路, 規格, 床墊, 雙人, 單人, 枕頭, 涼蓆, 評價, 加...</td>\n",
       "      <td>[0.0475912951, 0.3919060528, 0.171633467100000...</td>\n",
       "      <td>57</td>\n",
       "    </tr>\n",
       "    <tr>\n",
       "      <th>4</th>\n",
       "      <td>BELLE VIE</td>\n",
       "      <td>[雙人, 棉被, 被套, 製造, 單人, 加大, 名稱, 寢具, 任選, 黃色, 臺灣, 床...</td>\n",
       "      <td>[0.015816008700000002, 0.3829869628, 0.1087512...</td>\n",
       "      <td>57</td>\n",
       "    </tr>\n",
       "  </tbody>\n",
       "</table>\n",
       "</div>"
      ],
      "text/plain": [
       "  Brand_Name                          Attribute_Freq15_w2v_name  \\\n",
       "0    KissXXX  [短靴, 尖頭, 顏色, 質感, 氣質, 鞋面, 高跟鞋, 皮革, 款式, 方頭, 休閒鞋,...   \n",
       "1    NIKE 耐吉  [耐吉, 慢跑鞋, 耐克, 運動, 籃球鞋, 運動鞋, 男鞋, 體育, 行銷, 鞋款, 服飾...   \n",
       "2    eyah 宜雅  [純色, 雙人, 製造, 枕套, 被套, 單人, 商城, 枕頭, 纖維, 雙人床, 評價, ...   \n",
       "3  ISHUR 伊舒爾  [高度, 枕套, 包覆, 網路, 規格, 床墊, 雙人, 單人, 枕頭, 涼蓆, 評價, 加...   \n",
       "4  BELLE VIE  [雙人, 棉被, 被套, 製造, 單人, 加大, 名稱, 寢具, 任選, 黃色, 臺灣, 床...   \n",
       "\n",
       "                                    average_word2vec  group  \n",
       "0  [0.0788907856, 0.4968316257, 0.196608781800000...     61  \n",
       "1  [0.2512131333, 0.4981572628, 0.189972758300000...     61  \n",
       "2  [0.029829273000000003, 0.40293049810000003, 0....     57  \n",
       "3  [0.0475912951, 0.3919060528, 0.171633467100000...     57  \n",
       "4  [0.015816008700000002, 0.3829869628, 0.1087512...     57  "
      ]
     },
     "execution_count": 3,
     "metadata": {},
     "output_type": "execute_result"
    }
   ],
   "source": [
    "df.head()"
   ]
  },
  {
   "cell_type": "code",
   "execution_count": 4,
   "id": "17f633ad-ca5c-46cb-aff3-5c0390634049",
   "metadata": {
    "execution": {
     "iopub.execute_input": "2022-03-07T13:48:12.025513Z",
     "iopub.status.busy": "2022-03-07T13:48:12.024513Z",
     "iopub.status.idle": "2022-03-07T13:48:12.038510Z",
     "shell.execute_reply": "2022-03-07T13:48:12.037510Z",
     "shell.execute_reply.started": "2022-03-07T13:48:12.025513Z"
    }
   },
   "outputs": [
    {
     "data": {
      "text/plain": [
       "203"
      ]
     },
     "execution_count": 4,
     "metadata": {},
     "output_type": "execute_result"
    }
   ],
   "source": [
    "len(df)"
   ]
  },
  {
   "cell_type": "code",
   "execution_count": 5,
   "id": "6c54fe3c-d807-48a0-b591-eac1232f97e8",
   "metadata": {
    "execution": {
     "iopub.execute_input": "2022-03-07T13:48:12.041510Z",
     "iopub.status.busy": "2022-03-07T13:48:12.040511Z",
     "iopub.status.idle": "2022-03-07T13:48:52.888888Z",
     "shell.execute_reply": "2022-03-07T13:48:52.887880Z",
     "shell.execute_reply.started": "2022-03-07T13:48:12.041510Z"
    },
    "tags": []
   },
   "outputs": [],
   "source": [
    "cos_sim_matrix = pd.read_json('./Data/cos_sim_matrix.json', orient='index')"
   ]
  },
  {
   "cell_type": "code",
   "execution_count": 6,
   "id": "0cf5f03b-cd3a-44f5-9c87-838bfc76bddf",
   "metadata": {
    "execution": {
     "iopub.execute_input": "2022-03-07T13:48:52.890886Z",
     "iopub.status.busy": "2022-03-07T13:48:52.889887Z",
     "iopub.status.idle": "2022-03-07T13:48:52.951544Z",
     "shell.execute_reply": "2022-03-07T13:48:52.950563Z",
     "shell.execute_reply.started": "2022-03-07T13:48:52.890886Z"
    },
    "tags": []
   },
   "outputs": [
    {
     "data": {
      "text/html": [
       "<div>\n",
       "<style scoped>\n",
       "    .dataframe tbody tr th:only-of-type {\n",
       "        vertical-align: middle;\n",
       "    }\n",
       "\n",
       "    .dataframe tbody tr th {\n",
       "        vertical-align: top;\n",
       "    }\n",
       "\n",
       "    .dataframe thead th {\n",
       "        text-align: right;\n",
       "    }\n",
       "</style>\n",
       "<table border=\"1\" class=\"dataframe\">\n",
       "  <thead>\n",
       "    <tr style=\"text-align: right;\">\n",
       "      <th></th>\n",
       "      <th>TiMISA</th>\n",
       "      <th>東立</th>\n",
       "      <th>ONEY 歐妮</th>\n",
       "      <th>KissXXX</th>\n",
       "      <th>必翔銀髮樂活館</th>\n",
       "      <th>Mirabelle</th>\n",
       "      <th>ECOVER 宜珂</th>\n",
       "      <th>THREE</th>\n",
       "      <th>Song Baby</th>\n",
       "      <th>H&amp;D</th>\n",
       "      <th>...</th>\n",
       "      <th>ROYALLIN 蘿林嚴選</th>\n",
       "      <th>E.dot</th>\n",
       "      <th>十田</th>\n",
       "      <th>Just Gold 鎮金店</th>\n",
       "      <th>SOL</th>\n",
       "      <th>Discovery Adventures</th>\n",
       "      <th>MILDS 曼思</th>\n",
       "      <th>Batiste</th>\n",
       "      <th>SARLEE 沙麗</th>\n",
       "      <th>凱芮絲</th>\n",
       "    </tr>\n",
       "  </thead>\n",
       "  <tbody>\n",
       "    <tr>\n",
       "      <th>TiMISA</th>\n",
       "      <td>1.000000</td>\n",
       "      <td>0.758572</td>\n",
       "      <td>0.907030</td>\n",
       "      <td>0.907102</td>\n",
       "      <td>0.824704</td>\n",
       "      <td>0.916699</td>\n",
       "      <td>0.846956</td>\n",
       "      <td>0.885779</td>\n",
       "      <td>0.762697</td>\n",
       "      <td>0.856181</td>\n",
       "      <td>...</td>\n",
       "      <td>0.912060</td>\n",
       "      <td>0.708097</td>\n",
       "      <td>0.832849</td>\n",
       "      <td>0.960245</td>\n",
       "      <td>0.796940</td>\n",
       "      <td>0.854392</td>\n",
       "      <td>0.888121</td>\n",
       "      <td>0.853446</td>\n",
       "      <td>0.872545</td>\n",
       "      <td>0.848269</td>\n",
       "    </tr>\n",
       "    <tr>\n",
       "      <th>東立</th>\n",
       "      <td>0.758572</td>\n",
       "      <td>1.000000</td>\n",
       "      <td>0.743924</td>\n",
       "      <td>0.738191</td>\n",
       "      <td>0.836014</td>\n",
       "      <td>0.782799</td>\n",
       "      <td>0.742616</td>\n",
       "      <td>0.807854</td>\n",
       "      <td>0.781171</td>\n",
       "      <td>0.819594</td>\n",
       "      <td>...</td>\n",
       "      <td>0.779368</td>\n",
       "      <td>0.748772</td>\n",
       "      <td>0.852376</td>\n",
       "      <td>0.784011</td>\n",
       "      <td>0.729621</td>\n",
       "      <td>0.860925</td>\n",
       "      <td>0.809067</td>\n",
       "      <td>0.794237</td>\n",
       "      <td>0.738813</td>\n",
       "      <td>0.750930</td>\n",
       "    </tr>\n",
       "    <tr>\n",
       "      <th>ONEY 歐妮</th>\n",
       "      <td>0.907030</td>\n",
       "      <td>0.743924</td>\n",
       "      <td>1.000000</td>\n",
       "      <td>0.933436</td>\n",
       "      <td>0.788747</td>\n",
       "      <td>0.887345</td>\n",
       "      <td>0.825329</td>\n",
       "      <td>0.859221</td>\n",
       "      <td>0.760539</td>\n",
       "      <td>0.864124</td>\n",
       "      <td>...</td>\n",
       "      <td>0.917719</td>\n",
       "      <td>0.684956</td>\n",
       "      <td>0.789521</td>\n",
       "      <td>0.886385</td>\n",
       "      <td>0.793589</td>\n",
       "      <td>0.839175</td>\n",
       "      <td>0.881329</td>\n",
       "      <td>0.872663</td>\n",
       "      <td>0.931465</td>\n",
       "      <td>0.900342</td>\n",
       "    </tr>\n",
       "    <tr>\n",
       "      <th>KissXXX</th>\n",
       "      <td>0.907102</td>\n",
       "      <td>0.738191</td>\n",
       "      <td>0.933436</td>\n",
       "      <td>1.000000</td>\n",
       "      <td>0.770844</td>\n",
       "      <td>0.911137</td>\n",
       "      <td>0.837978</td>\n",
       "      <td>0.890841</td>\n",
       "      <td>0.756170</td>\n",
       "      <td>0.849472</td>\n",
       "      <td>...</td>\n",
       "      <td>0.912980</td>\n",
       "      <td>0.684998</td>\n",
       "      <td>0.812345</td>\n",
       "      <td>0.893360</td>\n",
       "      <td>0.760739</td>\n",
       "      <td>0.843000</td>\n",
       "      <td>0.906805</td>\n",
       "      <td>0.873521</td>\n",
       "      <td>0.922754</td>\n",
       "      <td>0.887772</td>\n",
       "    </tr>\n",
       "    <tr>\n",
       "      <th>必翔銀髮樂活館</th>\n",
       "      <td>0.824704</td>\n",
       "      <td>0.836014</td>\n",
       "      <td>0.788747</td>\n",
       "      <td>0.770844</td>\n",
       "      <td>1.000000</td>\n",
       "      <td>0.792592</td>\n",
       "      <td>0.837702</td>\n",
       "      <td>0.861360</td>\n",
       "      <td>0.807453</td>\n",
       "      <td>0.829592</td>\n",
       "      <td>...</td>\n",
       "      <td>0.841690</td>\n",
       "      <td>0.738969</td>\n",
       "      <td>0.879205</td>\n",
       "      <td>0.804053</td>\n",
       "      <td>0.785263</td>\n",
       "      <td>0.851460</td>\n",
       "      <td>0.843982</td>\n",
       "      <td>0.827633</td>\n",
       "      <td>0.793946</td>\n",
       "      <td>0.814955</td>\n",
       "    </tr>\n",
       "  </tbody>\n",
       "</table>\n",
       "<p>5 rows × 3355 columns</p>\n",
       "</div>"
      ],
      "text/plain": [
       "           TiMISA        東立   ONEY 歐妮   KissXXX   必翔銀髮樂活館  Mirabelle  \\\n",
       "TiMISA   1.000000  0.758572  0.907030  0.907102  0.824704   0.916699   \n",
       "東立       0.758572  1.000000  0.743924  0.738191  0.836014   0.782799   \n",
       "ONEY 歐妮  0.907030  0.743924  1.000000  0.933436  0.788747   0.887345   \n",
       "KissXXX  0.907102  0.738191  0.933436  1.000000  0.770844   0.911137   \n",
       "必翔銀髮樂活館  0.824704  0.836014  0.788747  0.770844  1.000000   0.792592   \n",
       "\n",
       "         ECOVER 宜珂     THREE  Song Baby       H&D  ...  ROYALLIN 蘿林嚴選  \\\n",
       "TiMISA    0.846956  0.885779   0.762697  0.856181  ...       0.912060   \n",
       "東立        0.742616  0.807854   0.781171  0.819594  ...       0.779368   \n",
       "ONEY 歐妮   0.825329  0.859221   0.760539  0.864124  ...       0.917719   \n",
       "KissXXX   0.837978  0.890841   0.756170  0.849472  ...       0.912980   \n",
       "必翔銀髮樂活館   0.837702  0.861360   0.807453  0.829592  ...       0.841690   \n",
       "\n",
       "            E.dot        十田  Just Gold 鎮金店       SOL  Discovery Adventures  \\\n",
       "TiMISA   0.708097  0.832849       0.960245  0.796940              0.854392   \n",
       "東立       0.748772  0.852376       0.784011  0.729621              0.860925   \n",
       "ONEY 歐妮  0.684956  0.789521       0.886385  0.793589              0.839175   \n",
       "KissXXX  0.684998  0.812345       0.893360  0.760739              0.843000   \n",
       "必翔銀髮樂活館  0.738969  0.879205       0.804053  0.785263              0.851460   \n",
       "\n",
       "         MILDS 曼思   Batiste  SARLEE 沙麗       凱芮絲  \n",
       "TiMISA   0.888121  0.853446   0.872545  0.848269  \n",
       "東立       0.809067  0.794237   0.738813  0.750930  \n",
       "ONEY 歐妮  0.881329  0.872663   0.931465  0.900342  \n",
       "KissXXX  0.906805  0.873521   0.922754  0.887772  \n",
       "必翔銀髮樂活館  0.843982  0.827633   0.793946  0.814955  \n",
       "\n",
       "[5 rows x 3355 columns]"
      ]
     },
     "execution_count": 6,
     "metadata": {},
     "output_type": "execute_result"
    }
   ],
   "source": [
    "cos_sim_matrix.head()"
   ]
  },
  {
   "cell_type": "code",
   "execution_count": 7,
   "id": "775ef0ed-1b92-4144-908c-d58f6463fb3d",
   "metadata": {
    "execution": {
     "iopub.execute_input": "2022-03-07T13:48:52.954543Z",
     "iopub.status.busy": "2022-03-07T13:48:52.953546Z",
     "iopub.status.idle": "2022-03-07T13:48:52.983537Z",
     "shell.execute_reply": "2022-03-07T13:48:52.982538Z",
     "shell.execute_reply.started": "2022-03-07T13:48:52.954543Z"
    },
    "tags": []
   },
   "outputs": [],
   "source": [
    "cos_sim_matrix = cos_sim_matrix.loc[cos_sim_matrix.index.isin(df['Brand_Name']), cos_sim_matrix.columns.isin(df['Brand_Name'])]"
   ]
  },
  {
   "cell_type": "code",
   "execution_count": 8,
   "id": "33543834-1928-4acc-9cc3-925199fcf612",
   "metadata": {
    "execution": {
     "iopub.execute_input": "2022-03-07T13:48:52.985536Z",
     "iopub.status.busy": "2022-03-07T13:48:52.985536Z",
     "iopub.status.idle": "2022-03-07T13:48:53.046991Z",
     "shell.execute_reply": "2022-03-07T13:48:53.045993Z",
     "shell.execute_reply.started": "2022-03-07T13:48:52.985536Z"
    }
   },
   "outputs": [
    {
     "data": {
      "text/html": [
       "<div>\n",
       "<style scoped>\n",
       "    .dataframe tbody tr th:only-of-type {\n",
       "        vertical-align: middle;\n",
       "    }\n",
       "\n",
       "    .dataframe tbody tr th {\n",
       "        vertical-align: top;\n",
       "    }\n",
       "\n",
       "    .dataframe thead th {\n",
       "        text-align: right;\n",
       "    }\n",
       "</style>\n",
       "<table border=\"1\" class=\"dataframe\">\n",
       "  <thead>\n",
       "    <tr style=\"text-align: right;\">\n",
       "      <th></th>\n",
       "      <th>KissXXX</th>\n",
       "      <th>NIKE 耐吉</th>\n",
       "      <th>eyah 宜雅</th>\n",
       "      <th>ISHUR 伊舒爾</th>\n",
       "      <th>BELLE VIE</th>\n",
       "      <th>LITA 麗塔寢飾</th>\n",
       "      <th>ZWILLING 德國雙人</th>\n",
       "      <th>pippi &amp; poppo</th>\n",
       "      <th>ADERIA</th>\n",
       "      <th>ee9</th>\n",
       "      <th>...</th>\n",
       "      <th>fujidinos</th>\n",
       "      <th>Amay Style 艾美時尚</th>\n",
       "      <th>TACHIKICHI 橘吉</th>\n",
       "      <th>ReVe 蕾芙</th>\n",
       "      <th>Luminarc 樂美雅</th>\n",
       "      <th>HO KANG</th>\n",
       "      <th>DIN.Y</th>\n",
       "      <th>nono house</th>\n",
       "      <th>貝兒居家寢飾生活館</th>\n",
       "      <th>長谷園伊賀燒</th>\n",
       "    </tr>\n",
       "  </thead>\n",
       "  <tbody>\n",
       "    <tr>\n",
       "      <th>KissXXX</th>\n",
       "      <td>1.000000</td>\n",
       "      <td>0.908938</td>\n",
       "      <td>0.872430</td>\n",
       "      <td>0.883043</td>\n",
       "      <td>0.868758</td>\n",
       "      <td>0.903799</td>\n",
       "      <td>0.822777</td>\n",
       "      <td>0.840980</td>\n",
       "      <td>0.823588</td>\n",
       "      <td>0.974745</td>\n",
       "      <td>...</td>\n",
       "      <td>0.826131</td>\n",
       "      <td>0.962428</td>\n",
       "      <td>0.708017</td>\n",
       "      <td>0.863301</td>\n",
       "      <td>0.841560</td>\n",
       "      <td>0.865301</td>\n",
       "      <td>0.963040</td>\n",
       "      <td>0.947239</td>\n",
       "      <td>0.888467</td>\n",
       "      <td>0.822096</td>\n",
       "    </tr>\n",
       "    <tr>\n",
       "      <th>NIKE 耐吉</th>\n",
       "      <td>0.908938</td>\n",
       "      <td>1.000000</td>\n",
       "      <td>0.812855</td>\n",
       "      <td>0.836553</td>\n",
       "      <td>0.834217</td>\n",
       "      <td>0.857055</td>\n",
       "      <td>0.782488</td>\n",
       "      <td>0.797090</td>\n",
       "      <td>0.780995</td>\n",
       "      <td>0.897216</td>\n",
       "      <td>...</td>\n",
       "      <td>0.804796</td>\n",
       "      <td>0.919014</td>\n",
       "      <td>0.660743</td>\n",
       "      <td>0.837434</td>\n",
       "      <td>0.785863</td>\n",
       "      <td>0.844449</td>\n",
       "      <td>0.931390</td>\n",
       "      <td>0.904679</td>\n",
       "      <td>0.853379</td>\n",
       "      <td>0.777790</td>\n",
       "    </tr>\n",
       "    <tr>\n",
       "      <th>eyah 宜雅</th>\n",
       "      <td>0.872430</td>\n",
       "      <td>0.812855</td>\n",
       "      <td>1.000000</td>\n",
       "      <td>0.976628</td>\n",
       "      <td>0.965028</td>\n",
       "      <td>0.947316</td>\n",
       "      <td>0.879606</td>\n",
       "      <td>0.890471</td>\n",
       "      <td>0.860310</td>\n",
       "      <td>0.886151</td>\n",
       "      <td>...</td>\n",
       "      <td>0.872550</td>\n",
       "      <td>0.876193</td>\n",
       "      <td>0.763359</td>\n",
       "      <td>0.950577</td>\n",
       "      <td>0.866706</td>\n",
       "      <td>0.944197</td>\n",
       "      <td>0.880527</td>\n",
       "      <td>0.896101</td>\n",
       "      <td>0.948350</td>\n",
       "      <td>0.839322</td>\n",
       "    </tr>\n",
       "    <tr>\n",
       "      <th>ISHUR 伊舒爾</th>\n",
       "      <td>0.883043</td>\n",
       "      <td>0.836553</td>\n",
       "      <td>0.976628</td>\n",
       "      <td>1.000000</td>\n",
       "      <td>0.968517</td>\n",
       "      <td>0.955548</td>\n",
       "      <td>0.895392</td>\n",
       "      <td>0.900199</td>\n",
       "      <td>0.881987</td>\n",
       "      <td>0.902998</td>\n",
       "      <td>...</td>\n",
       "      <td>0.886879</td>\n",
       "      <td>0.901143</td>\n",
       "      <td>0.771679</td>\n",
       "      <td>0.956264</td>\n",
       "      <td>0.887622</td>\n",
       "      <td>0.958753</td>\n",
       "      <td>0.904197</td>\n",
       "      <td>0.916222</td>\n",
       "      <td>0.957177</td>\n",
       "      <td>0.865503</td>\n",
       "    </tr>\n",
       "    <tr>\n",
       "      <th>BELLE VIE</th>\n",
       "      <td>0.868758</td>\n",
       "      <td>0.834217</td>\n",
       "      <td>0.965028</td>\n",
       "      <td>0.968517</td>\n",
       "      <td>1.000000</td>\n",
       "      <td>0.944838</td>\n",
       "      <td>0.865741</td>\n",
       "      <td>0.894389</td>\n",
       "      <td>0.847469</td>\n",
       "      <td>0.881863</td>\n",
       "      <td>...</td>\n",
       "      <td>0.862665</td>\n",
       "      <td>0.888046</td>\n",
       "      <td>0.766610</td>\n",
       "      <td>0.964627</td>\n",
       "      <td>0.859893</td>\n",
       "      <td>0.950080</td>\n",
       "      <td>0.894997</td>\n",
       "      <td>0.900536</td>\n",
       "      <td>0.953021</td>\n",
       "      <td>0.847500</td>\n",
       "    </tr>\n",
       "    <tr>\n",
       "      <th>...</th>\n",
       "      <td>...</td>\n",
       "      <td>...</td>\n",
       "      <td>...</td>\n",
       "      <td>...</td>\n",
       "      <td>...</td>\n",
       "      <td>...</td>\n",
       "      <td>...</td>\n",
       "      <td>...</td>\n",
       "      <td>...</td>\n",
       "      <td>...</td>\n",
       "      <td>...</td>\n",
       "      <td>...</td>\n",
       "      <td>...</td>\n",
       "      <td>...</td>\n",
       "      <td>...</td>\n",
       "      <td>...</td>\n",
       "      <td>...</td>\n",
       "      <td>...</td>\n",
       "      <td>...</td>\n",
       "      <td>...</td>\n",
       "      <td>...</td>\n",
       "    </tr>\n",
       "    <tr>\n",
       "      <th>HO KANG</th>\n",
       "      <td>0.865301</td>\n",
       "      <td>0.844449</td>\n",
       "      <td>0.944197</td>\n",
       "      <td>0.958753</td>\n",
       "      <td>0.950080</td>\n",
       "      <td>0.939733</td>\n",
       "      <td>0.869979</td>\n",
       "      <td>0.897217</td>\n",
       "      <td>0.859032</td>\n",
       "      <td>0.887966</td>\n",
       "      <td>...</td>\n",
       "      <td>0.884721</td>\n",
       "      <td>0.898370</td>\n",
       "      <td>0.739896</td>\n",
       "      <td>0.958253</td>\n",
       "      <td>0.872031</td>\n",
       "      <td>1.000000</td>\n",
       "      <td>0.902545</td>\n",
       "      <td>0.922262</td>\n",
       "      <td>0.956613</td>\n",
       "      <td>0.855417</td>\n",
       "    </tr>\n",
       "    <tr>\n",
       "      <th>DIN.Y</th>\n",
       "      <td>0.963040</td>\n",
       "      <td>0.931390</td>\n",
       "      <td>0.880527</td>\n",
       "      <td>0.904197</td>\n",
       "      <td>0.894997</td>\n",
       "      <td>0.913348</td>\n",
       "      <td>0.838545</td>\n",
       "      <td>0.858713</td>\n",
       "      <td>0.848828</td>\n",
       "      <td>0.965681</td>\n",
       "      <td>...</td>\n",
       "      <td>0.857543</td>\n",
       "      <td>0.967097</td>\n",
       "      <td>0.738182</td>\n",
       "      <td>0.897760</td>\n",
       "      <td>0.859756</td>\n",
       "      <td>0.902545</td>\n",
       "      <td>1.000000</td>\n",
       "      <td>0.967260</td>\n",
       "      <td>0.913944</td>\n",
       "      <td>0.834040</td>\n",
       "    </tr>\n",
       "    <tr>\n",
       "      <th>nono house</th>\n",
       "      <td>0.947239</td>\n",
       "      <td>0.904679</td>\n",
       "      <td>0.896101</td>\n",
       "      <td>0.916222</td>\n",
       "      <td>0.900536</td>\n",
       "      <td>0.922972</td>\n",
       "      <td>0.841934</td>\n",
       "      <td>0.858584</td>\n",
       "      <td>0.844315</td>\n",
       "      <td>0.954981</td>\n",
       "      <td>...</td>\n",
       "      <td>0.879459</td>\n",
       "      <td>0.969045</td>\n",
       "      <td>0.743111</td>\n",
       "      <td>0.922138</td>\n",
       "      <td>0.856001</td>\n",
       "      <td>0.922262</td>\n",
       "      <td>0.967260</td>\n",
       "      <td>1.000000</td>\n",
       "      <td>0.914798</td>\n",
       "      <td>0.839845</td>\n",
       "    </tr>\n",
       "    <tr>\n",
       "      <th>貝兒居家寢飾生活館</th>\n",
       "      <td>0.888467</td>\n",
       "      <td>0.853379</td>\n",
       "      <td>0.948350</td>\n",
       "      <td>0.957177</td>\n",
       "      <td>0.953021</td>\n",
       "      <td>0.956640</td>\n",
       "      <td>0.871025</td>\n",
       "      <td>0.886220</td>\n",
       "      <td>0.860078</td>\n",
       "      <td>0.901064</td>\n",
       "      <td>...</td>\n",
       "      <td>0.881076</td>\n",
       "      <td>0.906475</td>\n",
       "      <td>0.748010</td>\n",
       "      <td>0.963025</td>\n",
       "      <td>0.875613</td>\n",
       "      <td>0.956613</td>\n",
       "      <td>0.913944</td>\n",
       "      <td>0.914798</td>\n",
       "      <td>1.000000</td>\n",
       "      <td>0.853421</td>\n",
       "    </tr>\n",
       "    <tr>\n",
       "      <th>長谷園伊賀燒</th>\n",
       "      <td>0.822096</td>\n",
       "      <td>0.777790</td>\n",
       "      <td>0.839322</td>\n",
       "      <td>0.865503</td>\n",
       "      <td>0.847500</td>\n",
       "      <td>0.838617</td>\n",
       "      <td>0.909518</td>\n",
       "      <td>0.817103</td>\n",
       "      <td>0.883373</td>\n",
       "      <td>0.850509</td>\n",
       "      <td>...</td>\n",
       "      <td>0.880881</td>\n",
       "      <td>0.818475</td>\n",
       "      <td>0.777199</td>\n",
       "      <td>0.837299</td>\n",
       "      <td>0.912220</td>\n",
       "      <td>0.855417</td>\n",
       "      <td>0.834040</td>\n",
       "      <td>0.839845</td>\n",
       "      <td>0.853421</td>\n",
       "      <td>1.000000</td>\n",
       "    </tr>\n",
       "  </tbody>\n",
       "</table>\n",
       "<p>203 rows × 203 columns</p>\n",
       "</div>"
      ],
      "text/plain": [
       "             KissXXX   NIKE 耐吉   eyah 宜雅  ISHUR 伊舒爾  BELLE VIE  LITA 麗塔寢飾  \\\n",
       "KissXXX     1.000000  0.908938  0.872430   0.883043   0.868758   0.903799   \n",
       "NIKE 耐吉     0.908938  1.000000  0.812855   0.836553   0.834217   0.857055   \n",
       "eyah 宜雅     0.872430  0.812855  1.000000   0.976628   0.965028   0.947316   \n",
       "ISHUR 伊舒爾   0.883043  0.836553  0.976628   1.000000   0.968517   0.955548   \n",
       "BELLE VIE   0.868758  0.834217  0.965028   0.968517   1.000000   0.944838   \n",
       "...              ...       ...       ...        ...        ...        ...   \n",
       "HO KANG     0.865301  0.844449  0.944197   0.958753   0.950080   0.939733   \n",
       "DIN.Y       0.963040  0.931390  0.880527   0.904197   0.894997   0.913348   \n",
       "nono house  0.947239  0.904679  0.896101   0.916222   0.900536   0.922972   \n",
       "貝兒居家寢飾生活館   0.888467  0.853379  0.948350   0.957177   0.953021   0.956640   \n",
       "長谷園伊賀燒      0.822096  0.777790  0.839322   0.865503   0.847500   0.838617   \n",
       "\n",
       "            ZWILLING 德國雙人  pippi & poppo    ADERIA       ee9  ...  fujidinos  \\\n",
       "KissXXX          0.822777       0.840980  0.823588  0.974745  ...   0.826131   \n",
       "NIKE 耐吉          0.782488       0.797090  0.780995  0.897216  ...   0.804796   \n",
       "eyah 宜雅          0.879606       0.890471  0.860310  0.886151  ...   0.872550   \n",
       "ISHUR 伊舒爾        0.895392       0.900199  0.881987  0.902998  ...   0.886879   \n",
       "BELLE VIE        0.865741       0.894389  0.847469  0.881863  ...   0.862665   \n",
       "...                   ...            ...       ...       ...  ...        ...   \n",
       "HO KANG          0.869979       0.897217  0.859032  0.887966  ...   0.884721   \n",
       "DIN.Y            0.838545       0.858713  0.848828  0.965681  ...   0.857543   \n",
       "nono house       0.841934       0.858584  0.844315  0.954981  ...   0.879459   \n",
       "貝兒居家寢飾生活館        0.871025       0.886220  0.860078  0.901064  ...   0.881076   \n",
       "長谷園伊賀燒           0.909518       0.817103  0.883373  0.850509  ...   0.880881   \n",
       "\n",
       "            Amay Style 艾美時尚  TACHIKICHI 橘吉   ReVe 蕾芙  Luminarc 樂美雅   HO KANG  \\\n",
       "KissXXX            0.962428       0.708017  0.863301      0.841560  0.865301   \n",
       "NIKE 耐吉            0.919014       0.660743  0.837434      0.785863  0.844449   \n",
       "eyah 宜雅            0.876193       0.763359  0.950577      0.866706  0.944197   \n",
       "ISHUR 伊舒爾          0.901143       0.771679  0.956264      0.887622  0.958753   \n",
       "BELLE VIE          0.888046       0.766610  0.964627      0.859893  0.950080   \n",
       "...                     ...            ...       ...           ...       ...   \n",
       "HO KANG            0.898370       0.739896  0.958253      0.872031  1.000000   \n",
       "DIN.Y              0.967097       0.738182  0.897760      0.859756  0.902545   \n",
       "nono house         0.969045       0.743111  0.922138      0.856001  0.922262   \n",
       "貝兒居家寢飾生活館          0.906475       0.748010  0.963025      0.875613  0.956613   \n",
       "長谷園伊賀燒             0.818475       0.777199  0.837299      0.912220  0.855417   \n",
       "\n",
       "               DIN.Y  nono house  貝兒居家寢飾生活館    長谷園伊賀燒  \n",
       "KissXXX     0.963040    0.947239   0.888467  0.822096  \n",
       "NIKE 耐吉     0.931390    0.904679   0.853379  0.777790  \n",
       "eyah 宜雅     0.880527    0.896101   0.948350  0.839322  \n",
       "ISHUR 伊舒爾   0.904197    0.916222   0.957177  0.865503  \n",
       "BELLE VIE   0.894997    0.900536   0.953021  0.847500  \n",
       "...              ...         ...        ...       ...  \n",
       "HO KANG     0.902545    0.922262   0.956613  0.855417  \n",
       "DIN.Y       1.000000    0.967260   0.913944  0.834040  \n",
       "nono house  0.967260    1.000000   0.914798  0.839845  \n",
       "貝兒居家寢飾生活館   0.913944    0.914798   1.000000  0.853421  \n",
       "長谷園伊賀燒      0.834040    0.839845   0.853421  1.000000  \n",
       "\n",
       "[203 rows x 203 columns]"
      ]
     },
     "execution_count": 8,
     "metadata": {},
     "output_type": "execute_result"
    }
   ],
   "source": [
    "cos_sim_matrix"
   ]
  },
  {
   "cell_type": "code",
   "execution_count": 9,
   "id": "ed052627-0775-4d6a-8f8a-12435274a9d4",
   "metadata": {
    "execution": {
     "iopub.execute_input": "2022-03-07T13:48:53.049991Z",
     "iopub.status.busy": "2022-03-07T13:48:53.048994Z",
     "iopub.status.idle": "2022-03-07T13:48:53.062988Z",
     "shell.execute_reply": "2022-03-07T13:48:53.061989Z",
     "shell.execute_reply.started": "2022-03-07T13:48:53.049991Z"
    },
    "tags": []
   },
   "outputs": [],
   "source": [
    "threshold = 0.96"
   ]
  },
  {
   "cell_type": "code",
   "execution_count": 10,
   "id": "a04a843d-13d6-4893-8177-3120df47c626",
   "metadata": {
    "execution": {
     "iopub.execute_input": "2022-03-07T13:48:53.071987Z",
     "iopub.status.busy": "2022-03-07T13:48:53.070988Z",
     "iopub.status.idle": "2022-03-07T13:48:53.211030Z",
     "shell.execute_reply": "2022-03-07T13:48:53.204033Z",
     "shell.execute_reply.started": "2022-03-07T13:48:53.071987Z"
    },
    "tags": []
   },
   "outputs": [],
   "source": [
    "remain_li = []\n",
    "for col in cos_sim_matrix.columns:\n",
    "    if sum(cos_sim_matrix[col]>=threshold)>=2:\n",
    "        remain_li.append(col)"
   ]
  },
  {
   "cell_type": "code",
   "execution_count": 11,
   "id": "b37147d7-c8ea-4fba-8d08-531bdb974918",
   "metadata": {
    "execution": {
     "iopub.execute_input": "2022-03-07T13:48:53.216037Z",
     "iopub.status.busy": "2022-03-07T13:48:53.214031Z",
     "iopub.status.idle": "2022-03-07T13:48:53.237028Z",
     "shell.execute_reply": "2022-03-07T13:48:53.236028Z",
     "shell.execute_reply.started": "2022-03-07T13:48:53.216037Z"
    },
    "tags": []
   },
   "outputs": [],
   "source": [
    "cos_sim_matrix = cos_sim_matrix.loc[cos_sim_matrix.index.isin(remain_li),cos_sim_matrix.columns.isin(remain_li)]\n",
    "df = df[df['Brand_Name'].isin(remain_li)].reset_index(drop=True)"
   ]
  },
  {
   "cell_type": "code",
   "execution_count": 12,
   "id": "cfbc12dc-c30c-4b93-aa75-6b9452973405",
   "metadata": {
    "execution": {
     "iopub.execute_input": "2022-03-07T13:48:53.246027Z",
     "iopub.status.busy": "2022-03-07T13:48:53.245028Z",
     "iopub.status.idle": "2022-03-07T13:48:53.329014Z",
     "shell.execute_reply": "2022-03-07T13:48:53.328012Z",
     "shell.execute_reply.started": "2022-03-07T13:48:53.246027Z"
    },
    "tags": []
   },
   "outputs": [
    {
     "data": {
      "text/html": [
       "<div>\n",
       "<style scoped>\n",
       "    .dataframe tbody tr th:only-of-type {\n",
       "        vertical-align: middle;\n",
       "    }\n",
       "\n",
       "    .dataframe tbody tr th {\n",
       "        vertical-align: top;\n",
       "    }\n",
       "\n",
       "    .dataframe thead th {\n",
       "        text-align: right;\n",
       "    }\n",
       "</style>\n",
       "<table border=\"1\" class=\"dataframe\">\n",
       "  <thead>\n",
       "    <tr style=\"text-align: right;\">\n",
       "      <th></th>\n",
       "      <th>KissXXX</th>\n",
       "      <th>eyah 宜雅</th>\n",
       "      <th>ISHUR 伊舒爾</th>\n",
       "      <th>BELLE VIE</th>\n",
       "      <th>LITA 麗塔寢飾</th>\n",
       "      <th>ZWILLING 德國雙人</th>\n",
       "      <th>ee9</th>\n",
       "      <th>KOKKO 集團</th>\n",
       "      <th>Paidal</th>\n",
       "      <th>Novaya 諾曼亞</th>\n",
       "      <th>...</th>\n",
       "      <th>Diffeny</th>\n",
       "      <th>Alleena</th>\n",
       "      <th>Woll</th>\n",
       "      <th>HELENE SPARK</th>\n",
       "      <th>Amay Style 艾美時尚</th>\n",
       "      <th>ReVe 蕾芙</th>\n",
       "      <th>HO KANG</th>\n",
       "      <th>DIN.Y</th>\n",
       "      <th>nono house</th>\n",
       "      <th>貝兒居家寢飾生活館</th>\n",
       "    </tr>\n",
       "  </thead>\n",
       "  <tbody>\n",
       "    <tr>\n",
       "      <th>KissXXX</th>\n",
       "      <td>1.000000</td>\n",
       "      <td>0.872430</td>\n",
       "      <td>0.883043</td>\n",
       "      <td>0.868758</td>\n",
       "      <td>0.903799</td>\n",
       "      <td>0.822777</td>\n",
       "      <td>0.974745</td>\n",
       "      <td>0.966797</td>\n",
       "      <td>0.962668</td>\n",
       "      <td>0.896333</td>\n",
       "      <td>...</td>\n",
       "      <td>0.978938</td>\n",
       "      <td>0.889948</td>\n",
       "      <td>0.848570</td>\n",
       "      <td>0.963408</td>\n",
       "      <td>0.962428</td>\n",
       "      <td>0.863301</td>\n",
       "      <td>0.865301</td>\n",
       "      <td>0.963040</td>\n",
       "      <td>0.947239</td>\n",
       "      <td>0.888467</td>\n",
       "    </tr>\n",
       "    <tr>\n",
       "      <th>eyah 宜雅</th>\n",
       "      <td>0.872430</td>\n",
       "      <td>1.000000</td>\n",
       "      <td>0.976628</td>\n",
       "      <td>0.965028</td>\n",
       "      <td>0.947316</td>\n",
       "      <td>0.879606</td>\n",
       "      <td>0.886151</td>\n",
       "      <td>0.890577</td>\n",
       "      <td>0.887343</td>\n",
       "      <td>0.959797</td>\n",
       "      <td>...</td>\n",
       "      <td>0.875706</td>\n",
       "      <td>0.958251</td>\n",
       "      <td>0.878484</td>\n",
       "      <td>0.892593</td>\n",
       "      <td>0.876193</td>\n",
       "      <td>0.950577</td>\n",
       "      <td>0.944197</td>\n",
       "      <td>0.880527</td>\n",
       "      <td>0.896101</td>\n",
       "      <td>0.948350</td>\n",
       "    </tr>\n",
       "    <tr>\n",
       "      <th>ISHUR 伊舒爾</th>\n",
       "      <td>0.883043</td>\n",
       "      <td>0.976628</td>\n",
       "      <td>1.000000</td>\n",
       "      <td>0.968517</td>\n",
       "      <td>0.955548</td>\n",
       "      <td>0.895392</td>\n",
       "      <td>0.902998</td>\n",
       "      <td>0.911298</td>\n",
       "      <td>0.907229</td>\n",
       "      <td>0.964220</td>\n",
       "      <td>...</td>\n",
       "      <td>0.896806</td>\n",
       "      <td>0.959807</td>\n",
       "      <td>0.896236</td>\n",
       "      <td>0.912556</td>\n",
       "      <td>0.901143</td>\n",
       "      <td>0.956264</td>\n",
       "      <td>0.958753</td>\n",
       "      <td>0.904197</td>\n",
       "      <td>0.916222</td>\n",
       "      <td>0.957177</td>\n",
       "    </tr>\n",
       "    <tr>\n",
       "      <th>BELLE VIE</th>\n",
       "      <td>0.868758</td>\n",
       "      <td>0.965028</td>\n",
       "      <td>0.968517</td>\n",
       "      <td>1.000000</td>\n",
       "      <td>0.944838</td>\n",
       "      <td>0.865741</td>\n",
       "      <td>0.881863</td>\n",
       "      <td>0.888942</td>\n",
       "      <td>0.894539</td>\n",
       "      <td>0.962992</td>\n",
       "      <td>...</td>\n",
       "      <td>0.883746</td>\n",
       "      <td>0.963638</td>\n",
       "      <td>0.862893</td>\n",
       "      <td>0.897277</td>\n",
       "      <td>0.888046</td>\n",
       "      <td>0.964627</td>\n",
       "      <td>0.950080</td>\n",
       "      <td>0.894997</td>\n",
       "      <td>0.900536</td>\n",
       "      <td>0.953021</td>\n",
       "    </tr>\n",
       "    <tr>\n",
       "      <th>LITA 麗塔寢飾</th>\n",
       "      <td>0.903799</td>\n",
       "      <td>0.947316</td>\n",
       "      <td>0.955548</td>\n",
       "      <td>0.944838</td>\n",
       "      <td>1.000000</td>\n",
       "      <td>0.857584</td>\n",
       "      <td>0.906484</td>\n",
       "      <td>0.913153</td>\n",
       "      <td>0.914887</td>\n",
       "      <td>0.961073</td>\n",
       "      <td>...</td>\n",
       "      <td>0.909587</td>\n",
       "      <td>0.953852</td>\n",
       "      <td>0.869931</td>\n",
       "      <td>0.920316</td>\n",
       "      <td>0.919163</td>\n",
       "      <td>0.952377</td>\n",
       "      <td>0.939733</td>\n",
       "      <td>0.913348</td>\n",
       "      <td>0.922972</td>\n",
       "      <td>0.956640</td>\n",
       "    </tr>\n",
       "    <tr>\n",
       "      <th>...</th>\n",
       "      <td>...</td>\n",
       "      <td>...</td>\n",
       "      <td>...</td>\n",
       "      <td>...</td>\n",
       "      <td>...</td>\n",
       "      <td>...</td>\n",
       "      <td>...</td>\n",
       "      <td>...</td>\n",
       "      <td>...</td>\n",
       "      <td>...</td>\n",
       "      <td>...</td>\n",
       "      <td>...</td>\n",
       "      <td>...</td>\n",
       "      <td>...</td>\n",
       "      <td>...</td>\n",
       "      <td>...</td>\n",
       "      <td>...</td>\n",
       "      <td>...</td>\n",
       "      <td>...</td>\n",
       "      <td>...</td>\n",
       "      <td>...</td>\n",
       "    </tr>\n",
       "    <tr>\n",
       "      <th>ReVe 蕾芙</th>\n",
       "      <td>0.863301</td>\n",
       "      <td>0.950577</td>\n",
       "      <td>0.956264</td>\n",
       "      <td>0.964627</td>\n",
       "      <td>0.952377</td>\n",
       "      <td>0.853443</td>\n",
       "      <td>0.875784</td>\n",
       "      <td>0.893582</td>\n",
       "      <td>0.890807</td>\n",
       "      <td>0.960678</td>\n",
       "      <td>...</td>\n",
       "      <td>0.878288</td>\n",
       "      <td>0.950368</td>\n",
       "      <td>0.850577</td>\n",
       "      <td>0.901592</td>\n",
       "      <td>0.894022</td>\n",
       "      <td>1.000000</td>\n",
       "      <td>0.958253</td>\n",
       "      <td>0.897760</td>\n",
       "      <td>0.922138</td>\n",
       "      <td>0.963025</td>\n",
       "    </tr>\n",
       "    <tr>\n",
       "      <th>HO KANG</th>\n",
       "      <td>0.865301</td>\n",
       "      <td>0.944197</td>\n",
       "      <td>0.958753</td>\n",
       "      <td>0.950080</td>\n",
       "      <td>0.939733</td>\n",
       "      <td>0.869979</td>\n",
       "      <td>0.887966</td>\n",
       "      <td>0.904449</td>\n",
       "      <td>0.902381</td>\n",
       "      <td>0.949084</td>\n",
       "      <td>...</td>\n",
       "      <td>0.885589</td>\n",
       "      <td>0.952269</td>\n",
       "      <td>0.874448</td>\n",
       "      <td>0.906935</td>\n",
       "      <td>0.898370</td>\n",
       "      <td>0.958253</td>\n",
       "      <td>1.000000</td>\n",
       "      <td>0.902545</td>\n",
       "      <td>0.922262</td>\n",
       "      <td>0.956613</td>\n",
       "    </tr>\n",
       "    <tr>\n",
       "      <th>DIN.Y</th>\n",
       "      <td>0.963040</td>\n",
       "      <td>0.880527</td>\n",
       "      <td>0.904197</td>\n",
       "      <td>0.894997</td>\n",
       "      <td>0.913348</td>\n",
       "      <td>0.838545</td>\n",
       "      <td>0.965681</td>\n",
       "      <td>0.964194</td>\n",
       "      <td>0.968874</td>\n",
       "      <td>0.910358</td>\n",
       "      <td>...</td>\n",
       "      <td>0.961057</td>\n",
       "      <td>0.903697</td>\n",
       "      <td>0.863353</td>\n",
       "      <td>0.970988</td>\n",
       "      <td>0.967097</td>\n",
       "      <td>0.897760</td>\n",
       "      <td>0.902545</td>\n",
       "      <td>1.000000</td>\n",
       "      <td>0.967260</td>\n",
       "      <td>0.913944</td>\n",
       "    </tr>\n",
       "    <tr>\n",
       "      <th>nono house</th>\n",
       "      <td>0.947239</td>\n",
       "      <td>0.896101</td>\n",
       "      <td>0.916222</td>\n",
       "      <td>0.900536</td>\n",
       "      <td>0.922972</td>\n",
       "      <td>0.841934</td>\n",
       "      <td>0.954981</td>\n",
       "      <td>0.968851</td>\n",
       "      <td>0.963662</td>\n",
       "      <td>0.919316</td>\n",
       "      <td>...</td>\n",
       "      <td>0.959333</td>\n",
       "      <td>0.901597</td>\n",
       "      <td>0.857244</td>\n",
       "      <td>0.969646</td>\n",
       "      <td>0.969045</td>\n",
       "      <td>0.922138</td>\n",
       "      <td>0.922262</td>\n",
       "      <td>0.967260</td>\n",
       "      <td>1.000000</td>\n",
       "      <td>0.914798</td>\n",
       "    </tr>\n",
       "    <tr>\n",
       "      <th>貝兒居家寢飾生活館</th>\n",
       "      <td>0.888467</td>\n",
       "      <td>0.948350</td>\n",
       "      <td>0.957177</td>\n",
       "      <td>0.953021</td>\n",
       "      <td>0.956640</td>\n",
       "      <td>0.871025</td>\n",
       "      <td>0.901064</td>\n",
       "      <td>0.914696</td>\n",
       "      <td>0.909006</td>\n",
       "      <td>0.965624</td>\n",
       "      <td>...</td>\n",
       "      <td>0.902008</td>\n",
       "      <td>0.970445</td>\n",
       "      <td>0.888918</td>\n",
       "      <td>0.916952</td>\n",
       "      <td>0.906475</td>\n",
       "      <td>0.963025</td>\n",
       "      <td>0.956613</td>\n",
       "      <td>0.913944</td>\n",
       "      <td>0.914798</td>\n",
       "      <td>1.000000</td>\n",
       "    </tr>\n",
       "  </tbody>\n",
       "</table>\n",
       "<p>105 rows × 105 columns</p>\n",
       "</div>"
      ],
      "text/plain": [
       "             KissXXX   eyah 宜雅  ISHUR 伊舒爾  BELLE VIE  LITA 麗塔寢飾  \\\n",
       "KissXXX     1.000000  0.872430   0.883043   0.868758   0.903799   \n",
       "eyah 宜雅     0.872430  1.000000   0.976628   0.965028   0.947316   \n",
       "ISHUR 伊舒爾   0.883043  0.976628   1.000000   0.968517   0.955548   \n",
       "BELLE VIE   0.868758  0.965028   0.968517   1.000000   0.944838   \n",
       "LITA 麗塔寢飾   0.903799  0.947316   0.955548   0.944838   1.000000   \n",
       "...              ...       ...        ...        ...        ...   \n",
       "ReVe 蕾芙     0.863301  0.950577   0.956264   0.964627   0.952377   \n",
       "HO KANG     0.865301  0.944197   0.958753   0.950080   0.939733   \n",
       "DIN.Y       0.963040  0.880527   0.904197   0.894997   0.913348   \n",
       "nono house  0.947239  0.896101   0.916222   0.900536   0.922972   \n",
       "貝兒居家寢飾生活館   0.888467  0.948350   0.957177   0.953021   0.956640   \n",
       "\n",
       "            ZWILLING 德國雙人       ee9  KOKKO 集團    Paidal  Novaya 諾曼亞  ...  \\\n",
       "KissXXX          0.822777  0.974745  0.966797  0.962668    0.896333  ...   \n",
       "eyah 宜雅          0.879606  0.886151  0.890577  0.887343    0.959797  ...   \n",
       "ISHUR 伊舒爾        0.895392  0.902998  0.911298  0.907229    0.964220  ...   \n",
       "BELLE VIE        0.865741  0.881863  0.888942  0.894539    0.962992  ...   \n",
       "LITA 麗塔寢飾        0.857584  0.906484  0.913153  0.914887    0.961073  ...   \n",
       "...                   ...       ...       ...       ...         ...  ...   \n",
       "ReVe 蕾芙          0.853443  0.875784  0.893582  0.890807    0.960678  ...   \n",
       "HO KANG          0.869979  0.887966  0.904449  0.902381    0.949084  ...   \n",
       "DIN.Y            0.838545  0.965681  0.964194  0.968874    0.910358  ...   \n",
       "nono house       0.841934  0.954981  0.968851  0.963662    0.919316  ...   \n",
       "貝兒居家寢飾生活館        0.871025  0.901064  0.914696  0.909006    0.965624  ...   \n",
       "\n",
       "             Diffeny   Alleena      Woll  HELENE SPARK  Amay Style 艾美時尚  \\\n",
       "KissXXX     0.978938  0.889948  0.848570      0.963408         0.962428   \n",
       "eyah 宜雅     0.875706  0.958251  0.878484      0.892593         0.876193   \n",
       "ISHUR 伊舒爾   0.896806  0.959807  0.896236      0.912556         0.901143   \n",
       "BELLE VIE   0.883746  0.963638  0.862893      0.897277         0.888046   \n",
       "LITA 麗塔寢飾   0.909587  0.953852  0.869931      0.920316         0.919163   \n",
       "...              ...       ...       ...           ...              ...   \n",
       "ReVe 蕾芙     0.878288  0.950368  0.850577      0.901592         0.894022   \n",
       "HO KANG     0.885589  0.952269  0.874448      0.906935         0.898370   \n",
       "DIN.Y       0.961057  0.903697  0.863353      0.970988         0.967097   \n",
       "nono house  0.959333  0.901597  0.857244      0.969646         0.969045   \n",
       "貝兒居家寢飾生活館   0.902008  0.970445  0.888918      0.916952         0.906475   \n",
       "\n",
       "             ReVe 蕾芙   HO KANG     DIN.Y  nono house  貝兒居家寢飾生活館  \n",
       "KissXXX     0.863301  0.865301  0.963040    0.947239   0.888467  \n",
       "eyah 宜雅     0.950577  0.944197  0.880527    0.896101   0.948350  \n",
       "ISHUR 伊舒爾   0.956264  0.958753  0.904197    0.916222   0.957177  \n",
       "BELLE VIE   0.964627  0.950080  0.894997    0.900536   0.953021  \n",
       "LITA 麗塔寢飾   0.952377  0.939733  0.913348    0.922972   0.956640  \n",
       "...              ...       ...       ...         ...        ...  \n",
       "ReVe 蕾芙     1.000000  0.958253  0.897760    0.922138   0.963025  \n",
       "HO KANG     0.958253  1.000000  0.902545    0.922262   0.956613  \n",
       "DIN.Y       0.897760  0.902545  1.000000    0.967260   0.913944  \n",
       "nono house  0.922138  0.922262  0.967260    1.000000   0.914798  \n",
       "貝兒居家寢飾生活館   0.963025  0.956613  0.913944    0.914798   1.000000  \n",
       "\n",
       "[105 rows x 105 columns]"
      ]
     },
     "execution_count": 12,
     "metadata": {},
     "output_type": "execute_result"
    }
   ],
   "source": [
    "cos_sim_matrix"
   ]
  },
  {
   "cell_type": "code",
   "execution_count": 13,
   "id": "004ec89b-543d-4552-8ea9-f3ee5dcac452",
   "metadata": {
    "execution": {
     "iopub.execute_input": "2022-03-07T13:48:53.335022Z",
     "iopub.status.busy": "2022-03-07T13:48:53.335022Z",
     "iopub.status.idle": "2022-03-07T13:48:53.642011Z",
     "shell.execute_reply": "2022-03-07T13:48:53.641011Z",
     "shell.execute_reply.started": "2022-03-07T13:48:53.335022Z"
    },
    "tags": []
   },
   "outputs": [
    {
     "name": "stderr",
     "output_type": "stream",
     "text": [
      "100%|███████████████████████████████████████████████████████████████████████████████| 105/105 [00:00<00:00, 530.39it/s]\n"
     ]
    }
   ],
   "source": [
    "# create index hash table\n",
    "hash_table = {col: idx for idx, col in enumerate(cos_sim_matrix.columns)}\\\n",
    "\n",
    "li = []\n",
    "brand_li = []\n",
    "for brand_col in tqdm(cos_sim_matrix.columns):\n",
    "    brand_li.append(brand_col)\n",
    "    for brand_idx in cos_sim_matrix.index:\n",
    "        if brand_idx not in brand_li and cos_sim_matrix.loc[brand_idx, brand_col]>=threshold:\n",
    "            li.append({'source': hash_table[brand_col],\n",
    "                       'target': hash_table[brand_idx],\n",
    "                       'value': cos_sim_matrix.loc[brand_idx, brand_col]\n",
    "                      })\n",
    "        else:\n",
    "            pass"
   ]
  },
  {
   "cell_type": "markdown",
   "id": "d942bbf8-074c-4692-b908-91cdfca884ed",
   "metadata": {},
   "source": [
    "### Create knowledge graph data"
   ]
  },
  {
   "cell_type": "code",
   "execution_count": 14,
   "id": "3379ce7d-77d9-45bc-9706-68fe15e4c123",
   "metadata": {
    "execution": {
     "iopub.execute_input": "2022-03-07T13:48:53.644011Z",
     "iopub.status.busy": "2022-03-07T13:48:53.644011Z",
     "iopub.status.idle": "2022-03-07T13:48:53.657008Z",
     "shell.execute_reply": "2022-03-07T13:48:53.656008Z",
     "shell.execute_reply.started": "2022-03-07T13:48:53.644011Z"
    },
    "tags": []
   },
   "outputs": [],
   "source": [
    "data = {}"
   ]
  },
  {
   "cell_type": "code",
   "execution_count": 15,
   "id": "6517ffcf-9edb-42b8-8fcc-63257a493e7d",
   "metadata": {
    "execution": {
     "iopub.execute_input": "2022-03-07T13:48:53.660008Z",
     "iopub.status.busy": "2022-03-07T13:48:53.659008Z",
     "iopub.status.idle": "2022-03-07T13:48:53.673006Z",
     "shell.execute_reply": "2022-03-07T13:48:53.672005Z",
     "shell.execute_reply.started": "2022-03-07T13:48:53.660008Z"
    },
    "tags": []
   },
   "outputs": [],
   "source": [
    "data['nodes'] = [{'name': name, 'group': group} for name, group in zip(df['Brand_Name'], df['group'])]"
   ]
  },
  {
   "cell_type": "code",
   "execution_count": 16,
   "id": "498033b6-82e7-42a8-b323-e72aae70fbcb",
   "metadata": {
    "execution": {
     "iopub.execute_input": "2022-03-07T13:48:53.676006Z",
     "iopub.status.busy": "2022-03-07T13:48:53.675005Z",
     "iopub.status.idle": "2022-03-07T13:48:53.689003Z",
     "shell.execute_reply": "2022-03-07T13:48:53.688003Z",
     "shell.execute_reply.started": "2022-03-07T13:48:53.676006Z"
    },
    "tags": []
   },
   "outputs": [],
   "source": [
    "data['links'] = li"
   ]
  },
  {
   "cell_type": "code",
   "execution_count": 17,
   "id": "097287f9-4c69-4d71-8365-d6a21bcd04c6",
   "metadata": {
    "execution": {
     "iopub.execute_input": "2022-03-07T13:48:53.692003Z",
     "iopub.status.busy": "2022-03-07T13:48:53.692003Z",
     "iopub.status.idle": "2022-03-07T13:48:53.719998Z",
     "shell.execute_reply": "2022-03-07T13:48:53.718998Z",
     "shell.execute_reply.started": "2022-03-07T13:48:53.692003Z"
    },
    "tags": []
   },
   "outputs": [
    {
     "data": {
      "text/plain": [
       "712"
      ]
     },
     "execution_count": 17,
     "metadata": {},
     "output_type": "execute_result"
    }
   ],
   "source": [
    "len(li)"
   ]
  },
  {
   "cell_type": "markdown",
   "id": "20fd174f-87f4-44f8-a2d0-f26bb2c9b228",
   "metadata": {},
   "source": [
    "### Get the number of nodes:"
   ]
  },
  {
   "cell_type": "code",
   "execution_count": 18,
   "id": "8e41c526-0553-4e38-9c95-edbab7f123eb",
   "metadata": {
    "execution": {
     "iopub.execute_input": "2022-03-07T13:48:53.722998Z",
     "iopub.status.busy": "2022-03-07T13:48:53.722998Z",
     "iopub.status.idle": "2022-03-07T13:48:53.749996Z",
     "shell.execute_reply": "2022-03-07T13:48:53.748994Z",
     "shell.execute_reply.started": "2022-03-07T13:48:53.722998Z"
    },
    "tags": []
   },
   "outputs": [
    {
     "data": {
      "text/plain": [
       "105"
      ]
     },
     "execution_count": 18,
     "metadata": {},
     "output_type": "execute_result"
    }
   ],
   "source": [
    "N=len(data['nodes'])\n",
    "N"
   ]
  },
  {
   "cell_type": "markdown",
   "id": "f2d7f254-18c2-4db8-8233-ae9ee7b9bcfc",
   "metadata": {
    "tags": []
   },
   "source": [
    "### Define the list of edges and the Graph object from Edges:"
   ]
  },
  {
   "cell_type": "code",
   "execution_count": 19,
   "id": "fa7cb62c-eef4-4ce0-b4bc-7b6f876b189e",
   "metadata": {
    "execution": {
     "iopub.execute_input": "2022-03-07T13:48:53.752994Z",
     "iopub.status.busy": "2022-03-07T13:48:53.751994Z",
     "iopub.status.idle": "2022-03-07T13:48:53.766991Z",
     "shell.execute_reply": "2022-03-07T13:48:53.765992Z",
     "shell.execute_reply.started": "2022-03-07T13:48:53.752994Z"
    },
    "tags": []
   },
   "outputs": [],
   "source": [
    "L=len(data['links'])\n",
    "Edges=[(data['links'][k]['source'], data['links'][k]['target']) for k in range(L)]\n",
    "\n",
    "G=ig.Graph(Edges, directed=False)"
   ]
  },
  {
   "cell_type": "markdown",
   "id": "ebe4bee7-d03b-4896-958a-16a90f7ec2e5",
   "metadata": {
    "execution": {
     "iopub.status.busy": "2022-03-07T10:22:45.321099Z",
     "iopub.status.idle": "2022-03-07T10:22:45.322097Z",
     "shell.execute_reply": "2022-03-07T10:22:45.322097Z",
     "shell.execute_reply.started": "2022-03-07T10:22:45.322097Z"
    }
   },
   "source": [
    "### Extract the node attributes, 'group', and 'name':"
   ]
  },
  {
   "cell_type": "code",
   "execution_count": 20,
   "id": "b8d8bce9-4a1e-4f3f-a560-cee10c42c413",
   "metadata": {
    "execution": {
     "iopub.execute_input": "2022-03-07T13:48:53.769991Z",
     "iopub.status.busy": "2022-03-07T13:48:53.768991Z",
     "iopub.status.idle": "2022-03-07T13:48:53.799997Z",
     "shell.execute_reply": "2022-03-07T13:48:53.795986Z",
     "shell.execute_reply.started": "2022-03-07T13:48:53.769991Z"
    },
    "tags": []
   },
   "outputs": [
    {
     "data": {
      "text/plain": [
       "{'name': 'KissXXX', 'group': 61}"
      ]
     },
     "execution_count": 20,
     "metadata": {},
     "output_type": "execute_result"
    }
   ],
   "source": [
    "data['nodes'][0]"
   ]
  },
  {
   "cell_type": "code",
   "execution_count": 21,
   "id": "dfe919ae-87d0-4aed-90f0-7e6d02ed1813",
   "metadata": {
    "execution": {
     "iopub.execute_input": "2022-03-07T13:48:53.803986Z",
     "iopub.status.busy": "2022-03-07T13:48:53.802986Z",
     "iopub.status.idle": "2022-03-07T13:48:53.812984Z",
     "shell.execute_reply": "2022-03-07T13:48:53.811985Z",
     "shell.execute_reply.started": "2022-03-07T13:48:53.803986Z"
    },
    "tags": []
   },
   "outputs": [],
   "source": [
    "labels=[]\n",
    "group=[]\n",
    "for node in data['nodes']:\n",
    "    labels.append(node['name'])\n",
    "    group.append(node['group'])"
   ]
  },
  {
   "cell_type": "markdown",
   "id": "e655d1ac-d9ec-48a5-918c-4640bd3b24ae",
   "metadata": {},
   "source": [
    "### Get the node positions, set by the Kamada-Kawai layout for 3D graphs:"
   ]
  },
  {
   "cell_type": "code",
   "execution_count": 22,
   "id": "894a6218-0afc-4d04-b298-5ff20b78bc87",
   "metadata": {
    "execution": {
     "iopub.execute_input": "2022-03-07T13:48:53.816988Z",
     "iopub.status.busy": "2022-03-07T13:48:53.815983Z",
     "iopub.status.idle": "2022-03-07T13:48:53.843990Z",
     "shell.execute_reply": "2022-03-07T13:48:53.842990Z",
     "shell.execute_reply.started": "2022-03-07T13:48:53.816988Z"
    },
    "tags": []
   },
   "outputs": [],
   "source": [
    "layt = G.layout('kk', dim=3)"
   ]
  },
  {
   "cell_type": "code",
   "execution_count": 23,
   "id": "75aa0b11-f337-42e7-8c50-11bc587ae234",
   "metadata": {
    "execution": {
     "iopub.execute_input": "2022-03-07T13:48:53.845992Z",
     "iopub.status.busy": "2022-03-07T13:48:53.845992Z",
     "iopub.status.idle": "2022-03-07T13:48:53.858989Z",
     "shell.execute_reply": "2022-03-07T13:48:53.857989Z",
     "shell.execute_reply.started": "2022-03-07T13:48:53.845992Z"
    },
    "tags": []
   },
   "outputs": [
    {
     "data": {
      "text/plain": [
       "105"
      ]
     },
     "execution_count": 23,
     "metadata": {},
     "output_type": "execute_result"
    }
   ],
   "source": [
    "len(layt)"
   ]
  },
  {
   "cell_type": "markdown",
   "id": "9f4d3337-853e-4919-aca1-fdac0e3e7700",
   "metadata": {},
   "source": [
    "### layt is a list of three elements lists (the coordinates of nodes):"
   ]
  },
  {
   "cell_type": "code",
   "execution_count": 24,
   "id": "9d8e4580-3779-4646-aaae-df1862aa0554",
   "metadata": {
    "execution": {
     "iopub.execute_input": "2022-03-07T13:48:53.861990Z",
     "iopub.status.busy": "2022-03-07T13:48:53.861990Z",
     "iopub.status.idle": "2022-03-07T13:48:53.889984Z",
     "shell.execute_reply": "2022-03-07T13:48:53.888986Z",
     "shell.execute_reply.started": "2022-03-07T13:48:53.861990Z"
    }
   },
   "outputs": [
    {
     "data": {
      "text/plain": [
       "105"
      ]
     },
     "execution_count": 24,
     "metadata": {},
     "output_type": "execute_result"
    }
   ],
   "source": [
    "N"
   ]
  },
  {
   "cell_type": "code",
   "execution_count": 25,
   "id": "954d554c-fd95-45ab-9e31-119ecec2ffc7",
   "metadata": {
    "execution": {
     "iopub.execute_input": "2022-03-07T13:48:53.892983Z",
     "iopub.status.busy": "2022-03-07T13:48:53.891985Z",
     "iopub.status.idle": "2022-03-07T13:48:53.904981Z",
     "shell.execute_reply": "2022-03-07T13:48:53.903985Z",
     "shell.execute_reply.started": "2022-03-07T13:48:53.892983Z"
    },
    "tags": []
   },
   "outputs": [
    {
     "data": {
      "text/plain": [
       "<Layout with 105 vertices and 3 dimensions>"
      ]
     },
     "execution_count": 25,
     "metadata": {},
     "output_type": "execute_result"
    }
   ],
   "source": [
    "layt"
   ]
  },
  {
   "cell_type": "markdown",
   "id": "0541e1ae-0f92-47a3-ac5b-4a1980a63c66",
   "metadata": {
    "tags": []
   },
   "source": [
    "### Set data for the Plotly plot of the graph:"
   ]
  },
  {
   "cell_type": "code",
   "execution_count": 26,
   "id": "a38c553e-c9d5-4cde-81f7-9ab2b3d94f01",
   "metadata": {
    "execution": {
     "iopub.execute_input": "2022-03-07T13:48:53.907981Z",
     "iopub.status.busy": "2022-03-07T13:48:53.906982Z",
     "iopub.status.idle": "2022-03-07T13:48:53.936976Z",
     "shell.execute_reply": "2022-03-07T13:48:53.935975Z",
     "shell.execute_reply.started": "2022-03-07T13:48:53.907981Z"
    },
    "tags": []
   },
   "outputs": [],
   "source": [
    "Xn=[layt[k][0] for k in range(N)]# x-coordinates of nodes\n",
    "Yn=[layt[k][1] for k in range(N)]# y-coordinates\n",
    "Zn=[layt[k][2] for k in range(N)]# z-coordinates\n",
    "Xe=[]\n",
    "Ye=[]\n",
    "Ze=[]\n",
    "for e in Edges:\n",
    "    Xe+=[layt[e[0]][0],layt[e[1]][0], None]# x-coordinates of edge ends\n",
    "    Ye+=[layt[e[0]][1],layt[e[1]][1], None]\n",
    "    Ze+=[layt[e[0]][2],layt[e[1]][2], None]"
   ]
  },
  {
   "cell_type": "code",
   "execution_count": 27,
   "id": "5a1ee77e-4caf-4b43-88b0-03b1b0fcda20",
   "metadata": {
    "execution": {
     "iopub.execute_input": "2022-03-07T13:48:53.938977Z",
     "iopub.status.busy": "2022-03-07T13:48:53.937976Z",
     "iopub.status.idle": "2022-03-07T13:48:55.586856Z",
     "shell.execute_reply": "2022-03-07T13:48:55.586027Z",
     "shell.execute_reply.started": "2022-03-07T13:48:53.938977Z"
    },
    "tags": []
   },
   "outputs": [],
   "source": [
    "trace1=go.Scatter3d(x=Xe,\n",
    "               y=Ye,\n",
    "               z=Ze,\n",
    "               mode='lines',\n",
    "               line=dict(color='rgb(125,125,125)', width=1),\n",
    "               hoverinfo='none'\n",
    "               )\n",
    "\n",
    "trace2=go.Scatter3d(x=Xn,\n",
    "               y=Yn,\n",
    "               z=Zn,\n",
    "               mode='markers+text',\n",
    "               name='actors',\n",
    "               marker=dict(symbol='circle',\n",
    "                             size=6,\n",
    "                             color=group,\n",
    "                             colorscale='Viridis',\n",
    "                             line=dict(color='rgb(50,50,50)', width=0.5)\n",
    "                             ),\n",
    "               text=labels,\n",
    "               hoverinfo='text'\n",
    "               )\n",
    "\n",
    "axis=dict(showbackground=False,\n",
    "          showline=False,\n",
    "          zeroline=False,\n",
    "          showgrid=False,\n",
    "          showticklabels=False,\n",
    "          title=''\n",
    "          )\n",
    "\n",
    "layout = go.Layout(\n",
    "         title=\"Network of attribute of brand in MOMO\",\n",
    "         width=1000,\n",
    "         height=1000,\n",
    "         showlegend=False,\n",
    "         scene=dict(\n",
    "             xaxis=dict(axis),\n",
    "             yaxis=dict(axis),\n",
    "             zaxis=dict(axis),\n",
    "        ),\n",
    "     margin=dict(\n",
    "        t=100\n",
    "    ),\n",
    "    hovermode='closest',\n",
    "    annotations=[\n",
    "           dict(\n",
    "           showarrow=False,\n",
    "            text=\"\",\n",
    "            xref='paper',\n",
    "            yref='paper',\n",
    "            x=0,\n",
    "            y=0.1,\n",
    "            xanchor='left',\n",
    "            yanchor='bottom',\n",
    "            font=dict(\n",
    "            size=14\n",
    "            )\n",
    "            )\n",
    "        ],    )"
   ]
  },
  {
   "cell_type": "code",
   "execution_count": 28,
   "id": "6cfd5dfd-bb74-4e80-9517-419d2ce132ef",
   "metadata": {
    "execution": {
     "iopub.execute_input": "2022-03-07T13:48:55.588872Z",
     "iopub.status.busy": "2022-03-07T13:48:55.587871Z",
     "iopub.status.idle": "2022-03-07T13:48:56.073540Z",
     "shell.execute_reply": "2022-03-07T13:48:56.072563Z",
     "shell.execute_reply.started": "2022-03-07T13:48:55.588872Z"
    },
    "tags": []
   },
   "outputs": [
    {
     "data": {
      "text/plain": [
       "'momo.html'"
      ]
     },
     "execution_count": 28,
     "metadata": {},
     "output_type": "execute_result"
    }
   ],
   "source": [
    "data=[trace1, trace2]\n",
    "fig=go.Figure(data=data, layout=layout)\n",
    "fig.update_traces(textposition='top center')\n",
    "plotly.offline.plot(fig, auto_open=False, validate=False, filename='momo.html', config = {'displayModeBar': False})"
   ]
  },
  {
   "cell_type": "code",
   "execution_count": null,
   "id": "31bf67db-a6ac-4bd2-b08a-edc0a566dd17",
   "metadata": {},
   "outputs": [],
   "source": []
  }
 ],
 "metadata": {
  "kernelspec": {
   "display_name": "Python 3 (ipykernel)",
   "language": "python",
   "name": "python3"
  },
  "language_info": {
   "codemirror_mode": {
    "name": "ipython",
    "version": 3
   },
   "file_extension": ".py",
   "mimetype": "text/x-python",
   "name": "python",
   "nbconvert_exporter": "python",
   "pygments_lexer": "ipython3",
   "version": "3.8.5"
  }
 },
 "nbformat": 4,
 "nbformat_minor": 5
}
