{
 "cells": [
  {
   "cell_type": "markdown",
   "metadata": {
    "id": "zwBCE43Cv3PH"
   },
   "source": [
    "##### Copyright 2019 The TensorFlow Authors.\n",
    "\n",
    "Licensed under the Apache License, Version 2.0 (the \"License\");"
   ]
  },
  {
   "cell_type": "code",
   "execution_count": 1,
   "metadata": {
    "cellView": "form",
    "execution": {
     "iopub.execute_input": "2022-03-20T15:36:00.406740Z",
     "iopub.status.busy": "2022-03-20T15:36:00.405741Z",
     "iopub.status.idle": "2022-03-20T15:36:00.420739Z",
     "shell.execute_reply": "2022-03-20T15:36:00.419740Z",
     "shell.execute_reply.started": "2022-03-20T15:36:00.405741Z"
    },
    "id": "fOad0I2cv569",
    "tags": []
   },
   "outputs": [],
   "source": [
    "#@title Licensed under the Apache License, Version 2.0 (the \"License\");\n",
    "# you may not use this file except in compliance with the License.\n",
    "# You may obtain a copy of the License at\n",
    "#\n",
    "# https://www.apache.org/licenses/LICENSE-2.0\n",
    "#\n",
    "# Unless required by applicable law or agreed to in writing, software\n",
    "# distributed under the License is distributed on an \"AS IS\" BASIS,\n",
    "# WITHOUT WARRANTIES OR CONDITIONS OF ANY KIND, either express or implied.\n",
    "# See the License for the specific language governing permissions and\n",
    "# limitations under the License."
   ]
  },
  {
   "cell_type": "markdown",
   "metadata": {
    "id": "YQB7yiF6v9GR"
   },
   "source": [
    "# Load a pandas DataFrame"
   ]
  },
  {
   "cell_type": "markdown",
   "metadata": {
    "id": "Oqa952X4wQKK"
   },
   "source": [
    "<table class=\"tfo-notebook-buttons\" align=\"left\">\n",
    "  <td>\n",
    "    <a target=\"_blank\" href=\"https://www.tensorflow.org/tutorials/load_data/pandas_dataframe\"><img src=\"https://www.tensorflow.org/images/tf_logo_32px.png\" />View on TensorFlow.org</a>\n",
    "  </td>\n",
    "  <td>\n",
    "    <a target=\"_blank\" href=\"https://colab.research.google.com/github/tensorflow/docs/blob/master/site/en/tutorials/load_data/pandas_dataframe.ipynb\"><img src=\"https://www.tensorflow.org/images/colab_logo_32px.png\" />Run in Google Colab</a>\n",
    "  </td>\n",
    "  <td>\n",
    "    <a target=\"_blank\" href=\"https://github.com/tensorflow/docs/blob/master/site/en/tutorials/load_data/pandas_dataframe.ipynb\"><img src=\"https://www.tensorflow.org/images/GitHub-Mark-32px.png\" />View source on GitHub</a>\n",
    "  </td>\n",
    "  <td>\n",
    "    <a href=\"https://storage.googleapis.com/tensorflow_docs/docs/site/en/tutorials/load_data/pandas_dataframe.ipynb\"><img src=\"https://www.tensorflow.org/images/download_logo_32px.png\" />Download notebook</a>\n",
    "  </td>\n",
    "</table>"
   ]
  },
  {
   "cell_type": "markdown",
   "metadata": {
    "id": "UmyEaf4Awl2v"
   },
   "source": [
    "This tutorial provides examples of how to load <a href=\"https://pandas.pydata.org/docs/reference/api/pandas.DataFrame.html\" class=\"external\">pandas DataFrames</a> into TensorFlow.\n",
    "\n",
    "You will use a small <a href=\"https://archive.ics.uci.edu/ml/datasets/heart+Disease\" class=\"external\">heart disease dataset</a> provided by the UCI Machine Learning Repository. There are several hundred rows in the CSV. Each row describes a patient, and each column describes an attribute. You will use this information to predict whether a patient has heart disease, which is a binary classification task."
   ]
  },
  {
   "cell_type": "markdown",
   "metadata": {
    "id": "iiyC7HkqxlUD"
   },
   "source": [
    "## Read data using pandas"
   ]
  },
  {
   "cell_type": "code",
   "execution_count": 2,
   "metadata": {
    "execution": {
     "iopub.execute_input": "2022-03-20T15:36:00.426756Z",
     "iopub.status.busy": "2022-03-20T15:36:00.424739Z",
     "iopub.status.idle": "2022-03-20T15:36:06.179285Z",
     "shell.execute_reply": "2022-03-20T15:36:06.178286Z",
     "shell.execute_reply.started": "2022-03-20T15:36:00.425738Z"
    },
    "id": "5IoRbCA2n0_V",
    "tags": []
   },
   "outputs": [],
   "source": [
    "import pandas as pd\n",
    "import tensorflow as tf\n",
    "\n",
    "SHUFFLE_BUFFER = 500\n",
    "BATCH_SIZE = 2"
   ]
  },
  {
   "cell_type": "markdown",
   "metadata": {
    "id": "-2kBGy_pxn47"
   },
   "source": [
    "Download the CSV file containing the heart disease dataset:"
   ]
  },
  {
   "cell_type": "code",
   "execution_count": 3,
   "metadata": {
    "execution": {
     "iopub.execute_input": "2022-03-20T15:36:06.182286Z",
     "iopub.status.busy": "2022-03-20T15:36:06.181286Z",
     "iopub.status.idle": "2022-03-20T15:36:06.195283Z",
     "shell.execute_reply": "2022-03-20T15:36:06.194284Z",
     "shell.execute_reply.started": "2022-03-20T15:36:06.182286Z"
    },
    "id": "VS4w2LePn9g3",
    "tags": []
   },
   "outputs": [],
   "source": [
    "csv_file = tf.keras.utils.get_file('heart.csv', 'https://storage.googleapis.com/download.tensorflow.org/data/heart.csv')"
   ]
  },
  {
   "cell_type": "markdown",
   "metadata": {
    "id": "6BXRPD2-xtQ1"
   },
   "source": [
    "Read the CSV file using pandas:"
   ]
  },
  {
   "cell_type": "code",
   "execution_count": 4,
   "metadata": {
    "execution": {
     "iopub.execute_input": "2022-03-20T15:36:06.199283Z",
     "iopub.status.busy": "2022-03-20T15:36:06.198283Z",
     "iopub.status.idle": "2022-03-20T15:36:06.227486Z",
     "shell.execute_reply": "2022-03-20T15:36:06.225484Z",
     "shell.execute_reply.started": "2022-03-20T15:36:06.199283Z"
    },
    "id": "UEfJ8TcMpe-2",
    "tags": []
   },
   "outputs": [],
   "source": [
    "df = pd.read_csv(csv_file)"
   ]
  },
  {
   "cell_type": "markdown",
   "metadata": {
    "id": "4K873P-Pp8c7"
   },
   "source": [
    "This is what the data looks like:"
   ]
  },
  {
   "cell_type": "code",
   "execution_count": 5,
   "metadata": {
    "execution": {
     "iopub.execute_input": "2022-03-20T15:36:06.232484Z",
     "iopub.status.busy": "2022-03-20T15:36:06.231486Z",
     "iopub.status.idle": "2022-03-20T15:36:06.289475Z",
     "shell.execute_reply": "2022-03-20T15:36:06.288476Z",
     "shell.execute_reply.started": "2022-03-20T15:36:06.232484Z"
    },
    "id": "8FkK6QIRpjd4",
    "tags": []
   },
   "outputs": [
    {
     "data": {
      "text/html": [
       "<div>\n",
       "<style scoped>\n",
       "    .dataframe tbody tr th:only-of-type {\n",
       "        vertical-align: middle;\n",
       "    }\n",
       "\n",
       "    .dataframe tbody tr th {\n",
       "        vertical-align: top;\n",
       "    }\n",
       "\n",
       "    .dataframe thead th {\n",
       "        text-align: right;\n",
       "    }\n",
       "</style>\n",
       "<table border=\"1\" class=\"dataframe\">\n",
       "  <thead>\n",
       "    <tr style=\"text-align: right;\">\n",
       "      <th></th>\n",
       "      <th>age</th>\n",
       "      <th>sex</th>\n",
       "      <th>cp</th>\n",
       "      <th>trestbps</th>\n",
       "      <th>chol</th>\n",
       "      <th>fbs</th>\n",
       "      <th>restecg</th>\n",
       "      <th>thalach</th>\n",
       "      <th>exang</th>\n",
       "      <th>oldpeak</th>\n",
       "      <th>slope</th>\n",
       "      <th>ca</th>\n",
       "      <th>thal</th>\n",
       "      <th>target</th>\n",
       "    </tr>\n",
       "  </thead>\n",
       "  <tbody>\n",
       "    <tr>\n",
       "      <th>0</th>\n",
       "      <td>63</td>\n",
       "      <td>1</td>\n",
       "      <td>1</td>\n",
       "      <td>145</td>\n",
       "      <td>233</td>\n",
       "      <td>1</td>\n",
       "      <td>2</td>\n",
       "      <td>150</td>\n",
       "      <td>0</td>\n",
       "      <td>2.3</td>\n",
       "      <td>3</td>\n",
       "      <td>0</td>\n",
       "      <td>fixed</td>\n",
       "      <td>0</td>\n",
       "    </tr>\n",
       "    <tr>\n",
       "      <th>1</th>\n",
       "      <td>67</td>\n",
       "      <td>1</td>\n",
       "      <td>4</td>\n",
       "      <td>160</td>\n",
       "      <td>286</td>\n",
       "      <td>0</td>\n",
       "      <td>2</td>\n",
       "      <td>108</td>\n",
       "      <td>1</td>\n",
       "      <td>1.5</td>\n",
       "      <td>2</td>\n",
       "      <td>3</td>\n",
       "      <td>normal</td>\n",
       "      <td>1</td>\n",
       "    </tr>\n",
       "    <tr>\n",
       "      <th>2</th>\n",
       "      <td>67</td>\n",
       "      <td>1</td>\n",
       "      <td>4</td>\n",
       "      <td>120</td>\n",
       "      <td>229</td>\n",
       "      <td>0</td>\n",
       "      <td>2</td>\n",
       "      <td>129</td>\n",
       "      <td>1</td>\n",
       "      <td>2.6</td>\n",
       "      <td>2</td>\n",
       "      <td>2</td>\n",
       "      <td>reversible</td>\n",
       "      <td>0</td>\n",
       "    </tr>\n",
       "    <tr>\n",
       "      <th>3</th>\n",
       "      <td>37</td>\n",
       "      <td>1</td>\n",
       "      <td>3</td>\n",
       "      <td>130</td>\n",
       "      <td>250</td>\n",
       "      <td>0</td>\n",
       "      <td>0</td>\n",
       "      <td>187</td>\n",
       "      <td>0</td>\n",
       "      <td>3.5</td>\n",
       "      <td>3</td>\n",
       "      <td>0</td>\n",
       "      <td>normal</td>\n",
       "      <td>0</td>\n",
       "    </tr>\n",
       "    <tr>\n",
       "      <th>4</th>\n",
       "      <td>41</td>\n",
       "      <td>0</td>\n",
       "      <td>2</td>\n",
       "      <td>130</td>\n",
       "      <td>204</td>\n",
       "      <td>0</td>\n",
       "      <td>2</td>\n",
       "      <td>172</td>\n",
       "      <td>0</td>\n",
       "      <td>1.4</td>\n",
       "      <td>1</td>\n",
       "      <td>0</td>\n",
       "      <td>normal</td>\n",
       "      <td>0</td>\n",
       "    </tr>\n",
       "  </tbody>\n",
       "</table>\n",
       "</div>"
      ],
      "text/plain": [
       "   age  sex  cp  trestbps  chol  fbs  restecg  thalach  exang  oldpeak  slope  \\\n",
       "0   63    1   1       145   233    1        2      150      0      2.3      3   \n",
       "1   67    1   4       160   286    0        2      108      1      1.5      2   \n",
       "2   67    1   4       120   229    0        2      129      1      2.6      2   \n",
       "3   37    1   3       130   250    0        0      187      0      3.5      3   \n",
       "4   41    0   2       130   204    0        2      172      0      1.4      1   \n",
       "\n",
       "   ca        thal  target  \n",
       "0   0       fixed       0  \n",
       "1   3      normal       1  \n",
       "2   2  reversible       0  \n",
       "3   0      normal       0  \n",
       "4   0      normal       0  "
      ]
     },
     "execution_count": 5,
     "metadata": {},
     "output_type": "execute_result"
    }
   ],
   "source": [
    "df.head()"
   ]
  },
  {
   "cell_type": "code",
   "execution_count": 6,
   "metadata": {
    "execution": {
     "iopub.execute_input": "2022-03-20T15:36:06.296476Z",
     "iopub.status.busy": "2022-03-20T15:36:06.293474Z",
     "iopub.status.idle": "2022-03-20T15:36:06.337469Z",
     "shell.execute_reply": "2022-03-20T15:36:06.336468Z",
     "shell.execute_reply.started": "2022-03-20T15:36:06.296476Z"
    },
    "id": "_MOAKz654CT5",
    "tags": []
   },
   "outputs": [
    {
     "data": {
      "text/plain": [
       "age           int64\n",
       "sex           int64\n",
       "cp            int64\n",
       "trestbps      int64\n",
       "chol          int64\n",
       "fbs           int64\n",
       "restecg       int64\n",
       "thalach       int64\n",
       "exang         int64\n",
       "oldpeak     float64\n",
       "slope         int64\n",
       "ca            int64\n",
       "thal         object\n",
       "target        int64\n",
       "dtype: object"
      ]
     },
     "execution_count": 6,
     "metadata": {},
     "output_type": "execute_result"
    }
   ],
   "source": [
    "df.dtypes"
   ]
  },
  {
   "cell_type": "markdown",
   "metadata": {
    "id": "jVyGjKvnqGlb"
   },
   "source": [
    "You will build models to predict the label contained in the `target` column."
   ]
  },
  {
   "cell_type": "code",
   "execution_count": 7,
   "metadata": {
    "execution": {
     "iopub.execute_input": "2022-03-20T15:36:06.350465Z",
     "iopub.status.busy": "2022-03-20T15:36:06.349466Z",
     "iopub.status.idle": "2022-03-20T15:36:06.371464Z",
     "shell.execute_reply": "2022-03-20T15:36:06.369463Z",
     "shell.execute_reply.started": "2022-03-20T15:36:06.350465Z"
    },
    "id": "2wwhILm1ycSp",
    "tags": []
   },
   "outputs": [],
   "source": [
    "target = df.pop('target')"
   ]
  },
  {
   "cell_type": "markdown",
   "metadata": {
    "id": "vFGv9fgjDeao"
   },
   "source": [
    "## A DataFrame as an array"
   ]
  },
  {
   "cell_type": "markdown",
   "metadata": {
    "id": "xNxJ41MafiB-"
   },
   "source": [
    "If your data has a uniform datatype, or `dtype`, it's possible to use a pandas DataFrame anywhere you could use a NumPy array. This works because the `pandas.DataFrame` class supports the `__array__` protocol, and TensorFlow's `tf.convert_to_tensor` function accepts objects that support the protocol.\n",
    "\n",
    "Take the numeric features from the dataset (skip the categorical features for now):"
   ]
  },
  {
   "cell_type": "code",
   "execution_count": 8,
   "metadata": {
    "execution": {
     "iopub.execute_input": "2022-03-20T15:36:06.386462Z",
     "iopub.status.busy": "2022-03-20T15:36:06.385460Z",
     "iopub.status.idle": "2022-03-20T15:36:06.448450Z",
     "shell.execute_reply": "2022-03-20T15:36:06.446452Z",
     "shell.execute_reply.started": "2022-03-20T15:36:06.386462Z"
    },
    "id": "b9VlFGAie3K0",
    "tags": []
   },
   "outputs": [
    {
     "data": {
      "text/html": [
       "<div>\n",
       "<style scoped>\n",
       "    .dataframe tbody tr th:only-of-type {\n",
       "        vertical-align: middle;\n",
       "    }\n",
       "\n",
       "    .dataframe tbody tr th {\n",
       "        vertical-align: top;\n",
       "    }\n",
       "\n",
       "    .dataframe thead th {\n",
       "        text-align: right;\n",
       "    }\n",
       "</style>\n",
       "<table border=\"1\" class=\"dataframe\">\n",
       "  <thead>\n",
       "    <tr style=\"text-align: right;\">\n",
       "      <th></th>\n",
       "      <th>age</th>\n",
       "      <th>thalach</th>\n",
       "      <th>trestbps</th>\n",
       "      <th>chol</th>\n",
       "      <th>oldpeak</th>\n",
       "    </tr>\n",
       "  </thead>\n",
       "  <tbody>\n",
       "    <tr>\n",
       "      <th>0</th>\n",
       "      <td>63</td>\n",
       "      <td>150</td>\n",
       "      <td>145</td>\n",
       "      <td>233</td>\n",
       "      <td>2.3</td>\n",
       "    </tr>\n",
       "    <tr>\n",
       "      <th>1</th>\n",
       "      <td>67</td>\n",
       "      <td>108</td>\n",
       "      <td>160</td>\n",
       "      <td>286</td>\n",
       "      <td>1.5</td>\n",
       "    </tr>\n",
       "    <tr>\n",
       "      <th>2</th>\n",
       "      <td>67</td>\n",
       "      <td>129</td>\n",
       "      <td>120</td>\n",
       "      <td>229</td>\n",
       "      <td>2.6</td>\n",
       "    </tr>\n",
       "    <tr>\n",
       "      <th>3</th>\n",
       "      <td>37</td>\n",
       "      <td>187</td>\n",
       "      <td>130</td>\n",
       "      <td>250</td>\n",
       "      <td>3.5</td>\n",
       "    </tr>\n",
       "    <tr>\n",
       "      <th>4</th>\n",
       "      <td>41</td>\n",
       "      <td>172</td>\n",
       "      <td>130</td>\n",
       "      <td>204</td>\n",
       "      <td>1.4</td>\n",
       "    </tr>\n",
       "  </tbody>\n",
       "</table>\n",
       "</div>"
      ],
      "text/plain": [
       "   age  thalach  trestbps  chol  oldpeak\n",
       "0   63      150       145   233      2.3\n",
       "1   67      108       160   286      1.5\n",
       "2   67      129       120   229      2.6\n",
       "3   37      187       130   250      3.5\n",
       "4   41      172       130   204      1.4"
      ]
     },
     "execution_count": 8,
     "metadata": {},
     "output_type": "execute_result"
    }
   ],
   "source": [
    "numeric_feature_names = ['age', 'thalach', 'trestbps',  'chol', 'oldpeak']\n",
    "numeric_features = df[numeric_feature_names]\n",
    "numeric_features.head()"
   ]
  },
  {
   "cell_type": "markdown",
   "metadata": {
    "id": "Xe1CMRvSpR_R"
   },
   "source": [
    "The DataFrame can be converted to a NumPy array using the `DataFrame.values` property or `numpy.array(df)`. To convert it to a tensor, use `tf.convert_to_tensor`:"
   ]
  },
  {
   "cell_type": "code",
   "execution_count": 9,
   "metadata": {
    "execution": {
     "iopub.execute_input": "2022-03-20T15:36:06.450450Z",
     "iopub.status.busy": "2022-03-20T15:36:06.450450Z",
     "iopub.status.idle": "2022-03-20T15:36:07.237766Z",
     "shell.execute_reply": "2022-03-20T15:36:07.236762Z",
     "shell.execute_reply.started": "2022-03-20T15:36:06.450450Z"
    },
    "id": "OVv6Nwc9oDBU",
    "tags": []
   },
   "outputs": [
    {
     "data": {
      "text/plain": [
       "<tf.Tensor: shape=(303, 5), dtype=float64, numpy=\n",
       "array([[ 63. , 150. , 145. , 233. ,   2.3],\n",
       "       [ 67. , 108. , 160. , 286. ,   1.5],\n",
       "       [ 67. , 129. , 120. , 229. ,   2.6],\n",
       "       ...,\n",
       "       [ 65. , 127. , 135. , 254. ,   2.8],\n",
       "       [ 48. , 150. , 130. , 256. ,   0. ],\n",
       "       [ 63. , 154. , 150. , 407. ,   4. ]])>"
      ]
     },
     "execution_count": 9,
     "metadata": {},
     "output_type": "execute_result"
    }
   ],
   "source": [
    "tf.convert_to_tensor(numeric_features)"
   ]
  },
  {
   "cell_type": "markdown",
   "metadata": {
    "id": "7iRYvoTrr1_G"
   },
   "source": [
    "In general, if an object can be converted to a tensor with `tf.convert_to_tensor` it can be passed anywhere you can pass a `tf.Tensor`."
   ]
  },
  {
   "cell_type": "markdown",
   "metadata": {
    "id": "RVF7_Z-Mp-qD"
   },
   "source": [
    "### With Model.fit"
   ]
  },
  {
   "cell_type": "markdown",
   "metadata": {
    "id": "Vqkc9gIapQNu"
   },
   "source": [
    "A DataFrame, interpreted as a single tensor, can be used directly as an argument to the `Model.fit` method.\n",
    "\n",
    "Below is an example of training a model on the numeric features of the dataset."
   ]
  },
  {
   "cell_type": "markdown",
   "metadata": {
    "id": "u8M3oYHZgH_t"
   },
   "source": [
    "The first step is to normalize the input ranges. Use a `tf.keras.layers.Normalization` layer for that.\n",
    "\n",
    "To set the layer's mean and standard-deviation before running it be sure to call the `Normalization.adapt` method:"
   ]
  },
  {
   "cell_type": "code",
   "execution_count": 10,
   "metadata": {
    "execution": {
     "iopub.execute_input": "2022-03-20T15:36:07.239766Z",
     "iopub.status.busy": "2022-03-20T15:36:07.239766Z",
     "iopub.status.idle": "2022-03-20T15:36:07.615707Z",
     "shell.execute_reply": "2022-03-20T15:36:07.614709Z",
     "shell.execute_reply.started": "2022-03-20T15:36:07.239766Z"
    },
    "id": "88XTmyEdgkJn",
    "tags": []
   },
   "outputs": [],
   "source": [
    "normalizer = tf.keras.layers.Normalization(axis=-1)\n",
    "normalizer.adapt(numeric_features)"
   ]
  },
  {
   "cell_type": "markdown",
   "metadata": {
    "id": "_D7JqUtnYCnb"
   },
   "source": [
    "Call the layer on the first three rows of the DataFrame to visualize an example of the output from this layer:"
   ]
  },
  {
   "cell_type": "code",
   "execution_count": 11,
   "metadata": {
    "execution": {
     "iopub.execute_input": "2022-03-20T15:36:07.617708Z",
     "iopub.status.busy": "2022-03-20T15:36:07.617708Z",
     "iopub.status.idle": "2022-03-20T15:36:07.646882Z",
     "shell.execute_reply": "2022-03-20T15:36:07.645883Z",
     "shell.execute_reply.started": "2022-03-20T15:36:07.617708Z"
    },
    "id": "jOwzIG-DhB0y",
    "tags": []
   },
   "outputs": [
    {
     "data": {
      "text/plain": [
       "<tf.Tensor: shape=(3, 5), dtype=float32, numpy=\n",
       "array([[ 0.93383914,  0.03480717,  0.7457807 , -0.26008663,  1.0680453 ],\n",
       "       [ 1.3782105 , -1.7806163 ,  1.5923283 ,  0.75738776,  0.38022864],\n",
       "       [ 1.3782105 , -0.8729046 , -0.66513205, -0.33687717,  1.3259765 ]],\n",
       "      dtype=float32)>"
      ]
     },
     "execution_count": 11,
     "metadata": {},
     "output_type": "execute_result"
    }
   ],
   "source": [
    "normalizer(numeric_features.iloc[:3])"
   ]
  },
  {
   "cell_type": "markdown",
   "metadata": {
    "id": "KWKcuVZJh-HY"
   },
   "source": [
    "Use the normalization layer as the first layer of a simple model:"
   ]
  },
  {
   "cell_type": "code",
   "execution_count": 12,
   "metadata": {
    "execution": {
     "iopub.execute_input": "2022-03-20T15:36:07.649882Z",
     "iopub.status.busy": "2022-03-20T15:36:07.648884Z",
     "iopub.status.idle": "2022-03-20T15:36:07.663881Z",
     "shell.execute_reply": "2022-03-20T15:36:07.661880Z",
     "shell.execute_reply.started": "2022-03-20T15:36:07.648884Z"
    },
    "id": "lu-bni-nh6mX",
    "tags": []
   },
   "outputs": [],
   "source": [
    "def get_basic_model():\n",
    "    model = tf.keras.Sequential([\n",
    "        normalizer,\n",
    "        tf.keras.layers.Dense(10, activation='relu'),\n",
    "        tf.keras.layers.Dense(10, activation='relu'),\n",
    "        tf.keras.layers.Dense(1)\n",
    "    ])\n",
    "\n",
    "    model.compile(optimizer='adam',\n",
    "                  loss=tf.keras.losses.BinaryCrossentropy(from_logits=True),\n",
    "                  metrics=['accuracy'])\n",
    "    return model"
   ]
  },
  {
   "cell_type": "markdown",
   "metadata": {
    "id": "ntGi6ngYitob"
   },
   "source": [
    "When you pass the DataFrame as the `x` argument to `Model.fit`, Keras treats the DataFrame as it would a NumPy array:"
   ]
  },
  {
   "cell_type": "code",
   "execution_count": 13,
   "metadata": {
    "execution": {
     "iopub.execute_input": "2022-03-20T15:36:07.667879Z",
     "iopub.status.busy": "2022-03-20T15:36:07.666880Z",
     "iopub.status.idle": "2022-03-20T15:36:13.869089Z",
     "shell.execute_reply": "2022-03-20T15:36:13.868092Z",
     "shell.execute_reply.started": "2022-03-20T15:36:07.667879Z"
    },
    "id": "XMjM-eddiNNT",
    "tags": []
   },
   "outputs": [
    {
     "name": "stdout",
     "output_type": "stream",
     "text": [
      "Epoch 1/15\n",
      "152/152 [==============================] - 2s 2ms/step - loss: 0.6222 - accuracy: 0.7261\n",
      "Epoch 2/15\n",
      "152/152 [==============================] - 0s 3ms/step - loss: 0.5068 - accuracy: 0.7393\n",
      "Epoch 3/15\n",
      "152/152 [==============================] - 0s 3ms/step - loss: 0.4644 - accuracy: 0.7525\n",
      "Epoch 4/15\n",
      "152/152 [==============================] - 0s 3ms/step - loss: 0.4485 - accuracy: 0.7657\n",
      "Epoch 5/15\n",
      "152/152 [==============================] - 0s 2ms/step - loss: 0.4390 - accuracy: 0.7756\n",
      "Epoch 6/15\n",
      "152/152 [==============================] - 0s 2ms/step - loss: 0.4365 - accuracy: 0.7756\n",
      "Epoch 7/15\n",
      "152/152 [==============================] - 0s 2ms/step - loss: 0.4328 - accuracy: 0.7888\n",
      "Epoch 8/15\n",
      "152/152 [==============================] - 0s 2ms/step - loss: 0.4312 - accuracy: 0.7855\n",
      "Epoch 9/15\n",
      "152/152 [==============================] - 0s 2ms/step - loss: 0.4272 - accuracy: 0.7921\n",
      "Epoch 10/15\n",
      "152/152 [==============================] - 0s 2ms/step - loss: 0.4256 - accuracy: 0.7888\n",
      "Epoch 11/15\n",
      "152/152 [==============================] - 0s 2ms/step - loss: 0.4236 - accuracy: 0.7921\n",
      "Epoch 12/15\n",
      "152/152 [==============================] - 0s 2ms/step - loss: 0.4226 - accuracy: 0.7822\n",
      "Epoch 13/15\n",
      "152/152 [==============================] - 0s 2ms/step - loss: 0.4219 - accuracy: 0.7921\n",
      "Epoch 14/15\n",
      "152/152 [==============================] - 0s 2ms/step - loss: 0.4206 - accuracy: 0.7921\n",
      "Epoch 15/15\n",
      "152/152 [==============================] - 0s 2ms/step - loss: 0.4189 - accuracy: 0.7954\n"
     ]
    },
    {
     "data": {
      "text/plain": [
       "<keras.callbacks.History at 0x1904629c4f0>"
      ]
     },
     "execution_count": 13,
     "metadata": {},
     "output_type": "execute_result"
    }
   ],
   "source": [
    "model = get_basic_model()\n",
    "model.fit(numeric_features, target, epochs=15, batch_size=BATCH_SIZE)"
   ]
  },
  {
   "cell_type": "markdown",
   "metadata": {
    "id": "EjtQbsRPEoJT"
   },
   "source": [
    "### With tf.data"
   ]
  },
  {
   "cell_type": "markdown",
   "metadata": {
    "id": "nSjV5gy3EsVv"
   },
   "source": [
    "If you want to apply `tf.data` transformations to a DataFrame of a uniform `dtype`, the `Dataset.from_tensor_slices` method will create a dataset that iterates over the rows of the DataFrame. Each row is initially a vector of values. To train a model, you need `(inputs, labels)` pairs, so pass `(features, labels)` and `Dataset.from_tensor_slices` will return the needed pairs of slices:"
   ]
  },
  {
   "cell_type": "code",
   "execution_count": 14,
   "metadata": {
    "execution": {
     "iopub.execute_input": "2022-03-20T15:36:13.871090Z",
     "iopub.status.busy": "2022-03-20T15:36:13.870088Z",
     "iopub.status.idle": "2022-03-20T15:36:13.900084Z",
     "shell.execute_reply": "2022-03-20T15:36:13.899085Z",
     "shell.execute_reply.started": "2022-03-20T15:36:13.871090Z"
    },
    "id": "FCphpgdRGikx",
    "tags": []
   },
   "outputs": [
    {
     "name": "stdout",
     "output_type": "stream",
     "text": [
      "(<tf.Tensor: shape=(5,), dtype=float64, numpy=array([ 63. , 150. , 145. , 233. ,   2.3])>, <tf.Tensor: shape=(), dtype=int64, numpy=0>)\n",
      "(<tf.Tensor: shape=(5,), dtype=float64, numpy=array([ 67. , 108. , 160. , 286. ,   1.5])>, <tf.Tensor: shape=(), dtype=int64, numpy=1>)\n",
      "(<tf.Tensor: shape=(5,), dtype=float64, numpy=array([ 67. , 129. , 120. , 229. ,   2.6])>, <tf.Tensor: shape=(), dtype=int64, numpy=0>)\n"
     ]
    }
   ],
   "source": [
    "numeric_dataset = tf.data.Dataset.from_tensor_slices((numeric_features, target))\n",
    "\n",
    "for row in numeric_dataset.take(3):\n",
    "    print(row)"
   ]
  },
  {
   "cell_type": "code",
   "execution_count": 15,
   "metadata": {
    "execution": {
     "iopub.execute_input": "2022-03-20T15:36:13.902086Z",
     "iopub.status.busy": "2022-03-20T15:36:13.902086Z",
     "iopub.status.idle": "2022-03-20T15:36:19.656184Z",
     "shell.execute_reply": "2022-03-20T15:36:19.655184Z",
     "shell.execute_reply.started": "2022-03-20T15:36:13.902086Z"
    },
    "id": "lStkN86gEkCe",
    "tags": []
   },
   "outputs": [
    {
     "name": "stdout",
     "output_type": "stream",
     "text": [
      "Epoch 1/15\n",
      "152/152 [==============================] - 1s 2ms/step - loss: 0.6330 - accuracy: 0.7525\n",
      "Epoch 2/15\n",
      "152/152 [==============================] - 0s 2ms/step - loss: 0.5672 - accuracy: 0.7492\n",
      "Epoch 3/15\n",
      "152/152 [==============================] - 0s 2ms/step - loss: 0.5120 - accuracy: 0.7558\n",
      "Epoch 4/15\n",
      "152/152 [==============================] - 0s 2ms/step - loss: 0.4740 - accuracy: 0.7690\n",
      "Epoch 5/15\n",
      "152/152 [==============================] - 0s 3ms/step - loss: 0.4526 - accuracy: 0.7921\n",
      "Epoch 6/15\n",
      "152/152 [==============================] - 0s 2ms/step - loss: 0.4407 - accuracy: 0.7855\n",
      "Epoch 7/15\n",
      "152/152 [==============================] - 0s 2ms/step - loss: 0.4337 - accuracy: 0.7921\n",
      "Epoch 8/15\n",
      "152/152 [==============================] - 0s 3ms/step - loss: 0.4301 - accuracy: 0.7954\n",
      "Epoch 9/15\n",
      "152/152 [==============================] - 0s 3ms/step - loss: 0.4276 - accuracy: 0.7855\n",
      "Epoch 10/15\n",
      "152/152 [==============================] - 0s 2ms/step - loss: 0.4250 - accuracy: 0.7954\n",
      "Epoch 11/15\n",
      "152/152 [==============================] - 0s 2ms/step - loss: 0.4238 - accuracy: 0.8020\n",
      "Epoch 12/15\n",
      "152/152 [==============================] - 0s 2ms/step - loss: 0.4220 - accuracy: 0.7822\n",
      "Epoch 13/15\n",
      "152/152 [==============================] - 0s 2ms/step - loss: 0.4188 - accuracy: 0.7921\n",
      "Epoch 14/15\n",
      "152/152 [==============================] - 0s 2ms/step - loss: 0.4179 - accuracy: 0.7954\n",
      "Epoch 15/15\n",
      "152/152 [==============================] - 0s 2ms/step - loss: 0.4170 - accuracy: 0.7954\n"
     ]
    },
    {
     "data": {
      "text/plain": [
       "<keras.callbacks.History at 0x1904753cc70>"
      ]
     },
     "execution_count": 15,
     "metadata": {},
     "output_type": "execute_result"
    }
   ],
   "source": [
    "numeric_batches = numeric_dataset.shuffle(1000).batch(BATCH_SIZE)\n",
    "\n",
    "model = get_basic_model()\n",
    "model.fit(numeric_batches, epochs=15)"
   ]
  },
  {
   "cell_type": "markdown",
   "metadata": {
    "id": "NRASs9IIESWQ"
   },
   "source": [
    "## A DataFrame as a dictionary"
   ]
  },
  {
   "cell_type": "markdown",
   "metadata": {
    "id": "NQcp7kiPF8TP"
   },
   "source": [
    "When you start dealing with heterogeneous data, it is no longer possible to treat the DataFrame as if it were a single array. TensorFlow tensors require that all elements have the same `dtype`.\n",
    "\n",
    "So, in this case, you need to start treating it as a dictionary of columns, where each column has a uniform `dtype`. A DataFrame is a lot like a dictionary of arrays, so typically all you need to do is cast the DataFrame to a Python dict. Many important TensorFlow APIs support (nested-)dictionaries of arrays as inputs."
   ]
  },
  {
   "cell_type": "markdown",
   "metadata": {
    "id": "9y5UMKL8bury"
   },
   "source": [
    "`tf.data` input pipelines handle this quite well. All `tf.data` operations handle dictionaries and tuples automatically. So, to make a dataset of dictionary-examples from a DataFrame, just cast it to a dict before slicing it with `Dataset.from_tensor_slices`:"
   ]
  },
  {
   "cell_type": "code",
   "execution_count": 16,
   "metadata": {
    "execution": {
     "iopub.execute_input": "2022-03-20T15:36:19.659187Z",
     "iopub.status.busy": "2022-03-20T15:36:19.658184Z",
     "iopub.status.idle": "2022-03-20T15:36:19.688044Z",
     "shell.execute_reply": "2022-03-20T15:36:19.687040Z",
     "shell.execute_reply.started": "2022-03-20T15:36:19.659187Z"
    },
    "id": "U3QDo-jwHYXc",
    "tags": []
   },
   "outputs": [],
   "source": [
    "numeric_dict_ds = tf.data.Dataset.from_tensor_slices((dict(numeric_features), target))"
   ]
  },
  {
   "cell_type": "markdown",
   "metadata": {
    "id": "yyEERK9ldIi_"
   },
   "source": [
    "Here are the first three examples from that dataset:"
   ]
  },
  {
   "cell_type": "code",
   "execution_count": 17,
   "metadata": {
    "execution": {
     "iopub.execute_input": "2022-03-20T15:36:19.696042Z",
     "iopub.status.busy": "2022-03-20T15:36:19.696042Z",
     "iopub.status.idle": "2022-03-20T15:36:19.719216Z",
     "shell.execute_reply": "2022-03-20T15:36:19.718213Z",
     "shell.execute_reply.started": "2022-03-20T15:36:19.696042Z"
    },
    "id": "q0tDwk0VdH6D",
    "tags": []
   },
   "outputs": [
    {
     "name": "stdout",
     "output_type": "stream",
     "text": [
      "({'age': <tf.Tensor: shape=(), dtype=int64, numpy=63>, 'thalach': <tf.Tensor: shape=(), dtype=int64, numpy=150>, 'trestbps': <tf.Tensor: shape=(), dtype=int64, numpy=145>, 'chol': <tf.Tensor: shape=(), dtype=int64, numpy=233>, 'oldpeak': <tf.Tensor: shape=(), dtype=float64, numpy=2.3>}, <tf.Tensor: shape=(), dtype=int64, numpy=0>)\n",
      "({'age': <tf.Tensor: shape=(), dtype=int64, numpy=67>, 'thalach': <tf.Tensor: shape=(), dtype=int64, numpy=108>, 'trestbps': <tf.Tensor: shape=(), dtype=int64, numpy=160>, 'chol': <tf.Tensor: shape=(), dtype=int64, numpy=286>, 'oldpeak': <tf.Tensor: shape=(), dtype=float64, numpy=1.5>}, <tf.Tensor: shape=(), dtype=int64, numpy=1>)\n",
      "({'age': <tf.Tensor: shape=(), dtype=int64, numpy=67>, 'thalach': <tf.Tensor: shape=(), dtype=int64, numpy=129>, 'trestbps': <tf.Tensor: shape=(), dtype=int64, numpy=120>, 'chol': <tf.Tensor: shape=(), dtype=int64, numpy=229>, 'oldpeak': <tf.Tensor: shape=(), dtype=float64, numpy=2.6>}, <tf.Tensor: shape=(), dtype=int64, numpy=0>)\n"
     ]
    }
   ],
   "source": [
    "for row in numeric_dict_ds.take(3):\n",
    "    print(row)"
   ]
  },
  {
   "cell_type": "markdown",
   "metadata": {
    "id": "DEAM6HAFxlMy"
   },
   "source": [
    "### Dictionaries with Keras"
   ]
  },
  {
   "cell_type": "markdown",
   "metadata": {
    "id": "dnoyoWLWx07i"
   },
   "source": [
    "Typically, Keras models and layers expect a single input tensor, but these classes can accept and return nested structures of dictionaries, tuples and tensors. These structures are known as \"nests\" (refer to the `tf.nest` module for details).\n",
    "\n",
    "There are two equivalent ways you can write a Keras model that accepts a dictionary as input."
   ]
  },
  {
   "cell_type": "markdown",
   "metadata": {
    "id": "5xUTrm0apDTr"
   },
   "source": [
    "#### 1. The Model-subclass style\n",
    "\n",
    "You write a subclass of `tf.keras.Model` (or `tf.keras.Layer`). You directly handle the inputs, and create the outputs:"
   ]
  },
  {
   "cell_type": "code",
   "execution_count": 18,
   "metadata": {
    "execution": {
     "iopub.execute_input": "2022-03-20T15:36:19.721216Z",
     "iopub.status.busy": "2022-03-20T15:36:19.720217Z",
     "iopub.status.idle": "2022-03-20T15:36:19.735215Z",
     "shell.execute_reply": "2022-03-20T15:36:19.734215Z",
     "shell.execute_reply.started": "2022-03-20T15:36:19.721216Z"
    },
    "id": "Zc3HV99CFRWL",
    "tags": []
   },
   "outputs": [],
   "source": [
    "def stack_dict(inputs, fun=tf.stack):\n",
    "    values = []\n",
    "    for key in sorted(inputs.keys()):\n",
    "        values.append(tf.cast(inputs[key], tf.float32))\n",
    "\n",
    "    return fun(values, axis=-1)"
   ]
  },
  {
   "cell_type": "code",
   "execution_count": 19,
   "metadata": {
    "execution": {
     "iopub.execute_input": "2022-03-20T15:36:19.737214Z",
     "iopub.status.busy": "2022-03-20T15:36:19.737214Z",
     "iopub.status.idle": "2022-03-20T15:36:20.019017Z",
     "shell.execute_reply": "2022-03-20T15:36:20.018011Z",
     "shell.execute_reply.started": "2022-03-20T15:36:19.737214Z"
    },
    "id": "Rz4Cg6WpzNzi",
    "tags": []
   },
   "outputs": [],
   "source": [
    "#@title\n",
    "class MyModel(tf.keras.Model):\n",
    "    def __init__(self):\n",
    "        # Create all the internal layers in init.\n",
    "        super().__init__(self)\n",
    "\n",
    "        self.normalizer = tf.keras.layers.Normalization(axis=-1)\n",
    "\n",
    "        self.seq = tf.keras.Sequential([\n",
    "            self.normalizer,\n",
    "            tf.keras.layers.Dense(10, activation='relu'),\n",
    "            tf.keras.layers.Dense(10, activation='relu'),\n",
    "            tf.keras.layers.Dense(1)\n",
    "        ])\n",
    "\n",
    "    def adapt(self, inputs):\n",
    "        # Stack the inputs and `adapt` the normalization layer.\n",
    "        inputs = stack_dict(inputs)\n",
    "        self.normalizer.adapt(inputs)\n",
    "\n",
    "    def call(self, inputs):\n",
    "        # Stack the inputs\n",
    "        inputs = stack_dict(inputs)\n",
    "        # Run them through all the layers.\n",
    "        result = self.seq(inputs)\n",
    "\n",
    "        return result\n",
    "\n",
    "model = MyModel()\n",
    "\n",
    "model.adapt(dict(numeric_features))\n",
    "\n",
    "model.compile(optimizer='adam',\n",
    "              loss=tf.keras.losses.BinaryCrossentropy(from_logits=True),\n",
    "              metrics=['accuracy'],\n",
    "              run_eagerly=True)"
   ]
  },
  {
   "cell_type": "markdown",
   "metadata": {
    "id": "hMLXNEDF_tu2"
   },
   "source": [
    "This model can accept either a dictionary of columns or a dataset of dictionary-elements for training:"
   ]
  },
  {
   "cell_type": "code",
   "execution_count": 20,
   "metadata": {
    "execution": {
     "iopub.execute_input": "2022-03-20T15:36:20.020015Z",
     "iopub.status.busy": "2022-03-20T15:36:20.020015Z",
     "iopub.status.idle": "2022-03-20T15:36:37.810014Z",
     "shell.execute_reply": "2022-03-20T15:36:37.809030Z",
     "shell.execute_reply.started": "2022-03-20T15:36:20.020015Z"
    },
    "id": "v3xEjtHY8gZG",
    "tags": []
   },
   "outputs": [
    {
     "name": "stdout",
     "output_type": "stream",
     "text": [
      "Epoch 1/5\n",
      "152/152 [==============================] - 4s 26ms/step - loss: 0.6612 - accuracy: 0.7261\n",
      "Epoch 2/5\n",
      "152/152 [==============================] - 3s 21ms/step - loss: 0.5693 - accuracy: 0.7261\n",
      "Epoch 3/5\n",
      "152/152 [==============================] - 3s 22ms/step - loss: 0.5149 - accuracy: 0.7261\n",
      "Epoch 4/5\n",
      "152/152 [==============================] - 4s 25ms/step - loss: 0.4872 - accuracy: 0.7261\n",
      "Epoch 5/5\n",
      "152/152 [==============================] - 3s 22ms/step - loss: 0.4678 - accuracy: 0.7327\n"
     ]
    },
    {
     "data": {
      "text/plain": [
       "<keras.callbacks.History at 0x1904760edc0>"
      ]
     },
     "execution_count": 20,
     "metadata": {},
     "output_type": "execute_result"
    }
   ],
   "source": [
    "model.fit(dict(numeric_features), target, epochs=5, batch_size=BATCH_SIZE)"
   ]
  },
  {
   "cell_type": "code",
   "execution_count": 21,
   "metadata": {
    "execution": {
     "iopub.execute_input": "2022-03-20T15:36:37.813011Z",
     "iopub.status.busy": "2022-03-20T15:36:37.811009Z",
     "iopub.status.idle": "2022-03-20T15:36:53.090622Z",
     "shell.execute_reply": "2022-03-20T15:36:53.089621Z",
     "shell.execute_reply.started": "2022-03-20T15:36:37.812009Z"
    },
    "id": "73wgiTaVAA2F",
    "tags": []
   },
   "outputs": [
    {
     "name": "stdout",
     "output_type": "stream",
     "text": [
      "Epoch 1/5\n",
      "152/152 [==============================] - 3s 21ms/step - loss: 0.4553 - accuracy: 0.7459\n",
      "Epoch 2/5\n",
      "152/152 [==============================] - 3s 22ms/step - loss: 0.4474 - accuracy: 0.7723\n",
      "Epoch 3/5\n",
      "152/152 [==============================] - 3s 20ms/step - loss: 0.4411 - accuracy: 0.7723\n",
      "Epoch 4/5\n",
      "152/152 [==============================] - 3s 18ms/step - loss: 0.4356 - accuracy: 0.7690\n",
      "Epoch 5/5\n",
      "152/152 [==============================] - 3s 19ms/step - loss: 0.4325 - accuracy: 0.7756\n"
     ]
    },
    {
     "data": {
      "text/plain": [
       "<keras.callbacks.History at 0x1904645d9d0>"
      ]
     },
     "execution_count": 21,
     "metadata": {},
     "output_type": "execute_result"
    }
   ],
   "source": [
    "numeric_dict_batches = numeric_dict_ds.shuffle(SHUFFLE_BUFFER).batch(BATCH_SIZE)\n",
    "model.fit(numeric_dict_batches, epochs=5)"
   ]
  },
  {
   "cell_type": "markdown",
   "metadata": {
    "id": "-xDB3HLZGzAb"
   },
   "source": [
    "Here are the predictions for the first three examples:"
   ]
  },
  {
   "cell_type": "code",
   "execution_count": 22,
   "metadata": {
    "execution": {
     "iopub.execute_input": "2022-03-20T15:36:53.093619Z",
     "iopub.status.busy": "2022-03-20T15:36:53.092617Z",
     "iopub.status.idle": "2022-03-20T15:36:53.200885Z",
     "shell.execute_reply": "2022-03-20T15:36:53.199882Z",
     "shell.execute_reply.started": "2022-03-20T15:36:53.093619Z"
    },
    "id": "xtolTQA-GpBW",
    "tags": []
   },
   "outputs": [
    {
     "data": {
      "text/plain": [
       "array([[[0.21940188]],\n",
       "\n",
       "       [[0.509742  ]],\n",
       "\n",
       "       [[0.30972552]]], dtype=float32)"
      ]
     },
     "execution_count": 22,
     "metadata": {},
     "output_type": "execute_result"
    }
   ],
   "source": [
    "model.predict(dict(numeric_features.iloc[:3]))"
   ]
  },
  {
   "cell_type": "markdown",
   "metadata": {
    "id": "QIIdxIYm13Ik"
   },
   "source": [
    "#### 2. The Keras functional style"
   ]
  },
  {
   "cell_type": "code",
   "execution_count": 23,
   "metadata": {
    "execution": {
     "iopub.execute_input": "2022-03-20T15:36:53.202886Z",
     "iopub.status.busy": "2022-03-20T15:36:53.202886Z",
     "iopub.status.idle": "2022-03-20T15:36:53.232331Z",
     "shell.execute_reply": "2022-03-20T15:36:53.231327Z",
     "shell.execute_reply.started": "2022-03-20T15:36:53.202886Z"
    },
    "id": "DG_bmO0sS_G5",
    "tags": []
   },
   "outputs": [
    {
     "data": {
      "text/plain": [
       "{'age': <KerasTensor: shape=(None, 1) dtype=float32 (created by layer 'age')>,\n",
       " 'thalach': <KerasTensor: shape=(None, 1) dtype=float32 (created by layer 'thalach')>,\n",
       " 'trestbps': <KerasTensor: shape=(None, 1) dtype=float32 (created by layer 'trestbps')>,\n",
       " 'chol': <KerasTensor: shape=(None, 1) dtype=float32 (created by layer 'chol')>,\n",
       " 'oldpeak': <KerasTensor: shape=(None, 1) dtype=float32 (created by layer 'oldpeak')>}"
      ]
     },
     "execution_count": 23,
     "metadata": {},
     "output_type": "execute_result"
    }
   ],
   "source": [
    "inputs = {}\n",
    "for name, column in numeric_features.items():\n",
    "    inputs[name] = tf.keras.Input(\n",
    "        shape=(1,), name=name, dtype=tf.float32)\n",
    "\n",
    "inputs"
   ]
  },
  {
   "cell_type": "code",
   "execution_count": 24,
   "metadata": {
    "execution": {
     "iopub.execute_input": "2022-03-20T15:36:53.234331Z",
     "iopub.status.busy": "2022-03-20T15:36:53.234331Z",
     "iopub.status.idle": "2022-03-20T15:36:53.566033Z",
     "shell.execute_reply": "2022-03-20T15:36:53.565030Z",
     "shell.execute_reply.started": "2022-03-20T15:36:53.234331Z"
    },
    "id": "9iXU9oem12dL",
    "tags": []
   },
   "outputs": [],
   "source": [
    "x = stack_dict(inputs, fun=tf.concat)\n",
    "\n",
    "normalizer = tf.keras.layers.Normalization(axis=-1)\n",
    "normalizer.adapt(stack_dict(dict(numeric_features)))\n",
    "\n",
    "x = normalizer(x)\n",
    "x = tf.keras.layers.Dense(10, activation='relu')(x)\n",
    "x = tf.keras.layers.Dense(10, activation='relu')(x)\n",
    "x = tf.keras.layers.Dense(1)(x)\n",
    "\n",
    "model = tf.keras.Model(inputs, x)\n",
    "\n",
    "model.compile(optimizer='adam',\n",
    "              loss=tf.keras.losses.BinaryCrossentropy(from_logits=True),\n",
    "              metrics=['accuracy'],\n",
    "              run_eagerly=True)"
   ]
  },
  {
   "cell_type": "code",
   "execution_count": 25,
   "metadata": {
    "execution": {
     "iopub.execute_input": "2022-03-20T15:36:53.568035Z",
     "iopub.status.busy": "2022-03-20T15:36:53.568035Z",
     "iopub.status.idle": "2022-03-20T15:36:53.613269Z",
     "shell.execute_reply": "2022-03-20T15:36:53.612265Z",
     "shell.execute_reply.started": "2022-03-20T15:36:53.568035Z"
    },
    "id": "xrAxmuJrEwnf",
    "tags": []
   },
   "outputs": [
    {
     "name": "stdout",
     "output_type": "stream",
     "text": [
      "You must install pydot (`pip install pydot`) and install graphviz (see instructions at https://graphviz.gitlab.io/download/) for plot_model/model_to_dot to work.\n"
     ]
    }
   ],
   "source": [
    "tf.keras.utils.plot_model(model, rankdir=\"LR\", show_shapes=True)"
   ]
  },
  {
   "cell_type": "markdown",
   "metadata": {
    "id": "UYtoAOIzCFY1"
   },
   "source": [
    "You can train the functional model the same way as the model subclass:"
   ]
  },
  {
   "cell_type": "code",
   "execution_count": 26,
   "metadata": {
    "execution": {
     "iopub.execute_input": "2022-03-20T15:37:57.680112Z",
     "iopub.status.busy": "2022-03-20T15:37:57.679116Z",
     "iopub.status.idle": "2022-03-20T15:38:14.389498Z",
     "shell.execute_reply": "2022-03-20T15:38:14.388521Z",
     "shell.execute_reply.started": "2022-03-20T15:37:57.680112Z"
    },
    "id": "yAwjPq7I_ehX",
    "tags": []
   },
   "outputs": [
    {
     "name": "stdout",
     "output_type": "stream",
     "text": [
      "Epoch 1/5\n",
      "152/152 [==============================] - 3s 19ms/step - loss: 0.6682 - accuracy: 0.7327\n",
      "Epoch 2/5\n",
      "152/152 [==============================] - 3s 19ms/step - loss: 0.5435 - accuracy: 0.7327\n",
      "Epoch 3/5\n",
      "152/152 [==============================] - 3s 20ms/step - loss: 0.4818 - accuracy: 0.7459\n",
      "Epoch 4/5\n",
      "152/152 [==============================] - 4s 26ms/step - loss: 0.4524 - accuracy: 0.7558\n",
      "Epoch 5/5\n",
      "152/152 [==============================] - 4s 24ms/step - loss: 0.4394 - accuracy: 0.7756\n"
     ]
    },
    {
     "data": {
      "text/plain": [
       "<keras.callbacks.History at 0x190475f3100>"
      ]
     },
     "execution_count": 26,
     "metadata": {},
     "output_type": "execute_result"
    }
   ],
   "source": [
    "model.fit(dict(numeric_features), target, epochs=5, batch_size=BATCH_SIZE)"
   ]
  },
  {
   "cell_type": "code",
   "execution_count": 27,
   "metadata": {
    "execution": {
     "iopub.execute_input": "2022-03-20T15:38:17.095308Z",
     "iopub.status.busy": "2022-03-20T15:38:17.095308Z",
     "iopub.status.idle": "2022-03-20T15:38:32.422631Z",
     "shell.execute_reply": "2022-03-20T15:38:32.421657Z",
     "shell.execute_reply.started": "2022-03-20T15:38:17.095308Z"
    },
    "id": "brwodxxVApO_",
    "tags": []
   },
   "outputs": [
    {
     "name": "stdout",
     "output_type": "stream",
     "text": [
      "Epoch 1/5\n",
      "152/152 [==============================] - 3s 20ms/step - loss: 0.4342 - accuracy: 0.7822\n",
      "Epoch 2/5\n",
      "152/152 [==============================] - 3s 20ms/step - loss: 0.4297 - accuracy: 0.7789\n",
      "Epoch 3/5\n",
      "152/152 [==============================] - 3s 20ms/step - loss: 0.4279 - accuracy: 0.7855\n",
      "Epoch 4/5\n",
      "152/152 [==============================] - 3s 20ms/step - loss: 0.4251 - accuracy: 0.7822\n",
      "Epoch 5/5\n",
      "152/152 [==============================] - 3s 21ms/step - loss: 0.4243 - accuracy: 0.7888\n"
     ]
    },
    {
     "data": {
      "text/plain": [
       "<keras.callbacks.History at 0x190486a71f0>"
      ]
     },
     "execution_count": 27,
     "metadata": {},
     "output_type": "execute_result"
    }
   ],
   "source": [
    "numeric_dict_batches = numeric_dict_ds.shuffle(SHUFFLE_BUFFER).batch(BATCH_SIZE)\n",
    "model.fit(numeric_dict_batches, epochs=5)"
   ]
  },
  {
   "cell_type": "markdown",
   "metadata": {
    "id": "xhn0Bt_Xw4nO"
   },
   "source": [
    "## Full example"
   ]
  },
  {
   "cell_type": "markdown",
   "metadata": {
    "id": "zYQ5fDaRxRWQ"
   },
   "source": [
    "If you're passing a heterogeneous DataFrame to Keras, each column may need unique preprocessing. You could do this preprocessing directly in the DataFrame, but for a model to work correctly, inputs always need to be preprocessed the same way. So, the best approach is to build the preprocessing into the model. [Keras preprocessing layers](https://www.tensorflow.org/guide/keras/preprocessing_layers) cover many common tasks."
   ]
  },
  {
   "cell_type": "markdown",
   "metadata": {
    "id": "BFsDZeu-BQ-h"
   },
   "source": [
    "### Build the preprocessing head"
   ]
  },
  {
   "cell_type": "markdown",
   "metadata": {
    "id": "C6aVQN4Gw-Va"
   },
   "source": [
    "In this dataset some of the \"integer\" features in the raw data are actually Categorical indices. These indices are not really ordered numeric values (refer to the <a href=\"https://archive.ics.uci.edu/ml/datasets/heart+Disease\" class=\"external\">the dataset description</a> for details). Because these are unordered they are inappropriate to feed directly to the model; the model would interpret them as being ordered. To use these inputs you'll need to encode them, either as one-hot vectors or embedding vectors. The same applies to string-categorical features.\n",
    "\n",
    "Note: If you have many features that need identical preprocessing it's more efficient to concatenate them together before applying the preprocessing.\n",
    "\n",
    "Binary features on the other hand do not generally need to be encoded or normalized.\n",
    "\n",
    "Start by by creating a list of the features that fall into each group:"
   ]
  },
  {
   "cell_type": "code",
   "execution_count": 28,
   "metadata": {
    "execution": {
     "iopub.execute_input": "2022-03-20T15:38:51.751113Z",
     "iopub.status.busy": "2022-03-20T15:38:51.750110Z",
     "iopub.status.idle": "2022-03-20T15:38:51.765109Z",
     "shell.execute_reply": "2022-03-20T15:38:51.764109Z",
     "shell.execute_reply.started": "2022-03-20T15:38:51.751113Z"
    },
    "id": "IH2VCyLBPYX8",
    "tags": []
   },
   "outputs": [],
   "source": [
    "binary_feature_names = ['sex', 'fbs', 'exang']"
   ]
  },
  {
   "cell_type": "code",
   "execution_count": 29,
   "metadata": {
    "execution": {
     "iopub.execute_input": "2022-03-20T15:38:51.944670Z",
     "iopub.status.busy": "2022-03-20T15:38:51.943671Z",
     "iopub.status.idle": "2022-03-20T15:38:51.951667Z",
     "shell.execute_reply": "2022-03-20T15:38:51.950667Z",
     "shell.execute_reply.started": "2022-03-20T15:38:51.944670Z"
    },
    "id": "Pxh4FPucOpDz",
    "tags": []
   },
   "outputs": [],
   "source": [
    "categorical_feature_names = ['cp', 'restecg', 'slope', 'thal', 'ca']"
   ]
  },
  {
   "cell_type": "markdown",
   "metadata": {
    "id": "HRcC8WkyamJb"
   },
   "source": [
    "The next step is to build a preprocessing model that will apply appropriate preprocessing to each input and concatenate the results.\n",
    "\n",
    "This section uses the [Keras Functional API](https://www.tensorflow.org/guide/keras/functional) to implement  the preprocessing. You start by creating one `tf.keras.Input` for each column of the dataframe:"
   ]
  },
  {
   "cell_type": "code",
   "execution_count": 30,
   "metadata": {
    "execution": {
     "iopub.execute_input": "2022-03-20T15:38:52.893427Z",
     "iopub.status.busy": "2022-03-20T15:38:52.893427Z",
     "iopub.status.idle": "2022-03-20T15:38:52.932417Z",
     "shell.execute_reply": "2022-03-20T15:38:52.931439Z",
     "shell.execute_reply.started": "2022-03-20T15:38:52.893427Z"
    },
    "id": "D3OeiteJbWvI",
    "tags": []
   },
   "outputs": [],
   "source": [
    "inputs = {}\n",
    "for name, column in df.items():\n",
    "    if type(column[0]) == str:\n",
    "        dtype = tf.string\n",
    "    elif (name in categorical_feature_names or name in binary_feature_names):\n",
    "        dtype = tf.int64\n",
    "    else:\n",
    "        dtype = tf.float32\n",
    "\n",
    "    inputs[name] = tf.keras.Input(shape=(), name=name, dtype=dtype)"
   ]
  },
  {
   "cell_type": "code",
   "execution_count": 31,
   "metadata": {
    "execution": {
     "iopub.execute_input": "2022-03-20T15:38:53.357421Z",
     "iopub.status.busy": "2022-03-20T15:38:53.356420Z",
     "iopub.status.idle": "2022-03-20T15:38:53.380412Z",
     "shell.execute_reply": "2022-03-20T15:38:53.379415Z",
     "shell.execute_reply.started": "2022-03-20T15:38:53.357421Z"
    },
    "id": "5N3vBMjidpx6",
    "tags": []
   },
   "outputs": [
    {
     "data": {
      "text/plain": [
       "{'age': <KerasTensor: shape=(None,) dtype=float32 (created by layer 'age')>,\n",
       " 'sex': <KerasTensor: shape=(None,) dtype=int64 (created by layer 'sex')>,\n",
       " 'cp': <KerasTensor: shape=(None,) dtype=int64 (created by layer 'cp')>,\n",
       " 'trestbps': <KerasTensor: shape=(None,) dtype=float32 (created by layer 'trestbps')>,\n",
       " 'chol': <KerasTensor: shape=(None,) dtype=float32 (created by layer 'chol')>,\n",
       " 'fbs': <KerasTensor: shape=(None,) dtype=int64 (created by layer 'fbs')>,\n",
       " 'restecg': <KerasTensor: shape=(None,) dtype=int64 (created by layer 'restecg')>,\n",
       " 'thalach': <KerasTensor: shape=(None,) dtype=float32 (created by layer 'thalach')>,\n",
       " 'exang': <KerasTensor: shape=(None,) dtype=int64 (created by layer 'exang')>,\n",
       " 'oldpeak': <KerasTensor: shape=(None,) dtype=float32 (created by layer 'oldpeak')>,\n",
       " 'slope': <KerasTensor: shape=(None,) dtype=int64 (created by layer 'slope')>,\n",
       " 'ca': <KerasTensor: shape=(None,) dtype=int64 (created by layer 'ca')>,\n",
       " 'thal': <KerasTensor: shape=(None,) dtype=string (created by layer 'thal')>}"
      ]
     },
     "execution_count": 31,
     "metadata": {},
     "output_type": "execute_result"
    }
   ],
   "source": [
    "inputs"
   ]
  },
  {
   "cell_type": "markdown",
   "metadata": {
    "id": "_EEmzxinyhI4"
   },
   "source": [
    "For each input you'll apply some transformations using Keras layers and TensorFlow ops. Each feature starts as a batch of scalars (`shape=(batch,)`). The output for each  should be a batch of `tf.float32` vectors (`shape=(batch, n)`). The last step will concatenate all those vectors together.\n"
   ]
  },
  {
   "cell_type": "markdown",
   "metadata": {
    "id": "ubBDazjNFWiF"
   },
   "source": [
    "#### Binary inputs\n",
    "\n",
    "Since the binary inputs don't need any preprocessing, just add the vector axis, cast them to `float32` and add them to the list of preprocessed inputs:"
   ]
  },
  {
   "cell_type": "code",
   "execution_count": 32,
   "metadata": {
    "execution": {
     "iopub.execute_input": "2022-03-20T15:38:54.563418Z",
     "iopub.status.busy": "2022-03-20T15:38:54.563418Z",
     "iopub.status.idle": "2022-03-20T15:38:54.623405Z",
     "shell.execute_reply": "2022-03-20T15:38:54.622406Z",
     "shell.execute_reply.started": "2022-03-20T15:38:54.563418Z"
    },
    "id": "tmAIkOIid-Mp",
    "tags": []
   },
   "outputs": [
    {
     "data": {
      "text/plain": [
       "[<KerasTensor: shape=(None, 1) dtype=float32 (created by layer 'tf.cast_5')>,\n",
       " <KerasTensor: shape=(None, 1) dtype=float32 (created by layer 'tf.cast_6')>,\n",
       " <KerasTensor: shape=(None, 1) dtype=float32 (created by layer 'tf.cast_7')>]"
      ]
     },
     "execution_count": 32,
     "metadata": {},
     "output_type": "execute_result"
    }
   ],
   "source": [
    "preprocessed = []\n",
    "\n",
    "for name in binary_feature_names:\n",
    "    inp = inputs[name]\n",
    "    inp = inp[:, tf.newaxis]\n",
    "    float_value = tf.cast(inp, tf.float32)\n",
    "    preprocessed.append(float_value)\n",
    "\n",
    "preprocessed"
   ]
  },
  {
   "cell_type": "markdown",
   "metadata": {
    "id": "ZHQcdtG1GN7E"
   },
   "source": [
    "#### Numeric inputs\n",
    "\n",
    "Like in the earlier section you'll want to run these numeric inputs through a `tf.keras.layers.Normalization` layer before using them. The difference is that this time they're input as a dict. The code below collects the numeric features from the DataFrame, stacks them together and passes those to the `Normalization.adapt` method."
   ]
  },
  {
   "cell_type": "code",
   "execution_count": 33,
   "metadata": {
    "execution": {
     "iopub.execute_input": "2022-03-20T15:38:55.626418Z",
     "iopub.status.busy": "2022-03-20T15:38:55.626418Z",
     "iopub.status.idle": "2022-03-20T15:38:55.884062Z",
     "shell.execute_reply": "2022-03-20T15:38:55.883058Z",
     "shell.execute_reply.started": "2022-03-20T15:38:55.626418Z"
    },
    "id": "UC9LaIBNIK5V",
    "tags": []
   },
   "outputs": [],
   "source": [
    "normalizer = tf.keras.layers.Normalization(axis=-1)\n",
    "normalizer.adapt(stack_dict(dict(numeric_features)))"
   ]
  },
  {
   "cell_type": "markdown",
   "metadata": {
    "id": "S537tideIpeh"
   },
   "source": [
    "The code below stacks the numeric features and runs them through the normalization layer."
   ]
  },
  {
   "cell_type": "code",
   "execution_count": 34,
   "metadata": {
    "execution": {
     "iopub.execute_input": "2022-03-20T15:38:56.432418Z",
     "iopub.status.busy": "2022-03-20T15:38:56.432418Z",
     "iopub.status.idle": "2022-03-20T15:38:56.479406Z",
     "shell.execute_reply": "2022-03-20T15:38:56.475408Z",
     "shell.execute_reply.started": "2022-03-20T15:38:56.432418Z"
    },
    "id": "U8MJiFpPK5uD",
    "tags": []
   },
   "outputs": [
    {
     "data": {
      "text/plain": [
       "[<KerasTensor: shape=(None, 1) dtype=float32 (created by layer 'tf.cast_5')>,\n",
       " <KerasTensor: shape=(None, 1) dtype=float32 (created by layer 'tf.cast_6')>,\n",
       " <KerasTensor: shape=(None, 1) dtype=float32 (created by layer 'tf.cast_7')>,\n",
       " <KerasTensor: shape=(None, 5) dtype=float32 (created by layer 'normalization_3')>]"
      ]
     },
     "execution_count": 34,
     "metadata": {},
     "output_type": "execute_result"
    }
   ],
   "source": [
    "numeric_inputs = {}\n",
    "for name in numeric_feature_names:\n",
    "    numeric_inputs[name]=inputs[name]\n",
    "\n",
    "numeric_inputs = stack_dict(numeric_inputs)\n",
    "numeric_normalized = normalizer(numeric_inputs)\n",
    "\n",
    "preprocessed.append(numeric_normalized)\n",
    "\n",
    "preprocessed"
   ]
  },
  {
   "cell_type": "markdown",
   "metadata": {
    "id": "G5f-VzASKPF7"
   },
   "source": [
    "#### Categorical features"
   ]
  },
  {
   "cell_type": "markdown",
   "metadata": {
    "id": "Z3wcFs1oKVao"
   },
   "source": [
    "To use categorical features you'll first need to encode them into either binary vectors or embeddings. Since these features only contain a small number of categories, convert the inputs directly to one-hot vectors using the `output_mode='one_hot'` option, supported by both the `tf.keras.layers.StringLookup` and `tf.keras.layers.IntegerLookup` layers.\n",
    "\n",
    "Here is an example of how these layers work:"
   ]
  },
  {
   "cell_type": "code",
   "execution_count": 35,
   "metadata": {
    "execution": {
     "iopub.execute_input": "2022-03-20T15:38:58.484415Z",
     "iopub.status.busy": "2022-03-20T15:38:58.484415Z",
     "iopub.status.idle": "2022-03-20T15:38:58.749726Z",
     "shell.execute_reply": "2022-03-20T15:38:58.748727Z",
     "shell.execute_reply.started": "2022-03-20T15:38:58.484415Z"
    },
    "id": "vXleJfBRS9xr",
    "tags": []
   },
   "outputs": [
    {
     "data": {
      "text/plain": [
       "<tf.Tensor: shape=(5, 4), dtype=float32, numpy=\n",
       "array([[0., 0., 0., 1.],\n",
       "       [0., 1., 0., 0.],\n",
       "       [0., 1., 0., 0.],\n",
       "       [0., 0., 1., 0.],\n",
       "       [1., 0., 0., 0.]], dtype=float32)>"
      ]
     },
     "execution_count": 35,
     "metadata": {},
     "output_type": "execute_result"
    }
   ],
   "source": [
    "vocab = ['a','b','c']\n",
    "lookup = tf.keras.layers.StringLookup(vocabulary=vocab, output_mode='one_hot')\n",
    "lookup(['c','a','a','b','zzz'])"
   ]
  },
  {
   "cell_type": "code",
   "execution_count": 36,
   "metadata": {
    "execution": {
     "iopub.execute_input": "2022-03-20T15:38:59.471870Z",
     "iopub.status.busy": "2022-03-20T15:38:59.471870Z",
     "iopub.status.idle": "2022-03-20T15:38:59.525857Z",
     "shell.execute_reply": "2022-03-20T15:38:59.524877Z",
     "shell.execute_reply.started": "2022-03-20T15:38:59.471870Z"
    },
    "id": "kRnsFYJiSVmH",
    "tags": []
   },
   "outputs": [
    {
     "data": {
      "text/plain": [
       "<tf.Tensor: shape=(3, 5), dtype=float32, numpy=\n",
       "array([[1., 0., 0., 0., 0.],\n",
       "       [0., 0., 1., 0., 0.],\n",
       "       [0., 1., 0., 0., 0.]], dtype=float32)>"
      ]
     },
     "execution_count": 36,
     "metadata": {},
     "output_type": "execute_result"
    }
   ],
   "source": [
    "vocab = [1,4,7,99]\n",
    "lookup = tf.keras.layers.IntegerLookup(vocabulary=vocab, output_mode='one_hot')\n",
    "\n",
    "lookup([-1,4,1])"
   ]
  },
  {
   "cell_type": "markdown",
   "metadata": {
    "id": "est6aCFBZDVs"
   },
   "source": [
    "To determine the vocabulary for each input, create a layer to convert that vocabulary to a one-hot vector:"
   ]
  },
  {
   "cell_type": "code",
   "execution_count": 37,
   "metadata": {
    "execution": {
     "iopub.execute_input": "2022-03-20T15:39:00.747938Z",
     "iopub.status.busy": "2022-03-20T15:39:00.746938Z",
     "iopub.status.idle": "2022-03-20T15:39:01.017947Z",
     "shell.execute_reply": "2022-03-20T15:39:01.016944Z",
     "shell.execute_reply.started": "2022-03-20T15:39:00.747938Z"
    },
    "id": "HELhoFlo0H9Q",
    "tags": []
   },
   "outputs": [
    {
     "name": "stdout",
     "output_type": "stream",
     "text": [
      "name: cp\n",
      "vocab: [0, 1, 2, 3, 4]\n",
      "\n",
      "name: restecg\n",
      "vocab: [0, 1, 2]\n",
      "\n",
      "name: slope\n",
      "vocab: [1, 2, 3]\n",
      "\n",
      "name: thal\n",
      "vocab: ['1', '2', 'fixed', 'normal', 'reversible']\n",
      "\n",
      "name: ca\n",
      "vocab: [0, 1, 2, 3]\n",
      "\n"
     ]
    }
   ],
   "source": [
    "for name in categorical_feature_names:\n",
    "    vocab = sorted(set(df[name]))\n",
    "    print(f'name: {name}')\n",
    "    print(f'vocab: {vocab}\\n')\n",
    "\n",
    "    if type(vocab[0]) is str:\n",
    "        lookup = tf.keras.layers.StringLookup(vocabulary=vocab, output_mode='one_hot')\n",
    "    else:\n",
    "        lookup = tf.keras.layers.IntegerLookup(vocabulary=vocab, output_mode='one_hot')\n",
    "\n",
    "    x = inputs[name][:, tf.newaxis]\n",
    "    x = lookup(x)\n",
    "    preprocessed.append(x)"
   ]
  },
  {
   "cell_type": "markdown",
   "metadata": {
    "id": "PzMMkwNBa2pK"
   },
   "source": [
    "#### Assemble the preprocessing head"
   ]
  },
  {
   "cell_type": "markdown",
   "metadata": {
    "id": "GaQ-_pEQbCE8"
   },
   "source": [
    "At this point `preprocessed` is just a Python list of all the preprocessing results, each result has a shape of `(batch_size, depth)`:"
   ]
  },
  {
   "cell_type": "code",
   "execution_count": 38,
   "metadata": {
    "execution": {
     "iopub.execute_input": "2022-03-20T15:39:02.812407Z",
     "iopub.status.busy": "2022-03-20T15:39:02.811411Z",
     "iopub.status.idle": "2022-03-20T15:39:02.835403Z",
     "shell.execute_reply": "2022-03-20T15:39:02.834403Z",
     "shell.execute_reply.started": "2022-03-20T15:39:02.812407Z"
    },
    "id": "LlLaq_BVRlnO",
    "tags": []
   },
   "outputs": [
    {
     "data": {
      "text/plain": [
       "[<KerasTensor: shape=(None, 1) dtype=float32 (created by layer 'tf.cast_5')>,\n",
       " <KerasTensor: shape=(None, 1) dtype=float32 (created by layer 'tf.cast_6')>,\n",
       " <KerasTensor: shape=(None, 1) dtype=float32 (created by layer 'tf.cast_7')>,\n",
       " <KerasTensor: shape=(None, 5) dtype=float32 (created by layer 'normalization_3')>,\n",
       " <KerasTensor: shape=(None, 6) dtype=float32 (created by layer 'integer_lookup_1')>,\n",
       " <KerasTensor: shape=(None, 4) dtype=float32 (created by layer 'integer_lookup_2')>,\n",
       " <KerasTensor: shape=(None, 4) dtype=float32 (created by layer 'integer_lookup_3')>,\n",
       " <KerasTensor: shape=(None, 6) dtype=float32 (created by layer 'string_lookup_1')>,\n",
       " <KerasTensor: shape=(None, 5) dtype=float32 (created by layer 'integer_lookup_4')>]"
      ]
     },
     "execution_count": 38,
     "metadata": {},
     "output_type": "execute_result"
    }
   ],
   "source": [
    "preprocessed"
   ]
  },
  {
   "cell_type": "markdown",
   "metadata": {
    "id": "U9lYYHIXbYv-"
   },
   "source": [
    "Concatenate all the preprocessed features along the `depth` axis, so each dictionary-example is converted into a single vector. The vector contains categorical features, numeric features, and categorical one-hot features:"
   ]
  },
  {
   "cell_type": "code",
   "execution_count": 39,
   "metadata": {
    "execution": {
     "iopub.execute_input": "2022-03-20T15:39:03.756409Z",
     "iopub.status.busy": "2022-03-20T15:39:03.756409Z",
     "iopub.status.idle": "2022-03-20T15:39:03.792404Z",
     "shell.execute_reply": "2022-03-20T15:39:03.788403Z",
     "shell.execute_reply.started": "2022-03-20T15:39:03.756409Z"
    },
    "id": "j2I8vpQh313w",
    "tags": []
   },
   "outputs": [
    {
     "data": {
      "text/plain": [
       "<KerasTensor: shape=(None, 33) dtype=float32 (created by layer 'tf.concat_1')>"
      ]
     },
     "execution_count": 39,
     "metadata": {},
     "output_type": "execute_result"
    }
   ],
   "source": [
    "preprocesssed_result = tf.concat(preprocessed, axis=-1)\n",
    "preprocesssed_result"
   ]
  },
  {
   "cell_type": "markdown",
   "metadata": {
    "id": "OBFowyJtb0WB"
   },
   "source": [
    "Now create a model out of that calculation so it can be reused:"
   ]
  },
  {
   "cell_type": "code",
   "execution_count": 40,
   "metadata": {
    "execution": {
     "iopub.execute_input": "2022-03-20T15:39:04.559594Z",
     "iopub.status.busy": "2022-03-20T15:39:04.558596Z",
     "iopub.status.idle": "2022-03-20T15:39:04.581591Z",
     "shell.execute_reply": "2022-03-20T15:39:04.580591Z",
     "shell.execute_reply.started": "2022-03-20T15:39:04.559594Z"
    },
    "id": "rHQBFHwE37TO",
    "tags": []
   },
   "outputs": [],
   "source": [
    "preprocessor = tf.keras.Model(inputs, preprocesssed_result)"
   ]
  },
  {
   "cell_type": "code",
   "execution_count": 41,
   "metadata": {
    "execution": {
     "iopub.execute_input": "2022-03-20T15:39:06.618148Z",
     "iopub.status.busy": "2022-03-20T15:39:06.618148Z",
     "iopub.status.idle": "2022-03-20T15:39:06.642139Z",
     "shell.execute_reply": "2022-03-20T15:39:06.641162Z",
     "shell.execute_reply.started": "2022-03-20T15:39:06.618148Z"
    },
    "id": "ViMARQ-f6zfx",
    "tags": []
   },
   "outputs": [
    {
     "name": "stdout",
     "output_type": "stream",
     "text": [
      "You must install pydot (`pip install pydot`) and install graphviz (see instructions at https://graphviz.gitlab.io/download/) for plot_model/model_to_dot to work.\n"
     ]
    }
   ],
   "source": [
    "tf.keras.utils.plot_model(preprocessor, rankdir=\"LR\", show_shapes=True)"
   ]
  },
  {
   "cell_type": "markdown",
   "metadata": {
    "id": "IURRtL_WZbht"
   },
   "source": [
    "To test the preprocessor, use the <a href=\"https://pandas.pydata.org/pandas-docs/stable/reference/api/pandas.DataFrame.iloc.html\" class=\"external\">DataFrame.iloc</a> accessor to slice the first example from the DataFrame. Then convert it to a dictionary and pass the dictionary to the preprocessor. The result is a single vector containing the binary features, normalized numeric features and the one-hot categorical features, in that order:"
   ]
  },
  {
   "cell_type": "code",
   "execution_count": 42,
   "metadata": {
    "execution": {
     "iopub.execute_input": "2022-03-20T15:39:07.725480Z",
     "iopub.status.busy": "2022-03-20T15:39:07.724479Z",
     "iopub.status.idle": "2022-03-20T15:39:07.809465Z",
     "shell.execute_reply": "2022-03-20T15:39:07.808466Z",
     "shell.execute_reply.started": "2022-03-20T15:39:07.725480Z"
    },
    "id": "QjBzCKsZUj0y",
    "tags": []
   },
   "outputs": [
    {
     "data": {
      "text/plain": [
       "<tf.Tensor: shape=(1, 33), dtype=float32, numpy=\n",
       "array([[ 1.        ,  1.        ,  0.        ,  0.93383914, -0.26008663,\n",
       "         1.0680453 ,  0.03480717,  0.74578077,  0.        ,  0.        ,\n",
       "         1.        ,  0.        ,  0.        ,  0.        ,  0.        ,\n",
       "         0.        ,  0.        ,  1.        ,  0.        ,  0.        ,\n",
       "         0.        ,  1.        ,  0.        ,  0.        ,  0.        ,\n",
       "         1.        ,  0.        ,  0.        ,  0.        ,  1.        ,\n",
       "         0.        ,  0.        ,  0.        ]], dtype=float32)>"
      ]
     },
     "execution_count": 42,
     "metadata": {},
     "output_type": "execute_result"
    }
   ],
   "source": [
    "preprocessor(dict(df.iloc[:1]))"
   ]
  },
  {
   "cell_type": "markdown",
   "metadata": {
    "id": "bB9C0XJkyQEk"
   },
   "source": [
    "### Create and train a model"
   ]
  },
  {
   "cell_type": "markdown",
   "metadata": {
    "id": "WfU_FFXMbKGM"
   },
   "source": [
    "Now build the main body of the model. Use the same configuration as in the previous example: A couple of `Dense` rectified-linear layers and a `Dense(1)` output layer for the classification."
   ]
  },
  {
   "cell_type": "code",
   "execution_count": 43,
   "metadata": {
    "execution": {
     "iopub.execute_input": "2022-03-20T15:39:08.679405Z",
     "iopub.status.busy": "2022-03-20T15:39:08.678404Z",
     "iopub.status.idle": "2022-03-20T15:39:08.696401Z",
     "shell.execute_reply": "2022-03-20T15:39:08.695402Z",
     "shell.execute_reply.started": "2022-03-20T15:39:08.679405Z"
    },
    "id": "75OxXTnfboKN",
    "tags": []
   },
   "outputs": [],
   "source": [
    "body = tf.keras.Sequential([\n",
    "  tf.keras.layers.Dense(10, activation='relu'),\n",
    "  tf.keras.layers.Dense(10, activation='relu'),\n",
    "  tf.keras.layers.Dense(1)\n",
    "])"
   ]
  },
  {
   "cell_type": "markdown",
   "metadata": {
    "id": "MpD6WNX5_zh5"
   },
   "source": [
    "Now put the two pieces together using the Keras functional API."
   ]
  },
  {
   "cell_type": "code",
   "execution_count": 44,
   "metadata": {
    "execution": {
     "iopub.execute_input": "2022-03-20T15:39:09.517356Z",
     "iopub.status.busy": "2022-03-20T15:39:09.516377Z",
     "iopub.status.idle": "2022-03-20T15:39:09.536352Z",
     "shell.execute_reply": "2022-03-20T15:39:09.535373Z",
     "shell.execute_reply.started": "2022-03-20T15:39:09.517356Z"
    },
    "id": "_TY_BuVMbNcB",
    "tags": []
   },
   "outputs": [
    {
     "data": {
      "text/plain": [
       "{'age': <KerasTensor: shape=(None,) dtype=float32 (created by layer 'age')>,\n",
       " 'sex': <KerasTensor: shape=(None,) dtype=int64 (created by layer 'sex')>,\n",
       " 'cp': <KerasTensor: shape=(None,) dtype=int64 (created by layer 'cp')>,\n",
       " 'trestbps': <KerasTensor: shape=(None,) dtype=float32 (created by layer 'trestbps')>,\n",
       " 'chol': <KerasTensor: shape=(None,) dtype=float32 (created by layer 'chol')>,\n",
       " 'fbs': <KerasTensor: shape=(None,) dtype=int64 (created by layer 'fbs')>,\n",
       " 'restecg': <KerasTensor: shape=(None,) dtype=int64 (created by layer 'restecg')>,\n",
       " 'thalach': <KerasTensor: shape=(None,) dtype=float32 (created by layer 'thalach')>,\n",
       " 'exang': <KerasTensor: shape=(None,) dtype=int64 (created by layer 'exang')>,\n",
       " 'oldpeak': <KerasTensor: shape=(None,) dtype=float32 (created by layer 'oldpeak')>,\n",
       " 'slope': <KerasTensor: shape=(None,) dtype=int64 (created by layer 'slope')>,\n",
       " 'ca': <KerasTensor: shape=(None,) dtype=int64 (created by layer 'ca')>,\n",
       " 'thal': <KerasTensor: shape=(None,) dtype=string (created by layer 'thal')>}"
      ]
     },
     "execution_count": 44,
     "metadata": {},
     "output_type": "execute_result"
    }
   ],
   "source": [
    "inputs"
   ]
  },
  {
   "cell_type": "code",
   "execution_count": 45,
   "metadata": {
    "execution": {
     "iopub.execute_input": "2022-03-20T15:39:09.943404Z",
     "iopub.status.busy": "2022-03-20T15:39:09.942403Z",
     "iopub.status.idle": "2022-03-20T15:39:10.095377Z",
     "shell.execute_reply": "2022-03-20T15:39:10.094377Z",
     "shell.execute_reply.started": "2022-03-20T15:39:09.943404Z"
    },
    "id": "iin2kvA9bDpz",
    "tags": []
   },
   "outputs": [
    {
     "data": {
      "text/plain": [
       "<KerasTensor: shape=(None, 33) dtype=float32 (created by layer 'model_1')>"
      ]
     },
     "execution_count": 45,
     "metadata": {},
     "output_type": "execute_result"
    }
   ],
   "source": [
    "x = preprocessor(inputs)\n",
    "x"
   ]
  },
  {
   "cell_type": "code",
   "execution_count": 46,
   "metadata": {
    "execution": {
     "iopub.execute_input": "2022-03-20T15:39:10.170368Z",
     "iopub.status.busy": "2022-03-20T15:39:10.170368Z",
     "iopub.status.idle": "2022-03-20T15:39:10.255353Z",
     "shell.execute_reply": "2022-03-20T15:39:10.252357Z",
     "shell.execute_reply.started": "2022-03-20T15:39:10.170368Z"
    },
    "id": "FQd9PcPRpkP4",
    "tags": []
   },
   "outputs": [
    {
     "data": {
      "text/plain": [
       "<KerasTensor: shape=(None, 1) dtype=float32 (created by layer 'sequential_3')>"
      ]
     },
     "execution_count": 46,
     "metadata": {},
     "output_type": "execute_result"
    }
   ],
   "source": [
    "result = body(x)\n",
    "result"
   ]
  },
  {
   "cell_type": "code",
   "execution_count": 47,
   "metadata": {
    "execution": {
     "iopub.execute_input": "2022-03-20T15:39:10.393010Z",
     "iopub.status.busy": "2022-03-20T15:39:10.390367Z",
     "iopub.status.idle": "2022-03-20T15:39:10.424361Z",
     "shell.execute_reply": "2022-03-20T15:39:10.422361Z",
     "shell.execute_reply.started": "2022-03-20T15:39:10.393010Z"
    },
    "id": "v_KerrXabhgP",
    "tags": []
   },
   "outputs": [],
   "source": [
    "model = tf.keras.Model(inputs, result)\n",
    "\n",
    "model.compile(optimizer='adam',\n",
    "                loss=tf.keras.losses.BinaryCrossentropy(from_logits=True),\n",
    "                metrics=['accuracy'])"
   ]
  },
  {
   "cell_type": "markdown",
   "metadata": {
    "id": "S1MR-XD9kC6C"
   },
   "source": [
    "This model expects a dictionary of inputs. The simplest way to pass it the data is to convert the DataFrame to a dict and pass that dict as the `x` argument to `Model.fit`:"
   ]
  },
  {
   "cell_type": "code",
   "execution_count": 48,
   "metadata": {
    "execution": {
     "iopub.execute_input": "2022-03-20T15:39:10.867121Z",
     "iopub.status.busy": "2022-03-20T15:39:10.867121Z",
     "iopub.status.idle": "2022-03-20T15:39:14.296993Z",
     "shell.execute_reply": "2022-03-20T15:39:14.295992Z",
     "shell.execute_reply.started": "2022-03-20T15:39:10.867121Z"
    },
    "id": "ybDzNUheqxJw",
    "tags": []
   },
   "outputs": [
    {
     "name": "stdout",
     "output_type": "stream",
     "text": [
      "Epoch 1/5\n",
      "152/152 [==============================] - 1s 4ms/step - loss: 0.6452 - accuracy: 0.7261\n",
      "Epoch 2/5\n",
      "152/152 [==============================] - 0s 3ms/step - loss: 0.4844 - accuracy: 0.7261\n",
      "Epoch 3/5\n",
      "152/152 [==============================] - 0s 3ms/step - loss: 0.3916 - accuracy: 0.7327\n",
      "Epoch 4/5\n",
      "152/152 [==============================] - 0s 3ms/step - loss: 0.3476 - accuracy: 0.7327\n",
      "Epoch 5/5\n",
      "152/152 [==============================] - 0s 3ms/step - loss: 0.3206 - accuracy: 0.7987\n"
     ]
    }
   ],
   "source": [
    "history = model.fit(dict(df), target, epochs=5, batch_size=BATCH_SIZE)"
   ]
  },
  {
   "cell_type": "markdown",
   "metadata": {
    "id": "dacoEIB_BSsL"
   },
   "source": [
    "Using `tf.data` works as well:"
   ]
  },
  {
   "cell_type": "code",
   "execution_count": 49,
   "metadata": {
    "execution": {
     "iopub.execute_input": "2022-03-20T15:39:14.302991Z",
     "iopub.status.busy": "2022-03-20T15:39:14.301992Z",
     "iopub.status.idle": "2022-03-20T15:39:14.344985Z",
     "shell.execute_reply": "2022-03-20T15:39:14.343985Z",
     "shell.execute_reply.started": "2022-03-20T15:39:14.302991Z"
    },
    "id": "rYadV3wwE4G3",
    "tags": []
   },
   "outputs": [],
   "source": [
    "ds = tf.data.Dataset.from_tensor_slices((\n",
    "    dict(df),\n",
    "    target\n",
    "))\n",
    "\n",
    "ds = ds.batch(BATCH_SIZE)"
   ]
  },
  {
   "cell_type": "code",
   "execution_count": 50,
   "metadata": {
    "execution": {
     "iopub.execute_input": "2022-03-20T15:39:14.346985Z",
     "iopub.status.busy": "2022-03-20T15:39:14.346985Z",
     "iopub.status.idle": "2022-03-20T15:39:14.390978Z",
     "shell.execute_reply": "2022-03-20T15:39:14.389980Z",
     "shell.execute_reply.started": "2022-03-20T15:39:14.346985Z"
    },
    "id": "2YIpp2r0bv-6",
    "tags": []
   },
   "outputs": [
    {
     "name": "stdout",
     "output_type": "stream",
     "text": [
      "{'age': <tf.Tensor: shape=(2,), dtype=int64, numpy=array([63, 67], dtype=int64)>,\n",
      " 'ca': <tf.Tensor: shape=(2,), dtype=int64, numpy=array([0, 3], dtype=int64)>,\n",
      " 'chol': <tf.Tensor: shape=(2,), dtype=int64, numpy=array([233, 286], dtype=int64)>,\n",
      " 'cp': <tf.Tensor: shape=(2,), dtype=int64, numpy=array([1, 4], dtype=int64)>,\n",
      " 'exang': <tf.Tensor: shape=(2,), dtype=int64, numpy=array([0, 1], dtype=int64)>,\n",
      " 'fbs': <tf.Tensor: shape=(2,), dtype=int64, numpy=array([1, 0], dtype=int64)>,\n",
      " 'oldpeak': <tf.Tensor: shape=(2,), dtype=float64, numpy=array([2.3, 1.5])>,\n",
      " 'restecg': <tf.Tensor: shape=(2,), dtype=int64, numpy=array([2, 2], dtype=int64)>,\n",
      " 'sex': <tf.Tensor: shape=(2,), dtype=int64, numpy=array([1, 1], dtype=int64)>,\n",
      " 'slope': <tf.Tensor: shape=(2,), dtype=int64, numpy=array([3, 2], dtype=int64)>,\n",
      " 'thal': <tf.Tensor: shape=(2,), dtype=string, numpy=array([b'fixed', b'normal'], dtype=object)>,\n",
      " 'thalach': <tf.Tensor: shape=(2,), dtype=int64, numpy=array([150, 108], dtype=int64)>,\n",
      " 'trestbps': <tf.Tensor: shape=(2,), dtype=int64, numpy=array([145, 160], dtype=int64)>}\n",
      "\n",
      "tf.Tensor([0 1], shape=(2,), dtype=int64)\n"
     ]
    }
   ],
   "source": [
    "import pprint\n",
    "\n",
    "for x, y in ds.take(1):\n",
    "    pprint.pprint(x)\n",
    "    print()\n",
    "    print(y)"
   ]
  },
  {
   "cell_type": "code",
   "execution_count": 51,
   "metadata": {
    "execution": {
     "iopub.execute_input": "2022-03-20T15:39:14.393978Z",
     "iopub.status.busy": "2022-03-20T15:39:14.393978Z",
     "iopub.status.idle": "2022-03-20T15:39:18.334425Z",
     "shell.execute_reply": "2022-03-20T15:39:18.333424Z",
     "shell.execute_reply.started": "2022-03-20T15:39:14.393978Z"
    },
    "id": "NMT-AevGFmdu",
    "tags": []
   },
   "outputs": [
    {
     "name": "stdout",
     "output_type": "stream",
     "text": [
      "Epoch 1/5\n",
      "152/152 [==============================] - 1s 4ms/step - loss: 0.3008 - accuracy: 0.8119\n",
      "Epoch 2/5\n",
      "152/152 [==============================] - 1s 4ms/step - loss: 0.2892 - accuracy: 0.8416\n",
      "Epoch 3/5\n",
      "152/152 [==============================] - 1s 4ms/step - loss: 0.2814 - accuracy: 0.8449\n",
      "Epoch 4/5\n",
      "152/152 [==============================] - 1s 5ms/step - loss: 0.2753 - accuracy: 0.8449\n",
      "Epoch 5/5\n",
      "152/152 [==============================] - 1s 4ms/step - loss: 0.2698 - accuracy: 0.8515\n"
     ]
    }
   ],
   "source": [
    "history = model.fit(ds, epochs=5)"
   ]
  }
 ],
 "metadata": {
  "colab": {
   "collapsed_sections": [],
   "name": "pandas_dataframe.ipynb",
   "toc_visible": true
  },
  "kernelspec": {
   "display_name": "Python 3 (ipykernel)",
   "language": "python",
   "name": "python3"
  },
  "language_info": {
   "codemirror_mode": {
    "name": "ipython",
    "version": 3
   },
   "file_extension": ".py",
   "mimetype": "text/x-python",
   "name": "python",
   "nbconvert_exporter": "python",
   "pygments_lexer": "ipython3",
   "version": "3.9.7"
  }
 },
 "nbformat": 4,
 "nbformat_minor": 4
}
