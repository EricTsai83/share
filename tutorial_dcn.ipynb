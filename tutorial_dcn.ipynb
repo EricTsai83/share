{
 "cells": [
  {
   "cell_type": "markdown",
   "id": "81e8918f-45ab-47c2-9b79-911ee38d5cef",
   "metadata": {},
   "source": [
    "# Deep & Cross Network (DCN)"
   ]
  },
  {
   "cell_type": "markdown",
   "id": "117e9b9a-90e1-4aef-b210-ccc233dfc5d8",
   "metadata": {},
   "source": [
    "**What are feature crosses and why are they important?** Imagine that we are building a recommender system to sell a blender to customers. Then, a customer's past purchase history such as `purchased_bananas` and `purchased_cooking_books`, or geographic features, are single features. If one has purchased both bananas **and** cooking books, then this customer will more likely click on the recommended blender. The combination of `purchased_bananas` and `purchased_cooking_books` is referred to as a **feature cross**, which provides additional interaction information beyond the individual features."
   ]
  },
  {
   "cell_type": "markdown",
   "id": "0f65a525-b23e-45eb-b866-de75c5ea04d7",
   "metadata": {},
   "source": [
    "<div>\n",
    "  <center>\n",
    "    <img src='../Img/dcn_feature_cross.gif' width='900' title='feature cross'>\n",
    "  </center>\n",
    "</div>"
   ]
  },
  {
   "cell_type": "markdown",
   "id": "ebf132a7-8c67-41e6-aca6-eb607fcf802a",
   "metadata": {},
   "source": [
    "**What are the challenges in learning feature crosses?** In Web-scale applications, data are mostly categorical, leading to large and sparse feature space. Identifying effective feature crosses in this setting often requires, manual feature engineering or exhaustive search. Traditional feed-forward multilayer perceptron (MLP) models are universal function approximators; however, they cannot efficiently approximate even 2nd or 3rd-order feature crosses [[1](https://arxiv.org/pdf/2008.13535.pdf), [2](https://static.googleusercontent.com/media/research.google.com/en//pubs/archive/18fa88ad519f25dc4860567e19ab00beff3f01cb.pdf)]."
   ]
  },
  {
   "cell_type": "markdown",
   "id": "33cd642e-ed7d-41a9-a217-c978affcb48c",
   "metadata": {},
   "source": [
    "**What is Deep & Cross Network (DCN)?** DCN was designed to learn explicit and bounded-degree cross features more effectively. It starts with an input layer (typically an embedding layer), followed by a *cross network* containing multiple cross layers that models explicit feature interactions, and then combines\\n\",\n",
    "        \"with a *deep network* that models implicit feature interactions."
   ]
  },
  {
   "cell_type": "markdown",
   "id": "f2c7e9ca-a246-4e98-8b8e-1fd081bb49d4",
   "metadata": {},
   "source": [
    "* Cross Network. This is the core of DCN. It explicitly applies feature crossing at each layer, and the highest, polynomial degree increases with layer depth. The following figure shows the $(i+1)$-th cross layer."
   ]
  },
  {
   "cell_type": "markdown",
   "id": "144a47a8-04ad-4f1b-b2cc-67729a8ca04e",
   "metadata": {},
   "source": [
    "<div>\n",
    "  <center>\n",
    "    <img src='../Img/dcn_formula.png' width='80%' style='display:block' title='dcn formula'>\n",
    "  </center>\n",
    "</div>"
   ]
  },
  {
   "cell_type": "markdown",
   "id": "dc3787f8-0f31-4945-a570-5efbfc0ede34",
   "metadata": {},
   "source": [
    "* Deep Network. It is a traditional feedforward multilayer perceptron (MLP).\n",
    "\n",
    "The deep network and cross network are then combined to form DCN [[1](https://arxiv.org/pdf/2008.13535.pdf)]. Commonly, we could stack a deep network on top of the cross network (stacked structure); we could also place them in parallel (parallel structure)."
   ]
  },
  {
   "cell_type": "markdown",
   "id": "43143d0e-a6cb-42c7-b7bb-f6bd793e9c63",
   "metadata": {},
   "source": [
    "<div>\n",
    "  <center>\n",
    "    <img src='../Img/dcn_parallel.png' hspace='40' width='30%' style='margin: 0px 100px 0px 0px;' title='dcn parallel'>\n",
    "    <img src='../Img/dcn_stack.png' width='20%' title='dcn stack'>\n",
    "  </center>\n",
    "</div>"
   ]
  },
  {
   "cell_type": "markdown",
   "id": "c04ab89c-450d-485f-9999-3f691567bdd9",
   "metadata": {},
   "source": [
    "In the following, we will first show the advantage of DCN with a toy example, and then we will walk you through some common ways to utilize DCN using the MovieLen-1M dataset."
   ]
  },
  {
   "cell_type": "markdown",
   "id": "af56a695-1c92-490d-af06-5675f183592e",
   "metadata": {},
   "source": [
    "### import packages"
   ]
  },
  {
   "cell_type": "code",
   "execution_count": 1,
   "id": "adb48c51-e1b4-43ff-883f-1770b38579bd",
   "metadata": {
    "execution": {
     "iopub.execute_input": "2022-04-15T10:18:13.919920Z",
     "iopub.status.busy": "2022-04-15T10:18:13.919920Z",
     "iopub.status.idle": "2022-04-15T10:18:20.974937Z",
     "shell.execute_reply": "2022-04-15T10:18:20.973992Z",
     "shell.execute_reply.started": "2022-04-15T10:18:13.919920Z"
    },
    "tags": []
   },
   "outputs": [],
   "source": [
    "import pprint\n",
    "import pandas as pd\n",
    "\n",
    "%matplotlib inline\n",
    "import matplotlib.pyplot as plt\n",
    "from mpl_toolkits.axes_grid1 import make_axes_locatable\n",
    "import matplotlib.ticker as mticker\n",
    "\n",
    "import numpy as np\n",
    "from utils.display_dataframe import grid_df_display\n",
    "\n",
    "import tensorflow as tf\n",
    "import tensorflow_datasets as tfds\n",
    "import tensorflow_recommenders as tfrs\n",
    "\n",
    "# tensorboard needs\n",
    "from tensorboard import notebook\n",
    "import time\n",
    "import subprocess\n",
    "import platform\n",
    "import os\n",
    "import re\n",
    "import datetime"
   ]
  },
  {
   "cell_type": "markdown",
   "id": "bfcf9b69-e54f-4745-b808-8b404487aa3c",
   "metadata": {},
   "source": [
    "## Toy Example\n",
    "To illustrate the benefits of DCN, let's work through a simple example. Suppose we have a dataset where we're trying to model the likelihood of a customer clicking on a blender Ad, with its features and label described as follows.\n",
    "\n",
    "| Features / Label  | Description                                 | Value Type / Range |\n",
    "| ----------------- |---------------------------------------------| -------------------|\n",
    "| $x_1$ = country   | the country this customer lives in          | Int in [0, 199]    |\n",
    "| $x_2$ = bananas   | # bananas the customer has purchased        | Int in   [0, 23]   |\n",
    "| $x_3$ = cookbooks | # cooking books the customer has purchased  | Int in  [0, 5]     |\n",
    "| $y$               | the likelihood of clicking on a blender Ad  | --                 |"
   ]
  },
  {
   "cell_type": "markdown",
   "id": "bf2ef4a1-4fb1-495a-86be-3ef2d708e140",
   "metadata": {},
   "source": [
    "Then, we let the data follow the following underlying distribution:\n",
    "$$y = f(x_1, x_2, x_3) = 0.1x_1 + 0.4x_2+0.7x_3 + 0.1x_1x_2+3.1x_2x_3+0.1x_3^2$$\n",
    "\n",
    "here the likelihood $y$ depends linearly both on features $x_i$'s, but also on multiplicative interactions between the $x_i$'s. In our case, we would say that the likelihood of purchasing a blender ($y$) depends not just on buying bananas ($x_2$) or cookbooks ($x_3$), but also on buying bananas and cookbooks *together* ($x_2x_3$).\n",
    "\n",
    "We can generate the data for this as follows:"
   ]
  },
  {
   "cell_type": "markdown",
   "id": "6370988e-a67f-4dd5-a03f-5c7eb61f0468",
   "metadata": {},
   "source": [
    "## Synthetic data generation\n",
    "We first define $f(x_1, x_2, x_3)$ as described above."
   ]
  },
  {
   "cell_type": "code",
   "execution_count": 2,
   "id": "2a1d65cc-fcad-4d11-93cb-56d268c6ef5f",
   "metadata": {
    "execution": {
     "iopub.execute_input": "2022-04-15T10:18:20.978936Z",
     "iopub.status.busy": "2022-04-15T10:18:20.978936Z",
     "iopub.status.idle": "2022-04-15T10:18:21.005935Z",
     "shell.execute_reply": "2022-04-15T10:18:21.003932Z",
     "shell.execute_reply.started": "2022-04-15T10:18:20.978936Z"
    }
   },
   "outputs": [],
   "source": [
    "def get_mixer_data(data_size=100_000, random_seed=42):\n",
    "    # We need to fix the random seed\n",
    "    # to make colab runs repeatable.\n",
    "    rng = np.random.RandomState(random_seed)\n",
    "    country = rng.randint(200, size=[data_size, 1]) / 200.\n",
    "    bananas = rng.randint(24, size=[data_size, 1]) / 24.\n",
    "    cookbooks = rng.randint(6, size=[data_size, 1]) / 6.\n",
    "\n",
    "    x = np.concatenate([country, bananas, cookbooks], axis=1)\n",
    "\n",
    "    # # Create 1st-order terms.\n",
    "    y = 0.1 * country + 0.4 * bananas + 0.7 * cookbooks\n",
    "\n",
    "    # Create 2nd-order cross terms.\n",
    "    y += 0.1 * country * bananas + 3.1 * bananas * cookbooks + (\n",
    "        0.1 * cookbooks * cookbooks)\n",
    "\n",
    "    return x, y"
   ]
  },
  {
   "cell_type": "markdown",
   "id": "55a4eed2-367d-41cb-a1bc-5e31679b9681",
   "metadata": {},
   "source": [
    "Let's generate the data that follows the distribution, and split the data into 90% for training and 10% for testing."
   ]
  },
  {
   "cell_type": "code",
   "execution_count": 3,
   "id": "846e2194-3c52-4e74-96ee-b3dac9b12af9",
   "metadata": {
    "execution": {
     "iopub.execute_input": "2022-04-15T10:18:21.012934Z",
     "iopub.status.busy": "2022-04-15T10:18:21.010931Z",
     "iopub.status.idle": "2022-04-15T10:18:21.050927Z",
     "shell.execute_reply": "2022-04-15T10:18:21.049946Z",
     "shell.execute_reply.started": "2022-04-15T10:18:21.012934Z"
    }
   },
   "outputs": [],
   "source": [
    "x, y = get_mixer_data()\n",
    "num_train = 90000\n",
    "train_x = x[:num_train]\n",
    "train_y = y[:num_train]\n",
    "eval_x = x[num_train:]\n",
    "eval_y = y[num_train:]"
   ]
  },
  {
   "cell_type": "markdown",
   "id": "c68b6cf4-ff92-4daf-b25e-c7540c6a2eb7",
   "metadata": {},
   "source": [
    "## Model construction"
   ]
  },
  {
   "cell_type": "markdown",
   "id": "2cb67bb9-16b3-417c-8549-1add0185cdca",
   "metadata": {},
   "source": [
    "We're going to **try out both cross network and deep network to illustrate the advantage a cross network can bring to recommenders**. As the data we just created only contains 2nd-order feature interactions, it would be sufficient to illustrate with a single-layered cross network. If we wanted to model higher-order feature interactions, we could stack multiple cross layers and use a multi-layered cross network. The two models we will be building are:\n",
    "1. Cross Network with only one cross layer\n",
    "2. Deep Network with wider and deeper ReLU layers.\n",
    "\n",
    "We first build a unified model class whose loss is the mean squared error."
   ]
  },
  {
   "cell_type": "markdown",
   "id": "375eff23-1af8-4750-87e1-143746fddcd2",
   "metadata": {},
   "source": [
    ">😱 Learn someting new [[Reference](https://developers.google.com/machine-learning/glossary/#logits)]\n",
    ">* logots:<br>\n",
    "The vector of raw (non-normalized) predictions that a classification model generates, which is ordinarily then passed to a normalization function. If the model is solving a multi-class classification problem, logits typically become an input to the softmax function. The softmax function then generates a vector of (normalized) probabilities with one value for each possible class."
   ]
  },
  {
   "cell_type": "code",
   "execution_count": 4,
   "id": "f7db7fab-6d8c-4aae-9c9d-44d93904ea1a",
   "metadata": {
    "execution": {
     "iopub.execute_input": "2022-04-15T10:18:21.053924Z",
     "iopub.status.busy": "2022-04-15T10:18:21.051924Z",
     "iopub.status.idle": "2022-04-15T10:18:21.082921Z",
     "shell.execute_reply": "2022-04-15T10:18:21.081919Z",
     "shell.execute_reply.started": "2022-04-15T10:18:21.053924Z"
    },
    "tags": []
   },
   "outputs": [],
   "source": [
    "class Model(tfrs.Model):\n",
    "\n",
    "    def __init__(self, model):\n",
    "        super().__init__()\n",
    "        self._model = model\n",
    "        self._logit_layer = tf.keras.layers.Dense(1)\n",
    "\n",
    "        self.task = tfrs.tasks.Ranking(\n",
    "            loss=tf.keras.losses.MeanSquaredError(),\n",
    "            metrics=[tf.keras.metrics.RootMeanSquaredError(\"RMSE\")]\n",
    "        )\n",
    "\n",
    "    def call(self, x):\n",
    "        x = self._model(x)\n",
    "        return self._logit_layer(x)\n",
    "\n",
    "    def compute_loss(self, features, training=False):\n",
    "        x, labels = features\n",
    "        scores = self(x)\n",
    "\n",
    "        return self.task(\n",
    "            labels=labels,\n",
    "            predictions=scores,\n",
    "        )"
   ]
  },
  {
   "cell_type": "markdown",
   "id": "675c61bb-1347-4401-bdfe-6216d2a8cb59",
   "metadata": {},
   "source": [
    "Then, we specify the cross network (with 1 cross layer of size 3) and the ReLU-based DNN (with layer sizes [512, 256, 128]):"
   ]
  },
  {
   "cell_type": "code",
   "execution_count": 5,
   "id": "4ac1397e-bdf9-4c1d-bde3-7df5855aa265",
   "metadata": {
    "execution": {
     "iopub.execute_input": "2022-04-15T10:18:21.089928Z",
     "iopub.status.busy": "2022-04-15T10:18:21.086920Z",
     "iopub.status.idle": "2022-04-15T10:18:21.772157Z",
     "shell.execute_reply": "2022-04-15T10:18:21.771343Z",
     "shell.execute_reply.started": "2022-04-15T10:18:21.089928Z"
    }
   },
   "outputs": [],
   "source": [
    "crossnet = Model(tfrs.layers.dcn.Cross())\n",
    "deepnet = Model(\n",
    "    tf.keras.Sequential([\n",
    "        tf.keras.layers.Dense(512, activation=\"relu\"),\n",
    "        tf.keras.layers.Dense(256, activation=\"relu\"),\n",
    "        tf.keras.layers.Dense(128, activation=\"relu\")\n",
    "    ])\n",
    ")"
   ]
  },
  {
   "cell_type": "markdown",
   "id": "7d0e07bb-6406-4cc9-afaa-3354ae2c1f11",
   "metadata": {},
   "source": [
    "## Model training\n",
    "Now that we have the data and models ready, we are going to train the models. We first shuffle and batch the data to prepare for model training."
   ]
  },
  {
   "cell_type": "markdown",
   "id": "6b1a15e5-b9a4-496b-8ad1-92186568a90b",
   "metadata": {},
   "source": [
    "`tf.data.Dataset.form_tensor_slices()`: The simplest way to create a dataset is to create it from a python list"
   ]
  },
  {
   "cell_type": "code",
   "execution_count": 6,
   "id": "7ee41593-11c5-47eb-ab25-0d6eff183aef",
   "metadata": {
    "execution": {
     "iopub.execute_input": "2022-04-15T10:18:21.774170Z",
     "iopub.status.busy": "2022-04-15T10:18:21.773170Z",
     "iopub.status.idle": "2022-04-15T10:18:21.803972Z",
     "shell.execute_reply": "2022-04-15T10:18:21.803177Z",
     "shell.execute_reply.started": "2022-04-15T10:18:21.774170Z"
    }
   },
   "outputs": [],
   "source": [
    "train_data = tf.data.Dataset.from_tensor_slices((train_x, train_y)).batch(1000)\n",
    "eval_data = tf.data.Dataset.from_tensor_slices((eval_x, eval_y)).batch(1000)"
   ]
  },
  {
   "cell_type": "markdown",
   "id": "a41ef606-48f5-4140-8f34-6118d5d710c6",
   "metadata": {
    "tags": []
   },
   "source": [
    "Then, we define the number of epochs as well as the learning rate."
   ]
  },
  {
   "cell_type": "code",
   "execution_count": 7,
   "id": "c6be1929-1849-48b9-8b68-8440f6b20f5d",
   "metadata": {
    "execution": {
     "iopub.execute_input": "2022-04-15T10:18:21.809978Z",
     "iopub.status.busy": "2022-04-15T10:18:21.808980Z",
     "iopub.status.idle": "2022-04-15T10:18:21.819977Z",
     "shell.execute_reply": "2022-04-15T10:18:21.818976Z",
     "shell.execute_reply.started": "2022-04-15T10:18:21.809978Z"
    },
    "tags": []
   },
   "outputs": [],
   "source": [
    "epochs = 100\n",
    "learning_rate = 0.4"
   ]
  },
  {
   "cell_type": "markdown",
   "id": "f1fa40ae-1205-43d4-927e-1719f73fade3",
   "metadata": {},
   "source": [
    "Alright, everything is ready now and let's compile and train the models. You could set `verbose=True` if you want to see how the model progresses."
   ]
  },
  {
   "cell_type": "code",
   "execution_count": 8,
   "id": "9cf496ea-e9d5-4212-94d7-6e61d1fc0837",
   "metadata": {
    "execution": {
     "iopub.execute_input": "2022-04-15T10:18:21.825974Z",
     "iopub.status.busy": "2022-04-15T10:18:21.824975Z",
     "iopub.status.idle": "2022-04-15T10:18:57.025728Z",
     "shell.execute_reply": "2022-04-15T10:18:57.024728Z",
     "shell.execute_reply.started": "2022-04-15T10:18:21.825974Z"
    }
   },
   "outputs": [
    {
     "data": {
      "text/plain": [
       "<keras.callbacks.History at 0x2123b563760>"
      ]
     },
     "execution_count": 8,
     "metadata": {},
     "output_type": "execute_result"
    }
   ],
   "source": [
    "crossnet.compile(optimizer=tf.keras.optimizers.Adagrad(learning_rate))\n",
    "crossnet.fit(train_data, epochs=epochs, verbose=False)"
   ]
  },
  {
   "cell_type": "code",
   "execution_count": 9,
   "id": "3fb9e1ff-9455-4c06-8596-e2598bec84aa",
   "metadata": {
    "execution": {
     "iopub.execute_input": "2022-04-15T10:18:57.029730Z",
     "iopub.status.busy": "2022-04-15T10:18:57.028729Z",
     "iopub.status.idle": "2022-04-15T10:21:50.608660Z",
     "shell.execute_reply": "2022-04-15T10:21:50.607660Z",
     "shell.execute_reply.started": "2022-04-15T10:18:57.029730Z"
    }
   },
   "outputs": [
    {
     "data": {
      "text/plain": [
       "<keras.callbacks.History at 0x2123b764b20>"
      ]
     },
     "execution_count": 9,
     "metadata": {},
     "output_type": "execute_result"
    }
   ],
   "source": [
    "deepnet.compile(optimizer=tf.keras.optimizers.Adagrad(learning_rate))\n",
    "deepnet.fit(train_data, epochs=epochs, verbose=False)"
   ]
  },
  {
   "cell_type": "markdown",
   "id": "8149c980-098f-4122-84eb-5b37c3f22d9d",
   "metadata": {},
   "source": [
    "## Model evaluation\n",
    "We verify the model performance on the evaluation dataset and report the Root Mean Squared Error (RMSE, the lower the better)."
   ]
  },
  {
   "cell_type": "code",
   "execution_count": 10,
   "id": "dd05f961-0148-4adc-8c02-6d84b0e3166f",
   "metadata": {
    "execution": {
     "iopub.execute_input": "2022-04-15T10:21:50.611660Z",
     "iopub.status.busy": "2022-04-15T10:21:50.610661Z",
     "iopub.status.idle": "2022-04-15T10:21:51.143577Z",
     "shell.execute_reply": "2022-04-15T10:21:51.142576Z",
     "shell.execute_reply.started": "2022-04-15T10:21:50.611660Z"
    }
   },
   "outputs": [
    {
     "name": "stdout",
     "output_type": "stream",
     "text": [
      "CrossNet(1 layer) RMSE is 0.0066 using 16 parameters.\n",
      "DeepNet(large) RMSE is 0.1599 using 166401 parameters.\n"
     ]
    }
   ],
   "source": [
    "crossnet_result = crossnet.evaluate(eval_data, return_dict=True, verbose=False)\n",
    "print(f\"CrossNet(1 layer) RMSE is {crossnet_result['RMSE']:.4f} \"\n",
    "      f\"using {crossnet.count_params()} parameters.\")\n",
    "\n",
    "deepnet_result = deepnet.evaluate(eval_data, return_dict=True, verbose=False)\n",
    "print(f\"DeepNet(large) RMSE is {deepnet_result['RMSE']:.4f} \"\n",
    "      f\"using {deepnet.count_params()} parameters.\")"
   ]
  },
  {
   "cell_type": "markdown",
   "id": "a5363170-2e08-40f7-94fe-ae8f7344d5dc",
   "metadata": {},
   "source": [
    "We see that the cross network achieved **magnitudes lower RMSE** than a ReLU-based DNN, with **magnitudes fewer parameters**. This has suggested the efficieny of a cross network in learning feaure crosses."
   ]
  },
  {
   "cell_type": "markdown",
   "id": "e47e0fd1-4f14-48a8-8ddc-32a6e74e6f01",
   "metadata": {},
   "source": [
    "## Model understanding\n",
    "We already know what feature crosses are important in our data, it would be fun to check whether our model has indeed learned the important feature cross. This can be done by visualizing the learned weight matrix in DCN. The weight $W_{ij}$ represents the learned importance of interaction between feature $x_i$ and $x_j$."
   ]
  },
  {
   "cell_type": "code",
   "execution_count": 11,
   "id": "425533f1-efcf-4f51-99e5-a998c4874fa5",
   "metadata": {
    "execution": {
     "iopub.execute_input": "2022-04-15T10:21:51.152575Z",
     "iopub.status.busy": "2022-04-15T10:21:51.149577Z",
     "iopub.status.idle": "2022-04-15T10:21:51.657737Z",
     "shell.execute_reply": "2022-04-15T10:21:51.656737Z",
     "shell.execute_reply.started": "2022-04-15T10:21:51.151577Z"
    },
    "tags": []
   },
   "outputs": [
    {
     "data": {
      "text/plain": [
       "<Figure size 648x648 with 0 Axes>"
      ]
     },
     "metadata": {},
     "output_type": "display_data"
    },
    {
     "data": {
      "image/png": "[encoded data removed]",
      "text/plain": [
       "<Figure size 288x288 with 2 Axes>"
      ]
     },
     "metadata": {
      "needs_background": "light"
     },
     "output_type": "display_data"
    }
   ],
   "source": [
    "mat = crossnet._model._dense.kernel\n",
    "features = [\"country\", \"purchased_bananas\", \"purchased_cookbooks\"]\n",
    "\n",
    "plt.figure(figsize=(9,9))\n",
    "im = plt.matshow(np.abs(mat.numpy()), cmap=plt.cm.Blues)\n",
    "ax = plt.gca()\n",
    "divider = make_axes_locatable(plt.gca())\n",
    "cax = divider.append_axes(\"right\", size=\"5%\", pad=0.05)\n",
    "plt.colorbar(im, cax=cax)\n",
    "cax.tick_params(labelsize=10) \n",
    "\n",
    "ticks_loc = ax.get_yticks().tolist()[0:-1]\n",
    "ax.yaxis.set_major_locator(mticker.FixedLocator(ticks_loc))\n",
    "ax.xaxis.set_major_locator(mticker.FixedLocator(ticks_loc))\n",
    "\n",
    "_ = ax.set_xticklabels([''] + features, rotation=45, fontsize=10)\n",
    "_ = ax.set_yticklabels([''] + features, fontsize=10)"
   ]
  },
  {
   "cell_type": "markdown",
   "id": "cded9fc9-a7ee-44f5-822c-6650668c4d6c",
   "metadata": {},
   "source": [
    "Darker colours represent stronger learned interactions - in this case, it's clear that the model learned that purchasing babanas and cookbooks together is important.\n",
    "\n",
    "If you are interested in trying out more complicated synthetic data, feel free to check out [this paper](https://arxiv.org/pdf/2008.13535.pdf)."
   ]
  },
  {
   "cell_type": "markdown",
   "id": "0da6c8b4-599f-4cdf-93cd-2e0e89157040",
   "metadata": {},
   "source": [
    "### DCN (Deep & Cross Network)\n",
    "### Movielens 1M example\n",
    "**Note: Actually, we only run Movielens 100k, because my computer is horrible**\n",
    "\n",
    "We now examine the effectiveness of DCN on a real-world dataset: Movielens 1M [[3](https://grouplens.org/datasets/movielens)]. Movielens 1M is a popular dataset for recommendation research. It predicts users' movie ratings given user-related features and movie-related features. We use this dataset to demonstrate some common ways to utilize DCN."
   ]
  },
  {
   "cell_type": "code",
   "execution_count": 12,
   "id": "6802f10e-6db4-4a97-ab98-d795dce3e638",
   "metadata": {
    "execution": {
     "iopub.execute_input": "2022-04-15T10:21:51.660737Z",
     "iopub.status.busy": "2022-04-15T10:21:51.659737Z",
     "iopub.status.idle": "2022-04-15T10:21:51.781718Z",
     "shell.execute_reply": "2022-04-15T10:21:51.780716Z",
     "shell.execute_reply.started": "2022-04-15T10:21:51.660737Z"
    },
    "tags": []
   },
   "outputs": [],
   "source": [
    "# Read the data\n",
    "user_name = ['user_id', 'age', 'gender', 'user_occupation_text', 'user_zip_code']\n",
    "user_df = pd.read_csv('../Data/ml-100k/u.user', sep='|', names=user_name)\n",
    "\n",
    "ratings_name = ['user_id', 'movie_id', 'user_rating', 'timestamp']\n",
    "ratings_df = pd.read_csv('../Data/ml-100k/u.data', sep='\\t', names=ratings_name)\n",
    "\n",
    "movies_name = ['movie_id', 'movie_title', 'release_data', 'video_release_date',\n",
    "               'IMDb_URL', 'unknow', 'Action', 'Adventure', 'Animation', 'Children’s',\n",
    "               'Comedy', 'Crime', 'Documentary', 'Drama', 'Fantasy', 'Film-Noir',\n",
    "               'Horror', 'Musical', 'Mystery', 'Romance', 'Sci-Fi', 'Thriller',\n",
    "               'War', 'Western']\n",
    "movies_df = pd.read_csv('../Data/ml-100k/u.item', sep='|', encoding='ISO-8859-1', header=None, names=movies_name)"
   ]
  },
  {
   "cell_type": "code",
   "execution_count": 13,
   "id": "fdfcac10-004b-4ad1-b1f9-d07909eb0cc9",
   "metadata": {
    "execution": {
     "iopub.execute_input": "2022-04-15T10:21:51.784717Z",
     "iopub.status.busy": "2022-04-15T10:21:51.783719Z",
     "iopub.status.idle": "2022-04-15T10:21:51.953692Z",
     "shell.execute_reply": "2022-04-15T10:21:51.952692Z",
     "shell.execute_reply.started": "2022-04-15T10:21:51.784717Z"
    },
    "tags": []
   },
   "outputs": [
    {
     "data": {
      "text/html": [
       "<table style='width:100%; border:0px'><tr style='border:0px'><td style='width:50.0%;vertical-align:top;border:0px'><style type=\"text/css\">\n",
       "</style>\n",
       "<table id=\"T_55d08\" style='display:inline'>\n",
       "  <caption><b><H2>user_df<H2></b></caption>\n",
       "  <thead>\n",
       "    <tr>\n",
       "      <th class=\"blank level0\" >&nbsp;</th>\n",
       "      <th id=\"T_55d08_level0_col0\" class=\"col_heading level0 col0\" >user_id</th>\n",
       "      <th id=\"T_55d08_level0_col1\" class=\"col_heading level0 col1\" >age</th>\n",
       "      <th id=\"T_55d08_level0_col2\" class=\"col_heading level0 col2\" >gender</th>\n",
       "      <th id=\"T_55d08_level0_col3\" class=\"col_heading level0 col3\" >user_occupation_text</th>\n",
       "      <th id=\"T_55d08_level0_col4\" class=\"col_heading level0 col4\" >user_zip_code</th>\n",
       "    </tr>\n",
       "  </thead>\n",
       "  <tbody>\n",
       "    <tr>\n",
       "      <th id=\"T_55d08_level0_row0\" class=\"row_heading level0 row0\" >0</th>\n",
       "      <td id=\"T_55d08_row0_col0\" class=\"data row0 col0\" >1</td>\n",
       "      <td id=\"T_55d08_row0_col1\" class=\"data row0 col1\" >24</td>\n",
       "      <td id=\"T_55d08_row0_col2\" class=\"data row0 col2\" >M</td>\n",
       "      <td id=\"T_55d08_row0_col3\" class=\"data row0 col3\" >technician</td>\n",
       "      <td id=\"T_55d08_row0_col4\" class=\"data row0 col4\" >85711</td>\n",
       "    </tr>\n",
       "    <tr>\n",
       "      <th id=\"T_55d08_level0_row1\" class=\"row_heading level0 row1\" >1</th>\n",
       "      <td id=\"T_55d08_row1_col0\" class=\"data row1 col0\" >2</td>\n",
       "      <td id=\"T_55d08_row1_col1\" class=\"data row1 col1\" >53</td>\n",
       "      <td id=\"T_55d08_row1_col2\" class=\"data row1 col2\" >F</td>\n",
       "      <td id=\"T_55d08_row1_col3\" class=\"data row1 col3\" >other</td>\n",
       "      <td id=\"T_55d08_row1_col4\" class=\"data row1 col4\" >94043</td>\n",
       "    </tr>\n",
       "    <tr>\n",
       "      <th id=\"T_55d08_level0_row2\" class=\"row_heading level0 row2\" >2</th>\n",
       "      <td id=\"T_55d08_row2_col0\" class=\"data row2 col0\" >3</td>\n",
       "      <td id=\"T_55d08_row2_col1\" class=\"data row2 col1\" >23</td>\n",
       "      <td id=\"T_55d08_row2_col2\" class=\"data row2 col2\" >M</td>\n",
       "      <td id=\"T_55d08_row2_col3\" class=\"data row2 col3\" >writer</td>\n",
       "      <td id=\"T_55d08_row2_col4\" class=\"data row2 col4\" >32067</td>\n",
       "    </tr>\n",
       "    <tr>\n",
       "      <th id=\"T_55d08_level0_row3\" class=\"row_heading level0 row3\" >3</th>\n",
       "      <td id=\"T_55d08_row3_col0\" class=\"data row3 col0\" >4</td>\n",
       "      <td id=\"T_55d08_row3_col1\" class=\"data row3 col1\" >24</td>\n",
       "      <td id=\"T_55d08_row3_col2\" class=\"data row3 col2\" >M</td>\n",
       "      <td id=\"T_55d08_row3_col3\" class=\"data row3 col3\" >technician</td>\n",
       "      <td id=\"T_55d08_row3_col4\" class=\"data row3 col4\" >43537</td>\n",
       "    </tr>\n",
       "    <tr>\n",
       "      <th id=\"T_55d08_level0_row4\" class=\"row_heading level0 row4\" >4</th>\n",
       "      <td id=\"T_55d08_row4_col0\" class=\"data row4 col0\" >5</td>\n",
       "      <td id=\"T_55d08_row4_col1\" class=\"data row4 col1\" >33</td>\n",
       "      <td id=\"T_55d08_row4_col2\" class=\"data row4 col2\" >F</td>\n",
       "      <td id=\"T_55d08_row4_col3\" class=\"data row4 col3\" >other</td>\n",
       "      <td id=\"T_55d08_row4_col4\" class=\"data row4 col4\" >15213</td>\n",
       "    </tr>\n",
       "  </tbody>\n",
       "</table>\n",
       "</td><td style='width:50.0%;vertical-align:top;border:0px'><style type=\"text/css\">\n",
       "</style>\n",
       "<table id=\"T_4a741\" style='display:inline'>\n",
       "  <caption><b><H2>ratings_df<H2></b></caption>\n",
       "  <thead>\n",
       "    <tr>\n",
       "      <th class=\"blank level0\" >&nbsp;</th>\n",
       "      <th id=\"T_4a741_level0_col0\" class=\"col_heading level0 col0\" >user_id</th>\n",
       "      <th id=\"T_4a741_level0_col1\" class=\"col_heading level0 col1\" >movie_id</th>\n",
       "      <th id=\"T_4a741_level0_col2\" class=\"col_heading level0 col2\" >user_rating</th>\n",
       "      <th id=\"T_4a741_level0_col3\" class=\"col_heading level0 col3\" >timestamp</th>\n",
       "    </tr>\n",
       "  </thead>\n",
       "  <tbody>\n",
       "    <tr>\n",
       "      <th id=\"T_4a741_level0_row0\" class=\"row_heading level0 row0\" >0</th>\n",
       "      <td id=\"T_4a741_row0_col0\" class=\"data row0 col0\" >196</td>\n",
       "      <td id=\"T_4a741_row0_col1\" class=\"data row0 col1\" >242</td>\n",
       "      <td id=\"T_4a741_row0_col2\" class=\"data row0 col2\" >3</td>\n",
       "      <td id=\"T_4a741_row0_col3\" class=\"data row0 col3\" >881250949</td>\n",
       "    </tr>\n",
       "    <tr>\n",
       "      <th id=\"T_4a741_level0_row1\" class=\"row_heading level0 row1\" >1</th>\n",
       "      <td id=\"T_4a741_row1_col0\" class=\"data row1 col0\" >186</td>\n",
       "      <td id=\"T_4a741_row1_col1\" class=\"data row1 col1\" >302</td>\n",
       "      <td id=\"T_4a741_row1_col2\" class=\"data row1 col2\" >3</td>\n",
       "      <td id=\"T_4a741_row1_col3\" class=\"data row1 col3\" >891717742</td>\n",
       "    </tr>\n",
       "    <tr>\n",
       "      <th id=\"T_4a741_level0_row2\" class=\"row_heading level0 row2\" >2</th>\n",
       "      <td id=\"T_4a741_row2_col0\" class=\"data row2 col0\" >22</td>\n",
       "      <td id=\"T_4a741_row2_col1\" class=\"data row2 col1\" >377</td>\n",
       "      <td id=\"T_4a741_row2_col2\" class=\"data row2 col2\" >1</td>\n",
       "      <td id=\"T_4a741_row2_col3\" class=\"data row2 col3\" >878887116</td>\n",
       "    </tr>\n",
       "    <tr>\n",
       "      <th id=\"T_4a741_level0_row3\" class=\"row_heading level0 row3\" >3</th>\n",
       "      <td id=\"T_4a741_row3_col0\" class=\"data row3 col0\" >244</td>\n",
       "      <td id=\"T_4a741_row3_col1\" class=\"data row3 col1\" >51</td>\n",
       "      <td id=\"T_4a741_row3_col2\" class=\"data row3 col2\" >2</td>\n",
       "      <td id=\"T_4a741_row3_col3\" class=\"data row3 col3\" >880606923</td>\n",
       "    </tr>\n",
       "    <tr>\n",
       "      <th id=\"T_4a741_level0_row4\" class=\"row_heading level0 row4\" >4</th>\n",
       "      <td id=\"T_4a741_row4_col0\" class=\"data row4 col0\" >166</td>\n",
       "      <td id=\"T_4a741_row4_col1\" class=\"data row4 col1\" >346</td>\n",
       "      <td id=\"T_4a741_row4_col2\" class=\"data row4 col2\" >1</td>\n",
       "      <td id=\"T_4a741_row4_col3\" class=\"data row4 col3\" >886397596</td>\n",
       "    </tr>\n",
       "  </tbody>\n",
       "</table>\n",
       "</td></tr><tr style='border:0px'><td style='width:50.0%;vertical-align:top;border:0px'><style type=\"text/css\">\n",
       "</style>\n",
       "<table id=\"T_02ccb\" style='display:inline'>\n",
       "  <caption><b><H2>movies_df<H2></b></caption>\n",
       "  <thead>\n",
       "    <tr>\n",
       "      <th class=\"blank level0\" >&nbsp;</th>\n",
       "      <th id=\"T_02ccb_level0_col0\" class=\"col_heading level0 col0\" >movie_id</th>\n",
       "      <th id=\"T_02ccb_level0_col1\" class=\"col_heading level0 col1\" >movie_title</th>\n",
       "      <th id=\"T_02ccb_level0_col2\" class=\"col_heading level0 col2\" >release_data</th>\n",
       "      <th id=\"T_02ccb_level0_col3\" class=\"col_heading level0 col3\" >video_release_date</th>\n",
       "      <th id=\"T_02ccb_level0_col4\" class=\"col_heading level0 col4\" >IMDb_URL</th>\n",
       "      <th id=\"T_02ccb_level0_col5\" class=\"col_heading level0 col5\" >unknow</th>\n",
       "      <th id=\"T_02ccb_level0_col6\" class=\"col_heading level0 col6\" >Action</th>\n",
       "      <th id=\"T_02ccb_level0_col7\" class=\"col_heading level0 col7\" >Adventure</th>\n",
       "      <th id=\"T_02ccb_level0_col8\" class=\"col_heading level0 col8\" >Animation</th>\n",
       "      <th id=\"T_02ccb_level0_col9\" class=\"col_heading level0 col9\" >Children’s</th>\n",
       "      <th id=\"T_02ccb_level0_col10\" class=\"col_heading level0 col10\" >Comedy</th>\n",
       "      <th id=\"T_02ccb_level0_col11\" class=\"col_heading level0 col11\" >Crime</th>\n",
       "      <th id=\"T_02ccb_level0_col12\" class=\"col_heading level0 col12\" >Documentary</th>\n",
       "      <th id=\"T_02ccb_level0_col13\" class=\"col_heading level0 col13\" >Drama</th>\n",
       "      <th id=\"T_02ccb_level0_col14\" class=\"col_heading level0 col14\" >Fantasy</th>\n",
       "      <th id=\"T_02ccb_level0_col15\" class=\"col_heading level0 col15\" >Film-Noir</th>\n",
       "      <th id=\"T_02ccb_level0_col16\" class=\"col_heading level0 col16\" >Horror</th>\n",
       "      <th id=\"T_02ccb_level0_col17\" class=\"col_heading level0 col17\" >Musical</th>\n",
       "      <th id=\"T_02ccb_level0_col18\" class=\"col_heading level0 col18\" >Mystery</th>\n",
       "      <th id=\"T_02ccb_level0_col19\" class=\"col_heading level0 col19\" >Romance</th>\n",
       "      <th id=\"T_02ccb_level0_col20\" class=\"col_heading level0 col20\" >Sci-Fi</th>\n",
       "      <th id=\"T_02ccb_level0_col21\" class=\"col_heading level0 col21\" >Thriller</th>\n",
       "      <th id=\"T_02ccb_level0_col22\" class=\"col_heading level0 col22\" >War</th>\n",
       "      <th id=\"T_02ccb_level0_col23\" class=\"col_heading level0 col23\" >Western</th>\n",
       "    </tr>\n",
       "  </thead>\n",
       "  <tbody>\n",
       "    <tr>\n",
       "      <th id=\"T_02ccb_level0_row0\" class=\"row_heading level0 row0\" >0</th>\n",
       "      <td id=\"T_02ccb_row0_col0\" class=\"data row0 col0\" >1</td>\n",
       "      <td id=\"T_02ccb_row0_col1\" class=\"data row0 col1\" >Toy Story (1995)</td>\n",
       "      <td id=\"T_02ccb_row0_col2\" class=\"data row0 col2\" >01-Jan-1995</td>\n",
       "      <td id=\"T_02ccb_row0_col3\" class=\"data row0 col3\" >nan</td>\n",
       "      <td id=\"T_02ccb_row0_col4\" class=\"data row0 col4\" >http://us.imdb.com/M/title-exact?Toy%20Story%20(1995)</td>\n",
       "      <td id=\"T_02ccb_row0_col5\" class=\"data row0 col5\" >0</td>\n",
       "      <td id=\"T_02ccb_row0_col6\" class=\"data row0 col6\" >0</td>\n",
       "      <td id=\"T_02ccb_row0_col7\" class=\"data row0 col7\" >0</td>\n",
       "      <td id=\"T_02ccb_row0_col8\" class=\"data row0 col8\" >1</td>\n",
       "      <td id=\"T_02ccb_row0_col9\" class=\"data row0 col9\" >1</td>\n",
       "      <td id=\"T_02ccb_row0_col10\" class=\"data row0 col10\" >1</td>\n",
       "      <td id=\"T_02ccb_row0_col11\" class=\"data row0 col11\" >0</td>\n",
       "      <td id=\"T_02ccb_row0_col12\" class=\"data row0 col12\" >0</td>\n",
       "      <td id=\"T_02ccb_row0_col13\" class=\"data row0 col13\" >0</td>\n",
       "      <td id=\"T_02ccb_row0_col14\" class=\"data row0 col14\" >0</td>\n",
       "      <td id=\"T_02ccb_row0_col15\" class=\"data row0 col15\" >0</td>\n",
       "      <td id=\"T_02ccb_row0_col16\" class=\"data row0 col16\" >0</td>\n",
       "      <td id=\"T_02ccb_row0_col17\" class=\"data row0 col17\" >0</td>\n",
       "      <td id=\"T_02ccb_row0_col18\" class=\"data row0 col18\" >0</td>\n",
       "      <td id=\"T_02ccb_row0_col19\" class=\"data row0 col19\" >0</td>\n",
       "      <td id=\"T_02ccb_row0_col20\" class=\"data row0 col20\" >0</td>\n",
       "      <td id=\"T_02ccb_row0_col21\" class=\"data row0 col21\" >0</td>\n",
       "      <td id=\"T_02ccb_row0_col22\" class=\"data row0 col22\" >0</td>\n",
       "      <td id=\"T_02ccb_row0_col23\" class=\"data row0 col23\" >0</td>\n",
       "    </tr>\n",
       "    <tr>\n",
       "      <th id=\"T_02ccb_level0_row1\" class=\"row_heading level0 row1\" >1</th>\n",
       "      <td id=\"T_02ccb_row1_col0\" class=\"data row1 col0\" >2</td>\n",
       "      <td id=\"T_02ccb_row1_col1\" class=\"data row1 col1\" >GoldenEye (1995)</td>\n",
       "      <td id=\"T_02ccb_row1_col2\" class=\"data row1 col2\" >01-Jan-1995</td>\n",
       "      <td id=\"T_02ccb_row1_col3\" class=\"data row1 col3\" >nan</td>\n",
       "      <td id=\"T_02ccb_row1_col4\" class=\"data row1 col4\" >http://us.imdb.com/M/title-exact?GoldenEye%20(1995)</td>\n",
       "      <td id=\"T_02ccb_row1_col5\" class=\"data row1 col5\" >0</td>\n",
       "      <td id=\"T_02ccb_row1_col6\" class=\"data row1 col6\" >1</td>\n",
       "      <td id=\"T_02ccb_row1_col7\" class=\"data row1 col7\" >1</td>\n",
       "      <td id=\"T_02ccb_row1_col8\" class=\"data row1 col8\" >0</td>\n",
       "      <td id=\"T_02ccb_row1_col9\" class=\"data row1 col9\" >0</td>\n",
       "      <td id=\"T_02ccb_row1_col10\" class=\"data row1 col10\" >0</td>\n",
       "      <td id=\"T_02ccb_row1_col11\" class=\"data row1 col11\" >0</td>\n",
       "      <td id=\"T_02ccb_row1_col12\" class=\"data row1 col12\" >0</td>\n",
       "      <td id=\"T_02ccb_row1_col13\" class=\"data row1 col13\" >0</td>\n",
       "      <td id=\"T_02ccb_row1_col14\" class=\"data row1 col14\" >0</td>\n",
       "      <td id=\"T_02ccb_row1_col15\" class=\"data row1 col15\" >0</td>\n",
       "      <td id=\"T_02ccb_row1_col16\" class=\"data row1 col16\" >0</td>\n",
       "      <td id=\"T_02ccb_row1_col17\" class=\"data row1 col17\" >0</td>\n",
       "      <td id=\"T_02ccb_row1_col18\" class=\"data row1 col18\" >0</td>\n",
       "      <td id=\"T_02ccb_row1_col19\" class=\"data row1 col19\" >0</td>\n",
       "      <td id=\"T_02ccb_row1_col20\" class=\"data row1 col20\" >0</td>\n",
       "      <td id=\"T_02ccb_row1_col21\" class=\"data row1 col21\" >1</td>\n",
       "      <td id=\"T_02ccb_row1_col22\" class=\"data row1 col22\" >0</td>\n",
       "      <td id=\"T_02ccb_row1_col23\" class=\"data row1 col23\" >0</td>\n",
       "    </tr>\n",
       "    <tr>\n",
       "      <th id=\"T_02ccb_level0_row2\" class=\"row_heading level0 row2\" >2</th>\n",
       "      <td id=\"T_02ccb_row2_col0\" class=\"data row2 col0\" >3</td>\n",
       "      <td id=\"T_02ccb_row2_col1\" class=\"data row2 col1\" >Four Rooms (1995)</td>\n",
       "      <td id=\"T_02ccb_row2_col2\" class=\"data row2 col2\" >01-Jan-1995</td>\n",
       "      <td id=\"T_02ccb_row2_col3\" class=\"data row2 col3\" >nan</td>\n",
       "      <td id=\"T_02ccb_row2_col4\" class=\"data row2 col4\" >http://us.imdb.com/M/title-exact?Four%20Rooms%20(1995)</td>\n",
       "      <td id=\"T_02ccb_row2_col5\" class=\"data row2 col5\" >0</td>\n",
       "      <td id=\"T_02ccb_row2_col6\" class=\"data row2 col6\" >0</td>\n",
       "      <td id=\"T_02ccb_row2_col7\" class=\"data row2 col7\" >0</td>\n",
       "      <td id=\"T_02ccb_row2_col8\" class=\"data row2 col8\" >0</td>\n",
       "      <td id=\"T_02ccb_row2_col9\" class=\"data row2 col9\" >0</td>\n",
       "      <td id=\"T_02ccb_row2_col10\" class=\"data row2 col10\" >0</td>\n",
       "      <td id=\"T_02ccb_row2_col11\" class=\"data row2 col11\" >0</td>\n",
       "      <td id=\"T_02ccb_row2_col12\" class=\"data row2 col12\" >0</td>\n",
       "      <td id=\"T_02ccb_row2_col13\" class=\"data row2 col13\" >0</td>\n",
       "      <td id=\"T_02ccb_row2_col14\" class=\"data row2 col14\" >0</td>\n",
       "      <td id=\"T_02ccb_row2_col15\" class=\"data row2 col15\" >0</td>\n",
       "      <td id=\"T_02ccb_row2_col16\" class=\"data row2 col16\" >0</td>\n",
       "      <td id=\"T_02ccb_row2_col17\" class=\"data row2 col17\" >0</td>\n",
       "      <td id=\"T_02ccb_row2_col18\" class=\"data row2 col18\" >0</td>\n",
       "      <td id=\"T_02ccb_row2_col19\" class=\"data row2 col19\" >0</td>\n",
       "      <td id=\"T_02ccb_row2_col20\" class=\"data row2 col20\" >0</td>\n",
       "      <td id=\"T_02ccb_row2_col21\" class=\"data row2 col21\" >1</td>\n",
       "      <td id=\"T_02ccb_row2_col22\" class=\"data row2 col22\" >0</td>\n",
       "      <td id=\"T_02ccb_row2_col23\" class=\"data row2 col23\" >0</td>\n",
       "    </tr>\n",
       "    <tr>\n",
       "      <th id=\"T_02ccb_level0_row3\" class=\"row_heading level0 row3\" >3</th>\n",
       "      <td id=\"T_02ccb_row3_col0\" class=\"data row3 col0\" >4</td>\n",
       "      <td id=\"T_02ccb_row3_col1\" class=\"data row3 col1\" >Get Shorty (1995)</td>\n",
       "      <td id=\"T_02ccb_row3_col2\" class=\"data row3 col2\" >01-Jan-1995</td>\n",
       "      <td id=\"T_02ccb_row3_col3\" class=\"data row3 col3\" >nan</td>\n",
       "      <td id=\"T_02ccb_row3_col4\" class=\"data row3 col4\" >http://us.imdb.com/M/title-exact?Get%20Shorty%20(1995)</td>\n",
       "      <td id=\"T_02ccb_row3_col5\" class=\"data row3 col5\" >0</td>\n",
       "      <td id=\"T_02ccb_row3_col6\" class=\"data row3 col6\" >1</td>\n",
       "      <td id=\"T_02ccb_row3_col7\" class=\"data row3 col7\" >0</td>\n",
       "      <td id=\"T_02ccb_row3_col8\" class=\"data row3 col8\" >0</td>\n",
       "      <td id=\"T_02ccb_row3_col9\" class=\"data row3 col9\" >0</td>\n",
       "      <td id=\"T_02ccb_row3_col10\" class=\"data row3 col10\" >1</td>\n",
       "      <td id=\"T_02ccb_row3_col11\" class=\"data row3 col11\" >0</td>\n",
       "      <td id=\"T_02ccb_row3_col12\" class=\"data row3 col12\" >0</td>\n",
       "      <td id=\"T_02ccb_row3_col13\" class=\"data row3 col13\" >1</td>\n",
       "      <td id=\"T_02ccb_row3_col14\" class=\"data row3 col14\" >0</td>\n",
       "      <td id=\"T_02ccb_row3_col15\" class=\"data row3 col15\" >0</td>\n",
       "      <td id=\"T_02ccb_row3_col16\" class=\"data row3 col16\" >0</td>\n",
       "      <td id=\"T_02ccb_row3_col17\" class=\"data row3 col17\" >0</td>\n",
       "      <td id=\"T_02ccb_row3_col18\" class=\"data row3 col18\" >0</td>\n",
       "      <td id=\"T_02ccb_row3_col19\" class=\"data row3 col19\" >0</td>\n",
       "      <td id=\"T_02ccb_row3_col20\" class=\"data row3 col20\" >0</td>\n",
       "      <td id=\"T_02ccb_row3_col21\" class=\"data row3 col21\" >0</td>\n",
       "      <td id=\"T_02ccb_row3_col22\" class=\"data row3 col22\" >0</td>\n",
       "      <td id=\"T_02ccb_row3_col23\" class=\"data row3 col23\" >0</td>\n",
       "    </tr>\n",
       "    <tr>\n",
       "      <th id=\"T_02ccb_level0_row4\" class=\"row_heading level0 row4\" >4</th>\n",
       "      <td id=\"T_02ccb_row4_col0\" class=\"data row4 col0\" >5</td>\n",
       "      <td id=\"T_02ccb_row4_col1\" class=\"data row4 col1\" >Copycat (1995)</td>\n",
       "      <td id=\"T_02ccb_row4_col2\" class=\"data row4 col2\" >01-Jan-1995</td>\n",
       "      <td id=\"T_02ccb_row4_col3\" class=\"data row4 col3\" >nan</td>\n",
       "      <td id=\"T_02ccb_row4_col4\" class=\"data row4 col4\" >http://us.imdb.com/M/title-exact?Copycat%20(1995)</td>\n",
       "      <td id=\"T_02ccb_row4_col5\" class=\"data row4 col5\" >0</td>\n",
       "      <td id=\"T_02ccb_row4_col6\" class=\"data row4 col6\" >0</td>\n",
       "      <td id=\"T_02ccb_row4_col7\" class=\"data row4 col7\" >0</td>\n",
       "      <td id=\"T_02ccb_row4_col8\" class=\"data row4 col8\" >0</td>\n",
       "      <td id=\"T_02ccb_row4_col9\" class=\"data row4 col9\" >0</td>\n",
       "      <td id=\"T_02ccb_row4_col10\" class=\"data row4 col10\" >0</td>\n",
       "      <td id=\"T_02ccb_row4_col11\" class=\"data row4 col11\" >1</td>\n",
       "      <td id=\"T_02ccb_row4_col12\" class=\"data row4 col12\" >0</td>\n",
       "      <td id=\"T_02ccb_row4_col13\" class=\"data row4 col13\" >1</td>\n",
       "      <td id=\"T_02ccb_row4_col14\" class=\"data row4 col14\" >0</td>\n",
       "      <td id=\"T_02ccb_row4_col15\" class=\"data row4 col15\" >0</td>\n",
       "      <td id=\"T_02ccb_row4_col16\" class=\"data row4 col16\" >0</td>\n",
       "      <td id=\"T_02ccb_row4_col17\" class=\"data row4 col17\" >0</td>\n",
       "      <td id=\"T_02ccb_row4_col18\" class=\"data row4 col18\" >0</td>\n",
       "      <td id=\"T_02ccb_row4_col19\" class=\"data row4 col19\" >0</td>\n",
       "      <td id=\"T_02ccb_row4_col20\" class=\"data row4 col20\" >0</td>\n",
       "      <td id=\"T_02ccb_row4_col21\" class=\"data row4 col21\" >1</td>\n",
       "      <td id=\"T_02ccb_row4_col22\" class=\"data row4 col22\" >0</td>\n",
       "      <td id=\"T_02ccb_row4_col23\" class=\"data row4 col23\" >0</td>\n",
       "    </tr>\n",
       "  </tbody>\n",
       "</table>\n",
       "</td><td style='width:50.0%;vertical-align:top;border:0px'></td></tr></table>"
      ],
      "text/plain": [
       "<IPython.core.display.HTML object>"
      ]
     },
     "metadata": {},
     "output_type": "display_data"
    }
   ],
   "source": [
    "grid_df_display(\n",
    "    list_df = [user_df, ratings_df, movies_df],\n",
    "    list_df_name = ['user_df', 'ratings_df', 'movies_df'],\n",
    "    list_number_of_data = [5, 5, 5],\n",
    "    row=2, col=2, fill='row'\n",
    ")"
   ]
  },
  {
   "cell_type": "code",
   "execution_count": 14,
   "id": "989b72cf-e1d0-424f-973b-a92598a2137c",
   "metadata": {
    "execution": {
     "iopub.execute_input": "2022-04-15T10:21:51.956691Z",
     "iopub.status.busy": "2022-04-15T10:21:51.955691Z",
     "iopub.status.idle": "2022-04-15T10:21:51.969688Z",
     "shell.execute_reply": "2022-04-15T10:21:51.968688Z",
     "shell.execute_reply.started": "2022-04-15T10:21:51.956691Z"
    },
    "tags": []
   },
   "outputs": [],
   "source": [
    "hash_table = {'F':0, 'M':1}\n",
    "user_df['user_gender'] = user_df['gender'].map(hash_table.get)"
   ]
  },
  {
   "cell_type": "code",
   "execution_count": 15,
   "id": "2d7fb877-fa45-47b2-be91-9ba78db83210",
   "metadata": {
    "execution": {
     "iopub.execute_input": "2022-04-15T10:21:51.972688Z",
     "iopub.status.busy": "2022-04-15T10:21:51.972688Z",
     "iopub.status.idle": "2022-04-15T10:21:52.001685Z",
     "shell.execute_reply": "2022-04-15T10:21:52.000683Z",
     "shell.execute_reply.started": "2022-04-15T10:21:51.972688Z"
    },
    "tags": []
   },
   "outputs": [],
   "source": [
    "bins = [0, 18, 25, 35, 45, 50, 55, float('inf')]\n",
    "user_df['user_bucketized_age'] = pd.cut(user_df['age'], bins, labels=[1, 18, 25, 35, 45, 50, 56], retbins=False)"
   ]
  },
  {
   "cell_type": "code",
   "execution_count": 16,
   "id": "e89e28eb-178a-4cbd-b5d1-af3bd89cc23b",
   "metadata": {
    "execution": {
     "iopub.execute_input": "2022-04-15T10:21:52.004682Z",
     "iopub.status.busy": "2022-04-15T10:21:52.003684Z",
     "iopub.status.idle": "2022-04-15T10:21:52.050676Z",
     "shell.execute_reply": "2022-04-15T10:21:52.049688Z",
     "shell.execute_reply.started": "2022-04-15T10:21:52.004682Z"
    },
    "tags": []
   },
   "outputs": [
    {
     "data": {
      "text/html": [
       "<div>\n",
       "<style scoped>\n",
       "    .dataframe tbody tr th:only-of-type {\n",
       "        vertical-align: middle;\n",
       "    }\n",
       "\n",
       "    .dataframe tbody tr th {\n",
       "        vertical-align: top;\n",
       "    }\n",
       "\n",
       "    .dataframe thead th {\n",
       "        text-align: right;\n",
       "    }\n",
       "</style>\n",
       "<table border=\"1\" class=\"dataframe\">\n",
       "  <thead>\n",
       "    <tr style=\"text-align: right;\">\n",
       "      <th></th>\n",
       "      <th>user_id</th>\n",
       "      <th>age</th>\n",
       "      <th>gender</th>\n",
       "      <th>user_occupation_text</th>\n",
       "      <th>user_zip_code</th>\n",
       "      <th>user_gender</th>\n",
       "      <th>user_bucketized_age</th>\n",
       "    </tr>\n",
       "  </thead>\n",
       "  <tbody>\n",
       "    <tr>\n",
       "      <th>0</th>\n",
       "      <td>1</td>\n",
       "      <td>24</td>\n",
       "      <td>M</td>\n",
       "      <td>technician</td>\n",
       "      <td>85711</td>\n",
       "      <td>1</td>\n",
       "      <td>18</td>\n",
       "    </tr>\n",
       "    <tr>\n",
       "      <th>1</th>\n",
       "      <td>2</td>\n",
       "      <td>53</td>\n",
       "      <td>F</td>\n",
       "      <td>other</td>\n",
       "      <td>94043</td>\n",
       "      <td>0</td>\n",
       "      <td>50</td>\n",
       "    </tr>\n",
       "    <tr>\n",
       "      <th>2</th>\n",
       "      <td>3</td>\n",
       "      <td>23</td>\n",
       "      <td>M</td>\n",
       "      <td>writer</td>\n",
       "      <td>32067</td>\n",
       "      <td>1</td>\n",
       "      <td>18</td>\n",
       "    </tr>\n",
       "    <tr>\n",
       "      <th>3</th>\n",
       "      <td>4</td>\n",
       "      <td>24</td>\n",
       "      <td>M</td>\n",
       "      <td>technician</td>\n",
       "      <td>43537</td>\n",
       "      <td>1</td>\n",
       "      <td>18</td>\n",
       "    </tr>\n",
       "    <tr>\n",
       "      <th>4</th>\n",
       "      <td>5</td>\n",
       "      <td>33</td>\n",
       "      <td>F</td>\n",
       "      <td>other</td>\n",
       "      <td>15213</td>\n",
       "      <td>0</td>\n",
       "      <td>25</td>\n",
       "    </tr>\n",
       "  </tbody>\n",
       "</table>\n",
       "</div>"
      ],
      "text/plain": [
       "   user_id  age gender user_occupation_text user_zip_code  user_gender  \\\n",
       "0        1   24      M           technician         85711            1   \n",
       "1        2   53      F                other         94043            0   \n",
       "2        3   23      M               writer         32067            1   \n",
       "3        4   24      M           technician         43537            1   \n",
       "4        5   33      F                other         15213            0   \n",
       "\n",
       "  user_bucketized_age  \n",
       "0                  18  \n",
       "1                  50  \n",
       "2                  18  \n",
       "3                  18  \n",
       "4                  25  "
      ]
     },
     "execution_count": 16,
     "metadata": {},
     "output_type": "execute_result"
    }
   ],
   "source": [
    "user_df.head()"
   ]
  },
  {
   "cell_type": "code",
   "execution_count": 17,
   "id": "e1679cee-9f72-4ae5-b6de-ba8876704a58",
   "metadata": {
    "execution": {
     "iopub.execute_input": "2022-04-15T10:21:52.054676Z",
     "iopub.status.busy": "2022-04-15T10:21:52.054676Z",
     "iopub.status.idle": "2022-04-15T10:21:52.190654Z",
     "shell.execute_reply": "2022-04-15T10:21:52.189670Z",
     "shell.execute_reply.started": "2022-04-15T10:21:52.054676Z"
    },
    "tags": []
   },
   "outputs": [],
   "source": [
    "ratings_df = pd.merge(ratings_df, movies_df, on='movie_id', how='left')\n",
    "ratings_df = pd.merge(ratings_df, user_df, on='user_id', how='left')"
   ]
  },
  {
   "cell_type": "code",
   "execution_count": 18,
   "id": "8e0e033c-e56a-41a1-95b7-87394f8a4c55",
   "metadata": {
    "execution": {
     "iopub.execute_input": "2022-04-15T10:21:52.192653Z",
     "iopub.status.busy": "2022-04-15T10:21:52.191653Z",
     "iopub.status.idle": "2022-04-15T10:21:52.235649Z",
     "shell.execute_reply": "2022-04-15T10:21:52.234649Z",
     "shell.execute_reply.started": "2022-04-15T10:21:52.192653Z"
    },
    "tags": []
   },
   "outputs": [
    {
     "data": {
      "text/html": [
       "<div>\n",
       "<style scoped>\n",
       "    .dataframe tbody tr th:only-of-type {\n",
       "        vertical-align: middle;\n",
       "    }\n",
       "\n",
       "    .dataframe tbody tr th {\n",
       "        vertical-align: top;\n",
       "    }\n",
       "\n",
       "    .dataframe thead th {\n",
       "        text-align: right;\n",
       "    }\n",
       "</style>\n",
       "<table border=\"1\" class=\"dataframe\">\n",
       "  <thead>\n",
       "    <tr style=\"text-align: right;\">\n",
       "      <th></th>\n",
       "      <th>user_id</th>\n",
       "      <th>movie_id</th>\n",
       "      <th>user_rating</th>\n",
       "      <th>timestamp</th>\n",
       "      <th>movie_title</th>\n",
       "      <th>release_data</th>\n",
       "      <th>video_release_date</th>\n",
       "      <th>IMDb_URL</th>\n",
       "      <th>unknow</th>\n",
       "      <th>Action</th>\n",
       "      <th>...</th>\n",
       "      <th>Sci-Fi</th>\n",
       "      <th>Thriller</th>\n",
       "      <th>War</th>\n",
       "      <th>Western</th>\n",
       "      <th>age</th>\n",
       "      <th>gender</th>\n",
       "      <th>user_occupation_text</th>\n",
       "      <th>user_zip_code</th>\n",
       "      <th>user_gender</th>\n",
       "      <th>user_bucketized_age</th>\n",
       "    </tr>\n",
       "  </thead>\n",
       "  <tbody>\n",
       "    <tr>\n",
       "      <th>0</th>\n",
       "      <td>196</td>\n",
       "      <td>242</td>\n",
       "      <td>3</td>\n",
       "      <td>881250949</td>\n",
       "      <td>Kolya (1996)</td>\n",
       "      <td>24-Jan-1997</td>\n",
       "      <td>NaN</td>\n",
       "      <td>http://us.imdb.com/M/title-exact?Kolya%20(1996)</td>\n",
       "      <td>0</td>\n",
       "      <td>0</td>\n",
       "      <td>...</td>\n",
       "      <td>0</td>\n",
       "      <td>0</td>\n",
       "      <td>0</td>\n",
       "      <td>0</td>\n",
       "      <td>49</td>\n",
       "      <td>M</td>\n",
       "      <td>writer</td>\n",
       "      <td>55105</td>\n",
       "      <td>1</td>\n",
       "      <td>45</td>\n",
       "    </tr>\n",
       "    <tr>\n",
       "      <th>1</th>\n",
       "      <td>186</td>\n",
       "      <td>302</td>\n",
       "      <td>3</td>\n",
       "      <td>891717742</td>\n",
       "      <td>L.A. Confidential (1997)</td>\n",
       "      <td>01-Jan-1997</td>\n",
       "      <td>NaN</td>\n",
       "      <td>http://us.imdb.com/M/title-exact?L%2EA%2E+Conf...</td>\n",
       "      <td>0</td>\n",
       "      <td>0</td>\n",
       "      <td>...</td>\n",
       "      <td>0</td>\n",
       "      <td>1</td>\n",
       "      <td>0</td>\n",
       "      <td>0</td>\n",
       "      <td>39</td>\n",
       "      <td>F</td>\n",
       "      <td>executive</td>\n",
       "      <td>00000</td>\n",
       "      <td>0</td>\n",
       "      <td>35</td>\n",
       "    </tr>\n",
       "    <tr>\n",
       "      <th>2</th>\n",
       "      <td>22</td>\n",
       "      <td>377</td>\n",
       "      <td>1</td>\n",
       "      <td>878887116</td>\n",
       "      <td>Heavyweights (1994)</td>\n",
       "      <td>01-Jan-1994</td>\n",
       "      <td>NaN</td>\n",
       "      <td>http://us.imdb.com/M/title-exact?Heavyweights%...</td>\n",
       "      <td>0</td>\n",
       "      <td>0</td>\n",
       "      <td>...</td>\n",
       "      <td>0</td>\n",
       "      <td>0</td>\n",
       "      <td>0</td>\n",
       "      <td>0</td>\n",
       "      <td>25</td>\n",
       "      <td>M</td>\n",
       "      <td>writer</td>\n",
       "      <td>40206</td>\n",
       "      <td>1</td>\n",
       "      <td>18</td>\n",
       "    </tr>\n",
       "  </tbody>\n",
       "</table>\n",
       "<p>3 rows × 33 columns</p>\n",
       "</div>"
      ],
      "text/plain": [
       "   user_id  movie_id  user_rating  timestamp               movie_title  \\\n",
       "0      196       242            3  881250949              Kolya (1996)   \n",
       "1      186       302            3  891717742  L.A. Confidential (1997)   \n",
       "2       22       377            1  878887116       Heavyweights (1994)   \n",
       "\n",
       "  release_data  video_release_date  \\\n",
       "0  24-Jan-1997                 NaN   \n",
       "1  01-Jan-1997                 NaN   \n",
       "2  01-Jan-1994                 NaN   \n",
       "\n",
       "                                            IMDb_URL  unknow  Action  ...  \\\n",
       "0    http://us.imdb.com/M/title-exact?Kolya%20(1996)       0       0  ...   \n",
       "1  http://us.imdb.com/M/title-exact?L%2EA%2E+Conf...       0       0  ...   \n",
       "2  http://us.imdb.com/M/title-exact?Heavyweights%...       0       0  ...   \n",
       "\n",
       "   Sci-Fi  Thriller  War  Western  age  gender  user_occupation_text  \\\n",
       "0       0         0    0        0   49       M                writer   \n",
       "1       0         1    0        0   39       F             executive   \n",
       "2       0         0    0        0   25       M                writer   \n",
       "\n",
       "   user_zip_code  user_gender  user_bucketized_age  \n",
       "0          55105            1                   45  \n",
       "1          00000            0                   35  \n",
       "2          40206            1                   18  \n",
       "\n",
       "[3 rows x 33 columns]"
      ]
     },
     "execution_count": 18,
     "metadata": {},
     "output_type": "execute_result"
    }
   ],
   "source": [
    "ratings_df.head(3)"
   ]
  },
  {
   "cell_type": "markdown",
   "id": "1ed2a3d9-4700-473b-b438-7c0448d433d1",
   "metadata": {},
   "source": [
    "## Data processing"
   ]
  },
  {
   "cell_type": "code",
   "execution_count": 19,
   "id": "bd236908-5266-4f81-9557-b54a67ad5a89",
   "metadata": {
    "execution": {
     "iopub.execute_input": "2022-04-15T10:21:52.240663Z",
     "iopub.status.busy": "2022-04-15T10:21:52.237647Z",
     "iopub.status.idle": "2022-04-15T10:21:52.407485Z",
     "shell.execute_reply": "2022-04-15T10:21:52.406479Z",
     "shell.execute_reply.started": "2022-04-15T10:21:52.240663Z"
    },
    "tags": []
   },
   "outputs": [],
   "source": [
    "ratings_df = ratings_df.astype({'user_id': str, 'movie_id': str})"
   ]
  },
  {
   "cell_type": "code",
   "execution_count": 20,
   "id": "7535c832-ed18-4473-ba68-8225cd9cd0c5",
   "metadata": {
    "execution": {
     "iopub.execute_input": "2022-04-15T10:21:52.408482Z",
     "iopub.status.busy": "2022-04-15T10:21:52.408482Z",
     "iopub.status.idle": "2022-04-15T10:21:52.486471Z",
     "shell.execute_reply": "2022-04-15T10:21:52.485469Z",
     "shell.execute_reply.started": "2022-04-15T10:21:52.408482Z"
    },
    "tags": []
   },
   "outputs": [],
   "source": [
    "ratings_df = ratings_df[['movie_id', 'user_id', 'user_rating', 'user_gender', 'user_zip_code', 'user_occupation_text', 'user_bucketized_age']]"
   ]
  },
  {
   "cell_type": "code",
   "execution_count": 21,
   "id": "27b845fa-aed2-48ef-8bf6-dd2f5b8bc081",
   "metadata": {
    "execution": {
     "iopub.execute_input": "2022-04-15T10:21:52.490471Z",
     "iopub.status.busy": "2022-04-15T10:21:52.489472Z",
     "iopub.status.idle": "2022-04-15T10:21:52.613452Z",
     "shell.execute_reply": "2022-04-15T10:21:52.612506Z",
     "shell.execute_reply.started": "2022-04-15T10:21:52.490471Z"
    },
    "tags": []
   },
   "outputs": [],
   "source": [
    "# Select the basic features.\n",
    "ratings = tf.data.Dataset.from_tensor_slices(dict(ratings_df)).map(lambda x: {\n",
    "    'movie_id': x['movie_id'],\n",
    "    'user_id': x['user_id'],\n",
    "    'user_rating': x['user_rating'],\n",
    "    'user_gender': x['user_gender'],\n",
    "    'user_zip_code': x['user_zip_code'],\n",
    "    'user_occupation_text': x['user_occupation_text'],\n",
    "    'user_bucketized_age': x['user_bucketized_age'],\n",
    "})"
   ]
  },
  {
   "cell_type": "markdown",
   "id": "eaaaa9d3-e76d-47bc-a8ef-e2ce6abd39b5",
   "metadata": {},
   "source": [
    "Next, we randomly split the data into 80% for training and 20% for testing."
   ]
  },
  {
   "cell_type": "code",
   "execution_count": 22,
   "id": "c943c0b5-7337-46a6-906c-2daebc4e6285",
   "metadata": {
    "execution": {
     "iopub.execute_input": "2022-04-15T10:21:52.622450Z",
     "iopub.status.busy": "2022-04-15T10:21:52.621472Z",
     "iopub.status.idle": "2022-04-15T10:21:52.647445Z",
     "shell.execute_reply": "2022-04-15T10:21:52.643446Z",
     "shell.execute_reply.started": "2022-04-15T10:21:52.621472Z"
    },
    "tags": []
   },
   "outputs": [],
   "source": [
    "tf.random.set_seed(42)\n",
    "shuffled = ratings.shuffle(100_000, seed=42, reshuffle_each_iteration=False)\n",
    "\n",
    "train = shuffled.take(80_000)\n",
    "test = shuffled.skip(80_000).take(20_000)"
   ]
  },
  {
   "cell_type": "code",
   "execution_count": 23,
   "id": "c8ff5bcf-a148-451c-a428-9eef7b2aef18",
   "metadata": {
    "execution": {
     "iopub.execute_input": "2022-04-15T10:21:52.650446Z",
     "iopub.status.busy": "2022-04-15T10:21:52.649445Z",
     "iopub.status.idle": "2022-04-15T10:21:56.955296Z",
     "shell.execute_reply": "2022-04-15T10:21:56.954299Z",
     "shell.execute_reply.started": "2022-04-15T10:21:52.650446Z"
    },
    "tags": []
   },
   "outputs": [],
   "source": [
    "feature_names = ['movie_id', 'user_id', 'user_gender', 'user_zip_code',\n",
    "                 'user_occupation_text', 'user_bucketized_age']\n",
    "\n",
    "vocabularies = {}\n",
    "\n",
    "for feature_name in feature_names:\n",
    "    vocab = ratings.batch(1_000_000).map(lambda x: x[feature_name])\n",
    "    vocabularies[feature_name] = np.unique(np.concatenate(list(vocab)))"
   ]
  },
  {
   "cell_type": "markdown",
   "id": "49f84c3d-1062-4313-9eac-e75aa5ad3c68",
   "metadata": {},
   "source": [
    "## Model construction\n",
    "The model architecture we will be building starts with an embedding layer, which is fed into a cross network followed by a deep network. The embedding dimension is set to 32 for all the features. You could also use different embedding sizes for different features."
   ]
  },
  {
   "cell_type": "code",
   "execution_count": 24,
   "id": "4ba344e7-c4c0-456b-9524-f9967b3563ad",
   "metadata": {
    "execution": {
     "iopub.execute_input": "2022-04-15T10:21:56.958297Z",
     "iopub.status.busy": "2022-04-15T10:21:56.958297Z",
     "iopub.status.idle": "2022-04-15T10:21:57.002291Z",
     "shell.execute_reply": "2022-04-15T10:21:57.000290Z",
     "shell.execute_reply.started": "2022-04-15T10:21:56.958297Z"
    },
    "tags": []
   },
   "outputs": [],
   "source": [
    "class DCN(tfrs.Model):\n",
    "\n",
    "    def __init__(self, use_cross_layer, deep_layer_sizes, projection_dim=None):\n",
    "        super().__init__()\n",
    "\n",
    "        self.embedding_dimension = 32\n",
    "\n",
    "        str_features = ['movie_id', 'user_id', 'user_zip_code',\n",
    "                        'user_occupation_text']\n",
    "        int_features = ['user_gender', 'user_bucketized_age']\n",
    "\n",
    "        self._all_features = str_features + int_features\n",
    "        self._embeddings = {}\n",
    "\n",
    "        # Compute embeddings for string features.\n",
    "        for feature_name in str_features:\n",
    "            vocabulary = vocabularies[feature_name]\n",
    "            self._embeddings[feature_name] = tf.keras.Sequential([\n",
    "                tf.keras.layers.StringLookup(\n",
    "                    vocabulary=vocabulary,\n",
    "                    mask_token=None),\n",
    "                tf.keras.layers.Embedding(  # This layer can only be used on positive integer inputs of a fixed range.\n",
    "                    len(vocabulary) + 1,  # plus one for none seen vocabulary\n",
    "                    self.embedding_dimension)\n",
    "            ])\n",
    "      \n",
    "        # Compute embeddings for int features.\n",
    "        for feature_name in int_features:\n",
    "            vocabulary = vocabularies[feature_name]\n",
    "            self._embeddings[feature_name] = tf.keras.Sequential([\n",
    "                tf.keras.layers.IntegerLookup(\n",
    "                    vocabulary=vocabulary,\n",
    "                    mask_token =None),\n",
    "                tf.keras.layers.Embedding(\n",
    "                    len(vocabulary) + 1,\n",
    "                    self.embedding_dimension)\n",
    "            ])\n",
    "\n",
    "        if use_cross_layer:\n",
    "            self._cross_layer = tfrs.layers.dcn.Cross(\n",
    "                projection_dim=projection_dim,\n",
    "                kernel_initializer='glorot_uniform')\n",
    "        else:\n",
    "            self._cross_layer = None\n",
    "\n",
    "        self._deep_layers = [\n",
    "            tf.keras.layers.Dense(layer_size, activation='relu')\n",
    "            for layer_size in deep_layer_sizes]\n",
    "\n",
    "        self._logit_layer = tf.keras.layers.Dense(1)\n",
    "\n",
    "        self.task = tfrs.tasks.Ranking(\n",
    "            loss=tf.keras.losses.MeanSquaredError(),\n",
    "            metrics=[tf.keras.metrics.RootMeanSquaredError(\"RMSE\")]\n",
    "        )\n",
    "\n",
    "    def call(self, features):\n",
    "        # Concatenate embeddings\n",
    "        embeddings = []\n",
    "        for feature_name in self._all_features:\n",
    "            embedding_fn = self._embeddings[feature_name]\n",
    "            embeddings.append(embedding_fn(features[feature_name]))\n",
    "\n",
    "        x = tf.concat(embeddings, axis=1)\n",
    "\n",
    "        # Build Cross Network\n",
    "        if self._cross_layer is not None:\n",
    "            x = self._cross_layer(x)\n",
    "    \n",
    "        # Build Deep Network\n",
    "        for deep_layer in self._deep_layers:\n",
    "            x = deep_layer(x)\n",
    "        \n",
    "        return self._logit_layer(x)\n",
    "\n",
    "    def compute_loss(self, features, training=False):\n",
    "        labels = features.pop('user_rating')\n",
    "        scores = self(features)\n",
    "        return self.task(\n",
    "            labels=labels,\n",
    "            predictions=scores,\n",
    "        )"
   ]
  },
  {
   "cell_type": "markdown",
   "id": "f5228544-1ec0-4eaa-b0bc-311261dce765",
   "metadata": {},
   "source": [
    "## Model training\n",
    "We shuffle, batch and cache the training and test data."
   ]
  },
  {
   "cell_type": "code",
   "execution_count": 25,
   "id": "bd9c9ea5-5abc-4c7d-9060-b117a39f5cbd",
   "metadata": {
    "execution": {
     "iopub.execute_input": "2022-04-15T10:21:57.006289Z",
     "iopub.status.busy": "2022-04-15T10:21:57.004289Z",
     "iopub.status.idle": "2022-04-15T10:21:57.033286Z",
     "shell.execute_reply": "2022-04-15T10:21:57.031294Z",
     "shell.execute_reply.started": "2022-04-15T10:21:57.006289Z"
    },
    "tags": []
   },
   "outputs": [],
   "source": [
    "cached_train = train.shuffle(100_000).batch(8192).cache()\n",
    "cached_test = test.batch(4096).cache()"
   ]
  },
  {
   "cell_type": "markdown",
   "id": "e30837a2-78f4-4b0c-8074-8ffa5a93d990",
   "metadata": {},
   "source": [
    "Let's define a function that runs a model multiple times and returns the model's RMSE mean and standard deviation out of multiple runs."
   ]
  },
  {
   "cell_type": "code",
   "execution_count": 26,
   "id": "00e4b0cb-f169-46ac-a56e-8c0fe5359c24",
   "metadata": {
    "execution": {
     "iopub.execute_input": "2022-04-15T10:21:57.036285Z",
     "iopub.status.busy": "2022-04-15T10:21:57.035287Z",
     "iopub.status.idle": "2022-04-15T10:21:57.064281Z",
     "shell.execute_reply": "2022-04-15T10:21:57.062280Z",
     "shell.execute_reply.started": "2022-04-15T10:21:57.036285Z"
    },
    "tags": []
   },
   "outputs": [],
   "source": [
    "def run_models(use_cross_layer, deep_layer_sizes, projection_dim=None, num_runs=5):\n",
    "    models = []\n",
    "    rmses = []\n",
    "\n",
    "    for i in range(num_runs):\n",
    "        model = DCN(\n",
    "            use_cross_layer=use_cross_layer,\n",
    "            deep_layer_sizes=deep_layer_sizes,\n",
    "            projection_dim=projection_dim)\n",
    "        \n",
    "        model.compile(optimizer=tf.keras.optimizers.Adam(learning_rate))\n",
    "        models.append(model)\n",
    "\n",
    "        model.fit(cached_train,\n",
    "                  epochs=epochs,\n",
    "                  verbose=False)\n",
    "        \n",
    "        metrics = model.evaluate(cached_test, return_dict=True)\n",
    "        \n",
    "        rmses.append(metrics['RMSE'])\n",
    "\n",
    "    mean, stdv = np.average(rmses), np.std(rmses)\n",
    "\n",
    "    return {'model': models, 'mean': mean, 'stdv': stdv}"
   ]
  },
  {
   "cell_type": "markdown",
   "id": "a0b54e0a-ca68-4a7d-8196-864fb051abb5",
   "metadata": {},
   "source": [
    "We set some hyper-parameters for the models. Note that these hyper-parameters are set globally for all the models for demonstration purpose. If you want to obtain the best performance for each model, or conduct a fair comparison among models, then we'd suggest you to fine-tune the hyper-parameters. Remember that the model architecture and optimization schemes are intertwined."
   ]
  },
  {
   "cell_type": "code",
   "execution_count": 27,
   "id": "f2f5692f-5189-4bee-a341-7661e0d34637",
   "metadata": {
    "execution": {
     "iopub.execute_input": "2022-04-15T10:21:57.071279Z",
     "iopub.status.busy": "2022-04-15T10:21:57.070280Z",
     "iopub.status.idle": "2022-04-15T10:21:57.097276Z",
     "shell.execute_reply": "2022-04-15T10:21:57.093276Z",
     "shell.execute_reply.started": "2022-04-15T10:21:57.071279Z"
    },
    "tags": []
   },
   "outputs": [],
   "source": [
    "epochs = 8\n",
    "learning_rate = 0.01"
   ]
  },
  {
   "cell_type": "markdown",
   "id": "e9c6b054-fe0e-40a0-9d70-815db5edf250",
   "metadata": {
    "execution": {
     "iopub.execute_input": "2022-04-15T08:49:42.681788Z",
     "iopub.status.busy": "2022-04-15T08:49:42.680789Z",
     "iopub.status.idle": "2022-04-15T08:49:42.705785Z",
     "shell.execute_reply": "2022-04-15T08:49:42.704783Z",
     "shell.execute_reply.started": "2022-04-15T08:49:42.681788Z"
    }
   },
   "source": [
    "**DCN (stacked).** We first train a DCN model with a stacked structure, that is, the inputs are fed to a cross network followed by a deep network."
   ]
  },
  {
   "cell_type": "markdown",
   "id": "2519d14e-ae6d-42df-b4e6-dbe9071c6465",
   "metadata": {},
   "source": [
    "<div>\n",
    "  <center>\n",
    "    <img src='../Img/dcn_stacked_simple.png' width='200' title='dcn stacked simple'>\n",
    "  </center>\n",
    "</div>"
   ]
  },
  {
   "cell_type": "code",
   "execution_count": 28,
   "id": "bc6845d2-4b61-455d-a693-c10292729576",
   "metadata": {
    "execution": {
     "iopub.execute_input": "2022-04-15T10:21:57.100277Z",
     "iopub.status.busy": "2022-04-15T10:21:57.099274Z",
     "iopub.status.idle": "2022-04-15T10:23:00.346041Z",
     "shell.execute_reply": "2022-04-15T10:23:00.345039Z",
     "shell.execute_reply.started": "2022-04-15T10:21:57.100277Z"
    },
    "tags": []
   },
   "outputs": [
    {
     "name": "stdout",
     "output_type": "stream",
     "text": [
      "5/5 [==============================] - 1s 84ms/step - RMSE: 0.9468 - loss: 0.8929 - regularization_loss: 0.0000e+00 - total_loss: 0.8929\n",
      "5/5 [==============================] - 0s 20ms/step - RMSE: 0.9453 - loss: 0.8910 - regularization_loss: 0.0000e+00 - total_loss: 0.8910\n",
      "5/5 [==============================] - 0s 19ms/step - RMSE: 0.9450 - loss: 0.8902 - regularization_loss: 0.0000e+00 - total_loss: 0.8902\n",
      "5/5 [==============================] - 0s 21ms/step - RMSE: 0.9430 - loss: 0.8863 - regularization_loss: 0.0000e+00 - total_loss: 0.8863\n",
      "5/5 [==============================] - 0s 23ms/step - RMSE: 0.9421 - loss: 0.8842 - regularization_loss: 0.0000e+00 - total_loss: 0.8842\n"
     ]
    }
   ],
   "source": [
    "dcn_result = run_models(use_cross_layer=True,\n",
    "                        deep_layer_sizes=[192, 192])"
   ]
  },
  {
   "cell_type": "markdown",
   "id": "ae7cdeb0-4e41-4301-9d99-095fb9cf3072",
   "metadata": {},
   "source": [
    "**Low-rank DCN.** To reduce the training and serving cost, we leverage low-rank techniques to approximate the DCN weight matrices. The rank is passed in through argument `projection_dim`; a smaller `projection_dim` results in a lower cost. Note that `projection_dim` needs to be smaller than (input size)/2 to reduce the cost. In practice, we've observed using low-rank DCN with rank (input size)/4 consistently preserved the accuracy of a full-rank DCN."
   ]
  },
  {
   "cell_type": "markdown",
   "id": "bfcdcefb-9a74-433e-bac4-c2c6919e1c8a",
   "metadata": {},
   "source": [
    "<div>\n",
    "  <center>\n",
    "    <img src='../Img/dcn_lowrank_simple.png' width='800' title='dcn lowrank simple'>\n",
    "  </center>\n",
    "</div>"
   ]
  },
  {
   "cell_type": "code",
   "execution_count": 29,
   "id": "b45dff8c-9609-4129-af94-68b8ad8dd45f",
   "metadata": {
    "execution": {
     "iopub.execute_input": "2022-04-15T10:23:00.349037Z",
     "iopub.status.busy": "2022-04-15T10:23:00.348038Z",
     "iopub.status.idle": "2022-04-15T10:23:54.527204Z",
     "shell.execute_reply": "2022-04-15T10:23:54.526203Z",
     "shell.execute_reply.started": "2022-04-15T10:23:00.349037Z"
    }
   },
   "outputs": [
    {
     "name": "stdout",
     "output_type": "stream",
     "text": [
      "5/5 [==============================] - 0s 23ms/step - RMSE: 0.9428 - loss: 0.8863 - regularization_loss: 0.0000e+00 - total_loss: 0.8863\n",
      "5/5 [==============================] - 0s 22ms/step - RMSE: 0.9426 - loss: 0.8859 - regularization_loss: 0.0000e+00 - total_loss: 0.8859\n",
      "5/5 [==============================] - 0s 23ms/step - RMSE: 0.9428 - loss: 0.8864 - regularization_loss: 0.0000e+00 - total_loss: 0.8864\n",
      "5/5 [==============================] - 0s 24ms/step - RMSE: 0.9453 - loss: 0.8912 - regularization_loss: 0.0000e+00 - total_loss: 0.8912\n",
      "5/5 [==============================] - 0s 20ms/step - RMSE: 0.9441 - loss: 0.8886 - regularization_loss: 0.0000e+00 - total_loss: 0.8886\n"
     ]
    }
   ],
   "source": [
    "dcn_lr_result = run_models(use_cross_layer=True,\n",
    "                           projection_dim=20,\n",
    "                           deep_layer_sizes=[192, 192])"
   ]
  },
  {
   "cell_type": "markdown",
   "id": "81a921fa-6843-4470-afe6-2b3bed19d399",
   "metadata": {},
   "source": [
    "**DNN.** We train a same-sized DNN model as a reference."
   ]
  },
  {
   "cell_type": "code",
   "execution_count": 30,
   "id": "148e4de6-f5e5-4382-8de5-351c318d6d51",
   "metadata": {
    "execution": {
     "iopub.execute_input": "2022-04-15T10:23:54.530206Z",
     "iopub.status.busy": "2022-04-15T10:23:54.530206Z",
     "iopub.status.idle": "2022-04-15T10:24:48.903804Z",
     "shell.execute_reply": "2022-04-15T10:24:48.902805Z",
     "shell.execute_reply.started": "2022-04-15T10:23:54.530206Z"
    }
   },
   "outputs": [
    {
     "name": "stdout",
     "output_type": "stream",
     "text": [
      "5/5 [==============================] - 0s 21ms/step - RMSE: 0.9482 - loss: 0.8961 - regularization_loss: 0.0000e+00 - total_loss: 0.8961\n",
      "5/5 [==============================] - 0s 22ms/step - RMSE: 0.9456 - loss: 0.8913 - regularization_loss: 0.0000e+00 - total_loss: 0.8913\n",
      "5/5 [==============================] - 0s 21ms/step - RMSE: 0.9613 - loss: 0.9230 - regularization_loss: 0.0000e+00 - total_loss: 0.9230\n",
      "5/5 [==============================] - 0s 21ms/step - RMSE: 0.9456 - loss: 0.8911 - regularization_loss: 0.0000e+00 - total_loss: 0.8911\n",
      "5/5 [==============================] - 0s 20ms/step - RMSE: 0.9466 - loss: 0.8935 - regularization_loss: 0.0000e+00 - total_loss: 0.8935\n"
     ]
    }
   ],
   "source": [
    "dnn_result = run_models(use_cross_layer=False,\n",
    "                        deep_layer_sizes=[192, 192, 192])"
   ]
  },
  {
   "cell_type": "markdown",
   "id": "a46407b9-4189-40d1-a102-00c8bf0111f4",
   "metadata": {},
   "source": [
    "We evaluate the model on test data and report the mean and standard deviation out of 5 runs."
   ]
  },
  {
   "cell_type": "code",
   "execution_count": 31,
   "id": "e23cf8c6-97b3-40b2-a9dc-d4cc41d48211",
   "metadata": {
    "execution": {
     "iopub.execute_input": "2022-04-15T10:24:48.907802Z",
     "iopub.status.busy": "2022-04-15T10:24:48.906802Z",
     "iopub.status.idle": "2022-04-15T10:24:48.920801Z",
     "shell.execute_reply": "2022-04-15T10:24:48.918803Z",
     "shell.execute_reply.started": "2022-04-15T10:24:48.906802Z"
    }
   },
   "outputs": [
    {
     "name": "stdout",
     "output_type": "stream",
     "text": [
      "DCN            RMSE mean: 0.9444, stdv: 0.0017\n",
      "DCN (low-rank) RMSE mean: 0.9435, stdv: 0.0010\n",
      "DNN            RMSE mean: 0.9495, stdv: 0.0060\n"
     ]
    }
   ],
   "source": [
    "print(\"DCN            RMSE mean: {:.4f}, stdv: {:.4f}\".format(\n",
    "    dcn_result[\"mean\"], dcn_result[\"stdv\"]))\n",
    "print(\"DCN (low-rank) RMSE mean: {:.4f}, stdv: {:.4f}\".format(\n",
    "    dcn_lr_result[\"mean\"], dcn_lr_result[\"stdv\"]))\n",
    "print(\"DNN            RMSE mean: {:.4f}, stdv: {:.4f}\".format(\n",
    "    dnn_result[\"mean\"], dnn_result[\"stdv\"]))"
   ]
  },
  {
   "cell_type": "markdown",
   "id": "e1223537-121e-406e-b345-21b1976c57f7",
   "metadata": {},
   "source": [
    "We see that DCN achieved better performance than a same-sized DNN with ReLU layers. Moreover, the low-rank DCN was able to reduce parameters while maintaining the accuracy.\n",
    "\n",
    "**More on DCN.** Besides what've been demonstrated above, there are more creative yet practically useful ways to utilize DCN [[1](https://arxiv.org/pdf/2008.13535.pdf)].\n",
    "* *DCN with a parallel structure*.  The inputs are fed in parallel to a cross network and a deep network.\n",
    "* *Concatenating cross layers.* The inputs are fed in parallel to multiple cross layers to capture complementary feature crosses."
   ]
  },
  {
   "cell_type": "markdown",
   "id": "7821556f-4c90-44a7-8434-a6af0e623028",
   "metadata": {},
   "source": [
    "<div>\n",
    "  <center>\n",
    "    <img src='../Img/dcn_more_simple.png' hspace=70 width='1000' style='display:block;' title='dcn lowrank simple'>\n",
    "    <div>\n",
    "        <b>Left</b>: DCN with a parallel structure; <b>Right</b>: Concatenating cross layers.\n",
    "    </div>\n",
    "  </center>\n",
    "</div>"
   ]
  },
  {
   "cell_type": "markdown",
   "id": "fbd679d7-a0b0-4dc4-8500-00093f86a661",
   "metadata": {},
   "source": [
    "## Model understanding"
   ]
  },
  {
   "cell_type": "markdown",
   "id": "b36ba25f-c247-44d8-b356-70cf613389f8",
   "metadata": {
    "tags": []
   },
   "source": [
    "The weight matrix $W$ in DCN reveals what feature crosses the model has learned to be important. Recall that in the previous toy example, the importance of interactions between the $i$-th and $j$-th features is captured by the ($i, j$)-th element of $W$.\n",
    "\n",
    "What's a bit different here is that the feature embeddings are of size 32 instead of size 1. Hence, the importance will be characterized by the $(i, j)$-th block $W_{i,j}$ which is of dimension 32 by 32.In the following, we visualize the Frobenius norm [[4](https://en.wikipedia.org/wiki/Matrix_norm)] $||W_{i,j}||_F$ of each block, and a larger norm would suggest higher importance (assuming the features' embeddings are of similar scales).\n",
    "\n",
    "Besides block norm, we could also visualize the entire matrix, or the mean/median/max value of each block."
   ]
  },
  {
   "cell_type": "code",
   "execution_count": 36,
   "id": "02722d29-5d46-4bf1-ac8e-ea5e6fcf3732",
   "metadata": {
    "execution": {
     "iopub.execute_input": "2022-04-15T10:30:46.696950Z",
     "iopub.status.busy": "2022-04-15T10:30:46.695951Z",
     "iopub.status.idle": "2022-04-15T10:30:47.172878Z",
     "shell.execute_reply": "2022-04-15T10:30:47.171896Z",
     "shell.execute_reply.started": "2022-04-15T10:30:46.696950Z"
    },
    "tags": []
   },
   "outputs": [
    {
     "data": {
      "text/plain": [
       "<Figure size 648x648 with 0 Axes>"
      ]
     },
     "metadata": {},
     "output_type": "display_data"
    },
    {
     "data": {
      "image/png": "[encoded data removed]",
      "text/plain": [
       "<Figure size 288x288 with 2 Axes>"
      ]
     },
     "metadata": {
      "needs_background": "light"
     },
     "output_type": "display_data"
    }
   ],
   "source": [
    "model = dcn_result[\"model\"][0]\n",
    "mat = model._cross_layer._dense.kernel\n",
    "features = model._all_features\n",
    "\n",
    "block_norm = np.ones([len(features), len(features)])\n",
    "\n",
    "dim = model.embedding_dimension\n",
    "\n",
    "# Compute the norms of the blocks.\n",
    "for i in range(len(features)):\n",
    "    for j in range(len(features)):\n",
    "        block = mat[\n",
    "            i * dim:(i + 1) * dim,\n",
    "            j * dim:(j + 1) * dim]\n",
    "        block_norm[i,j] = np.linalg.norm(block, ord=\"fro\")\n",
    "\n",
    "plt.figure(figsize=(9,9))\n",
    "im = plt.matshow(block_norm, cmap=plt.cm.Blues)\n",
    "ax = plt.gca()\n",
    "divider = make_axes_locatable(plt.gca())\n",
    "cax = divider.append_axes(\"right\", size=\"5%\", pad=0.05)\n",
    "\n",
    "ticks_loc = ax.get_yticks().tolist()[0:-1]\n",
    "ax.yaxis.set_major_locator(mticker.FixedLocator(ticks_loc))\n",
    "ax.xaxis.set_major_locator(mticker.FixedLocator(ticks_loc))\n",
    "\n",
    "plt.colorbar(im, cax=cax)\n",
    "cax.tick_params(labelsize=10) \n",
    "_ = ax.set_xticklabels([\"\"] + features, rotation=45, ha=\"left\", fontsize=10)\n",
    "_ = ax.set_yticklabels([\"\"] + features, fontsize=10)"
   ]
  },
  {
   "cell_type": "markdown",
   "id": "4854adf6-106f-48d2-b49f-4f89faed4d2d",
   "metadata": {
    "tags": []
   },
   "source": [
    "I hope that you have enjoyed learning some basics of DCN and common ways to utilize it. If you are interested in learning more, you could check out two relevant papers: [DCN-v1-paper](https://arxiv.org/pdf/1708.05123.pdf), [DCN-v2-paper](https://arxiv.org/pdf/2008.13535.pdf).\n",
    "\n",
    "---\n",
    "\n",
    "## References\n",
    "[DCN V2: Improved Deep \\u0026 Cross Network and Practical Lessons for Web-scale Learning to Rank Systems](https://arxiv.org/pdf/2008.13535.pdf).\\\n",
    "*Ruoxi Wang, Rakesh Shivanna, Derek Zhiyuan Cheng, Sagar Jain, Dong Lin, Lichan Hong, Ed Chi. (2020)*\n",
    "\n",
    "[Deep \\u0026 Cross Network for Ad Click Predictions](https://arxiv.org/pdf/1708.05123.pdf).\\\n",
    "*Ruoxi Wang, Bin Fu, Gang Fu, Mingliang Wang. (AdKDD 2017)*"
   ]
  }
 ],
 "metadata": {
  "kernelspec": {
   "display_name": "Python 3 (ipykernel)",
   "language": "python",
   "name": "python3"
  },
  "language_info": {
   "codemirror_mode": {
    "name": "ipython",
    "version": 3
   },
   "file_extension": ".py",
   "mimetype": "text/x-python",
   "name": "python",
   "nbconvert_exporter": "python",
   "pygments_lexer": "ipython3",
   "version": "3.9.7"
  }
 },
 "nbformat": 4,
 "nbformat_minor": 5
}
